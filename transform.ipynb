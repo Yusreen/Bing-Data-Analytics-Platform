{
 "cells": [
  {
   "cell_type": "code",
   "execution_count": null,
   "metadata": {
    "application/vnd.databricks.v1+cell": {
     "cellMetadata": {
      "byteLimit": 2048000,
      "rowLimit": 10000
     },
     "inputWidgets": {},
     "nuid": "03050de7-7411-4fc9-82ab-c0dfa75e6c8a",
     "showTitle": false,
     "title": ""
    }
   },
   "outputs": [],
   "source": [
    "from pyspark.sql.functions import *"
   ]
  },
  {
   "cell_type": "code",
   "execution_count": null,
   "metadata": {
    "application/vnd.databricks.v1+cell": {
     "cellMetadata": {
      "byteLimit": 2048000,
      "rowLimit": 10000
     },
     "inputWidgets": {},
     "nuid": "ad0354d1-e796-4dea-97d7-823c4a5e3497",
     "showTitle": false,
     "title": ""
    }
   },
   "outputs": [
    {
     "data": {
      "text/html": [
       "<style scoped>\n",
       "  .table-result-container {\n",
       "    max-height: 300px;\n",
       "    overflow: auto;\n",
       "  }\n",
       "  table, th, td {\n",
       "    border: 1px solid black;\n",
       "    border-collapse: collapse;\n",
       "  }\n",
       "  th, td {\n",
       "    padding: 5px;\n",
       "  }\n",
       "  th {\n",
       "    text-align: left;\n",
       "  }\n",
       "</style><div class='table-result-container'><table class='table-result'><thead style='background-color: white'><tr><th>_type</th><th>queryContext</th><th>readLink</th><th>sort</th><th>totalEstimatedMatches</th><th>value</th></tr></thead><tbody><tr><td>News</td><td>List(false, latest news)</td><td>https://api.bing.microsoft.com/api/v7/news/search?q=latest+news</td><td>List(List(relevance, true, Best match, https://api.bing.microsoft.com/api/v7/news/search?q=latest+news), List(date, false, Most recent, https://api.bing.microsoft.com/api/v7/news/search?q=latest+news&sortby=date))</td><td>43</td><td>List(List(List(List(Collingwood Football Club, https://api.bing.microsoft.com/api/v7/entities/2b8ee05b-110f-8fe8-2bec-9dd0fd2b1ed3), List(Magpie, https://api.bing.microsoft.com/api/v7/entities/e1d0c98b-9776-3aa3-7dc5-25d6890f1fd6), List(Melbourne, Florida, https://api.bing.microsoft.com/api/v7/entities/ea28914f-957c-4e18-9ac2-3540ad2b69d4), List(Carlton Football Club, https://api.bing.microsoft.com/api/v7/entities/07f3d7ba-97fb-a77b-4947-5744a53fe85a), List(Hawthorn, Victoria, https://api.bing.microsoft.com/api/v7/entities/0d29178c-c5ba-de2a-0399-eb10fe68d2c6), List(Justin Leppitsch, https://api.bing.microsoft.com/api/v7/entities/79e384f1-fb18-cd1b-0738-ea19a836c054), List(AFL Grand Final, https://api.bing.microsoft.com/api/v7/entities/16483451-1a09-c4a4-9dce-a4ee97bf6864)), Sports, 2024-08-21T05:27:00.0000000Z, Collingwood coach Craig McRae says the Magpies will reflect on whether not immediately replacing Graham Wright was a costly decision in their failed premiership defence., List(List(https://www.bing.com/th?id=OVFT.heV62v0FtSBSxbUXHZ5vbS&pid=News, 393, 700)), null, AFL 2024: Collingwood Magpies will search to replace football boss Graham Wright, Craig McRae comments, latest news, List(List(Organization, List(List(https://www.bing.com/th?id=ODF.9yJS4wi2nUtsfM87Lf-3FA&pid=news)), NewsWire on MSN.com)), https://www.msn.com/en-au/sport/other/coach-s-difficult-parting-from-incredible-mentor/ar-AA1p9yg9, null), List(List(List(Everton F.C., https://api.bing.microsoft.com/api/v7/entities/08c4e442-93ae-e0fe-a73b-f76f5259a171), List(Neal Maupay, https://api.bing.microsoft.com/api/v7/entities/2c2d83d1-f8e5-434b-8ca8-d19a13caf063), List(Éric Junior Dina Ebimbe, https://api.bing.microsoft.com/api/v7/entities/75381052-a5ba-1a96-309a-39be49525b63), List(Queens Park Rangers F.C., https://api.bing.microsoft.com/api/v7/entities/c82952e8-3b21-d425-48f5-42cf7a89190b), List(Goodison Park, https://api.bing.microsoft.com/api/v7/entities/dde25d4f-6bc8-e22c-bb2c-26173d7d3326), List(Jack Harrison, https://api.bing.microsoft.com/api/v7/entities/f0496807-c933-fe07-8017-97500cc1abf3), List(Jesper Lindstrøm, https://api.bing.microsoft.com/api/v7/entities/2110b922-1830-29cd-78e8-e85a0297da36), List(Merseyside, https://api.bing.microsoft.com/api/v7/entities/8e04c30f-763f-780e-c01f-ccd70d51e4f7), List(Amadou Onana, https://api.bing.microsoft.com/api/v7/entities/1ca66a06-53cd-7959-48a4-bfdc53e7576e), List(Lewis Dobbin, https://api.bing.microsoft.com/api/v7/entities/800f86ff-82f6-3a07-dc80-66956ca0a201), List(Ben Godfrey, https://api.bing.microsoft.com/api/v7/entities/787cc42b-c36e-7edb-80c3-f0f0b00c12d1)), Sports, 2024-08-21T11:14:00.0000000Z, Latest Everton transfer and takeover news, including updates as Asmir Begovic is in talks to return to the Blues, List(List(https://www.bing.com/th?id=OVFT.XXPqfesC-Oli8IE5HlY5di&pid=News, 367, 700)), null, Everton transfer news LIVE - Neal Maupay future, Mason Holgate enquiry Junior Dina Ebimbe talks,, List(List(Organization, List(List(https://www.bing.com/th?id=ODF.lMNuYaPYFKYNaBUKNyUFHg&pid=news)), Liverpool Echo)), https://www.liverpoolecho.co.uk/sport/football/transfer-news/everton-takeover-transfer-news-live-29765334, null), List(List(List(Fox News, https://api.bing.microsoft.com/api/v7/entities/273e0477-30ed-3993-f232-f39244306805), List(Nicole Parker, https://api.bing.microsoft.com/api/v7/entities/25d1f86e-5ab4-2c3d-f7a3-42ef954824fa), List(Chicago, https://api.bing.microsoft.com/api/v7/entities/7c09b50c-bc53-55c3-7fea-0f08e11b091f)), null, 2024-08-21T10:35:00.0000000Z, Fox News contributor Nicole Parker joined 'Fox News @ Night' to discuss her reaction to the new video and how crime has ravaged Chicago amid DNC week., List(List(https://www.bing.com/th?id=OVFT.oEZQRduXmf_DcySOZ51dki&pid=News, 350, 700)), null, Chilling new video shows Trump shooter walking around rally before assassination attempt, List(List(Organization, null, Fox News)), https://www.foxnews.com/video/6360751017112, null), List(List(List(Arsenal F.C., https://api.bing.microsoft.com/api/v7/entities/8b3b4135-cb8e-ded8-10ce-8f130d64b863), List(Mikel Merino, https://api.bing.microsoft.com/api/v7/entities/e2365c49-c2b6-aff5-437d-72f2ca96a378), List(Aaron Ramsdale, https://api.bing.microsoft.com/api/v7/entities/0bf35c7f-e8e0-4291-6273-e21a1b2ff24d), List(Eddie Nketiah, https://api.bing.microsoft.com/api/v7/entities/8dfce5e6-cc68-2cc9-a6b1-275133d70dbc), List(Ivan Toney, https://api.bing.microsoft.com/api/v7/entities/98358ca1-1bd6-4cee-aff4-5b93c811f416), List(Victor Osimhen, https://api.bing.microsoft.com/api/v7/entities/09506725-12aa-3157-6831-985cefbf9e30), List(Premier League, https://api.bing.microsoft.com/api/v7/entities/02bde011-1e9d-3aff-8309-7d07d4031798), List(Aston Villa F.C., https://api.bing.microsoft.com/api/v7/entities/d689e389-cacc-0912-28ee-039d79661230), List(Mikel Arteta, https://api.bing.microsoft.com/api/v7/entities/46cbb218-c295-c257-be2c-7d8179c02488), List(Villa Park, https://api.bing.microsoft.com/api/v7/entities/1e177ead-ba8d-0da5-91f2-f4f4f1d1b5d0), List(Real Sociedad, https://api.bing.microsoft.com/api/v7/entities/3fb625f1-1a17-767a-8c2a-84ee6d7c201c), List(Newcastle United F.C., https://api.bing.microsoft.com/api/v7/entities/d36b1961-7548-2202-311b-d6a69037d67d), List(Alexander Isak, https://api.bing.microsoft.com/api/v7/entities/f7da1aac-7d71-56d0-fff9-fdfa217be4bf)), Sports, 2024-08-21T05:21:00.0000000Z, The latest Arsenal transfer news and rumours from football.london including updates on Eddie Nketiah, Mikel Merino, Ivan Toney, Aaron Ramsdale and Victor Osimhen, List(List(https://www.bing.com/th?id=OVFT.Yh0-vWC2lksh9dRA2nbt-S&pid=News, 367, 700)), null, Arsenal transfer news LIVE Mikel Merino positive update, Nketiah agreement, Ramsdale update, List(List(Organization, List(List(https://www.bing.com/th?id=ODF.Xm0enA-z_fuiMX5FvKt4cw&pid=news)), football)), https://www.football.london/arsenal-fc/transfer-news/arsenal-transfer-news-live-mikel-29779140, null), List(List(List(Greg Gutfeld, https://api.bing.microsoft.com/api/v7/entities/1920980b-8c33-331b-4eae-8fcff3d90d18), List(Kamala Harris, https://api.bing.microsoft.com/api/v7/entities/ef5cf66f-32b7-7271-286a-8e8313eda5c5), List(Fox News, https://api.bing.microsoft.com/api/v7/entities/273e0477-30ed-3993-f232-f39244306805), List(2024 Democratic National Convention, https://api.bing.microsoft.com/api/v7/entities/6dd65316-4aa2-030b-7347-183b38ff121a)), null, 2024-08-21T04:26:00.0000000Z, Fox News host Greg Gutfeld gives his take on the second night of the 2024 Democratic National Convention on 'Gutfeld!', List(List(https://www.bing.com/th?id=OVFT.EzJ3ljePNP2mcjDSXpqUIy&pid=News, 350, 700)), null, Greg Gutfeld: Democrats needed a new narrative, and Kamala Harris is it, List(List(Organization, null, Fox News)), https://www.foxnews.com/video/6360732761112, null), List(List(List(Boston Bruins, https://api.bing.microsoft.com/api/v7/entities/7372c7cf-eeed-88a9-0522-63e96eaf6448), List(Atlantic Division, https://api.bing.microsoft.com/api/v7/entities/d7c8ec8b-e4b9-0223-9599-8360afbc63dd), List(Columbus Blue Jackets, https://api.bing.microsoft.com/api/v7/entities/74c60977-6e3a-c88b-ab1a-8f4a3e785885), List(Patrik Laine, https://api.bing.microsoft.com/api/v7/entities/894c470a-7378-a9c8-043f-bf221b20140f), List(Montreal Canadiens, https://api.bing.microsoft.com/api/v7/entities/e65755db-2635-6bc8-99f9-0e5cff3aa813)), Sports, 2024-08-20T16:39:03.0000000Z, On Monday, the Columbus Blue Jackets traded Patrik Laine and a 2026 second-round pick to the Montreal Canadiens in exchange for defenseman Jordan Harris. With this move, one of the Bruins' biggest rivals, the Canadiens, have notably improved their forward group., List(List(https://www.bing.com/th?id=OVFT.D8jUx5QGIwRX3G91Wo3KdC&pid=News, 466, 700)), List(List(Boston Bruins), List(Analysis), List(National Hockey League)), Bruins Have New Star to Deal With In Atlantic, List(List(Organization, List(List(https://www.bing.com/th?id=ODF.yNx4KYuMgiOCU3nI9qTmtQ&pid=news)), The Hockey News on MSN.com)), https://www.msn.com/en-us/sports/nhl/bruins-have-new-star-to-deal-with-in-atlantic/ar-AA1p88Tr, null), List(null, null, 2024-08-21T14:11:00.0000000Z, The bodies of two of the six people missing after a yacht sank off the Sicily coast have been found. Search efforts have entered a third day, after the captain was reportedly questioned by Italian prosecutors over the sinking., List(List(https://www.bing.com/th?id=OVFT.Z89qPj7prCz9if78PBrPuS&pid=News, 393, 700)), null, Superyacht sinks latest: Two bodies found in search for survivors, List(List(Organization, List(List(https://www.bing.com/th?id=ODF.Eg62H9DIbo-JYPI6GpAgGA&pid=news)), Sky)), https://news.sky.com/story/superyacht-sinks-latest-two-bodies-found-in-search-for-survivors-13199663, null), List(List(List(Wisconsin, https://api.bing.microsoft.com/api/v7/entities/cb4d2853-06f4-4467-8e7c-4e31cbb35cb2), List(Madison, Wisconsin, https://api.bing.microsoft.com/api/v7/entities/65426cc9-93eb-4569-8c2e-3b7c1b070278), List(NBC News, https://api.bing.microsoft.com/api/v7/entities/90fd2ef2-8123-de59-2b1f-ccd033454a4a), List(Israel, https://api.bing.microsoft.com/api/v7/entities/1ffafed3-2b37-b871-c271-aa855d98449a), List(Hamas, https://api.bing.microsoft.com/api/v7/entities/fd56a0c1-5b09-6e40-09dc-a8abf5069c30)), Politics, 2024-08-21T01:08:00.0000000Z, Biden may have had an irreparable rift with young voters. Some who were turned off by him are more interested in Harris, though issues including Gaza remain sticking points., List(List(https://www.bing.com/th?id=OVFT.cpHMozEZHpl6nL7HbmAqYC&pid=News, 367, 700)), null, Young voters take a new look at Harris, but some are waiting instead of committing, List(List(Organization, List(List(https://www.bing.com/th?id=ODF.ighWNnrr5MMFUs8WKMme2A&pid=news)), NBC News on MSN.com)), https://www.msn.com/en-us/news/other/young-voters-take-a-new-look-at-harris-but-some-are-waiting-instead-of-committing/ar-AA1p99hv, null), List(List(List(Manchester United F.C., https://api.bing.microsoft.com/api/v7/entities/064ce28e-ed07-a026-2f79-1b321d7548ea), List(Scott McTominay, https://api.bing.microsoft.com/api/v7/entities/0d7f1ad6-7445-be60-fae6-be8f6834b0ec), List(Christian Eriksen, https://api.bing.microsoft.com/api/v7/entities/5300fd8a-fc99-435a-b1d8-3490e4228f87), List(The Red Devils, https://api.bing.microsoft.com/api/v7/entities/d8dea608-ca10-ab4f-17b8-e56a4017a2c5), List(Joshua Zirkzee, https://api.bing.microsoft.com/api/v7/entities/8fe167ac-7cc5-ccae-ca7f-86177823ad58), List(Matthijs de Ligt, https://api.bing.microsoft.com/api/v7/entities/f9875452-9ecf-c3e6-7e46-1dbc87f172f1), List(Noussair Mazraoui, https://api.bing.microsoft.com/api/v7/entities/ecdea285-86d1-ccdf-2115-a4415a845794), List(Paris Saint-Germain F.C., https://api.bing.microsoft.com/api/v7/entities/67266d4d-2667-f33f-7d3e-ae1225abff86), List(Federico Chiesa, https://api.bing.microsoft.com/api/v7/entities/3ee194eb-adf7-709d-7172-2fc8d91f72a5), List(Ivan Toney, https://api.bing.microsoft.com/api/v7/entities/98358ca1-1bd6-4cee-aff4-5b93c811f416), List(Ben Chilwell, https://api.bing.microsoft.com/api/v7/entities/d7ca1fbb-f3df-3e53-cfa2-323dc6ffc2f4)), Sports, 2024-08-21T14:03:00.0000000Z, Manchester United still have plenty of transfer business to complete in the final week of the window and could yet sign Manuel Ugarte while Scott McTominay, Christian Eriksen and Casemiro could depart, List(List(https://www.bing.com/th?id=OVFT.LBYdNNfY8kIhGkyEitiWcC&pid=News, 367, 700)), null, Man Utd transfer news LIVE: Medical booked, Manuel Ugarte breakthrough, United complete loan deal, List(List(Organization, List(List(https://www.bing.com/th?id=ODF.CWDfHbZtL9U2bsuN-kn_-w&pid=news)), The Mirror)), https://www.mirror.co.uk/sport/football/transfer-news/man-utd-transfer-news-live-33491446, null), List(null, null, 2024-08-21T14:01:00.0000000Z, James Cutfield, 51, who is from New Zealand, was quizzed until late yesterday evening to help reconstruct what happened and provide useful technical details, reports the Italian news agency ANSA. His brother Mark earlier told the New Zealand Herald he was ..., List(List(https://www.bing.com/th?id=OVFT.Z89qPj7prCz9if78PBrPuS&pid=News, 393, 700)), null, Superyacht sinks latest: Two bodies found after superyacht sinking, List(List(Organization, null, Sky)), https://news.sky.com/story/superyacht-sinks-latest-two-bodies-found-after-superyacht-sinking-13199663, null), List(List(List(Red tape, https://api.bing.microsoft.com/api/v7/entities/8c2f0c5c-25f8-7b89-35d0-896f2e34cb10), List(David Seymour, https://api.bing.microsoft.com/api/v7/entities/91f7fd7e-ec2a-7184-cfe2-0ae41a1f4e74), List(Green Party, https://api.bing.microsoft.com/api/v7/entities/257da6f4-91db-2e8a-12f6-05f7564f1b6c), List(The Washington Post, https://api.bing.microsoft.com/api/v7/entities/7802f29d-d7cc-5e6f-de8a-63a5a1a2f17f)), Business, 2024-08-21T00:44:19.0000000Z, The anti-red tape department is overseen by the ACT leader, who secured its creation during coalition negotiations last year., List(List(https://www.bing.com/th?id=OVFT.8T_ZT9AFU_NRZyqF5ygy9C&pid=News, 367, 700)), List(List(Public sector), List(Ministry), List(Radio New Zealand)), New ministry paying staff average salary of $150k despite public sector job cuts, List(List(Organization, List(List(https://www.bing.com/th?id=ODF.KbRIMdbKqxc2CRUKwuqxSg&pid=news)), rnz on MSN.com)), https://www.msn.com/en-nz/news/other/new-ministry-paying-staff-average-salary-of-150k-despite-public-sector-job-cuts/ar-AA1p8XpE, null), List(List(List(WeTransfer, https://api.bing.microsoft.com/api/v7/entities/e72d073e-df1f-40e7-b64c-44edd9d7705b)), ScienceAndTechnology, 2024-08-21T11:33:48.0000000Z, Cloud-based file transfer platform WeTransfer has unveiled a new ‘Save for Later’ feature on its mobile app in a bid to address one of the platform’s biggest user frustrations – expired download links., List(List(https://www.bing.com/th?id=OVFT.fBm1F3cu92FG7PZA1V-Q8S&pid=News, 393, 700)), List(List(WeTransfer), List(TechRadar), List(The gospel)), Good news file fans - WeTransfer links will no longer expire, List(List(Organization, List(List(https://www.bing.com/th?id=ODF.HUwxplx_rx0g5pzCy5_Wwg&pid=news)), TechRadar on MSN.com)), https://www.msn.com/en-us/news/technology/good-news-file-fans-wetransfer-links-will-no-longer-expire/ar-AA1pbk5K, null), List(List(List(North Vancouver, https://api.bing.microsoft.com/api/v7/entities/dff5cb1b-3df4-7b9b-6057-8473e9953cb2), List(Royal Canadian Mounted Police, https://api.bing.microsoft.com/api/v7/entities/e0c66ab1-c3c1-2e91-675b-983872f887ef)), Canada, 2024-08-20T20:07:00.0000000Z, Police in North Vancouver, B.C., say homicide investigators have been called in after a woman and girl died from falling off an apartment balcony. RCMP initially said officers responded to reports that two \"females\" had fallen from the building on East Esplanade in the city's Shipyards area at 4:30 a.m. Tuesday., List(List(https://www.bing.com/th?id=OVFT.xaYdLrWgR019S1k86hKXIC&pid=News, 349, 620)), null, Homicide investigators called in after woman and girl die in North Vancouver balcony fall, List(List(Organization, List(List(https://www.bing.com/th?id=ODF.4NbuPrmIxu0JD126LE1gxQ&pid=news)), CBC.ca)), https://www.cbc.ca/news/canada/british-columbia/woman-and-girl-die-in-balcony-fall-1.7300061, null), List(List(List(Aston Villa F.C., https://api.bing.microsoft.com/api/v7/entities/d689e389-cacc-0912-28ee-039d79661230), List(Álex Moreno, https://api.bing.microsoft.com/api/v7/entities/ccba0daa-1602-52f1-5cd2-6ad22e9f95b7), List(Villa Park, https://api.bing.microsoft.com/api/v7/entities/1e177ead-ba8d-0da5-91f2-f4f4f1d1b5d0), List(Amadou Onana, https://api.bing.microsoft.com/api/v7/entities/1ca66a06-53cd-7959-48a4-bfdc53e7576e), List(Everton F.C., https://api.bing.microsoft.com/api/v7/entities/08c4e442-93ae-e0fe-a73b-f76f5259a171), List(Douglas Luiz, https://api.bing.microsoft.com/api/v7/entities/e4d0e312-8441-3d8b-6167-12496e2b71bc), List(Moussa Diaby, https://api.bing.microsoft.com/api/v7/entities/d25af0c6-d803-93ff-a62d-2bf4b96202c5), List(Unai Emery, https://api.bing.microsoft.com/api/v7/entities/bdfda59a-e857-f629-caa7-aa1072c5ce90), List(Atlético Madrid, https://api.bing.microsoft.com/api/v7/entities/b1132d17-4fd3-ba7d-39df-de416b1e6090), List(Premier League, https://api.bing.microsoft.com/api/v7/entities/02bde011-1e9d-3aff-8309-7d07d4031798), List(Chelsea F.C., https://api.bing.microsoft.com/api/v7/entities/8346cd56-1a96-adb0-26e1-f3679d88e0ba)), Sports, 2024-08-21T06:15:00.0000000Z, Aston Villa have confirmed Lamare Bogarde has signed a new contract with the club. The 20-year-old is highly-rated by Unai Emery, who used him in each of the club's even pre-season friendlies. Bogarde impressed in defence and in a holding midfield role earlier this summer., List(List(https://www.bing.com/th?id=OVFT.AcMIIgk-gkK3Yn74tqkq2y&pid=News, 367, 700)), null, Aston Villa transfer news live Joe Gomez twist, Alex Moreno medical, Samuel Iling-Junior latest, List(List(Organization, List(List(https://www.bing.com/th?id=ODF.jPou0vlDKt0Px6h21V_3rw&pid=news)), Birmingham Mail)), https://www.birminghammail.co.uk/sport/football/transfer-news/villa-transfers-live-iling-junior-29773450, null), List(List(List(Travis Kelce, https://api.bing.microsoft.com/api/v7/entities/4e917ff4-3613-42f8-bf79-9c12138e3ede), List(John Wick, https://api.bing.microsoft.com/api/v7/entities/91048ec5-4775-4ea1-bbfb-8c396a2246c1), List(Loose Cannons, https://api.bing.microsoft.com/api/v7/entities/2d0a8549-d969-fcc7-2aa5-6e1eca5119b6), List(Taylor Swift, https://api.bing.microsoft.com/api/v7/entities/98004a38-a3ea-b902-b6d3-687b30b54353), List(Deadline Hollywood, https://api.bing.microsoft.com/api/v7/entities/8487dbc3-435c-5296-821c-8a2a66840e9c), List(Lionsgate, https://api.bing.microsoft.com/api/v7/entities/addd91f2-9d74-ed59-8f80-40991e39127c), List(Pixels, https://api.bing.microsoft.com/api/v7/entities/17e0a910-504b-87ad-32ec-550f6cb9fd94), List(Chad Stahelski, https://api.bing.microsoft.com/api/v7/entities/08c3b9bd-7bee-dc90-fcf7-b4805cf74dc1), List(Alex Young, https://api.bing.microsoft.com/api/v7/entities/8ae9c6bf-bb29-1987-1785-81e1678975cc)), Entertainment, 2024-08-21T08:47:35.0000000Z, Travis Kelce is reportedly set to star in new comedy Loose Cannons. The NFL star - who is dating Anti-Hero hitmaker Taylor Swift - is making the jump to Hollywood and may have landed his first big screen acting role., List(List(https://www.bing.com/th?id=OVFT.CRHhARBhHyjiHoCbrrfKTi&pid=News, 367, 700)), List(List(Travis Kelce), List(Manchester Evening News), List(Comedy)), Travis Kelce in talks to front new action comedy from John Wick producers, List(List(Organization, List(List(https://www.bing.com/th?id=ODF.oxaa8-w2MDoXi5yOUu7A3w&pid=news)), Manchester Evening News on MSN.com)), https://www.msn.com/en-gb/news/newsmanchester/travis-kelce-in-talks-to-front-new-action-comedy-from-john-wick-producers/ar-AA1paehQ, null), List(List(List(CNN, https://api.bing.microsoft.com/api/v7/entities/c4c637e5-f9cc-a3ed-3380-7152515e062e), List(Mediterranean climate, https://api.bing.microsoft.com/api/v7/entities/bf1c93f2-9a1f-517d-2cd6-159b79fff257), List(Type 2 diabetes, https://api.bing.microsoft.com/api/v7/entities/83426981-8501-0894-eae9-3f11a06bf89f), List(University of Cambridge, https://api.bing.microsoft.com/api/v7/entities/92a4946b-bd44-dad3-15c3-14c37ab8894e)), LifeStyle, 2024-08-20T23:34:12.0000000Z, Many people are trying to cut back on red and processed meat for heart health or environmental reasons. A new global study shows another good reason., List(List(https://www.bing.com/th?id=OVFT.HZ-KKLVQgNIi-t10Nn9gpy&pid=News, 393, 700)), null, There is a link between the meat you eat and a chronic disease, according to new research, List(List(Organization, List(List(https://www.bing.com/th?id=ODF.t0BGYosS4GKZSebCajKQGA&pid=news)), CNN on MSN.com)), https://www.msn.com/en-us/health/other/global-study-shows-the-link-between-red-and-processed-meats-and-type-2-diabetes/ar-AA1p8FPI, List(null, null, Global study shows the link between red and processed meats and type 2 diabetes, List(292, 520), https://www.bing.com/th?id=OVF.hPOtjHufEraNH1owqr32tQ&pid=News)), List(List(List(New Mexico State University, https://api.bing.microsoft.com/api/v7/entities/e3d88a51-9b7a-0d6d-98c6-5d5766648030), List(Tailgating, https://api.bing.microsoft.com/api/v7/entities/e8af03e2-58ba-632f-44d7-9b33d3ce3c97), List(Albuquerque, New Mexico, https://api.bing.microsoft.com/api/v7/entities/7fffaaf6-e694-4095-be90-f6492cadbd58)), LifeStyle, 2024-08-20T22:18:33.0000000Z, Changes are coming to New Mexico State University’s tailgating rules this football season. Parking lots will shut down two hours after the game or at midnight, whichever comes sooner. For the non-student lots,, List(List(https://www.bing.com/th?id=OVFT.RQtsGpt1lmQE2r7GoEiRyS&pid=News, 394, 700)), List(List(New Mexico State University), List(Tailgate party), List(Leysin American School)), New Mexico State University updates tailgating rules, List(List(Organization, List(List(https://www.bing.com/th?id=ODF.ZWWEWocRXnzJRhsSxEV2vQ&pid=news)), KRQE Albuquerque on MSN.com)), https://www.msn.com/en-us/news/technology/new-mexico-state-university-updates-tailgating-rules/ar-AA1p8YwW, null), List(List(List(ITV News, https://api.bing.microsoft.com/api/v7/entities/cebdf159-e6b1-8366-f641-3dc397442550), List(Channel Islands, https://api.bing.microsoft.com/api/v7/entities/c7410b83-1066-f7e4-42ce-3a692f04388a)), null, 2024-08-20T17:00:00.0000000Z, Tue 20 Aug 6pm • Watch the latest ITV News programme from the Channel Islands for 24 hours after broadcast on ITVX. Viewing may be restricted in some countries due to licensing., List(List(https://www.bing.com/th?id=OVFT.sjyBOPvhnbo1Fmq9gGq6xC&pid=News, 393, 700)), null, Catch up on ITV News Channel from Tuesday 20th August, List(List(Organization, List(List(https://www.bing.com/th?id=ODF.HlKTyCgM99pRvmITMdZC2w&pid=news)), ITV)), https://www.itv.com/watch/news/catch-up-on-itv-news-channel-from-tuesday-20th-august/4b1d46n, null), List(List(List(Giorgi Mamardashvili, https://api.bing.microsoft.com/api/v7/entities/3fea8e15-30d3-d9d4-f374-612a263a3317), List(Liverpool F.C., https://api.bing.microsoft.com/api/v7/entities/8d437035-df45-5e15-5868-05ded77dd0cf), List(Anfield, https://api.bing.microsoft.com/api/v7/entities/19e4bd56-f843-2ecf-1219-f4dfc0317663), List(Anthony Gordon, https://api.bing.microsoft.com/api/v7/entities/cc1355ae-3b3d-23ed-73ba-5a7c4c841450), List(Atalanta B.C., https://api.bing.microsoft.com/api/v7/entities/8d74476a-a36b-a243-e892-419928cc4e39), List(Ederson, https://api.bing.microsoft.com/api/v7/entities/13af31b2-a3e9-c5e4-19c9-259871b0fb65), List(S.S.C. Napoli, https://api.bing.microsoft.com/api/v7/entities/754ddace-80f4-708a-0cba-a226529ff93b), List(Khvicha Kvaratskhelia, https://api.bing.microsoft.com/api/v7/entities/ac76d04c-7db4-0d90-0393-7a141d867156), List(Arne Slot, https://api.bing.microsoft.com/api/v7/entities/486f7116-76a2-6b5f-b011-99872e3824a1), List(UEFA Euro 2024, https://api.bing.microsoft.com/api/v7/entities/f6e2741f-875b-c715-a38b-74198e2edbc6)), Sports, 2024-08-21T13:00:00.0000000Z, Judging by the way FSG continue to do their transfer business that seems very unlikely. Get all the latest Liverpool breaking news, team news, transfer rumours, injury updates plus analysis of what's next for the Reds. You'll also get the latest transfer ..., List(List(https://www.bing.com/th?id=OVFT.81S1Mvg2v8PTBPIYYo7BES&pid=News, 367, 700)), List(List(Transfer), List(Spell), List(Liverpool Echo)), Giorgi Mamardashvili transfer spells a bold new era, but what's wrong with the old one?, List(List(Organization, null, Liverpool Echo on MSN.com)), https://www.msn.com/en-gb/news/newsliverpool/giorgi-mamardashvili-transfer-spells-a-bold-new-era-but-whats-wrong-with-the-old-one/ar-AA1pbmes, null), List(List(List(North Northamptonshire, https://api.bing.microsoft.com/api/v7/entities/51c52fe2-4327-791c-2995-7d2e8a75cdf4), List(Department for Education, https://api.bing.microsoft.com/api/v7/entities/2f8a8d0c-8aab-4329-74cb-1abb43f237c8), List(Northamptonshire, https://api.bing.microsoft.com/api/v7/entities/6b5ff743-48aa-7f30-4bfe-97eeede8e6fa), List(BBC Sounds, https://api.bing.microsoft.com/api/v7/entities/cec9c447-6c68-e3df-c11a-2c4eba4db6b8), List(Instagram, https://api.bing.microsoft.com/api/v7/entities/a2113d26-7976-df57-241f-77b7bbb1b4f7), List(X, https://api.bing.microsoft.com/api/v7/entities/860dea43-a2c0-7912-8370-4ef51face341)), null, 2024-08-21T11:28:00.0000000Z, Two new permanent classrooms at a special school will be open in time for the new school year. Rowan Gate Primary School in Wellingborough, Northamptonshire, has unveiled a permanent building to replace two temporary classrooms. The building, which cost £1.6m, will cater for 140 pupils and will provide them with more space., List(List(https://www.bing.com/th?id=OVFT.voyrARNduj5JVuR7Pr3RVC&pid=News, 393, 700)), null, Special school's new classrooms ready for September, List(List(Organization, List(List(https://www.bing.com/th?id=ODF.yhngt24TSWuyw3ur0Pt3WQ&pid=news)), BBC)), https://www.bbc.co.uk/news/articles/clylrn0z870o, null), List(List(List(Florida, https://api.bing.microsoft.com/api/v7/entities/5fece3f4-e8e8-4159-843e-f725a930ad50), List(New Jersey, https://api.bing.microsoft.com/api/v7/entities/05277898-b62b-4878-8632-09d29756a2ff), List(Acid attack, https://api.bing.microsoft.com/api/v7/entities/17b8d6ee-4252-c533-c16c-77c0d414e308), List(CNN, https://api.bing.microsoft.com/api/v7/entities/c4c637e5-f9cc-a3ed-3380-7152515e062e), List(KYW, https://api.bing.microsoft.com/api/v7/entities/51fbd9d8-5815-c4ae-6c48-7f31ea6380b1)), null, 2024-08-21T05:26:56.0000000Z, Three Florida residents have been arrested in connection to an apparent acid attack on a New Jersey woman who suffered burns to more than 35% of her body, according to a Gloucester County Prosecutor’s Office press release obtained by CNN affiliate KYW., List(List(https://www.bing.com/th?id=OVFT.CguLSXg0gEDJttpRX2xIFy&pid=News, 393, 700)), null, Florida trio charged in apparent acid attack that left a New Jersey woman with burns to a third of her body, prosecutors say, List(List(Organization, List(List(https://www.bing.com/th?id=ODF.t0BGYosS4GKZSebCajKQGA&pid=news)), CNN on MSN.com)), https://www.msn.com/en-us/news/crime/florida-trio-charged-in-apparent-acid-attack-that-left-a-new-jersey-woman-with-burns-to-a-third-of-her-body-prosecutors-say/ar-AA1p9NUt, null), List(List(List(Democratic National Committee, https://api.bing.microsoft.com/api/v7/entities/8a519bbe-c1a3-a5d0-c9ea-91fdeae7ba80), List(Chicago, https://api.bing.microsoft.com/api/v7/entities/28deeb39-ca49-4bd4-913b-929b1de4b25b), List(Democratic National Convention, https://api.bing.microsoft.com/api/v7/entities/eb5f527b-1e2d-86c2-e55c-1fc837f43499), List(Washington Boulevard, https://api.bing.microsoft.com/api/v7/entities/712670b4-9af8-86ab-9b27-95855b897f05), List(Israel, https://api.bing.microsoft.com/api/v7/entities/1ffafed3-2b37-b871-c271-aa855d98449a), List(Hamas, https://api.bing.microsoft.com/api/v7/entities/fd56a0c1-5b09-6e40-09dc-a8abf5069c30), List(United Center, https://api.bing.microsoft.com/api/v7/entities/70ad5c21-b753-597d-414d-3804d0423499)), World, 2024-08-21T02:51:38.0000000Z, Chicago crews installed an additional line of security fences outside the Democratic National Convention early Tuesday in the area where, a day earlier, demonstrators breached an outer perimeter fence., List(List(https://www.bing.com/th?id=OVFT.hbHbI2c2123-8Znm28xhtC&pid=News, 393, 700)), null, New fencing goes up outside DNC a day after pro-Palestinian protesters breach outer barrier, List(List(Organization, List(List(https://www.bing.com/th?id=ODF.t0BGYosS4GKZSebCajKQGA&pid=news)), CNN on MSN.com)), https://www.msn.com/en-us/news/us/new-fencing-goes-up-outside-dnc-a-day-after-pro-palestinian-protesters-breach-outer-barrier/ar-AA1p7z1G, null), List(List(List(Lewis Hamilton, https://api.bing.microsoft.com/api/v7/entities/afd8d17d-2960-d4d6-3ee3-cbb7ad7d515e), List(Formula One, https://api.bing.microsoft.com/api/v7/entities/b7a76276-375a-718b-52d9-49eae9b263a4), List(Valtteri Bottas, https://api.bing.microsoft.com/api/v7/entities/842c17fe-ff41-4769-2eea-658e7e58d1cc), List(New York Red Bulls, https://api.bing.microsoft.com/api/v7/entities/74ef7974-937a-e25a-9594-1c3182e17252)), Sports, 2024-08-20T22:00:00.0000000Z, Your F1 news round-up is here, with Lewis Hamilton having made a prediction for the rest of the 2024 season that should get our excitement up. As ever, there is a lot to get through, so let’s not waste any more time,, List(List(https://www.bing.com/th?id=OVFT.VAsQYTvTlLlbg2V6Bae2CC&pid=News, 367, 700)), List(List(Lewis Hamilton), List(Valtteri Bottas), List(Formula One)), Lewis Hamilton’s latest F1 prediction with Valtteri Bottas at centre of intense criticism – round-up, List(List(Organization, List(List(https://www.bing.com/th?id=ODF.AH4i8E8I1buqt0fbc5gOAw&pid=news)), PlanetF1.com on MSN.com)), https://www.msn.com/en-us/sports/other/lewis-hamilton-s-latest-f1-prediction-with-valtteri-bottas-at-centre-of-intense-criticism-round-up/ar-AA1p8EDh, null), List(List(List(Nigeria, https://api.bing.microsoft.com/api/v7/entities/f8afbbd6-9c3e-02be-7cb2-eac695e2da02), List(Nigerians, https://api.bing.microsoft.com/api/v7/entities/9fbd769b-30f1-fedc-4ffc-7d451aada1de), List(France, https://api.bing.microsoft.com/api/v7/entities/c7bfe2de-4f82-e23c-ae42-8544b5b5c0ea), List(Airbus A330, https://api.bing.microsoft.com/api/v7/entities/cf401561-d848-d8f3-8d4c-22380168287b)), World, 2024-08-21T12:09:00.0000000Z, Many Nigerians have reacted with outrage after a new plane was bought for President Bola Tinubu at a time when the economy is experiencing its worst crisis in a generation. The purchase comes less than two weeks after thousands took to the streets across ..., List(List(https://www.bing.com/th?id=OVFT.7C_HHcyp6aVl_XCvSSw24i&pid=News, 393, 700)), null, Nigerians outraged by president’s new plane, List(List(Organization, null, BBC)), https://www.bbc.co.uk/news/articles/cy4ydd2x5x2o, null), List(List(List(George Floyd, https://api.bing.microsoft.com/api/v7/entities/c78e0e6e-3b43-9e12-66d6-6466c9cbce54), List(Minneapolis, https://api.bing.microsoft.com/api/v7/entities/def03125-42ba-47cd-8061-ee55f5c63e67), List(Derek Chauvin, https://api.bing.microsoft.com/api/v7/entities/ddde2ddf-199d-9311-b135-336828a27f08), List(Federal Bureau of Prisons, https://api.bing.microsoft.com/api/v7/entities/bdca07d5-27a0-917c-5506-de6deeddf20c), List(Associated Press, https://api.bing.microsoft.com/api/v7/entities/b2843a2b-80fd-2fa0-10d0-97b51563ffcb), List(Federal Correctional Institution, Big Spring, https://api.bing.microsoft.com/api/v7/entities/ab3d4589-8104-8664-1f4e-46c139e8fb09), List(Federal Bureau of Investigation, https://api.bing.microsoft.com/api/v7/entities/e470e552-d479-42f9-dff4-a15995402e33)), null, 2024-08-21T07:42:00.0000000Z, Derek Chauvin was transferred to a federal prison in Texas almost nine months after he was stabbed in a different facility., List(List(https://www.bing.com/th?id=OVFT.7q4qAgScsd6ip4f8SNU7bC&pid=News, 700, 639)), null, Ex-officer convicted in George Floyd’s killing is moved to new prison months after stabbing, List(List(Organization, List(List(https://www.bing.com/th?id=ODF.AlMAEy7MoWNz0OI_xSWQiw&pid=news)), The Associated Press on MSN.com)), https://www.msn.com/en-us/news/crime/ex-officer-convicted-in-george-floyd-s-killing-is-moved-to-new-prison-months-after-stabbing/ar-AA1p8hcT, null), List(null, ScienceAndTechnology, 2024-08-20T15:06:08.0000000Z, International publishers are overtaking local news brands in Google's Top stories, raising questions about search relevance., null, List(List(Google), List(United States), List(Search Engine Optimization)), Google’s Top stories looks broken: Are news publishers to blame?, List(List(Organization, List(List(https://www.bing.com/th?id=ODF.4QeTEYHGoXPpi_CNzqJApQ&pid=news)), Search Engine Land on MSN.com)), https://www.msn.com/en-us/news/technology/google-s-top-stories-looks-broken-are-news-publishers-to-blame/ar-AA1p7F2f, null), List(List(List(Jeremy Clarkson, https://api.bing.microsoft.com/api/v7/entities/ddc9900f-d3d1-a052-0176-298795c71eea), List(Cotswolds, https://api.bing.microsoft.com/api/v7/entities/ad6d3d8f-f997-84f9-b85b-2e8d230e869e), List(Top Gear, https://api.bing.microsoft.com/api/v7/entities/684e1cfe-24e4-56d2-5280-79a9f735d4c0), List(Oxfordshire, https://api.bing.microsoft.com/api/v7/entities/1eda598d-62bc-9a62-5694-ee4472f8dcf5), List(A40 road, https://api.bing.microsoft.com/api/v7/entities/6a526ebc-09bd-492b-2013-34b15eff861e), List(Burford, https://api.bing.microsoft.com/api/v7/entities/656326ab-f57e-e678-ef3b-bc3ecf4fcca2)), null, 2024-08-21T12:24:00.0000000Z, Jeremy Clarkson has revealed his new pub will open its doors to the public for the first time on Friday - and that the boozer has a new name. The former Top Gear presenter, 64, announced The Farmers Dog, in Oxfordshire will be ready just in time for the ..., List(List(https://www.bing.com/th?id=OVFT.3chxsk0zOuDA6CRPMMUjwC&pid=News, 393, 700)), null, Jeremy Clarkson announces his new Cotswolds pub will open this Friday and renames it 'The Farmer's Dog' - as presenter reveals plans for second Diddly Squat Farm Shop, List(List(Organization, null, Daily Mail)), https://www.dailymail.co.uk/news/article-13765077/Jeremy-Clarksons-new-pub-Farmers-Dog-open-Friday.html, null), List(List(List(Italy, https://api.bing.microsoft.com/api/v7/entities/09e8f885-427b-8850-947d-202e0287b9e8), List(Clifford Chance, https://api.bing.microsoft.com/api/v7/entities/97aad71a-30da-1d4d-ca3c-70ec80964c97)), null, 2024-08-20T20:25:00.0000000Z, Along with everyone else, we’re devastated by the news out of Italy concerning the ship. Our thoughts and prayers are with Chris’ family,” Elkan Abramowitz said., List(List(https://www.bing.com/th?id=OVFT.SNfjQJptmiZmQH85-9VM0y&pid=News, 577, 700)), null, New York Lawyers 'Stunned and Devastated' Over Chris Morvillo Disappearance, List(List(Organization, List(List(https://www.bing.com/th?id=ODF.0zEurQ1YsrHCOmHwthImcQ&pid=news)), Law)), https://www.law.com/newyorklawjournal/2024/08/20/new-york-lawyers-stunned-and-devastated-over-chris-morvillo-disappearance/, null), List(List(List(Donald Trump, https://api.bing.microsoft.com/api/v7/entities/1a466af2-ed23-25bd-794d-1ca925e4681b), List(Taylor Swift, https://api.bing.microsoft.com/api/v7/entities/98004a38-a3ea-b902-b6d3-687b30b54353), List(Chicago, https://api.bing.microsoft.com/api/v7/entities/28deeb39-ca49-4bd4-913b-929b1de4b25b), List(Democratic National Convention, https://api.bing.microsoft.com/api/v7/entities/eb5f527b-1e2d-86c2-e55c-1fc837f43499), List(Kamala Harris, https://api.bing.microsoft.com/api/v7/entities/ef5cf66f-32b7-7271-286a-8e8313eda5c5), List(Tech Billionaires: Elon Musk, https://api.bing.microsoft.com/api/v7/entities/c4fad87c-d4f0-ef0d-af23-19b1996e3053), List(Artificial intelligence, https://api.bing.microsoft.com/api/v7/entities/9d99fb44-edac-0e03-1579-19d8d8591a49)), Politics, 2024-08-20T19:50:00.0000000Z, Former President Donald Trump has been active on his social accounts as Democrats gather for their convention in Chicago, but many of his posts don’t have much to do with reality., List(List(https://www.bing.com/th?id=OVFT.8Wi-hOtIEoVH-QOlbnXtNS&pid=News, 367, 700)), null, Trump’s post of fake Taylor Swift endorsement is his latest embrace of AI-generated images, List(List(Organization, List(List(https://www.bing.com/th?id=ODF.AlMAEy7MoWNz0OI_xSWQiw&pid=news)), The Associated Press on MSN.com)), https://www.msn.com/en-us/news/politics/trump-s-post-of-fake-taylor-swift-endorsement-is-his-latest-embrace-of-ai-generated-images/ar-AA1p8ugH, null), List(List(List(Donald Trump, https://api.bing.microsoft.com/api/v7/entities/1a466af2-ed23-25bd-794d-1ca925e4681b), List(Leonardo DiCaprio, https://api.bing.microsoft.com/api/v7/entities/5f2c4ac2-d77a-474e-4580-c76549d4fce5), List(Diana, Princess of Wales, https://api.bing.microsoft.com/api/v7/entities/f4bf63ea-0b6c-58e0-4587-64927290483f), List(The Cheesecake Factory, https://api.bing.microsoft.com/api/v7/entities/513ac470-7772-1f4d-d4e1-2b4a6111ff19), List(AMC, https://api.bing.microsoft.com/api/v7/entities/c8f09f18-1dfb-b3c6-3daf-259b82271e22), List(The Grove, https://api.bing.microsoft.com/api/v7/entities/43e17dc7-c6c0-4009-ab03-44310e26b258)), null, 2024-08-20T16:29:00.0000000Z, Donald Trump said he's only going to speak behind bullet-proof glass at outdoor rallies after that failed assassination attempt. Now, a picture of him speaking behind glass on the 4th of July 2019 is going viral. 10 year-old me: I’m going to marry Leonardo DiCaprio my Princess Diana beanie baby: pic.twitter.com/Dni3Pfg9f8, List(List(https://www.bing.com/th?id=OVFT.5zc_9oceXEQ-NDjhBu09hC&pid=News, 464, 700)), null, This Picture Of Donald Trump Behind Bullet-Proof Glass Is Now A Unintentionally Hilarious New Meme, List(List(Organization, List(List(https://www.bing.com/th?id=ODF.zvLEjo304eZajOqoKLxUtA&pid=news)), Yahoo News Canada)), https://ca.yahoo.com/news/picture-donald-trump-behind-bullet-162934848.html, null), List(List(List(Stimulus, https://api.bing.microsoft.com/api/v7/entities/a20531eb-e559-ec38-f785-ccfe7eded6f7), List(Alaska, https://api.bing.microsoft.com/api/v7/entities/31c4c7a1-54e7-4306-ac9b-f1b02e85bda5)), Business, 2024-08-21T12:24:00.0000000Z, Alaskans will receive $1300 stimulus checks, offering crucial financial support amid global economic difficulties. This payment comes as part of the state's Permanent Fund Dividend (PFD) program, designed to provide ongoing economic benefits to residents ..., List(List(https://www.bing.com/th?id=OVFT.szrqyOBn23c_lD3hELsFhS&pid=News, 466, 700)), null, 1312 Stimulus Payment Eligibility: A new $1312 payment is coming next month, are you eligible to get it?, List(List(Organization, null, MARCA)), https://www.marca.com/en/lifestyle/us-news/personal-finance/2024/08/21/66c5d1e046163f57778b45b7.html, null), List(List(List(Andrew Tate, https://api.bing.microsoft.com/api/v7/entities/41f247b0-02b9-c01d-3fb2-f794db91e9c4), List(Romania, https://api.bing.microsoft.com/api/v7/entities/0cc489d5-ff53-84f1-4fcc-76525efef33a), List(Human trafficking, https://api.bing.microsoft.com/api/v7/entities/8e68768e-ecd5-4bf5-b732-28df9390a5e9), List(Rape, https://api.bing.microsoft.com/api/v7/entities/0cdc95b4-903a-9c9c-ad30-233321b50d1b), List(Bucharest, https://api.bing.microsoft.com/api/v7/entities/42022f97-112e-58a6-70f5-9536b20ee957), List(Ilfov County, https://api.bing.microsoft.com/api/v7/entities/d6b13ffc-3490-2609-746c-5b9daf56e5ee)), World, 2024-08-21T08:01:00.0000000Z, Dozens of police officers and forensic personnel were scouring Tate’s large property on the edge of the capital Bucharest., List(List(https://www.bing.com/th?id=OVFT.mTc07i_DZeeWpdB-0qGQVy&pid=News, 466, 700)), null, Police raid Andrew Tate’s home in Romania as new allegations emerge involving minors, List(List(Organization, List(List(https://www.bing.com/th?id=ODF.AlMAEy7MoWNz0OI_xSWQiw&pid=news)), The Associated Press - Business News on MSN.com)), https://www.msn.com/en-us/news/crime/police-raid-andrew-tates-home-in-romania-as-new-allegations-emerge-involving-minors/ar-AA1pabHH, null), List(List(List(Raheem Sterling, https://api.bing.microsoft.com/api/v7/entities/2c5f2a39-135c-560d-575f-dd7424d4ce82), List(Chelsea F.C., https://api.bing.microsoft.com/api/v7/entities/8346cd56-1a96-adb0-26e1-f3679d88e0ba), List(Enzo Maresca, https://api.bing.microsoft.com/api/v7/entities/57f409e7-f3be-4c3f-89a8-adb2b541771b), List(Manchester City F.C., https://api.bing.microsoft.com/api/v7/entities/8b357e7d-2cd9-6ebf-30d5-6794f62ce637), List(England, https://api.bing.microsoft.com/api/v7/entities/280d39e8-7217-6863-6980-a8c20c211c89), List(UEFA, https://api.bing.microsoft.com/api/v7/entities/bfd4adbc-7bef-3f42-8d9f-ea01eff9724b), List(Tosin Adarabioyo, https://api.bing.microsoft.com/api/v7/entities/4455aa90-9467-adad-ec92-ac8477ce200b)), Sports, 2024-08-21T08:51:00.0000000Z, Raheem Sterling’s Chelsea future has been called into question yet again after being left out of their squad to face Servette. It is is the second game in a row that Sterling has been axed, List(List(https://www.bing.com/th?id=OVFT.125GyMFOaI79S7q5wee39i&pid=News, 240, 360)), null, Raheem Sterling in new Chelsea low ahead of Europa Conference League clash with Servette as winger seeks ‘clarity’ over future, List(List(Organization, List(List(https://www.bing.com/th?id=ODF.1J7u2N62JGb2VrnCRlJIrw&pid=news)), Talksport)), https://talksport.com/football/2016586/chelsea-raheem-sterling-axed-squad-servette/, null), List(List(List(Connecticut, https://api.bing.microsoft.com/api/v7/entities/b3ca6523-435e-4a3b-8f78-1ad900a52cf8), List(New York, https://api.bing.microsoft.com/api/v7/entities/caeb7b9a-f5d7-4686-8fb5-cf7628296b13), List(Long Island, https://api.bing.microsoft.com/api/v7/entities/ef0c0f37-bad2-bd1a-ad90-888ea76346bb), List(National Weather Service, https://api.bing.microsoft.com/api/v7/entities/94765d39-8736-70dc-4819-8ed777a628f0)), null, 2024-08-20T14:53:00.0000000Z, The long and costly recovery effort has begun in Connecticut and New York after historic flooding caused sweeping damage over the weekend., List(List(https://www.bing.com/th?id=OVFT.QYEhaDqKNF6mcFrPntmwkS&pid=News, 393, 700)), null, Long recovery underway after deadly and destructive floods ravage Connecticut, New York, List(List(Organization, List(List(https://www.bing.com/th?id=ODF.m1iod5ODNIyyKu23kGIllQ&pid=news)), USA Today)), https://www.usatoday.com/story/news/nation/2024/08/20/connecticut-ny-flooding-recovery/74868830007/, null), List(List(List(Norwich, https://api.bing.microsoft.com/api/v7/entities/984fdffb-7ef3-de93-5b19-44454e228884)), null, 2024-08-21T05:47:44.0000000Z, Gemma Hyde, from Norwich's Castle Quarter shopping centre, wants to help families who cannot afford new uniforms., List(List(https://www.bing.com/th?id=OVFT.9H0g3ziXxwQAvQEZdJYC4C&pid=News, 393, 700)), List(List(Free school), List(School uniform), List(Pop-up ad)), Free school uniform 'pop-up' to ease cost of new term, List(List(Organization, List(List(https://www.bing.com/th?id=ODF.k3N4DqozNjgK376rAnFmsA&pid=news)), BBC on MSN.com)), https://www.msn.com/en-us/news/world/free-school-uniform-pop-up-to-ease-cost-of-new-term/ar-AA1p9J8f, null), List(List(List(Libya, https://api.bing.microsoft.com/api/v7/entities/b4e5604e-361e-ab37-6516-4cf5580a04aa)), null, 2024-08-21T13:25:00.0000000Z, Home Affairs minister Leon Schreiber says that “the system will always be down” at this department unless it takes a page out of SARS’ book., List(List(https://www.bing.com/th?id=OVFT.aXKlyww6SuBIGM_5M90VTC&pid=News, 393, 700)), null, Home Affairs wants to be the new SARS, List(List(Organization, List(List(https://www.bing.com/th?id=ODF.HeMcjfJp8OYTNknyI2IN7Q&pid=news)), businesstech.co.za)), https://businesstech.co.za/news/government/787740/home-affairs-wants-to-be-the-new-sars/, null), List(List(List(Gamescom, https://api.bing.microsoft.com/api/v7/entities/b17f0fd6-503a-c7ea-7e09-3795cff5e623), List(Borderlands, https://api.bing.microsoft.com/api/v7/entities/de3ec702-729a-972a-78f1-5d68add173f0), List(Gearbox Software, https://api.bing.microsoft.com/api/v7/entities/b3fa876a-8896-453a-ee5f-7b18a932feb9), List(Bethesda Game Studios, https://api.bing.microsoft.com/api/v7/entities/d9bc865e-0d24-4e3d-8537-4efd22be15f2), List(Borderlands 3, https://api.bing.microsoft.com/api/v7/entities/6e7a8481-3216-5168-be94-f09856320b94), List(Borderlands 2, https://api.bing.microsoft.com/api/v7/entities/f0fe13f3-31d5-de9b-4470-7dc86447427d)), ScienceAndTechnology, 2024-08-20T22:58:00.0000000Z, There’s not an exact release date yet, but Borderlands 4 is slated for a 2025 release so we won’t have to wait long. It’s been five years since Borderlands 3 came out, and that game didn’t inspire the kind of hype and widespread praise that Borderlands 2 received at launch., List(List(https://www.bing.com/th?id=OVFT.hAXz8WNGPQO7507zYSZQFS&pid=News, 337, 600)), null, ‘Borderlands 4’ Announced With A Surprising Release Window And A New Trailer, List(List(Organization, List(List(https://www.bing.com/th?id=ODF.U6nYa4Huf-RFEhjg-V4hNg&pid=news)), Forbes)), https://www.forbes.com/sites/erikkain/2024/08/20/borderlands-4-announced-with-a-surprising-release-window-and-a-new-trailer/, List(null, null, ‘Borderlands 4’ Announced With A Surprising Release Window And A New Trailer, List(292, 520), https://www.bing.com/th?id=OVF.XipcomA3hntaDDc%2Bszyhtw&pid=News)), List(List(List(Kaiser Permanente, https://api.bing.microsoft.com/api/v7/entities/fa8bca5f-ac75-3fe3-9d30-1896f04572ba), List(California, https://api.bing.microsoft.com/api/v7/entities/3009d91d-d582-4c34-85ba-772ba09e5be1), List(Albany, New York, https://api.bing.microsoft.com/api/v7/entities/62ca8245-972e-448d-af38-345d4a958798)), null, 2024-08-21T10:00:33.0000000Z, Nearly three years after wheelchair user Beth Smith sued Kaiser for capping coverage well below the costs of many motorized chairs, the Albany resident is slated to get thousands of dollars for a new chair. Smith, 64, was among the plaintiffs in a class ..., List(List(https://www.bing.com/th?id=OVFT.kaf4Lq8Ul61EB9pt0r57Mi&pid=News, 367, 700)), List(List(California), List(Kaiser Family Foundation), List(Wheelchair)), Years after lawsuit, Kaiser will pay for new wheelchair for California woman, List(List(Organization, null, Los Angeles Times on MSN.com)), https://www.msn.com/en-us/news/other/years-after-lawsuit-kaiser-will-pay-for-new-wheelchair-for-california-woman/ar-AA1paJ71, null), List(List(List(Coal, https://api.bing.microsoft.com/api/v7/entities/91cf2898-c1b2-4266-65ac-cb7e03a4bfa0), List(Natural gas, https://api.bing.microsoft.com/api/v7/entities/0f2df4e3-f260-d13a-8235-bf64bd7f79b1), List(Pennsylvania, https://api.bing.microsoft.com/api/v7/entities/6304580e-c803-4266-818a-971619176547), List(United States Environmental Protection Agency, https://api.bing.microsoft.com/api/v7/entities/4e6838b4-41a3-4674-aed3-3b4908acbd6b)), LifeStyle, 2024-08-20T22:36:30.0000000Z, Former President Trump said that if elected, he will reverse the Biden-Harris administration's EPA rule that requires coal and natural gas power plants to cut emissions by 90%., List(List(https://www.bing.com/th?id=OVFT.rjqTLX6uTjc4KmDS728YPC&pid=News, 393, 700)), null, Trump vows to repeal new EPA power plant rule, List(List(Organization, List(List(https://www.bing.com/th?id=ODF.GimbRbdxNxZt1GEL5O0AJg&pid=news)), FOX News on MSN.com)), https://www.msn.com/en-us/news/politics/trump-vows-to-repeal-new-epa-power-plant-rule/ar-AA1p8IoF, null), List(List(List(Mario Lopez, https://api.bing.microsoft.com/api/v7/entities/960f54aa-52b2-b6cf-2242-2066d6b8b322), List(Reel, https://api.bing.microsoft.com/api/v7/entities/cbb2fa82-62c4-c330-680a-1377c8c969e8), List(Instagram, https://api.bing.microsoft.com/api/v7/entities/a2113d26-7976-df57-241f-77b7bbb1b4f7)), Entertainment, 2024-08-20T21:07:52.0000000Z, Mario Lopez's kids are heading back to the classroom. On Tuesday, Aug. 20, the proud dad, 50, posted a Reel on his Instagram as he shared that his three kids — daughter Gia, 13, and sons Dominic, 10, and Santino, 5, whom he shares with wife Courtney — were celebrating their first day of school., List(List(https://www.bing.com/th?id=OVFT.3hDTCHPYPzA8wkEnSkWqji&pid=News, 466, 700)), null, Mario Lopez Shares That All 3 of His Kids Are 'Officially Back to School' in Adorable New Photos, List(List(Organization, List(List(https://www.bing.com/th?id=ODF.kridaNmIIz5AdgcUGG5eBQ&pid=news)), People on MSN.com)), https://www.msn.com/en-us/lifestyle/lifestyle-buzz/mario-lopez-shares-that-all-3-of-his-kids-are-officially-back-to-school-in-adorable-new-photos/ar-AA1p8Eos, null), List(List(List(Robert F. Kennedy, https://api.bing.microsoft.com/api/v7/entities/367cc99b-d308-8104-8e05-1fd1a98862da), List(Chicago, https://api.bing.microsoft.com/api/v7/entities/28deeb39-ca49-4bd4-913b-929b1de4b25b), List(Robert F. Kennedy Jr., https://api.bing.microsoft.com/api/v7/entities/e045d327-0fdc-d12c-b847-d1c25c43331e), List(Kamala Harris, https://api.bing.microsoft.com/api/v7/entities/ef5cf66f-32b7-7271-286a-8e8313eda5c5), List(CNN, https://api.bing.microsoft.com/api/v7/entities/c4c637e5-f9cc-a3ed-3380-7152515e062e), List(Donald Trump, https://api.bing.microsoft.com/api/v7/entities/1a466af2-ed23-25bd-794d-1ca925e4681b)), Politics, 2024-08-20T22:06:00.0000000Z, Robert F. Kennedy Jr.'s running mate Nicole Shanahan said the Kennedy campaign is considering dropping out of the race and endorsing former President Donald Trump., List(List(https://www.bing.com/th?id=OVFT.5M93eu2lyXiSl5xHEZCOqS&pid=News, 393, 700)), null, RFK Jr. news: Kennedy running mate says campaign considering dropping out, endorsing Trump, List(List(Organization, List(List(https://www.bing.com/th?id=ODF.t0BGYosS4GKZSebCajKQGA&pid=news)), CNN on MSN.com)), https://www.msn.com/en-us/news/politics/rfk-jr-running-mate-shanahan-says-they-re-considering-endorsing-trump/ar-AA1p8ncv, List(true, <iframe width=\"476\" height=\"267\" src=\"https://abc13.com/video/embed/?pid=15210325\" scrolling=\"no\" frameborder=\"0\" allowfullscreen></iframe>, RFK Jr. news: Kennedy running mate says campaign considering dropping out, endorsing Trump, List(292, 520), https://www.bing.com/th?id=OVF.vYkNufdLB8IfHSRzC%2FU40Q&pid=News)), List(null, null, 2024-08-20T15:30:00.0000000Z, As corporate ESG takes new forms and tackles new attacks in a contentious election ... Recommended Newsletter: CEO Daily provides key context for the news leaders need to know from across the world of business. Every weekday morning, more than 125,000 ..., null, null, Fortune Impact Initiative 2024 livestream, List(List(Organization, null, Fortune)), https://fortune.com/article/fortune-impact-initiative-2024-livestream/, null), List(null, ScienceAndTechnology, 2024-08-20T20:01:00.0000000Z, Capcom during Gamescom Opening Night Live released a new trailer for Monster Hunter Wilds.View the trailer below:Read details [...], null, null, Monster Hunter Wilds Gets Gamescom 2024 Trailer - News, List(List(Organization, List(List(https://www.bing.com/th?id=ODF.kKXt-MKV3fmSaC3dmthHzw&pid=news)), VG Chartz)), https://www.vgchartz.com/article/462147/monster-hunter-wilds-gets-gamescom-2024-trailer/, null))</td></tr></tbody></table></div>"
      ]
     },
     "metadata": {
      "application/vnd.databricks.v1+output": {
       "addedWidgets": {},
       "aggData": [],
       "aggError": "",
       "aggOverflow": false,
       "aggSchema": [],
       "aggSeriesLimitReached": false,
       "aggType": "",
       "arguments": {},
       "columnCustomDisplayInfos": {},
       "data": [
        [
         "News",
         [
          false,
          "latest news"
         ],
         "https://api.bing.microsoft.com/api/v7/news/search?q=latest+news",
         [
          [
           "relevance",
           true,
           "Best match",
           "https://api.bing.microsoft.com/api/v7/news/search?q=latest+news"
          ],
          [
           "date",
           false,
           "Most recent",
           "https://api.bing.microsoft.com/api/v7/news/search?q=latest+news&sortby=date"
          ]
         ],
         43,
         [
          [
           [
            [
             "Collingwood Football Club",
             "https://api.bing.microsoft.com/api/v7/entities/2b8ee05b-110f-8fe8-2bec-9dd0fd2b1ed3"
            ],
            [
             "Magpie",
             "https://api.bing.microsoft.com/api/v7/entities/e1d0c98b-9776-3aa3-7dc5-25d6890f1fd6"
            ],
            [
             "Melbourne, Florida",
             "https://api.bing.microsoft.com/api/v7/entities/ea28914f-957c-4e18-9ac2-3540ad2b69d4"
            ],
            [
             "Carlton Football Club",
             "https://api.bing.microsoft.com/api/v7/entities/07f3d7ba-97fb-a77b-4947-5744a53fe85a"
            ],
            [
             "Hawthorn, Victoria",
             "https://api.bing.microsoft.com/api/v7/entities/0d29178c-c5ba-de2a-0399-eb10fe68d2c6"
            ],
            [
             "Justin Leppitsch",
             "https://api.bing.microsoft.com/api/v7/entities/79e384f1-fb18-cd1b-0738-ea19a836c054"
            ],
            [
             "AFL Grand Final",
             "https://api.bing.microsoft.com/api/v7/entities/16483451-1a09-c4a4-9dce-a4ee97bf6864"
            ]
           ],
           "Sports",
           "2024-08-21T05:27:00.0000000Z",
           "Collingwood coach Craig McRae says the Magpies will reflect on whether not immediately replacing Graham Wright was a costly decision in their failed premiership defence.",
           [
            [
             "https://www.bing.com/th?id=OVFT.heV62v0FtSBSxbUXHZ5vbS&pid=News",
             393,
             700
            ]
           ],
           null,
           "AFL 2024: Collingwood Magpies will search to replace football boss Graham Wright, Craig McRae comments, latest news",
           [
            [
             "Organization",
             [
              [
               "https://www.bing.com/th?id=ODF.9yJS4wi2nUtsfM87Lf-3FA&pid=news"
              ]
             ],
             "NewsWire on MSN.com"
            ]
           ],
           "https://www.msn.com/en-au/sport/other/coach-s-difficult-parting-from-incredible-mentor/ar-AA1p9yg9",
           null
          ],
          [
           [
            [
             "Everton F.C.",
             "https://api.bing.microsoft.com/api/v7/entities/08c4e442-93ae-e0fe-a73b-f76f5259a171"
            ],
            [
             "Neal Maupay",
             "https://api.bing.microsoft.com/api/v7/entities/2c2d83d1-f8e5-434b-8ca8-d19a13caf063"
            ],
            [
             "Éric Junior Dina Ebimbe",
             "https://api.bing.microsoft.com/api/v7/entities/75381052-a5ba-1a96-309a-39be49525b63"
            ],
            [
             "Queens Park Rangers F.C.",
             "https://api.bing.microsoft.com/api/v7/entities/c82952e8-3b21-d425-48f5-42cf7a89190b"
            ],
            [
             "Goodison Park",
             "https://api.bing.microsoft.com/api/v7/entities/dde25d4f-6bc8-e22c-bb2c-26173d7d3326"
            ],
            [
             "Jack Harrison",
             "https://api.bing.microsoft.com/api/v7/entities/f0496807-c933-fe07-8017-97500cc1abf3"
            ],
            [
             "Jesper Lindstrøm",
             "https://api.bing.microsoft.com/api/v7/entities/2110b922-1830-29cd-78e8-e85a0297da36"
            ],
            [
             "Merseyside",
             "https://api.bing.microsoft.com/api/v7/entities/8e04c30f-763f-780e-c01f-ccd70d51e4f7"
            ],
            [
             "Amadou Onana",
             "https://api.bing.microsoft.com/api/v7/entities/1ca66a06-53cd-7959-48a4-bfdc53e7576e"
            ],
            [
             "Lewis Dobbin",
             "https://api.bing.microsoft.com/api/v7/entities/800f86ff-82f6-3a07-dc80-66956ca0a201"
            ],
            [
             "Ben Godfrey",
             "https://api.bing.microsoft.com/api/v7/entities/787cc42b-c36e-7edb-80c3-f0f0b00c12d1"
            ]
           ],
           "Sports",
           "2024-08-21T11:14:00.0000000Z",
           "Latest Everton transfer and takeover news, including updates as Asmir Begovic is in talks to return to the Blues",
           [
            [
             "https://www.bing.com/th?id=OVFT.XXPqfesC-Oli8IE5HlY5di&pid=News",
             367,
             700
            ]
           ],
           null,
           "Everton transfer news LIVE - Neal Maupay future, Mason Holgate enquiry Junior Dina Ebimbe talks,",
           [
            [
             "Organization",
             [
              [
               "https://www.bing.com/th?id=ODF.lMNuYaPYFKYNaBUKNyUFHg&pid=news"
              ]
             ],
             "Liverpool Echo"
            ]
           ],
           "https://www.liverpoolecho.co.uk/sport/football/transfer-news/everton-takeover-transfer-news-live-29765334",
           null
          ],
          [
           [
            [
             "Fox News",
             "https://api.bing.microsoft.com/api/v7/entities/273e0477-30ed-3993-f232-f39244306805"
            ],
            [
             "Nicole Parker",
             "https://api.bing.microsoft.com/api/v7/entities/25d1f86e-5ab4-2c3d-f7a3-42ef954824fa"
            ],
            [
             "Chicago",
             "https://api.bing.microsoft.com/api/v7/entities/7c09b50c-bc53-55c3-7fea-0f08e11b091f"
            ]
           ],
           null,
           "2024-08-21T10:35:00.0000000Z",
           "Fox News contributor Nicole Parker joined 'Fox News @ Night' to discuss her reaction to the new video and how crime has ravaged Chicago amid DNC week.",
           [
            [
             "https://www.bing.com/th?id=OVFT.oEZQRduXmf_DcySOZ51dki&pid=News",
             350,
             700
            ]
           ],
           null,
           "Chilling new video shows Trump shooter walking around rally before assassination attempt",
           [
            [
             "Organization",
             null,
             "Fox News"
            ]
           ],
           "https://www.foxnews.com/video/6360751017112",
           null
          ],
          [
           [
            [
             "Arsenal F.C.",
             "https://api.bing.microsoft.com/api/v7/entities/8b3b4135-cb8e-ded8-10ce-8f130d64b863"
            ],
            [
             "Mikel Merino",
             "https://api.bing.microsoft.com/api/v7/entities/e2365c49-c2b6-aff5-437d-72f2ca96a378"
            ],
            [
             "Aaron Ramsdale",
             "https://api.bing.microsoft.com/api/v7/entities/0bf35c7f-e8e0-4291-6273-e21a1b2ff24d"
            ],
            [
             "Eddie Nketiah",
             "https://api.bing.microsoft.com/api/v7/entities/8dfce5e6-cc68-2cc9-a6b1-275133d70dbc"
            ],
            [
             "Ivan Toney",
             "https://api.bing.microsoft.com/api/v7/entities/98358ca1-1bd6-4cee-aff4-5b93c811f416"
            ],
            [
             "Victor Osimhen",
             "https://api.bing.microsoft.com/api/v7/entities/09506725-12aa-3157-6831-985cefbf9e30"
            ],
            [
             "Premier League",
             "https://api.bing.microsoft.com/api/v7/entities/02bde011-1e9d-3aff-8309-7d07d4031798"
            ],
            [
             "Aston Villa F.C.",
             "https://api.bing.microsoft.com/api/v7/entities/d689e389-cacc-0912-28ee-039d79661230"
            ],
            [
             "Mikel Arteta",
             "https://api.bing.microsoft.com/api/v7/entities/46cbb218-c295-c257-be2c-7d8179c02488"
            ],
            [
             "Villa Park",
             "https://api.bing.microsoft.com/api/v7/entities/1e177ead-ba8d-0da5-91f2-f4f4f1d1b5d0"
            ],
            [
             "Real Sociedad",
             "https://api.bing.microsoft.com/api/v7/entities/3fb625f1-1a17-767a-8c2a-84ee6d7c201c"
            ],
            [
             "Newcastle United F.C.",
             "https://api.bing.microsoft.com/api/v7/entities/d36b1961-7548-2202-311b-d6a69037d67d"
            ],
            [
             "Alexander Isak",
             "https://api.bing.microsoft.com/api/v7/entities/f7da1aac-7d71-56d0-fff9-fdfa217be4bf"
            ]
           ],
           "Sports",
           "2024-08-21T05:21:00.0000000Z",
           "The latest Arsenal transfer news and rumours from football.london including updates on Eddie Nketiah, Mikel Merino, Ivan Toney, Aaron Ramsdale and Victor Osimhen",
           [
            [
             "https://www.bing.com/th?id=OVFT.Yh0-vWC2lksh9dRA2nbt-S&pid=News",
             367,
             700
            ]
           ],
           null,
           "Arsenal transfer news LIVE Mikel Merino positive update, Nketiah agreement, Ramsdale update",
           [
            [
             "Organization",
             [
              [
               "https://www.bing.com/th?id=ODF.Xm0enA-z_fuiMX5FvKt4cw&pid=news"
              ]
             ],
             "football"
            ]
           ],
           "https://www.football.london/arsenal-fc/transfer-news/arsenal-transfer-news-live-mikel-29779140",
           null
          ],
          [
           [
            [
             "Greg Gutfeld",
             "https://api.bing.microsoft.com/api/v7/entities/1920980b-8c33-331b-4eae-8fcff3d90d18"
            ],
            [
             "Kamala Harris",
             "https://api.bing.microsoft.com/api/v7/entities/ef5cf66f-32b7-7271-286a-8e8313eda5c5"
            ],
            [
             "Fox News",
             "https://api.bing.microsoft.com/api/v7/entities/273e0477-30ed-3993-f232-f39244306805"
            ],
            [
             "2024 Democratic National Convention",
             "https://api.bing.microsoft.com/api/v7/entities/6dd65316-4aa2-030b-7347-183b38ff121a"
            ]
           ],
           null,
           "2024-08-21T04:26:00.0000000Z",
           "Fox News host Greg Gutfeld gives his take on the second night of the 2024 Democratic National Convention on 'Gutfeld!'",
           [
            [
             "https://www.bing.com/th?id=OVFT.EzJ3ljePNP2mcjDSXpqUIy&pid=News",
             350,
             700
            ]
           ],
           null,
           "Greg Gutfeld: Democrats needed a new narrative, and Kamala Harris is it",
           [
            [
             "Organization",
             null,
             "Fox News"
            ]
           ],
           "https://www.foxnews.com/video/6360732761112",
           null
          ],
          [
           [
            [
             "Boston Bruins",
             "https://api.bing.microsoft.com/api/v7/entities/7372c7cf-eeed-88a9-0522-63e96eaf6448"
            ],
            [
             "Atlantic Division",
             "https://api.bing.microsoft.com/api/v7/entities/d7c8ec8b-e4b9-0223-9599-8360afbc63dd"
            ],
            [
             "Columbus Blue Jackets",
             "https://api.bing.microsoft.com/api/v7/entities/74c60977-6e3a-c88b-ab1a-8f4a3e785885"
            ],
            [
             "Patrik Laine",
             "https://api.bing.microsoft.com/api/v7/entities/894c470a-7378-a9c8-043f-bf221b20140f"
            ],
            [
             "Montreal Canadiens",
             "https://api.bing.microsoft.com/api/v7/entities/e65755db-2635-6bc8-99f9-0e5cff3aa813"
            ]
           ],
           "Sports",
           "2024-08-20T16:39:03.0000000Z",
           "On Monday, the Columbus Blue Jackets traded Patrik Laine and a 2026 second-round pick to the Montreal Canadiens in exchange for defenseman Jordan Harris. With this move, one of the Bruins' biggest rivals, the Canadiens, have notably improved their forward group.",
           [
            [
             "https://www.bing.com/th?id=OVFT.D8jUx5QGIwRX3G91Wo3KdC&pid=News",
             466,
             700
            ]
           ],
           [
            [
             "Boston Bruins"
            ],
            [
             "Analysis"
            ],
            [
             "National Hockey League"
            ]
           ],
           "Bruins Have New Star to Deal With In Atlantic",
           [
            [
             "Organization",
             [
              [
               "https://www.bing.com/th?id=ODF.yNx4KYuMgiOCU3nI9qTmtQ&pid=news"
              ]
             ],
             "The Hockey News on MSN.com"
            ]
           ],
           "https://www.msn.com/en-us/sports/nhl/bruins-have-new-star-to-deal-with-in-atlantic/ar-AA1p88Tr",
           null
          ],
          [
           null,
           null,
           "2024-08-21T14:11:00.0000000Z",
           "The bodies of two of the six people missing after a yacht sank off the Sicily coast have been found. Search efforts have entered a third day, after the captain was reportedly questioned by Italian prosecutors over the sinking.",
           [
            [
             "https://www.bing.com/th?id=OVFT.Z89qPj7prCz9if78PBrPuS&pid=News",
             393,
             700
            ]
           ],
           null,
           "Superyacht sinks latest: Two bodies found in search for survivors",
           [
            [
             "Organization",
             [
              [
               "https://www.bing.com/th?id=ODF.Eg62H9DIbo-JYPI6GpAgGA&pid=news"
              ]
             ],
             "Sky"
            ]
           ],
           "https://news.sky.com/story/superyacht-sinks-latest-two-bodies-found-in-search-for-survivors-13199663",
           null
          ],
          [
           [
            [
             "Wisconsin",
             "https://api.bing.microsoft.com/api/v7/entities/cb4d2853-06f4-4467-8e7c-4e31cbb35cb2"
            ],
            [
             "Madison, Wisconsin",
             "https://api.bing.microsoft.com/api/v7/entities/65426cc9-93eb-4569-8c2e-3b7c1b070278"
            ],
            [
             "NBC News",
             "https://api.bing.microsoft.com/api/v7/entities/90fd2ef2-8123-de59-2b1f-ccd033454a4a"
            ],
            [
             "Israel",
             "https://api.bing.microsoft.com/api/v7/entities/1ffafed3-2b37-b871-c271-aa855d98449a"
            ],
            [
             "Hamas",
             "https://api.bing.microsoft.com/api/v7/entities/fd56a0c1-5b09-6e40-09dc-a8abf5069c30"
            ]
           ],
           "Politics",
           "2024-08-21T01:08:00.0000000Z",
           "Biden may have had an irreparable rift with young voters. Some who were turned off by him are more interested in Harris, though issues including Gaza remain sticking points.",
           [
            [
             "https://www.bing.com/th?id=OVFT.cpHMozEZHpl6nL7HbmAqYC&pid=News",
             367,
             700
            ]
           ],
           null,
           "Young voters take a new look at Harris, but some are waiting instead of committing",
           [
            [
             "Organization",
             [
              [
               "https://www.bing.com/th?id=ODF.ighWNnrr5MMFUs8WKMme2A&pid=news"
              ]
             ],
             "NBC News on MSN.com"
            ]
           ],
           "https://www.msn.com/en-us/news/other/young-voters-take-a-new-look-at-harris-but-some-are-waiting-instead-of-committing/ar-AA1p99hv",
           null
          ],
          [
           [
            [
             "Manchester United F.C.",
             "https://api.bing.microsoft.com/api/v7/entities/064ce28e-ed07-a026-2f79-1b321d7548ea"
            ],
            [
             "Scott McTominay",
             "https://api.bing.microsoft.com/api/v7/entities/0d7f1ad6-7445-be60-fae6-be8f6834b0ec"
            ],
            [
             "Christian Eriksen",
             "https://api.bing.microsoft.com/api/v7/entities/5300fd8a-fc99-435a-b1d8-3490e4228f87"
            ],
            [
             "The Red Devils",
             "https://api.bing.microsoft.com/api/v7/entities/d8dea608-ca10-ab4f-17b8-e56a4017a2c5"
            ],
            [
             "Joshua Zirkzee",
             "https://api.bing.microsoft.com/api/v7/entities/8fe167ac-7cc5-ccae-ca7f-86177823ad58"
            ],
            [
             "Matthijs de Ligt",
             "https://api.bing.microsoft.com/api/v7/entities/f9875452-9ecf-c3e6-7e46-1dbc87f172f1"
            ],
            [
             "Noussair Mazraoui",
             "https://api.bing.microsoft.com/api/v7/entities/ecdea285-86d1-ccdf-2115-a4415a845794"
            ],
            [
             "Paris Saint-Germain F.C.",
             "https://api.bing.microsoft.com/api/v7/entities/67266d4d-2667-f33f-7d3e-ae1225abff86"
            ],
            [
             "Federico Chiesa",
             "https://api.bing.microsoft.com/api/v7/entities/3ee194eb-adf7-709d-7172-2fc8d91f72a5"
            ],
            [
             "Ivan Toney",
             "https://api.bing.microsoft.com/api/v7/entities/98358ca1-1bd6-4cee-aff4-5b93c811f416"
            ],
            [
             "Ben Chilwell",
             "https://api.bing.microsoft.com/api/v7/entities/d7ca1fbb-f3df-3e53-cfa2-323dc6ffc2f4"
            ]
           ],
           "Sports",
           "2024-08-21T14:03:00.0000000Z",
           "Manchester United still have plenty of transfer business to complete in the final week of the window and could yet sign Manuel Ugarte while Scott McTominay, Christian Eriksen and Casemiro could depart",
           [
            [
             "https://www.bing.com/th?id=OVFT.LBYdNNfY8kIhGkyEitiWcC&pid=News",
             367,
             700
            ]
           ],
           null,
           "Man Utd transfer news LIVE: Medical booked, Manuel Ugarte breakthrough, United complete loan deal",
           [
            [
             "Organization",
             [
              [
               "https://www.bing.com/th?id=ODF.CWDfHbZtL9U2bsuN-kn_-w&pid=news"
              ]
             ],
             "The Mirror"
            ]
           ],
           "https://www.mirror.co.uk/sport/football/transfer-news/man-utd-transfer-news-live-33491446",
           null
          ],
          [
           null,
           null,
           "2024-08-21T14:01:00.0000000Z",
           "James Cutfield, 51, who is from New Zealand, was quizzed until late yesterday evening to help reconstruct what happened and provide useful technical details, reports the Italian news agency ANSA. His brother Mark earlier told the New Zealand Herald he was ...",
           [
            [
             "https://www.bing.com/th?id=OVFT.Z89qPj7prCz9if78PBrPuS&pid=News",
             393,
             700
            ]
           ],
           null,
           "Superyacht sinks latest: Two bodies found after superyacht sinking",
           [
            [
             "Organization",
             null,
             "Sky"
            ]
           ],
           "https://news.sky.com/story/superyacht-sinks-latest-two-bodies-found-after-superyacht-sinking-13199663",
           null
          ],
          [
           [
            [
             "Red tape",
             "https://api.bing.microsoft.com/api/v7/entities/8c2f0c5c-25f8-7b89-35d0-896f2e34cb10"
            ],
            [
             "David Seymour",
             "https://api.bing.microsoft.com/api/v7/entities/91f7fd7e-ec2a-7184-cfe2-0ae41a1f4e74"
            ],
            [
             "Green Party",
             "https://api.bing.microsoft.com/api/v7/entities/257da6f4-91db-2e8a-12f6-05f7564f1b6c"
            ],
            [
             "The Washington Post",
             "https://api.bing.microsoft.com/api/v7/entities/7802f29d-d7cc-5e6f-de8a-63a5a1a2f17f"
            ]
           ],
           "Business",
           "2024-08-21T00:44:19.0000000Z",
           "The anti-red tape department is overseen by the ACT leader, who secured its creation during coalition negotiations last year.",
           [
            [
             "https://www.bing.com/th?id=OVFT.8T_ZT9AFU_NRZyqF5ygy9C&pid=News",
             367,
             700
            ]
           ],
           [
            [
             "Public sector"
            ],
            [
             "Ministry"
            ],
            [
             "Radio New Zealand"
            ]
           ],
           "New ministry paying staff average salary of $150k despite public sector job cuts",
           [
            [
             "Organization",
             [
              [
               "https://www.bing.com/th?id=ODF.KbRIMdbKqxc2CRUKwuqxSg&pid=news"
              ]
             ],
             "rnz on MSN.com"
            ]
           ],
           "https://www.msn.com/en-nz/news/other/new-ministry-paying-staff-average-salary-of-150k-despite-public-sector-job-cuts/ar-AA1p8XpE",
           null
          ],
          [
           [
            [
             "WeTransfer",
             "https://api.bing.microsoft.com/api/v7/entities/e72d073e-df1f-40e7-b64c-44edd9d7705b"
            ]
           ],
           "ScienceAndTechnology",
           "2024-08-21T11:33:48.0000000Z",
           "Cloud-based file transfer platform WeTransfer has unveiled a new ‘Save for Later’ feature on its mobile app in a bid to address one of the platform’s biggest user frustrations – expired download links.",
           [
            [
             "https://www.bing.com/th?id=OVFT.fBm1F3cu92FG7PZA1V-Q8S&pid=News",
             393,
             700
            ]
           ],
           [
            [
             "WeTransfer"
            ],
            [
             "TechRadar"
            ],
            [
             "The gospel"
            ]
           ],
           "Good news file fans - WeTransfer links will no longer expire",
           [
            [
             "Organization",
             [
              [
               "https://www.bing.com/th?id=ODF.HUwxplx_rx0g5pzCy5_Wwg&pid=news"
              ]
             ],
             "TechRadar on MSN.com"
            ]
           ],
           "https://www.msn.com/en-us/news/technology/good-news-file-fans-wetransfer-links-will-no-longer-expire/ar-AA1pbk5K",
           null
          ],
          [
           [
            [
             "North Vancouver",
             "https://api.bing.microsoft.com/api/v7/entities/dff5cb1b-3df4-7b9b-6057-8473e9953cb2"
            ],
            [
             "Royal Canadian Mounted Police",
             "https://api.bing.microsoft.com/api/v7/entities/e0c66ab1-c3c1-2e91-675b-983872f887ef"
            ]
           ],
           "Canada",
           "2024-08-20T20:07:00.0000000Z",
           "Police in North Vancouver, B.C., say homicide investigators have been called in after a woman and girl died from falling off an apartment balcony. RCMP initially said officers responded to reports that two \"females\" had fallen from the building on East Esplanade in the city's Shipyards area at 4:30 a.m. Tuesday.",
           [
            [
             "https://www.bing.com/th?id=OVFT.xaYdLrWgR019S1k86hKXIC&pid=News",
             349,
             620
            ]
           ],
           null,
           "Homicide investigators called in after woman and girl die in North Vancouver balcony fall",
           [
            [
             "Organization",
             [
              [
               "https://www.bing.com/th?id=ODF.4NbuPrmIxu0JD126LE1gxQ&pid=news"
              ]
             ],
             "CBC.ca"
            ]
           ],
           "https://www.cbc.ca/news/canada/british-columbia/woman-and-girl-die-in-balcony-fall-1.7300061",
           null
          ],
          [
           [
            [
             "Aston Villa F.C.",
             "https://api.bing.microsoft.com/api/v7/entities/d689e389-cacc-0912-28ee-039d79661230"
            ],
            [
             "Álex Moreno",
             "https://api.bing.microsoft.com/api/v7/entities/ccba0daa-1602-52f1-5cd2-6ad22e9f95b7"
            ],
            [
             "Villa Park",
             "https://api.bing.microsoft.com/api/v7/entities/1e177ead-ba8d-0da5-91f2-f4f4f1d1b5d0"
            ],
            [
             "Amadou Onana",
             "https://api.bing.microsoft.com/api/v7/entities/1ca66a06-53cd-7959-48a4-bfdc53e7576e"
            ],
            [
             "Everton F.C.",
             "https://api.bing.microsoft.com/api/v7/entities/08c4e442-93ae-e0fe-a73b-f76f5259a171"
            ],
            [
             "Douglas Luiz",
             "https://api.bing.microsoft.com/api/v7/entities/e4d0e312-8441-3d8b-6167-12496e2b71bc"
            ],
            [
             "Moussa Diaby",
             "https://api.bing.microsoft.com/api/v7/entities/d25af0c6-d803-93ff-a62d-2bf4b96202c5"
            ],
            [
             "Unai Emery",
             "https://api.bing.microsoft.com/api/v7/entities/bdfda59a-e857-f629-caa7-aa1072c5ce90"
            ],
            [
             "Atlético Madrid",
             "https://api.bing.microsoft.com/api/v7/entities/b1132d17-4fd3-ba7d-39df-de416b1e6090"
            ],
            [
             "Premier League",
             "https://api.bing.microsoft.com/api/v7/entities/02bde011-1e9d-3aff-8309-7d07d4031798"
            ],
            [
             "Chelsea F.C.",
             "https://api.bing.microsoft.com/api/v7/entities/8346cd56-1a96-adb0-26e1-f3679d88e0ba"
            ]
           ],
           "Sports",
           "2024-08-21T06:15:00.0000000Z",
           "Aston Villa have confirmed Lamare Bogarde has signed a new contract with the club. The 20-year-old is highly-rated by Unai Emery, who used him in each of the club's even pre-season friendlies. Bogarde impressed in defence and in a holding midfield role earlier this summer.",
           [
            [
             "https://www.bing.com/th?id=OVFT.AcMIIgk-gkK3Yn74tqkq2y&pid=News",
             367,
             700
            ]
           ],
           null,
           "Aston Villa transfer news live Joe Gomez twist, Alex Moreno medical, Samuel Iling-Junior latest",
           [
            [
             "Organization",
             [
              [
               "https://www.bing.com/th?id=ODF.jPou0vlDKt0Px6h21V_3rw&pid=news"
              ]
             ],
             "Birmingham Mail"
            ]
           ],
           "https://www.birminghammail.co.uk/sport/football/transfer-news/villa-transfers-live-iling-junior-29773450",
           null
          ],
          [
           [
            [
             "Travis Kelce",
             "https://api.bing.microsoft.com/api/v7/entities/4e917ff4-3613-42f8-bf79-9c12138e3ede"
            ],
            [
             "John Wick",
             "https://api.bing.microsoft.com/api/v7/entities/91048ec5-4775-4ea1-bbfb-8c396a2246c1"
            ],
            [
             "Loose Cannons",
             "https://api.bing.microsoft.com/api/v7/entities/2d0a8549-d969-fcc7-2aa5-6e1eca5119b6"
            ],
            [
             "Taylor Swift",
             "https://api.bing.microsoft.com/api/v7/entities/98004a38-a3ea-b902-b6d3-687b30b54353"
            ],
            [
             "Deadline Hollywood",
             "https://api.bing.microsoft.com/api/v7/entities/8487dbc3-435c-5296-821c-8a2a66840e9c"
            ],
            [
             "Lionsgate",
             "https://api.bing.microsoft.com/api/v7/entities/addd91f2-9d74-ed59-8f80-40991e39127c"
            ],
            [
             "Pixels",
             "https://api.bing.microsoft.com/api/v7/entities/17e0a910-504b-87ad-32ec-550f6cb9fd94"
            ],
            [
             "Chad Stahelski",
             "https://api.bing.microsoft.com/api/v7/entities/08c3b9bd-7bee-dc90-fcf7-b4805cf74dc1"
            ],
            [
             "Alex Young",
             "https://api.bing.microsoft.com/api/v7/entities/8ae9c6bf-bb29-1987-1785-81e1678975cc"
            ]
           ],
           "Entertainment",
           "2024-08-21T08:47:35.0000000Z",
           "Travis Kelce is reportedly set to star in new comedy Loose Cannons. The NFL star - who is dating Anti-Hero hitmaker Taylor Swift - is making the jump to Hollywood and may have landed his first big screen acting role.",
           [
            [
             "https://www.bing.com/th?id=OVFT.CRHhARBhHyjiHoCbrrfKTi&pid=News",
             367,
             700
            ]
           ],
           [
            [
             "Travis Kelce"
            ],
            [
             "Manchester Evening News"
            ],
            [
             "Comedy"
            ]
           ],
           "Travis Kelce in talks to front new action comedy from John Wick producers",
           [
            [
             "Organization",
             [
              [
               "https://www.bing.com/th?id=ODF.oxaa8-w2MDoXi5yOUu7A3w&pid=news"
              ]
             ],
             "Manchester Evening News on MSN.com"
            ]
           ],
           "https://www.msn.com/en-gb/news/newsmanchester/travis-kelce-in-talks-to-front-new-action-comedy-from-john-wick-producers/ar-AA1paehQ",
           null
          ],
          [
           [
            [
             "CNN",
             "https://api.bing.microsoft.com/api/v7/entities/c4c637e5-f9cc-a3ed-3380-7152515e062e"
            ],
            [
             "Mediterranean climate",
             "https://api.bing.microsoft.com/api/v7/entities/bf1c93f2-9a1f-517d-2cd6-159b79fff257"
            ],
            [
             "Type 2 diabetes",
             "https://api.bing.microsoft.com/api/v7/entities/83426981-8501-0894-eae9-3f11a06bf89f"
            ],
            [
             "University of Cambridge",
             "https://api.bing.microsoft.com/api/v7/entities/92a4946b-bd44-dad3-15c3-14c37ab8894e"
            ]
           ],
           "LifeStyle",
           "2024-08-20T23:34:12.0000000Z",
           "Many people are trying to cut back on red and processed meat for heart health or environmental reasons. A new global study shows another good reason.",
           [
            [
             "https://www.bing.com/th?id=OVFT.HZ-KKLVQgNIi-t10Nn9gpy&pid=News",
             393,
             700
            ]
           ],
           null,
           "There is a link between the meat you eat and a chronic disease, according to new research",
           [
            [
             "Organization",
             [
              [
               "https://www.bing.com/th?id=ODF.t0BGYosS4GKZSebCajKQGA&pid=news"
              ]
             ],
             "CNN on MSN.com"
            ]
           ],
           "https://www.msn.com/en-us/health/other/global-study-shows-the-link-between-red-and-processed-meats-and-type-2-diabetes/ar-AA1p8FPI",
           [
            null,
            null,
            "Global study shows the link between red and processed meats and type 2 diabetes",
            [
             292,
             520
            ],
            "https://www.bing.com/th?id=OVF.hPOtjHufEraNH1owqr32tQ&pid=News"
           ]
          ],
          [
           [
            [
             "New Mexico State University",
             "https://api.bing.microsoft.com/api/v7/entities/e3d88a51-9b7a-0d6d-98c6-5d5766648030"
            ],
            [
             "Tailgating",
             "https://api.bing.microsoft.com/api/v7/entities/e8af03e2-58ba-632f-44d7-9b33d3ce3c97"
            ],
            [
             "Albuquerque, New Mexico",
             "https://api.bing.microsoft.com/api/v7/entities/7fffaaf6-e694-4095-be90-f6492cadbd58"
            ]
           ],
           "LifeStyle",
           "2024-08-20T22:18:33.0000000Z",
           "Changes are coming to New Mexico State University’s tailgating rules this football season. Parking lots will shut down two hours after the game or at midnight, whichever comes sooner. For the non-student lots,",
           [
            [
             "https://www.bing.com/th?id=OVFT.RQtsGpt1lmQE2r7GoEiRyS&pid=News",
             394,
             700
            ]
           ],
           [
            [
             "New Mexico State University"
            ],
            [
             "Tailgate party"
            ],
            [
             "Leysin American School"
            ]
           ],
           "New Mexico State University updates tailgating rules",
           [
            [
             "Organization",
             [
              [
               "https://www.bing.com/th?id=ODF.ZWWEWocRXnzJRhsSxEV2vQ&pid=news"
              ]
             ],
             "KRQE Albuquerque on MSN.com"
            ]
           ],
           "https://www.msn.com/en-us/news/technology/new-mexico-state-university-updates-tailgating-rules/ar-AA1p8YwW",
           null
          ],
          [
           [
            [
             "ITV News",
             "https://api.bing.microsoft.com/api/v7/entities/cebdf159-e6b1-8366-f641-3dc397442550"
            ],
            [
             "Channel Islands",
             "https://api.bing.microsoft.com/api/v7/entities/c7410b83-1066-f7e4-42ce-3a692f04388a"
            ]
           ],
           null,
           "2024-08-20T17:00:00.0000000Z",
           "Tue 20 Aug 6pm • Watch the latest ITV News programme from the Channel Islands for 24 hours after broadcast on ITVX. Viewing may be restricted in some countries due to licensing.",
           [
            [
             "https://www.bing.com/th?id=OVFT.sjyBOPvhnbo1Fmq9gGq6xC&pid=News",
             393,
             700
            ]
           ],
           null,
           "Catch up on ITV News Channel from Tuesday 20th August",
           [
            [
             "Organization",
             [
              [
               "https://www.bing.com/th?id=ODF.HlKTyCgM99pRvmITMdZC2w&pid=news"
              ]
             ],
             "ITV"
            ]
           ],
           "https://www.itv.com/watch/news/catch-up-on-itv-news-channel-from-tuesday-20th-august/4b1d46n",
           null
          ],
          [
           [
            [
             "Giorgi Mamardashvili",
             "https://api.bing.microsoft.com/api/v7/entities/3fea8e15-30d3-d9d4-f374-612a263a3317"
            ],
            [
             "Liverpool F.C.",
             "https://api.bing.microsoft.com/api/v7/entities/8d437035-df45-5e15-5868-05ded77dd0cf"
            ],
            [
             "Anfield",
             "https://api.bing.microsoft.com/api/v7/entities/19e4bd56-f843-2ecf-1219-f4dfc0317663"
            ],
            [
             "Anthony Gordon",
             "https://api.bing.microsoft.com/api/v7/entities/cc1355ae-3b3d-23ed-73ba-5a7c4c841450"
            ],
            [
             "Atalanta B.C.",
             "https://api.bing.microsoft.com/api/v7/entities/8d74476a-a36b-a243-e892-419928cc4e39"
            ],
            [
             "Ederson",
             "https://api.bing.microsoft.com/api/v7/entities/13af31b2-a3e9-c5e4-19c9-259871b0fb65"
            ],
            [
             "S.S.C. Napoli",
             "https://api.bing.microsoft.com/api/v7/entities/754ddace-80f4-708a-0cba-a226529ff93b"
            ],
            [
             "Khvicha Kvaratskhelia",
             "https://api.bing.microsoft.com/api/v7/entities/ac76d04c-7db4-0d90-0393-7a141d867156"
            ],
            [
             "Arne Slot",
             "https://api.bing.microsoft.com/api/v7/entities/486f7116-76a2-6b5f-b011-99872e3824a1"
            ],
            [
             "UEFA Euro 2024",
             "https://api.bing.microsoft.com/api/v7/entities/f6e2741f-875b-c715-a38b-74198e2edbc6"
            ]
           ],
           "Sports",
           "2024-08-21T13:00:00.0000000Z",
           "Judging by the way FSG continue to do their transfer business that seems very unlikely. Get all the latest Liverpool breaking news, team news, transfer rumours, injury updates plus analysis of what's next for the Reds. You'll also get the latest transfer ...",
           [
            [
             "https://www.bing.com/th?id=OVFT.81S1Mvg2v8PTBPIYYo7BES&pid=News",
             367,
             700
            ]
           ],
           [
            [
             "Transfer"
            ],
            [
             "Spell"
            ],
            [
             "Liverpool Echo"
            ]
           ],
           "Giorgi Mamardashvili transfer spells a bold new era, but what's wrong with the old one?",
           [
            [
             "Organization",
             null,
             "Liverpool Echo on MSN.com"
            ]
           ],
           "https://www.msn.com/en-gb/news/newsliverpool/giorgi-mamardashvili-transfer-spells-a-bold-new-era-but-whats-wrong-with-the-old-one/ar-AA1pbmes",
           null
          ],
          [
           [
            [
             "North Northamptonshire",
             "https://api.bing.microsoft.com/api/v7/entities/51c52fe2-4327-791c-2995-7d2e8a75cdf4"
            ],
            [
             "Department for Education",
             "https://api.bing.microsoft.com/api/v7/entities/2f8a8d0c-8aab-4329-74cb-1abb43f237c8"
            ],
            [
             "Northamptonshire",
             "https://api.bing.microsoft.com/api/v7/entities/6b5ff743-48aa-7f30-4bfe-97eeede8e6fa"
            ],
            [
             "BBC Sounds",
             "https://api.bing.microsoft.com/api/v7/entities/cec9c447-6c68-e3df-c11a-2c4eba4db6b8"
            ],
            [
             "Instagram",
             "https://api.bing.microsoft.com/api/v7/entities/a2113d26-7976-df57-241f-77b7bbb1b4f7"
            ],
            [
             "X",
             "https://api.bing.microsoft.com/api/v7/entities/860dea43-a2c0-7912-8370-4ef51face341"
            ]
           ],
           null,
           "2024-08-21T11:28:00.0000000Z",
           "Two new permanent classrooms at a special school will be open in time for the new school year. Rowan Gate Primary School in Wellingborough, Northamptonshire, has unveiled a permanent building to replace two temporary classrooms. The building, which cost £1.6m, will cater for 140 pupils and will provide them with more space.",
           [
            [
             "https://www.bing.com/th?id=OVFT.voyrARNduj5JVuR7Pr3RVC&pid=News",
             393,
             700
            ]
           ],
           null,
           "Special school's new classrooms ready for September",
           [
            [
             "Organization",
             [
              [
               "https://www.bing.com/th?id=ODF.yhngt24TSWuyw3ur0Pt3WQ&pid=news"
              ]
             ],
             "BBC"
            ]
           ],
           "https://www.bbc.co.uk/news/articles/clylrn0z870o",
           null
          ],
          [
           [
            [
             "Florida",
             "https://api.bing.microsoft.com/api/v7/entities/5fece3f4-e8e8-4159-843e-f725a930ad50"
            ],
            [
             "New Jersey",
             "https://api.bing.microsoft.com/api/v7/entities/05277898-b62b-4878-8632-09d29756a2ff"
            ],
            [
             "Acid attack",
             "https://api.bing.microsoft.com/api/v7/entities/17b8d6ee-4252-c533-c16c-77c0d414e308"
            ],
            [
             "CNN",
             "https://api.bing.microsoft.com/api/v7/entities/c4c637e5-f9cc-a3ed-3380-7152515e062e"
            ],
            [
             "KYW",
             "https://api.bing.microsoft.com/api/v7/entities/51fbd9d8-5815-c4ae-6c48-7f31ea6380b1"
            ]
           ],
           null,
           "2024-08-21T05:26:56.0000000Z",
           "Three Florida residents have been arrested in connection to an apparent acid attack on a New Jersey woman who suffered burns to more than 35% of her body, according to a Gloucester County Prosecutor’s Office press release obtained by CNN affiliate KYW.",
           [
            [
             "https://www.bing.com/th?id=OVFT.CguLSXg0gEDJttpRX2xIFy&pid=News",
             393,
             700
            ]
           ],
           null,
           "Florida trio charged in apparent acid attack that left a New Jersey woman with burns to a third of her body, prosecutors say",
           [
            [
             "Organization",
             [
              [
               "https://www.bing.com/th?id=ODF.t0BGYosS4GKZSebCajKQGA&pid=news"
              ]
             ],
             "CNN on MSN.com"
            ]
           ],
           "https://www.msn.com/en-us/news/crime/florida-trio-charged-in-apparent-acid-attack-that-left-a-new-jersey-woman-with-burns-to-a-third-of-her-body-prosecutors-say/ar-AA1p9NUt",
           null
          ],
          [
           [
            [
             "Democratic National Committee",
             "https://api.bing.microsoft.com/api/v7/entities/8a519bbe-c1a3-a5d0-c9ea-91fdeae7ba80"
            ],
            [
             "Chicago",
             "https://api.bing.microsoft.com/api/v7/entities/28deeb39-ca49-4bd4-913b-929b1de4b25b"
            ],
            [
             "Democratic National Convention",
             "https://api.bing.microsoft.com/api/v7/entities/eb5f527b-1e2d-86c2-e55c-1fc837f43499"
            ],
            [
             "Washington Boulevard",
             "https://api.bing.microsoft.com/api/v7/entities/712670b4-9af8-86ab-9b27-95855b897f05"
            ],
            [
             "Israel",
             "https://api.bing.microsoft.com/api/v7/entities/1ffafed3-2b37-b871-c271-aa855d98449a"
            ],
            [
             "Hamas",
             "https://api.bing.microsoft.com/api/v7/entities/fd56a0c1-5b09-6e40-09dc-a8abf5069c30"
            ],
            [
             "United Center",
             "https://api.bing.microsoft.com/api/v7/entities/70ad5c21-b753-597d-414d-3804d0423499"
            ]
           ],
           "World",
           "2024-08-21T02:51:38.0000000Z",
           "Chicago crews installed an additional line of security fences outside the Democratic National Convention early Tuesday in the area where, a day earlier, demonstrators breached an outer perimeter fence.",
           [
            [
             "https://www.bing.com/th?id=OVFT.hbHbI2c2123-8Znm28xhtC&pid=News",
             393,
             700
            ]
           ],
           null,
           "New fencing goes up outside DNC a day after pro-Palestinian protesters breach outer barrier",
           [
            [
             "Organization",
             [
              [
               "https://www.bing.com/th?id=ODF.t0BGYosS4GKZSebCajKQGA&pid=news"
              ]
             ],
             "CNN on MSN.com"
            ]
           ],
           "https://www.msn.com/en-us/news/us/new-fencing-goes-up-outside-dnc-a-day-after-pro-palestinian-protesters-breach-outer-barrier/ar-AA1p7z1G",
           null
          ],
          [
           [
            [
             "Lewis Hamilton",
             "https://api.bing.microsoft.com/api/v7/entities/afd8d17d-2960-d4d6-3ee3-cbb7ad7d515e"
            ],
            [
             "Formula One",
             "https://api.bing.microsoft.com/api/v7/entities/b7a76276-375a-718b-52d9-49eae9b263a4"
            ],
            [
             "Valtteri Bottas",
             "https://api.bing.microsoft.com/api/v7/entities/842c17fe-ff41-4769-2eea-658e7e58d1cc"
            ],
            [
             "New York Red Bulls",
             "https://api.bing.microsoft.com/api/v7/entities/74ef7974-937a-e25a-9594-1c3182e17252"
            ]
           ],
           "Sports",
           "2024-08-20T22:00:00.0000000Z",
           "Your F1 news round-up is here, with Lewis Hamilton having made a prediction for the rest of the 2024 season that should get our excitement up. As ever, there is a lot to get through, so let’s not waste any more time,",
           [
            [
             "https://www.bing.com/th?id=OVFT.VAsQYTvTlLlbg2V6Bae2CC&pid=News",
             367,
             700
            ]
           ],
           [
            [
             "Lewis Hamilton"
            ],
            [
             "Valtteri Bottas"
            ],
            [
             "Formula One"
            ]
           ],
           "Lewis Hamilton’s latest F1 prediction with Valtteri Bottas at centre of intense criticism – round-up",
           [
            [
             "Organization",
             [
              [
               "https://www.bing.com/th?id=ODF.AH4i8E8I1buqt0fbc5gOAw&pid=news"
              ]
             ],
             "PlanetF1.com on MSN.com"
            ]
           ],
           "https://www.msn.com/en-us/sports/other/lewis-hamilton-s-latest-f1-prediction-with-valtteri-bottas-at-centre-of-intense-criticism-round-up/ar-AA1p8EDh",
           null
          ],
          [
           [
            [
             "Nigeria",
             "https://api.bing.microsoft.com/api/v7/entities/f8afbbd6-9c3e-02be-7cb2-eac695e2da02"
            ],
            [
             "Nigerians",
             "https://api.bing.microsoft.com/api/v7/entities/9fbd769b-30f1-fedc-4ffc-7d451aada1de"
            ],
            [
             "France",
             "https://api.bing.microsoft.com/api/v7/entities/c7bfe2de-4f82-e23c-ae42-8544b5b5c0ea"
            ],
            [
             "Airbus A330",
             "https://api.bing.microsoft.com/api/v7/entities/cf401561-d848-d8f3-8d4c-22380168287b"
            ]
           ],
           "World",
           "2024-08-21T12:09:00.0000000Z",
           "Many Nigerians have reacted with outrage after a new plane was bought for President Bola Tinubu at a time when the economy is experiencing its worst crisis in a generation. The purchase comes less than two weeks after thousands took to the streets across ...",
           [
            [
             "https://www.bing.com/th?id=OVFT.7C_HHcyp6aVl_XCvSSw24i&pid=News",
             393,
             700
            ]
           ],
           null,
           "Nigerians outraged by president’s new plane",
           [
            [
             "Organization",
             null,
             "BBC"
            ]
           ],
           "https://www.bbc.co.uk/news/articles/cy4ydd2x5x2o",
           null
          ],
          [
           [
            [
             "George Floyd",
             "https://api.bing.microsoft.com/api/v7/entities/c78e0e6e-3b43-9e12-66d6-6466c9cbce54"
            ],
            [
             "Minneapolis",
             "https://api.bing.microsoft.com/api/v7/entities/def03125-42ba-47cd-8061-ee55f5c63e67"
            ],
            [
             "Derek Chauvin",
             "https://api.bing.microsoft.com/api/v7/entities/ddde2ddf-199d-9311-b135-336828a27f08"
            ],
            [
             "Federal Bureau of Prisons",
             "https://api.bing.microsoft.com/api/v7/entities/bdca07d5-27a0-917c-5506-de6deeddf20c"
            ],
            [
             "Associated Press",
             "https://api.bing.microsoft.com/api/v7/entities/b2843a2b-80fd-2fa0-10d0-97b51563ffcb"
            ],
            [
             "Federal Correctional Institution, Big Spring",
             "https://api.bing.microsoft.com/api/v7/entities/ab3d4589-8104-8664-1f4e-46c139e8fb09"
            ],
            [
             "Federal Bureau of Investigation",
             "https://api.bing.microsoft.com/api/v7/entities/e470e552-d479-42f9-dff4-a15995402e33"
            ]
           ],
           null,
           "2024-08-21T07:42:00.0000000Z",
           "Derek Chauvin was transferred to a federal prison in Texas almost nine months after he was stabbed in a different facility.",
           [
            [
             "https://www.bing.com/th?id=OVFT.7q4qAgScsd6ip4f8SNU7bC&pid=News",
             700,
             639
            ]
           ],
           null,
           "Ex-officer convicted in George Floyd’s killing is moved to new prison months after stabbing",
           [
            [
             "Organization",
             [
              [
               "https://www.bing.com/th?id=ODF.AlMAEy7MoWNz0OI_xSWQiw&pid=news"
              ]
             ],
             "The Associated Press on MSN.com"
            ]
           ],
           "https://www.msn.com/en-us/news/crime/ex-officer-convicted-in-george-floyd-s-killing-is-moved-to-new-prison-months-after-stabbing/ar-AA1p8hcT",
           null
          ],
          [
           null,
           "ScienceAndTechnology",
           "2024-08-20T15:06:08.0000000Z",
           "International publishers are overtaking local news brands in Google's Top stories, raising questions about search relevance.",
           null,
           [
            [
             "Google"
            ],
            [
             "United States"
            ],
            [
             "Search Engine Optimization"
            ]
           ],
           "Google’s Top stories looks broken: Are news publishers to blame?",
           [
            [
             "Organization",
             [
              [
               "https://www.bing.com/th?id=ODF.4QeTEYHGoXPpi_CNzqJApQ&pid=news"
              ]
             ],
             "Search Engine Land on MSN.com"
            ]
           ],
           "https://www.msn.com/en-us/news/technology/google-s-top-stories-looks-broken-are-news-publishers-to-blame/ar-AA1p7F2f",
           null
          ],
          [
           [
            [
             "Jeremy Clarkson",
             "https://api.bing.microsoft.com/api/v7/entities/ddc9900f-d3d1-a052-0176-298795c71eea"
            ],
            [
             "Cotswolds",
             "https://api.bing.microsoft.com/api/v7/entities/ad6d3d8f-f997-84f9-b85b-2e8d230e869e"
            ],
            [
             "Top Gear",
             "https://api.bing.microsoft.com/api/v7/entities/684e1cfe-24e4-56d2-5280-79a9f735d4c0"
            ],
            [
             "Oxfordshire",
             "https://api.bing.microsoft.com/api/v7/entities/1eda598d-62bc-9a62-5694-ee4472f8dcf5"
            ],
            [
             "A40 road",
             "https://api.bing.microsoft.com/api/v7/entities/6a526ebc-09bd-492b-2013-34b15eff861e"
            ],
            [
             "Burford",
             "https://api.bing.microsoft.com/api/v7/entities/656326ab-f57e-e678-ef3b-bc3ecf4fcca2"
            ]
           ],
           null,
           "2024-08-21T12:24:00.0000000Z",
           "Jeremy Clarkson has revealed his new pub will open its doors to the public for the first time on Friday - and that the boozer has a new name. The former Top Gear presenter, 64, announced The Farmers Dog, in Oxfordshire will be ready just in time for the ...",
           [
            [
             "https://www.bing.com/th?id=OVFT.3chxsk0zOuDA6CRPMMUjwC&pid=News",
             393,
             700
            ]
           ],
           null,
           "Jeremy Clarkson announces his new Cotswolds pub will open this Friday and renames it 'The Farmer's Dog' - as presenter reveals plans for second Diddly Squat Farm Shop",
           [
            [
             "Organization",
             null,
             "Daily Mail"
            ]
           ],
           "https://www.dailymail.co.uk/news/article-13765077/Jeremy-Clarksons-new-pub-Farmers-Dog-open-Friday.html",
           null
          ],
          [
           [
            [
             "Italy",
             "https://api.bing.microsoft.com/api/v7/entities/09e8f885-427b-8850-947d-202e0287b9e8"
            ],
            [
             "Clifford Chance",
             "https://api.bing.microsoft.com/api/v7/entities/97aad71a-30da-1d4d-ca3c-70ec80964c97"
            ]
           ],
           null,
           "2024-08-20T20:25:00.0000000Z",
           "Along with everyone else, we’re devastated by the news out of Italy concerning the ship. Our thoughts and prayers are with Chris’ family,” Elkan Abramowitz said.",
           [
            [
             "https://www.bing.com/th?id=OVFT.SNfjQJptmiZmQH85-9VM0y&pid=News",
             577,
             700
            ]
           ],
           null,
           "New York Lawyers 'Stunned and Devastated' Over Chris Morvillo Disappearance",
           [
            [
             "Organization",
             [
              [
               "https://www.bing.com/th?id=ODF.0zEurQ1YsrHCOmHwthImcQ&pid=news"
              ]
             ],
             "Law"
            ]
           ],
           "https://www.law.com/newyorklawjournal/2024/08/20/new-york-lawyers-stunned-and-devastated-over-chris-morvillo-disappearance/",
           null
          ],
          [
           [
            [
             "Donald Trump",
             "https://api.bing.microsoft.com/api/v7/entities/1a466af2-ed23-25bd-794d-1ca925e4681b"
            ],
            [
             "Taylor Swift",
             "https://api.bing.microsoft.com/api/v7/entities/98004a38-a3ea-b902-b6d3-687b30b54353"
            ],
            [
             "Chicago",
             "https://api.bing.microsoft.com/api/v7/entities/28deeb39-ca49-4bd4-913b-929b1de4b25b"
            ],
            [
             "Democratic National Convention",
             "https://api.bing.microsoft.com/api/v7/entities/eb5f527b-1e2d-86c2-e55c-1fc837f43499"
            ],
            [
             "Kamala Harris",
             "https://api.bing.microsoft.com/api/v7/entities/ef5cf66f-32b7-7271-286a-8e8313eda5c5"
            ],
            [
             "Tech Billionaires: Elon Musk",
             "https://api.bing.microsoft.com/api/v7/entities/c4fad87c-d4f0-ef0d-af23-19b1996e3053"
            ],
            [
             "Artificial intelligence",
             "https://api.bing.microsoft.com/api/v7/entities/9d99fb44-edac-0e03-1579-19d8d8591a49"
            ]
           ],
           "Politics",
           "2024-08-20T19:50:00.0000000Z",
           "Former President Donald Trump has been active on his social accounts as Democrats gather for their convention in Chicago, but many of his posts don’t have much to do with reality.",
           [
            [
             "https://www.bing.com/th?id=OVFT.8Wi-hOtIEoVH-QOlbnXtNS&pid=News",
             367,
             700
            ]
           ],
           null,
           "Trump’s post of fake Taylor Swift endorsement is his latest embrace of AI-generated images",
           [
            [
             "Organization",
             [
              [
               "https://www.bing.com/th?id=ODF.AlMAEy7MoWNz0OI_xSWQiw&pid=news"
              ]
             ],
             "The Associated Press on MSN.com"
            ]
           ],
           "https://www.msn.com/en-us/news/politics/trump-s-post-of-fake-taylor-swift-endorsement-is-his-latest-embrace-of-ai-generated-images/ar-AA1p8ugH",
           null
          ],
          [
           [
            [
             "Donald Trump",
             "https://api.bing.microsoft.com/api/v7/entities/1a466af2-ed23-25bd-794d-1ca925e4681b"
            ],
            [
             "Leonardo DiCaprio",
             "https://api.bing.microsoft.com/api/v7/entities/5f2c4ac2-d77a-474e-4580-c76549d4fce5"
            ],
            [
             "Diana, Princess of Wales",
             "https://api.bing.microsoft.com/api/v7/entities/f4bf63ea-0b6c-58e0-4587-64927290483f"
            ],
            [
             "The Cheesecake Factory",
             "https://api.bing.microsoft.com/api/v7/entities/513ac470-7772-1f4d-d4e1-2b4a6111ff19"
            ],
            [
             "AMC",
             "https://api.bing.microsoft.com/api/v7/entities/c8f09f18-1dfb-b3c6-3daf-259b82271e22"
            ],
            [
             "The Grove",
             "https://api.bing.microsoft.com/api/v7/entities/43e17dc7-c6c0-4009-ab03-44310e26b258"
            ]
           ],
           null,
           "2024-08-20T16:29:00.0000000Z",
           "Donald Trump said he's only going to speak behind bullet-proof glass at outdoor rallies after that failed assassination attempt. Now, a picture of him speaking behind glass on the 4th of July 2019 is going viral. 10 year-old me: I’m going to marry Leonardo DiCaprio my Princess Diana beanie baby: pic.twitter.com/Dni3Pfg9f8",
           [
            [
             "https://www.bing.com/th?id=OVFT.5zc_9oceXEQ-NDjhBu09hC&pid=News",
             464,
             700
            ]
           ],
           null,
           "This Picture Of Donald Trump Behind Bullet-Proof Glass Is Now A Unintentionally Hilarious New Meme",
           [
            [
             "Organization",
             [
              [
               "https://www.bing.com/th?id=ODF.zvLEjo304eZajOqoKLxUtA&pid=news"
              ]
             ],
             "Yahoo News Canada"
            ]
           ],
           "https://ca.yahoo.com/news/picture-donald-trump-behind-bullet-162934848.html",
           null
          ],
          [
           [
            [
             "Stimulus",
             "https://api.bing.microsoft.com/api/v7/entities/a20531eb-e559-ec38-f785-ccfe7eded6f7"
            ],
            [
             "Alaska",
             "https://api.bing.microsoft.com/api/v7/entities/31c4c7a1-54e7-4306-ac9b-f1b02e85bda5"
            ]
           ],
           "Business",
           "2024-08-21T12:24:00.0000000Z",
           "Alaskans will receive $1300 stimulus checks, offering crucial financial support amid global economic difficulties. This payment comes as part of the state's Permanent Fund Dividend (PFD) program, designed to provide ongoing economic benefits to residents ...",
           [
            [
             "https://www.bing.com/th?id=OVFT.szrqyOBn23c_lD3hELsFhS&pid=News",
             466,
             700
            ]
           ],
           null,
           "1312 Stimulus Payment Eligibility: A new $1312 payment is coming next month, are you eligible to get it?",
           [
            [
             "Organization",
             null,
             "MARCA"
            ]
           ],
           "https://www.marca.com/en/lifestyle/us-news/personal-finance/2024/08/21/66c5d1e046163f57778b45b7.html",
           null
          ],
          [
           [
            [
             "Andrew Tate",
             "https://api.bing.microsoft.com/api/v7/entities/41f247b0-02b9-c01d-3fb2-f794db91e9c4"
            ],
            [
             "Romania",
             "https://api.bing.microsoft.com/api/v7/entities/0cc489d5-ff53-84f1-4fcc-76525efef33a"
            ],
            [
             "Human trafficking",
             "https://api.bing.microsoft.com/api/v7/entities/8e68768e-ecd5-4bf5-b732-28df9390a5e9"
            ],
            [
             "Rape",
             "https://api.bing.microsoft.com/api/v7/entities/0cdc95b4-903a-9c9c-ad30-233321b50d1b"
            ],
            [
             "Bucharest",
             "https://api.bing.microsoft.com/api/v7/entities/42022f97-112e-58a6-70f5-9536b20ee957"
            ],
            [
             "Ilfov County",
             "https://api.bing.microsoft.com/api/v7/entities/d6b13ffc-3490-2609-746c-5b9daf56e5ee"
            ]
           ],
           "World",
           "2024-08-21T08:01:00.0000000Z",
           "Dozens of police officers and forensic personnel were scouring Tate’s large property on the edge of the capital Bucharest.",
           [
            [
             "https://www.bing.com/th?id=OVFT.mTc07i_DZeeWpdB-0qGQVy&pid=News",
             466,
             700
            ]
           ],
           null,
           "Police raid Andrew Tate’s home in Romania as new allegations emerge involving minors",
           [
            [
             "Organization",
             [
              [
               "https://www.bing.com/th?id=ODF.AlMAEy7MoWNz0OI_xSWQiw&pid=news"
              ]
             ],
             "The Associated Press - Business News on MSN.com"
            ]
           ],
           "https://www.msn.com/en-us/news/crime/police-raid-andrew-tates-home-in-romania-as-new-allegations-emerge-involving-minors/ar-AA1pabHH",
           null
          ],
          [
           [
            [
             "Raheem Sterling",
             "https://api.bing.microsoft.com/api/v7/entities/2c5f2a39-135c-560d-575f-dd7424d4ce82"
            ],
            [
             "Chelsea F.C.",
             "https://api.bing.microsoft.com/api/v7/entities/8346cd56-1a96-adb0-26e1-f3679d88e0ba"
            ],
            [
             "Enzo Maresca",
             "https://api.bing.microsoft.com/api/v7/entities/57f409e7-f3be-4c3f-89a8-adb2b541771b"
            ],
            [
             "Manchester City F.C.",
             "https://api.bing.microsoft.com/api/v7/entities/8b357e7d-2cd9-6ebf-30d5-6794f62ce637"
            ],
            [
             "England",
             "https://api.bing.microsoft.com/api/v7/entities/280d39e8-7217-6863-6980-a8c20c211c89"
            ],
            [
             "UEFA",
             "https://api.bing.microsoft.com/api/v7/entities/bfd4adbc-7bef-3f42-8d9f-ea01eff9724b"
            ],
            [
             "Tosin Adarabioyo",
             "https://api.bing.microsoft.com/api/v7/entities/4455aa90-9467-adad-ec92-ac8477ce200b"
            ]
           ],
           "Sports",
           "2024-08-21T08:51:00.0000000Z",
           "Raheem Sterling’s Chelsea future has been called into question yet again after being left out of their squad to face Servette. It is is the second game in a row that Sterling has been axed",
           [
            [
             "https://www.bing.com/th?id=OVFT.125GyMFOaI79S7q5wee39i&pid=News",
             240,
             360
            ]
           ],
           null,
           "Raheem Sterling in new Chelsea low ahead of Europa Conference League clash with Servette as winger seeks ‘clarity’ over future",
           [
            [
             "Organization",
             [
              [
               "https://www.bing.com/th?id=ODF.1J7u2N62JGb2VrnCRlJIrw&pid=news"
              ]
             ],
             "Talksport"
            ]
           ],
           "https://talksport.com/football/2016586/chelsea-raheem-sterling-axed-squad-servette/",
           null
          ],
          [
           [
            [
             "Connecticut",
             "https://api.bing.microsoft.com/api/v7/entities/b3ca6523-435e-4a3b-8f78-1ad900a52cf8"
            ],
            [
             "New York",
             "https://api.bing.microsoft.com/api/v7/entities/caeb7b9a-f5d7-4686-8fb5-cf7628296b13"
            ],
            [
             "Long Island",
             "https://api.bing.microsoft.com/api/v7/entities/ef0c0f37-bad2-bd1a-ad90-888ea76346bb"
            ],
            [
             "National Weather Service",
             "https://api.bing.microsoft.com/api/v7/entities/94765d39-8736-70dc-4819-8ed777a628f0"
            ]
           ],
           null,
           "2024-08-20T14:53:00.0000000Z",
           "The long and costly recovery effort has begun in Connecticut and New York after historic flooding caused sweeping damage over the weekend.",
           [
            [
             "https://www.bing.com/th?id=OVFT.QYEhaDqKNF6mcFrPntmwkS&pid=News",
             393,
             700
            ]
           ],
           null,
           "Long recovery underway after deadly and destructive floods ravage Connecticut, New York",
           [
            [
             "Organization",
             [
              [
               "https://www.bing.com/th?id=ODF.m1iod5ODNIyyKu23kGIllQ&pid=news"
              ]
             ],
             "USA Today"
            ]
           ],
           "https://www.usatoday.com/story/news/nation/2024/08/20/connecticut-ny-flooding-recovery/74868830007/",
           null
          ],
          [
           [
            [
             "Norwich",
             "https://api.bing.microsoft.com/api/v7/entities/984fdffb-7ef3-de93-5b19-44454e228884"
            ]
           ],
           null,
           "2024-08-21T05:47:44.0000000Z",
           "Gemma Hyde, from Norwich's Castle Quarter shopping centre, wants to help families who cannot afford new uniforms.",
           [
            [
             "https://www.bing.com/th?id=OVFT.9H0g3ziXxwQAvQEZdJYC4C&pid=News",
             393,
             700
            ]
           ],
           [
            [
             "Free school"
            ],
            [
             "School uniform"
            ],
            [
             "Pop-up ad"
            ]
           ],
           "Free school uniform 'pop-up' to ease cost of new term",
           [
            [
             "Organization",
             [
              [
               "https://www.bing.com/th?id=ODF.k3N4DqozNjgK376rAnFmsA&pid=news"
              ]
             ],
             "BBC on MSN.com"
            ]
           ],
           "https://www.msn.com/en-us/news/world/free-school-uniform-pop-up-to-ease-cost-of-new-term/ar-AA1p9J8f",
           null
          ],
          [
           [
            [
             "Libya",
             "https://api.bing.microsoft.com/api/v7/entities/b4e5604e-361e-ab37-6516-4cf5580a04aa"
            ]
           ],
           null,
           "2024-08-21T13:25:00.0000000Z",
           "Home Affairs minister Leon Schreiber says that “the system will always be down” at this department unless it takes a page out of SARS’ book.",
           [
            [
             "https://www.bing.com/th?id=OVFT.aXKlyww6SuBIGM_5M90VTC&pid=News",
             393,
             700
            ]
           ],
           null,
           "Home Affairs wants to be the new SARS",
           [
            [
             "Organization",
             [
              [
               "https://www.bing.com/th?id=ODF.HeMcjfJp8OYTNknyI2IN7Q&pid=news"
              ]
             ],
             "businesstech.co.za"
            ]
           ],
           "https://businesstech.co.za/news/government/787740/home-affairs-wants-to-be-the-new-sars/",
           null
          ],
          [
           [
            [
             "Gamescom",
             "https://api.bing.microsoft.com/api/v7/entities/b17f0fd6-503a-c7ea-7e09-3795cff5e623"
            ],
            [
             "Borderlands",
             "https://api.bing.microsoft.com/api/v7/entities/de3ec702-729a-972a-78f1-5d68add173f0"
            ],
            [
             "Gearbox Software",
             "https://api.bing.microsoft.com/api/v7/entities/b3fa876a-8896-453a-ee5f-7b18a932feb9"
            ],
            [
             "Bethesda Game Studios",
             "https://api.bing.microsoft.com/api/v7/entities/d9bc865e-0d24-4e3d-8537-4efd22be15f2"
            ],
            [
             "Borderlands 3",
             "https://api.bing.microsoft.com/api/v7/entities/6e7a8481-3216-5168-be94-f09856320b94"
            ],
            [
             "Borderlands 2",
             "https://api.bing.microsoft.com/api/v7/entities/f0fe13f3-31d5-de9b-4470-7dc86447427d"
            ]
           ],
           "ScienceAndTechnology",
           "2024-08-20T22:58:00.0000000Z",
           "There’s not an exact release date yet, but Borderlands 4 is slated for a 2025 release so we won’t have to wait long. It’s been five years since Borderlands 3 came out, and that game didn’t inspire the kind of hype and widespread praise that Borderlands 2 received at launch.",
           [
            [
             "https://www.bing.com/th?id=OVFT.hAXz8WNGPQO7507zYSZQFS&pid=News",
             337,
             600
            ]
           ],
           null,
           "‘Borderlands 4’ Announced With A Surprising Release Window And A New Trailer",
           [
            [
             "Organization",
             [
              [
               "https://www.bing.com/th?id=ODF.U6nYa4Huf-RFEhjg-V4hNg&pid=news"
              ]
             ],
             "Forbes"
            ]
           ],
           "https://www.forbes.com/sites/erikkain/2024/08/20/borderlands-4-announced-with-a-surprising-release-window-and-a-new-trailer/",
           [
            null,
            null,
            "‘Borderlands 4’ Announced With A Surprising Release Window And A New Trailer",
            [
             292,
             520
            ],
            "https://www.bing.com/th?id=OVF.XipcomA3hntaDDc%2Bszyhtw&pid=News"
           ]
          ],
          [
           [
            [
             "Kaiser Permanente",
             "https://api.bing.microsoft.com/api/v7/entities/fa8bca5f-ac75-3fe3-9d30-1896f04572ba"
            ],
            [
             "California",
             "https://api.bing.microsoft.com/api/v7/entities/3009d91d-d582-4c34-85ba-772ba09e5be1"
            ],
            [
             "Albany, New York",
             "https://api.bing.microsoft.com/api/v7/entities/62ca8245-972e-448d-af38-345d4a958798"
            ]
           ],
           null,
           "2024-08-21T10:00:33.0000000Z",
           "Nearly three years after wheelchair user Beth Smith sued Kaiser for capping coverage well below the costs of many motorized chairs, the Albany resident is slated to get thousands of dollars for a new chair. Smith, 64, was among the plaintiffs in a class ...",
           [
            [
             "https://www.bing.com/th?id=OVFT.kaf4Lq8Ul61EB9pt0r57Mi&pid=News",
             367,
             700
            ]
           ],
           [
            [
             "California"
            ],
            [
             "Kaiser Family Foundation"
            ],
            [
             "Wheelchair"
            ]
           ],
           "Years after lawsuit, Kaiser will pay for new wheelchair for California woman",
           [
            [
             "Organization",
             null,
             "Los Angeles Times on MSN.com"
            ]
           ],
           "https://www.msn.com/en-us/news/other/years-after-lawsuit-kaiser-will-pay-for-new-wheelchair-for-california-woman/ar-AA1paJ71",
           null
          ],
          [
           [
            [
             "Coal",
             "https://api.bing.microsoft.com/api/v7/entities/91cf2898-c1b2-4266-65ac-cb7e03a4bfa0"
            ],
            [
             "Natural gas",
             "https://api.bing.microsoft.com/api/v7/entities/0f2df4e3-f260-d13a-8235-bf64bd7f79b1"
            ],
            [
             "Pennsylvania",
             "https://api.bing.microsoft.com/api/v7/entities/6304580e-c803-4266-818a-971619176547"
            ],
            [
             "United States Environmental Protection Agency",
             "https://api.bing.microsoft.com/api/v7/entities/4e6838b4-41a3-4674-aed3-3b4908acbd6b"
            ]
           ],
           "LifeStyle",
           "2024-08-20T22:36:30.0000000Z",
           "Former President Trump said that if elected, he will reverse the Biden-Harris administration's EPA rule that requires coal and natural gas power plants to cut emissions by 90%.",
           [
            [
             "https://www.bing.com/th?id=OVFT.rjqTLX6uTjc4KmDS728YPC&pid=News",
             393,
             700
            ]
           ],
           null,
           "Trump vows to repeal new EPA power plant rule",
           [
            [
             "Organization",
             [
              [
               "https://www.bing.com/th?id=ODF.GimbRbdxNxZt1GEL5O0AJg&pid=news"
              ]
             ],
             "FOX News on MSN.com"
            ]
           ],
           "https://www.msn.com/en-us/news/politics/trump-vows-to-repeal-new-epa-power-plant-rule/ar-AA1p8IoF",
           null
          ],
          [
           [
            [
             "Mario Lopez",
             "https://api.bing.microsoft.com/api/v7/entities/960f54aa-52b2-b6cf-2242-2066d6b8b322"
            ],
            [
             "Reel",
             "https://api.bing.microsoft.com/api/v7/entities/cbb2fa82-62c4-c330-680a-1377c8c969e8"
            ],
            [
             "Instagram",
             "https://api.bing.microsoft.com/api/v7/entities/a2113d26-7976-df57-241f-77b7bbb1b4f7"
            ]
           ],
           "Entertainment",
           "2024-08-20T21:07:52.0000000Z",
           "Mario Lopez's kids are heading back to the classroom. On Tuesday, Aug. 20, the proud dad, 50, posted a Reel on his Instagram as he shared that his three kids — daughter Gia, 13, and sons Dominic, 10, and Santino, 5, whom he shares with wife Courtney — were celebrating their first day of school.",
           [
            [
             "https://www.bing.com/th?id=OVFT.3hDTCHPYPzA8wkEnSkWqji&pid=News",
             466,
             700
            ]
           ],
           null,
           "Mario Lopez Shares That All 3 of His Kids Are 'Officially Back to School' in Adorable New Photos",
           [
            [
             "Organization",
             [
              [
               "https://www.bing.com/th?id=ODF.kridaNmIIz5AdgcUGG5eBQ&pid=news"
              ]
             ],
             "People on MSN.com"
            ]
           ],
           "https://www.msn.com/en-us/lifestyle/lifestyle-buzz/mario-lopez-shares-that-all-3-of-his-kids-are-officially-back-to-school-in-adorable-new-photos/ar-AA1p8Eos",
           null
          ],
          [
           [
            [
             "Robert F. Kennedy",
             "https://api.bing.microsoft.com/api/v7/entities/367cc99b-d308-8104-8e05-1fd1a98862da"
            ],
            [
             "Chicago",
             "https://api.bing.microsoft.com/api/v7/entities/28deeb39-ca49-4bd4-913b-929b1de4b25b"
            ],
            [
             "Robert F. Kennedy Jr.",
             "https://api.bing.microsoft.com/api/v7/entities/e045d327-0fdc-d12c-b847-d1c25c43331e"
            ],
            [
             "Kamala Harris",
             "https://api.bing.microsoft.com/api/v7/entities/ef5cf66f-32b7-7271-286a-8e8313eda5c5"
            ],
            [
             "CNN",
             "https://api.bing.microsoft.com/api/v7/entities/c4c637e5-f9cc-a3ed-3380-7152515e062e"
            ],
            [
             "Donald Trump",
             "https://api.bing.microsoft.com/api/v7/entities/1a466af2-ed23-25bd-794d-1ca925e4681b"
            ]
           ],
           "Politics",
           "2024-08-20T22:06:00.0000000Z",
           "Robert F. Kennedy Jr.'s running mate Nicole Shanahan said the Kennedy campaign is considering dropping out of the race and endorsing former President Donald Trump.",
           [
            [
             "https://www.bing.com/th?id=OVFT.5M93eu2lyXiSl5xHEZCOqS&pid=News",
             393,
             700
            ]
           ],
           null,
           "RFK Jr. news: Kennedy running mate says campaign considering dropping out, endorsing Trump",
           [
            [
             "Organization",
             [
              [
               "https://www.bing.com/th?id=ODF.t0BGYosS4GKZSebCajKQGA&pid=news"
              ]
             ],
             "CNN on MSN.com"
            ]
           ],
           "https://www.msn.com/en-us/news/politics/rfk-jr-running-mate-shanahan-says-they-re-considering-endorsing-trump/ar-AA1p8ncv",
           [
            true,
            "<iframe width=\"476\" height=\"267\" src=\"https://abc13.com/video/embed/?pid=15210325\" scrolling=\"no\" frameborder=\"0\" allowfullscreen></iframe>",
            "RFK Jr. news: Kennedy running mate says campaign considering dropping out, endorsing Trump",
            [
             292,
             520
            ],
            "https://www.bing.com/th?id=OVF.vYkNufdLB8IfHSRzC%2FU40Q&pid=News"
           ]
          ],
          [
           null,
           null,
           "2024-08-20T15:30:00.0000000Z",
           "As corporate ESG takes new forms and tackles new attacks in a contentious election ... Recommended Newsletter: CEO Daily provides key context for the news leaders need to know from across the world of business. Every weekday morning, more than 125,000 ...",
           null,
           null,
           "Fortune Impact Initiative 2024 livestream",
           [
            [
             "Organization",
             null,
             "Fortune"
            ]
           ],
           "https://fortune.com/article/fortune-impact-initiative-2024-livestream/",
           null
          ],
          [
           null,
           "ScienceAndTechnology",
           "2024-08-20T20:01:00.0000000Z",
           "Capcom during Gamescom Opening Night Live released a new trailer for Monster Hunter Wilds.View the trailer below:Read details [...]",
           null,
           null,
           "Monster Hunter Wilds Gets Gamescom 2024 Trailer - News",
           [
            [
             "Organization",
             [
              [
               "https://www.bing.com/th?id=ODF.kKXt-MKV3fmSaC3dmthHzw&pid=news"
              ]
             ],
             "VG Chartz"
            ]
           ],
           "https://www.vgchartz.com/article/462147/monster-hunter-wilds-gets-gamescom-2024-trailer/",
           null
          ]
         ]
        ]
       ],
       "datasetInfos": [],
       "dbfsResultPath": null,
       "isJsonSchema": true,
       "metadata": {},
       "overflow": false,
       "plotOptions": {
        "customPlotOptions": {},
        "displayType": "table",
        "pivotAggregation": null,
        "pivotColumns": null,
        "xColumns": null,
        "yColumns": null
       },
       "removedWidgets": [],
       "schema": [
        {
         "metadata": "{}",
         "name": "_type",
         "type": "\"string\""
        },
        {
         "metadata": "{}",
         "name": "queryContext",
         "type": "{\"type\":\"struct\",\"fields\":[{\"name\":\"adultIntent\",\"type\":\"boolean\",\"nullable\":true,\"metadata\":{}},{\"name\":\"originalQuery\",\"type\":\"string\",\"nullable\":true,\"metadata\":{}}]}"
        },
        {
         "metadata": "{}",
         "name": "readLink",
         "type": "\"string\""
        },
        {
         "metadata": "{}",
         "name": "sort",
         "type": "{\"type\":\"array\",\"elementType\":{\"type\":\"struct\",\"fields\":[{\"name\":\"id\",\"type\":\"string\",\"nullable\":true,\"metadata\":{}},{\"name\":\"isSelected\",\"type\":\"boolean\",\"nullable\":true,\"metadata\":{}},{\"name\":\"name\",\"type\":\"string\",\"nullable\":true,\"metadata\":{}},{\"name\":\"url\",\"type\":\"string\",\"nullable\":true,\"metadata\":{}}]},\"containsNull\":true}"
        },
        {
         "metadata": "{}",
         "name": "totalEstimatedMatches",
         "type": "\"long\""
        },
        {
         "metadata": "{}",
         "name": "value",
         "type": "{\"type\":\"array\",\"elementType\":{\"type\":\"struct\",\"fields\":[{\"name\":\"about\",\"type\":{\"type\":\"array\",\"elementType\":{\"type\":\"struct\",\"fields\":[{\"name\":\"name\",\"type\":\"string\",\"nullable\":true,\"metadata\":{}},{\"name\":\"readLink\",\"type\":\"string\",\"nullable\":true,\"metadata\":{}}]},\"containsNull\":true},\"nullable\":true,\"metadata\":{}},{\"name\":\"category\",\"type\":\"string\",\"nullable\":true,\"metadata\":{}},{\"name\":\"datePublished\",\"type\":\"string\",\"nullable\":true,\"metadata\":{}},{\"name\":\"description\",\"type\":\"string\",\"nullable\":true,\"metadata\":{}},{\"name\":\"image\",\"type\":{\"type\":\"struct\",\"fields\":[{\"name\":\"thumbnail\",\"type\":{\"type\":\"struct\",\"fields\":[{\"name\":\"contentUrl\",\"type\":\"string\",\"nullable\":true,\"metadata\":{}},{\"name\":\"height\",\"type\":\"long\",\"nullable\":true,\"metadata\":{}},{\"name\":\"width\",\"type\":\"long\",\"nullable\":true,\"metadata\":{}}]},\"nullable\":true,\"metadata\":{}}]},\"nullable\":true,\"metadata\":{}},{\"name\":\"mentions\",\"type\":{\"type\":\"array\",\"elementType\":{\"type\":\"struct\",\"fields\":[{\"name\":\"name\",\"type\":\"string\",\"nullable\":true,\"metadata\":{}}]},\"containsNull\":true},\"nullable\":true,\"metadata\":{}},{\"name\":\"name\",\"type\":\"string\",\"nullable\":true,\"metadata\":{}},{\"name\":\"provider\",\"type\":{\"type\":\"array\",\"elementType\":{\"type\":\"struct\",\"fields\":[{\"name\":\"_type\",\"type\":\"string\",\"nullable\":true,\"metadata\":{}},{\"name\":\"image\",\"type\":{\"type\":\"struct\",\"fields\":[{\"name\":\"thumbnail\",\"type\":{\"type\":\"struct\",\"fields\":[{\"name\":\"contentUrl\",\"type\":\"string\",\"nullable\":true,\"metadata\":{}}]},\"nullable\":true,\"metadata\":{}}]},\"nullable\":true,\"metadata\":{}},{\"name\":\"name\",\"type\":\"string\",\"nullable\":true,\"metadata\":{}}]},\"containsNull\":true},\"nullable\":true,\"metadata\":{}},{\"name\":\"url\",\"type\":\"string\",\"nullable\":true,\"metadata\":{}},{\"name\":\"video\",\"type\":{\"type\":\"struct\",\"fields\":[{\"name\":\"allowHttpsEmbed\",\"type\":\"boolean\",\"nullable\":true,\"metadata\":{}},{\"name\":\"embedHtml\",\"type\":\"string\",\"nullable\":true,\"metadata\":{}},{\"name\":\"name\",\"type\":\"string\",\"nullable\":true,\"metadata\":{}},{\"name\":\"thumbnail\",\"type\":{\"type\":\"struct\",\"fields\":[{\"name\":\"height\",\"type\":\"long\",\"nullable\":true,\"metadata\":{}},{\"name\":\"width\",\"type\":\"long\",\"nullable\":true,\"metadata\":{}}]},\"nullable\":true,\"metadata\":{}},{\"name\":\"thumbnailUrl\",\"type\":\"string\",\"nullable\":true,\"metadata\":{}}]},\"nullable\":true,\"metadata\":{}}]},\"containsNull\":true}"
        }
       ],
       "type": "table"
      }
     },
     "output_type": "display_data"
    }
   ],
   "source": [
    "df = spark.read.option('multiline','true').json(\"/mnt/\")\n",
    "\n",
    "\n",
    "\n",
    "\n",
    "\n",
    "display(df)"
   ]
  },
  {
   "cell_type": "code",
   "execution_count": null,
   "metadata": {
    "application/vnd.databricks.v1+cell": {
     "cellMetadata": {
      "byteLimit": 2048000,
      "rowLimit": 10000
     },
     "inputWidgets": {},
     "nuid": "6970b7dd-6be5-471b-90a6-b27963efc3ab",
     "showTitle": false,
     "title": ""
    }
   },
   "outputs": [
    {
     "data": {
      "text/html": [
       "<style scoped>\n",
       "  .table-result-container {\n",
       "    max-height: 300px;\n",
       "    overflow: auto;\n",
       "  }\n",
       "  table, th, td {\n",
       "    border: 1px solid black;\n",
       "    border-collapse: collapse;\n",
       "  }\n",
       "  th, td {\n",
       "    padding: 5px;\n",
       "  }\n",
       "  th {\n",
       "    text-align: left;\n",
       "  }\n",
       "</style><div class='table-result-container'><table class='table-result'><thead style='background-color: white'><tr><th>value</th></tr></thead><tbody><tr><td>List(List(List(List(Collingwood Football Club, https://api.bing.microsoft.com/api/v7/entities/2b8ee05b-110f-8fe8-2bec-9dd0fd2b1ed3), List(Magpie, https://api.bing.microsoft.com/api/v7/entities/e1d0c98b-9776-3aa3-7dc5-25d6890f1fd6), List(Melbourne, Florida, https://api.bing.microsoft.com/api/v7/entities/ea28914f-957c-4e18-9ac2-3540ad2b69d4), List(Carlton Football Club, https://api.bing.microsoft.com/api/v7/entities/07f3d7ba-97fb-a77b-4947-5744a53fe85a), List(Hawthorn, Victoria, https://api.bing.microsoft.com/api/v7/entities/0d29178c-c5ba-de2a-0399-eb10fe68d2c6), List(Justin Leppitsch, https://api.bing.microsoft.com/api/v7/entities/79e384f1-fb18-cd1b-0738-ea19a836c054), List(AFL Grand Final, https://api.bing.microsoft.com/api/v7/entities/16483451-1a09-c4a4-9dce-a4ee97bf6864)), Sports, 2024-08-21T05:27:00.0000000Z, Collingwood coach Craig McRae says the Magpies will reflect on whether not immediately replacing Graham Wright was a costly decision in their failed premiership defence., List(List(https://www.bing.com/th?id=OVFT.heV62v0FtSBSxbUXHZ5vbS&pid=News, 393, 700)), null, AFL 2024: Collingwood Magpies will search to replace football boss Graham Wright, Craig McRae comments, latest news, List(List(Organization, List(List(https://www.bing.com/th?id=ODF.9yJS4wi2nUtsfM87Lf-3FA&pid=news)), NewsWire on MSN.com)), https://www.msn.com/en-au/sport/other/coach-s-difficult-parting-from-incredible-mentor/ar-AA1p9yg9, null), List(List(List(Everton F.C., https://api.bing.microsoft.com/api/v7/entities/08c4e442-93ae-e0fe-a73b-f76f5259a171), List(Neal Maupay, https://api.bing.microsoft.com/api/v7/entities/2c2d83d1-f8e5-434b-8ca8-d19a13caf063), List(Éric Junior Dina Ebimbe, https://api.bing.microsoft.com/api/v7/entities/75381052-a5ba-1a96-309a-39be49525b63), List(Queens Park Rangers F.C., https://api.bing.microsoft.com/api/v7/entities/c82952e8-3b21-d425-48f5-42cf7a89190b), List(Goodison Park, https://api.bing.microsoft.com/api/v7/entities/dde25d4f-6bc8-e22c-bb2c-26173d7d3326), List(Jack Harrison, https://api.bing.microsoft.com/api/v7/entities/f0496807-c933-fe07-8017-97500cc1abf3), List(Jesper Lindstrøm, https://api.bing.microsoft.com/api/v7/entities/2110b922-1830-29cd-78e8-e85a0297da36), List(Merseyside, https://api.bing.microsoft.com/api/v7/entities/8e04c30f-763f-780e-c01f-ccd70d51e4f7), List(Amadou Onana, https://api.bing.microsoft.com/api/v7/entities/1ca66a06-53cd-7959-48a4-bfdc53e7576e), List(Lewis Dobbin, https://api.bing.microsoft.com/api/v7/entities/800f86ff-82f6-3a07-dc80-66956ca0a201), List(Ben Godfrey, https://api.bing.microsoft.com/api/v7/entities/787cc42b-c36e-7edb-80c3-f0f0b00c12d1)), Sports, 2024-08-21T11:14:00.0000000Z, Latest Everton transfer and takeover news, including updates as Asmir Begovic is in talks to return to the Blues, List(List(https://www.bing.com/th?id=OVFT.XXPqfesC-Oli8IE5HlY5di&pid=News, 367, 700)), null, Everton transfer news LIVE - Neal Maupay future, Mason Holgate enquiry Junior Dina Ebimbe talks,, List(List(Organization, List(List(https://www.bing.com/th?id=ODF.lMNuYaPYFKYNaBUKNyUFHg&pid=news)), Liverpool Echo)), https://www.liverpoolecho.co.uk/sport/football/transfer-news/everton-takeover-transfer-news-live-29765334, null), List(List(List(Fox News, https://api.bing.microsoft.com/api/v7/entities/273e0477-30ed-3993-f232-f39244306805), List(Nicole Parker, https://api.bing.microsoft.com/api/v7/entities/25d1f86e-5ab4-2c3d-f7a3-42ef954824fa), List(Chicago, https://api.bing.microsoft.com/api/v7/entities/7c09b50c-bc53-55c3-7fea-0f08e11b091f)), null, 2024-08-21T10:35:00.0000000Z, Fox News contributor Nicole Parker joined 'Fox News @ Night' to discuss her reaction to the new video and how crime has ravaged Chicago amid DNC week., List(List(https://www.bing.com/th?id=OVFT.oEZQRduXmf_DcySOZ51dki&pid=News, 350, 700)), null, Chilling new video shows Trump shooter walking around rally before assassination attempt, List(List(Organization, null, Fox News)), https://www.foxnews.com/video/6360751017112, null), List(List(List(Arsenal F.C., https://api.bing.microsoft.com/api/v7/entities/8b3b4135-cb8e-ded8-10ce-8f130d64b863), List(Mikel Merino, https://api.bing.microsoft.com/api/v7/entities/e2365c49-c2b6-aff5-437d-72f2ca96a378), List(Aaron Ramsdale, https://api.bing.microsoft.com/api/v7/entities/0bf35c7f-e8e0-4291-6273-e21a1b2ff24d), List(Eddie Nketiah, https://api.bing.microsoft.com/api/v7/entities/8dfce5e6-cc68-2cc9-a6b1-275133d70dbc), List(Ivan Toney, https://api.bing.microsoft.com/api/v7/entities/98358ca1-1bd6-4cee-aff4-5b93c811f416), List(Victor Osimhen, https://api.bing.microsoft.com/api/v7/entities/09506725-12aa-3157-6831-985cefbf9e30), List(Premier League, https://api.bing.microsoft.com/api/v7/entities/02bde011-1e9d-3aff-8309-7d07d4031798), List(Aston Villa F.C., https://api.bing.microsoft.com/api/v7/entities/d689e389-cacc-0912-28ee-039d79661230), List(Mikel Arteta, https://api.bing.microsoft.com/api/v7/entities/46cbb218-c295-c257-be2c-7d8179c02488), List(Villa Park, https://api.bing.microsoft.com/api/v7/entities/1e177ead-ba8d-0da5-91f2-f4f4f1d1b5d0), List(Real Sociedad, https://api.bing.microsoft.com/api/v7/entities/3fb625f1-1a17-767a-8c2a-84ee6d7c201c), List(Newcastle United F.C., https://api.bing.microsoft.com/api/v7/entities/d36b1961-7548-2202-311b-d6a69037d67d), List(Alexander Isak, https://api.bing.microsoft.com/api/v7/entities/f7da1aac-7d71-56d0-fff9-fdfa217be4bf)), Sports, 2024-08-21T05:21:00.0000000Z, The latest Arsenal transfer news and rumours from football.london including updates on Eddie Nketiah, Mikel Merino, Ivan Toney, Aaron Ramsdale and Victor Osimhen, List(List(https://www.bing.com/th?id=OVFT.Yh0-vWC2lksh9dRA2nbt-S&pid=News, 367, 700)), null, Arsenal transfer news LIVE Mikel Merino positive update, Nketiah agreement, Ramsdale update, List(List(Organization, List(List(https://www.bing.com/th?id=ODF.Xm0enA-z_fuiMX5FvKt4cw&pid=news)), football)), https://www.football.london/arsenal-fc/transfer-news/arsenal-transfer-news-live-mikel-29779140, null), List(List(List(Greg Gutfeld, https://api.bing.microsoft.com/api/v7/entities/1920980b-8c33-331b-4eae-8fcff3d90d18), List(Kamala Harris, https://api.bing.microsoft.com/api/v7/entities/ef5cf66f-32b7-7271-286a-8e8313eda5c5), List(Fox News, https://api.bing.microsoft.com/api/v7/entities/273e0477-30ed-3993-f232-f39244306805), List(2024 Democratic National Convention, https://api.bing.microsoft.com/api/v7/entities/6dd65316-4aa2-030b-7347-183b38ff121a)), null, 2024-08-21T04:26:00.0000000Z, Fox News host Greg Gutfeld gives his take on the second night of the 2024 Democratic National Convention on 'Gutfeld!', List(List(https://www.bing.com/th?id=OVFT.EzJ3ljePNP2mcjDSXpqUIy&pid=News, 350, 700)), null, Greg Gutfeld: Democrats needed a new narrative, and Kamala Harris is it, List(List(Organization, null, Fox News)), https://www.foxnews.com/video/6360732761112, null), List(List(List(Boston Bruins, https://api.bing.microsoft.com/api/v7/entities/7372c7cf-eeed-88a9-0522-63e96eaf6448), List(Atlantic Division, https://api.bing.microsoft.com/api/v7/entities/d7c8ec8b-e4b9-0223-9599-8360afbc63dd), List(Columbus Blue Jackets, https://api.bing.microsoft.com/api/v7/entities/74c60977-6e3a-c88b-ab1a-8f4a3e785885), List(Patrik Laine, https://api.bing.microsoft.com/api/v7/entities/894c470a-7378-a9c8-043f-bf221b20140f), List(Montreal Canadiens, https://api.bing.microsoft.com/api/v7/entities/e65755db-2635-6bc8-99f9-0e5cff3aa813)), Sports, 2024-08-20T16:39:03.0000000Z, On Monday, the Columbus Blue Jackets traded Patrik Laine and a 2026 second-round pick to the Montreal Canadiens in exchange for defenseman Jordan Harris. With this move, one of the Bruins' biggest rivals, the Canadiens, have notably improved their forward group., List(List(https://www.bing.com/th?id=OVFT.D8jUx5QGIwRX3G91Wo3KdC&pid=News, 466, 700)), List(List(Boston Bruins), List(Analysis), List(National Hockey League)), Bruins Have New Star to Deal With In Atlantic, List(List(Organization, List(List(https://www.bing.com/th?id=ODF.yNx4KYuMgiOCU3nI9qTmtQ&pid=news)), The Hockey News on MSN.com)), https://www.msn.com/en-us/sports/nhl/bruins-have-new-star-to-deal-with-in-atlantic/ar-AA1p88Tr, null), List(null, null, 2024-08-21T14:11:00.0000000Z, The bodies of two of the six people missing after a yacht sank off the Sicily coast have been found. Search efforts have entered a third day, after the captain was reportedly questioned by Italian prosecutors over the sinking., List(List(https://www.bing.com/th?id=OVFT.Z89qPj7prCz9if78PBrPuS&pid=News, 393, 700)), null, Superyacht sinks latest: Two bodies found in search for survivors, List(List(Organization, List(List(https://www.bing.com/th?id=ODF.Eg62H9DIbo-JYPI6GpAgGA&pid=news)), Sky)), https://news.sky.com/story/superyacht-sinks-latest-two-bodies-found-in-search-for-survivors-13199663, null), List(List(List(Wisconsin, https://api.bing.microsoft.com/api/v7/entities/cb4d2853-06f4-4467-8e7c-4e31cbb35cb2), List(Madison, Wisconsin, https://api.bing.microsoft.com/api/v7/entities/65426cc9-93eb-4569-8c2e-3b7c1b070278), List(NBC News, https://api.bing.microsoft.com/api/v7/entities/90fd2ef2-8123-de59-2b1f-ccd033454a4a), List(Israel, https://api.bing.microsoft.com/api/v7/entities/1ffafed3-2b37-b871-c271-aa855d98449a), List(Hamas, https://api.bing.microsoft.com/api/v7/entities/fd56a0c1-5b09-6e40-09dc-a8abf5069c30)), Politics, 2024-08-21T01:08:00.0000000Z, Biden may have had an irreparable rift with young voters. Some who were turned off by him are more interested in Harris, though issues including Gaza remain sticking points., List(List(https://www.bing.com/th?id=OVFT.cpHMozEZHpl6nL7HbmAqYC&pid=News, 367, 700)), null, Young voters take a new look at Harris, but some are waiting instead of committing, List(List(Organization, List(List(https://www.bing.com/th?id=ODF.ighWNnrr5MMFUs8WKMme2A&pid=news)), NBC News on MSN.com)), https://www.msn.com/en-us/news/other/young-voters-take-a-new-look-at-harris-but-some-are-waiting-instead-of-committing/ar-AA1p99hv, null), List(List(List(Manchester United F.C., https://api.bing.microsoft.com/api/v7/entities/064ce28e-ed07-a026-2f79-1b321d7548ea), List(Scott McTominay, https://api.bing.microsoft.com/api/v7/entities/0d7f1ad6-7445-be60-fae6-be8f6834b0ec), List(Christian Eriksen, https://api.bing.microsoft.com/api/v7/entities/5300fd8a-fc99-435a-b1d8-3490e4228f87), List(The Red Devils, https://api.bing.microsoft.com/api/v7/entities/d8dea608-ca10-ab4f-17b8-e56a4017a2c5), List(Joshua Zirkzee, https://api.bing.microsoft.com/api/v7/entities/8fe167ac-7cc5-ccae-ca7f-86177823ad58), List(Matthijs de Ligt, https://api.bing.microsoft.com/api/v7/entities/f9875452-9ecf-c3e6-7e46-1dbc87f172f1), List(Noussair Mazraoui, https://api.bing.microsoft.com/api/v7/entities/ecdea285-86d1-ccdf-2115-a4415a845794), List(Paris Saint-Germain F.C., https://api.bing.microsoft.com/api/v7/entities/67266d4d-2667-f33f-7d3e-ae1225abff86), List(Federico Chiesa, https://api.bing.microsoft.com/api/v7/entities/3ee194eb-adf7-709d-7172-2fc8d91f72a5), List(Ivan Toney, https://api.bing.microsoft.com/api/v7/entities/98358ca1-1bd6-4cee-aff4-5b93c811f416), List(Ben Chilwell, https://api.bing.microsoft.com/api/v7/entities/d7ca1fbb-f3df-3e53-cfa2-323dc6ffc2f4)), Sports, 2024-08-21T14:03:00.0000000Z, Manchester United still have plenty of transfer business to complete in the final week of the window and could yet sign Manuel Ugarte while Scott McTominay, Christian Eriksen and Casemiro could depart, List(List(https://www.bing.com/th?id=OVFT.LBYdNNfY8kIhGkyEitiWcC&pid=News, 367, 700)), null, Man Utd transfer news LIVE: Medical booked, Manuel Ugarte breakthrough, United complete loan deal, List(List(Organization, List(List(https://www.bing.com/th?id=ODF.CWDfHbZtL9U2bsuN-kn_-w&pid=news)), The Mirror)), https://www.mirror.co.uk/sport/football/transfer-news/man-utd-transfer-news-live-33491446, null), List(null, null, 2024-08-21T14:01:00.0000000Z, James Cutfield, 51, who is from New Zealand, was quizzed until late yesterday evening to help reconstruct what happened and provide useful technical details, reports the Italian news agency ANSA. His brother Mark earlier told the New Zealand Herald he was ..., List(List(https://www.bing.com/th?id=OVFT.Z89qPj7prCz9if78PBrPuS&pid=News, 393, 700)), null, Superyacht sinks latest: Two bodies found after superyacht sinking, List(List(Organization, null, Sky)), https://news.sky.com/story/superyacht-sinks-latest-two-bodies-found-after-superyacht-sinking-13199663, null), List(List(List(Red tape, https://api.bing.microsoft.com/api/v7/entities/8c2f0c5c-25f8-7b89-35d0-896f2e34cb10), List(David Seymour, https://api.bing.microsoft.com/api/v7/entities/91f7fd7e-ec2a-7184-cfe2-0ae41a1f4e74), List(Green Party, https://api.bing.microsoft.com/api/v7/entities/257da6f4-91db-2e8a-12f6-05f7564f1b6c), List(The Washington Post, https://api.bing.microsoft.com/api/v7/entities/7802f29d-d7cc-5e6f-de8a-63a5a1a2f17f)), Business, 2024-08-21T00:44:19.0000000Z, The anti-red tape department is overseen by the ACT leader, who secured its creation during coalition negotiations last year., List(List(https://www.bing.com/th?id=OVFT.8T_ZT9AFU_NRZyqF5ygy9C&pid=News, 367, 700)), List(List(Public sector), List(Ministry), List(Radio New Zealand)), New ministry paying staff average salary of $150k despite public sector job cuts, List(List(Organization, List(List(https://www.bing.com/th?id=ODF.KbRIMdbKqxc2CRUKwuqxSg&pid=news)), rnz on MSN.com)), https://www.msn.com/en-nz/news/other/new-ministry-paying-staff-average-salary-of-150k-despite-public-sector-job-cuts/ar-AA1p8XpE, null), List(List(List(WeTransfer, https://api.bing.microsoft.com/api/v7/entities/e72d073e-df1f-40e7-b64c-44edd9d7705b)), ScienceAndTechnology, 2024-08-21T11:33:48.0000000Z, Cloud-based file transfer platform WeTransfer has unveiled a new ‘Save for Later’ feature on its mobile app in a bid to address one of the platform’s biggest user frustrations – expired download links., List(List(https://www.bing.com/th?id=OVFT.fBm1F3cu92FG7PZA1V-Q8S&pid=News, 393, 700)), List(List(WeTransfer), List(TechRadar), List(The gospel)), Good news file fans - WeTransfer links will no longer expire, List(List(Organization, List(List(https://www.bing.com/th?id=ODF.HUwxplx_rx0g5pzCy5_Wwg&pid=news)), TechRadar on MSN.com)), https://www.msn.com/en-us/news/technology/good-news-file-fans-wetransfer-links-will-no-longer-expire/ar-AA1pbk5K, null), List(List(List(North Vancouver, https://api.bing.microsoft.com/api/v7/entities/dff5cb1b-3df4-7b9b-6057-8473e9953cb2), List(Royal Canadian Mounted Police, https://api.bing.microsoft.com/api/v7/entities/e0c66ab1-c3c1-2e91-675b-983872f887ef)), Canada, 2024-08-20T20:07:00.0000000Z, Police in North Vancouver, B.C., say homicide investigators have been called in after a woman and girl died from falling off an apartment balcony. RCMP initially said officers responded to reports that two \"females\" had fallen from the building on East Esplanade in the city's Shipyards area at 4:30 a.m. Tuesday., List(List(https://www.bing.com/th?id=OVFT.xaYdLrWgR019S1k86hKXIC&pid=News, 349, 620)), null, Homicide investigators called in after woman and girl die in North Vancouver balcony fall, List(List(Organization, List(List(https://www.bing.com/th?id=ODF.4NbuPrmIxu0JD126LE1gxQ&pid=news)), CBC.ca)), https://www.cbc.ca/news/canada/british-columbia/woman-and-girl-die-in-balcony-fall-1.7300061, null), List(List(List(Aston Villa F.C., https://api.bing.microsoft.com/api/v7/entities/d689e389-cacc-0912-28ee-039d79661230), List(Álex Moreno, https://api.bing.microsoft.com/api/v7/entities/ccba0daa-1602-52f1-5cd2-6ad22e9f95b7), List(Villa Park, https://api.bing.microsoft.com/api/v7/entities/1e177ead-ba8d-0da5-91f2-f4f4f1d1b5d0), List(Amadou Onana, https://api.bing.microsoft.com/api/v7/entities/1ca66a06-53cd-7959-48a4-bfdc53e7576e), List(Everton F.C., https://api.bing.microsoft.com/api/v7/entities/08c4e442-93ae-e0fe-a73b-f76f5259a171), List(Douglas Luiz, https://api.bing.microsoft.com/api/v7/entities/e4d0e312-8441-3d8b-6167-12496e2b71bc), List(Moussa Diaby, https://api.bing.microsoft.com/api/v7/entities/d25af0c6-d803-93ff-a62d-2bf4b96202c5), List(Unai Emery, https://api.bing.microsoft.com/api/v7/entities/bdfda59a-e857-f629-caa7-aa1072c5ce90), List(Atlético Madrid, https://api.bing.microsoft.com/api/v7/entities/b1132d17-4fd3-ba7d-39df-de416b1e6090), List(Premier League, https://api.bing.microsoft.com/api/v7/entities/02bde011-1e9d-3aff-8309-7d07d4031798), List(Chelsea F.C., https://api.bing.microsoft.com/api/v7/entities/8346cd56-1a96-adb0-26e1-f3679d88e0ba)), Sports, 2024-08-21T06:15:00.0000000Z, Aston Villa have confirmed Lamare Bogarde has signed a new contract with the club. The 20-year-old is highly-rated by Unai Emery, who used him in each of the club's even pre-season friendlies. Bogarde impressed in defence and in a holding midfield role earlier this summer., List(List(https://www.bing.com/th?id=OVFT.AcMIIgk-gkK3Yn74tqkq2y&pid=News, 367, 700)), null, Aston Villa transfer news live Joe Gomez twist, Alex Moreno medical, Samuel Iling-Junior latest, List(List(Organization, List(List(https://www.bing.com/th?id=ODF.jPou0vlDKt0Px6h21V_3rw&pid=news)), Birmingham Mail)), https://www.birminghammail.co.uk/sport/football/transfer-news/villa-transfers-live-iling-junior-29773450, null), List(List(List(Travis Kelce, https://api.bing.microsoft.com/api/v7/entities/4e917ff4-3613-42f8-bf79-9c12138e3ede), List(John Wick, https://api.bing.microsoft.com/api/v7/entities/91048ec5-4775-4ea1-bbfb-8c396a2246c1), List(Loose Cannons, https://api.bing.microsoft.com/api/v7/entities/2d0a8549-d969-fcc7-2aa5-6e1eca5119b6), List(Taylor Swift, https://api.bing.microsoft.com/api/v7/entities/98004a38-a3ea-b902-b6d3-687b30b54353), List(Deadline Hollywood, https://api.bing.microsoft.com/api/v7/entities/8487dbc3-435c-5296-821c-8a2a66840e9c), List(Lionsgate, https://api.bing.microsoft.com/api/v7/entities/addd91f2-9d74-ed59-8f80-40991e39127c), List(Pixels, https://api.bing.microsoft.com/api/v7/entities/17e0a910-504b-87ad-32ec-550f6cb9fd94), List(Chad Stahelski, https://api.bing.microsoft.com/api/v7/entities/08c3b9bd-7bee-dc90-fcf7-b4805cf74dc1), List(Alex Young, https://api.bing.microsoft.com/api/v7/entities/8ae9c6bf-bb29-1987-1785-81e1678975cc)), Entertainment, 2024-08-21T08:47:35.0000000Z, Travis Kelce is reportedly set to star in new comedy Loose Cannons. The NFL star - who is dating Anti-Hero hitmaker Taylor Swift - is making the jump to Hollywood and may have landed his first big screen acting role., List(List(https://www.bing.com/th?id=OVFT.CRHhARBhHyjiHoCbrrfKTi&pid=News, 367, 700)), List(List(Travis Kelce), List(Manchester Evening News), List(Comedy)), Travis Kelce in talks to front new action comedy from John Wick producers, List(List(Organization, List(List(https://www.bing.com/th?id=ODF.oxaa8-w2MDoXi5yOUu7A3w&pid=news)), Manchester Evening News on MSN.com)), https://www.msn.com/en-gb/news/newsmanchester/travis-kelce-in-talks-to-front-new-action-comedy-from-john-wick-producers/ar-AA1paehQ, null), List(List(List(CNN, https://api.bing.microsoft.com/api/v7/entities/c4c637e5-f9cc-a3ed-3380-7152515e062e), List(Mediterranean climate, https://api.bing.microsoft.com/api/v7/entities/bf1c93f2-9a1f-517d-2cd6-159b79fff257), List(Type 2 diabetes, https://api.bing.microsoft.com/api/v7/entities/83426981-8501-0894-eae9-3f11a06bf89f), List(University of Cambridge, https://api.bing.microsoft.com/api/v7/entities/92a4946b-bd44-dad3-15c3-14c37ab8894e)), LifeStyle, 2024-08-20T23:34:12.0000000Z, Many people are trying to cut back on red and processed meat for heart health or environmental reasons. A new global study shows another good reason., List(List(https://www.bing.com/th?id=OVFT.HZ-KKLVQgNIi-t10Nn9gpy&pid=News, 393, 700)), null, There is a link between the meat you eat and a chronic disease, according to new research, List(List(Organization, List(List(https://www.bing.com/th?id=ODF.t0BGYosS4GKZSebCajKQGA&pid=news)), CNN on MSN.com)), https://www.msn.com/en-us/health/other/global-study-shows-the-link-between-red-and-processed-meats-and-type-2-diabetes/ar-AA1p8FPI, List(null, null, Global study shows the link between red and processed meats and type 2 diabetes, List(292, 520), https://www.bing.com/th?id=OVF.hPOtjHufEraNH1owqr32tQ&pid=News)), List(List(List(New Mexico State University, https://api.bing.microsoft.com/api/v7/entities/e3d88a51-9b7a-0d6d-98c6-5d5766648030), List(Tailgating, https://api.bing.microsoft.com/api/v7/entities/e8af03e2-58ba-632f-44d7-9b33d3ce3c97), List(Albuquerque, New Mexico, https://api.bing.microsoft.com/api/v7/entities/7fffaaf6-e694-4095-be90-f6492cadbd58)), LifeStyle, 2024-08-20T22:18:33.0000000Z, Changes are coming to New Mexico State University’s tailgating rules this football season. Parking lots will shut down two hours after the game or at midnight, whichever comes sooner. For the non-student lots,, List(List(https://www.bing.com/th?id=OVFT.RQtsGpt1lmQE2r7GoEiRyS&pid=News, 394, 700)), List(List(New Mexico State University), List(Tailgate party), List(Leysin American School)), New Mexico State University updates tailgating rules, List(List(Organization, List(List(https://www.bing.com/th?id=ODF.ZWWEWocRXnzJRhsSxEV2vQ&pid=news)), KRQE Albuquerque on MSN.com)), https://www.msn.com/en-us/news/technology/new-mexico-state-university-updates-tailgating-rules/ar-AA1p8YwW, null), List(List(List(ITV News, https://api.bing.microsoft.com/api/v7/entities/cebdf159-e6b1-8366-f641-3dc397442550), List(Channel Islands, https://api.bing.microsoft.com/api/v7/entities/c7410b83-1066-f7e4-42ce-3a692f04388a)), null, 2024-08-20T17:00:00.0000000Z, Tue 20 Aug 6pm • Watch the latest ITV News programme from the Channel Islands for 24 hours after broadcast on ITVX. Viewing may be restricted in some countries due to licensing., List(List(https://www.bing.com/th?id=OVFT.sjyBOPvhnbo1Fmq9gGq6xC&pid=News, 393, 700)), null, Catch up on ITV News Channel from Tuesday 20th August, List(List(Organization, List(List(https://www.bing.com/th?id=ODF.HlKTyCgM99pRvmITMdZC2w&pid=news)), ITV)), https://www.itv.com/watch/news/catch-up-on-itv-news-channel-from-tuesday-20th-august/4b1d46n, null), List(List(List(Giorgi Mamardashvili, https://api.bing.microsoft.com/api/v7/entities/3fea8e15-30d3-d9d4-f374-612a263a3317), List(Liverpool F.C., https://api.bing.microsoft.com/api/v7/entities/8d437035-df45-5e15-5868-05ded77dd0cf), List(Anfield, https://api.bing.microsoft.com/api/v7/entities/19e4bd56-f843-2ecf-1219-f4dfc0317663), List(Anthony Gordon, https://api.bing.microsoft.com/api/v7/entities/cc1355ae-3b3d-23ed-73ba-5a7c4c841450), List(Atalanta B.C., https://api.bing.microsoft.com/api/v7/entities/8d74476a-a36b-a243-e892-419928cc4e39), List(Ederson, https://api.bing.microsoft.com/api/v7/entities/13af31b2-a3e9-c5e4-19c9-259871b0fb65), List(S.S.C. Napoli, https://api.bing.microsoft.com/api/v7/entities/754ddace-80f4-708a-0cba-a226529ff93b), List(Khvicha Kvaratskhelia, https://api.bing.microsoft.com/api/v7/entities/ac76d04c-7db4-0d90-0393-7a141d867156), List(Arne Slot, https://api.bing.microsoft.com/api/v7/entities/486f7116-76a2-6b5f-b011-99872e3824a1), List(UEFA Euro 2024, https://api.bing.microsoft.com/api/v7/entities/f6e2741f-875b-c715-a38b-74198e2edbc6)), Sports, 2024-08-21T13:00:00.0000000Z, Judging by the way FSG continue to do their transfer business that seems very unlikely. Get all the latest Liverpool breaking news, team news, transfer rumours, injury updates plus analysis of what's next for the Reds. You'll also get the latest transfer ..., List(List(https://www.bing.com/th?id=OVFT.81S1Mvg2v8PTBPIYYo7BES&pid=News, 367, 700)), List(List(Transfer), List(Spell), List(Liverpool Echo)), Giorgi Mamardashvili transfer spells a bold new era, but what's wrong with the old one?, List(List(Organization, null, Liverpool Echo on MSN.com)), https://www.msn.com/en-gb/news/newsliverpool/giorgi-mamardashvili-transfer-spells-a-bold-new-era-but-whats-wrong-with-the-old-one/ar-AA1pbmes, null), List(List(List(North Northamptonshire, https://api.bing.microsoft.com/api/v7/entities/51c52fe2-4327-791c-2995-7d2e8a75cdf4), List(Department for Education, https://api.bing.microsoft.com/api/v7/entities/2f8a8d0c-8aab-4329-74cb-1abb43f237c8), List(Northamptonshire, https://api.bing.microsoft.com/api/v7/entities/6b5ff743-48aa-7f30-4bfe-97eeede8e6fa), List(BBC Sounds, https://api.bing.microsoft.com/api/v7/entities/cec9c447-6c68-e3df-c11a-2c4eba4db6b8), List(Instagram, https://api.bing.microsoft.com/api/v7/entities/a2113d26-7976-df57-241f-77b7bbb1b4f7), List(X, https://api.bing.microsoft.com/api/v7/entities/860dea43-a2c0-7912-8370-4ef51face341)), null, 2024-08-21T11:28:00.0000000Z, Two new permanent classrooms at a special school will be open in time for the new school year. Rowan Gate Primary School in Wellingborough, Northamptonshire, has unveiled a permanent building to replace two temporary classrooms. The building, which cost £1.6m, will cater for 140 pupils and will provide them with more space., List(List(https://www.bing.com/th?id=OVFT.voyrARNduj5JVuR7Pr3RVC&pid=News, 393, 700)), null, Special school's new classrooms ready for September, List(List(Organization, List(List(https://www.bing.com/th?id=ODF.yhngt24TSWuyw3ur0Pt3WQ&pid=news)), BBC)), https://www.bbc.co.uk/news/articles/clylrn0z870o, null), List(List(List(Florida, https://api.bing.microsoft.com/api/v7/entities/5fece3f4-e8e8-4159-843e-f725a930ad50), List(New Jersey, https://api.bing.microsoft.com/api/v7/entities/05277898-b62b-4878-8632-09d29756a2ff), List(Acid attack, https://api.bing.microsoft.com/api/v7/entities/17b8d6ee-4252-c533-c16c-77c0d414e308), List(CNN, https://api.bing.microsoft.com/api/v7/entities/c4c637e5-f9cc-a3ed-3380-7152515e062e), List(KYW, https://api.bing.microsoft.com/api/v7/entities/51fbd9d8-5815-c4ae-6c48-7f31ea6380b1)), null, 2024-08-21T05:26:56.0000000Z, Three Florida residents have been arrested in connection to an apparent acid attack on a New Jersey woman who suffered burns to more than 35% of her body, according to a Gloucester County Prosecutor’s Office press release obtained by CNN affiliate KYW., List(List(https://www.bing.com/th?id=OVFT.CguLSXg0gEDJttpRX2xIFy&pid=News, 393, 700)), null, Florida trio charged in apparent acid attack that left a New Jersey woman with burns to a third of her body, prosecutors say, List(List(Organization, List(List(https://www.bing.com/th?id=ODF.t0BGYosS4GKZSebCajKQGA&pid=news)), CNN on MSN.com)), https://www.msn.com/en-us/news/crime/florida-trio-charged-in-apparent-acid-attack-that-left-a-new-jersey-woman-with-burns-to-a-third-of-her-body-prosecutors-say/ar-AA1p9NUt, null), List(List(List(Democratic National Committee, https://api.bing.microsoft.com/api/v7/entities/8a519bbe-c1a3-a5d0-c9ea-91fdeae7ba80), List(Chicago, https://api.bing.microsoft.com/api/v7/entities/28deeb39-ca49-4bd4-913b-929b1de4b25b), List(Democratic National Convention, https://api.bing.microsoft.com/api/v7/entities/eb5f527b-1e2d-86c2-e55c-1fc837f43499), List(Washington Boulevard, https://api.bing.microsoft.com/api/v7/entities/712670b4-9af8-86ab-9b27-95855b897f05), List(Israel, https://api.bing.microsoft.com/api/v7/entities/1ffafed3-2b37-b871-c271-aa855d98449a), List(Hamas, https://api.bing.microsoft.com/api/v7/entities/fd56a0c1-5b09-6e40-09dc-a8abf5069c30), List(United Center, https://api.bing.microsoft.com/api/v7/entities/70ad5c21-b753-597d-414d-3804d0423499)), World, 2024-08-21T02:51:38.0000000Z, Chicago crews installed an additional line of security fences outside the Democratic National Convention early Tuesday in the area where, a day earlier, demonstrators breached an outer perimeter fence., List(List(https://www.bing.com/th?id=OVFT.hbHbI2c2123-8Znm28xhtC&pid=News, 393, 700)), null, New fencing goes up outside DNC a day after pro-Palestinian protesters breach outer barrier, List(List(Organization, List(List(https://www.bing.com/th?id=ODF.t0BGYosS4GKZSebCajKQGA&pid=news)), CNN on MSN.com)), https://www.msn.com/en-us/news/us/new-fencing-goes-up-outside-dnc-a-day-after-pro-palestinian-protesters-breach-outer-barrier/ar-AA1p7z1G, null), List(List(List(Lewis Hamilton, https://api.bing.microsoft.com/api/v7/entities/afd8d17d-2960-d4d6-3ee3-cbb7ad7d515e), List(Formula One, https://api.bing.microsoft.com/api/v7/entities/b7a76276-375a-718b-52d9-49eae9b263a4), List(Valtteri Bottas, https://api.bing.microsoft.com/api/v7/entities/842c17fe-ff41-4769-2eea-658e7e58d1cc), List(New York Red Bulls, https://api.bing.microsoft.com/api/v7/entities/74ef7974-937a-e25a-9594-1c3182e17252)), Sports, 2024-08-20T22:00:00.0000000Z, Your F1 news round-up is here, with Lewis Hamilton having made a prediction for the rest of the 2024 season that should get our excitement up. As ever, there is a lot to get through, so let’s not waste any more time,, List(List(https://www.bing.com/th?id=OVFT.VAsQYTvTlLlbg2V6Bae2CC&pid=News, 367, 700)), List(List(Lewis Hamilton), List(Valtteri Bottas), List(Formula One)), Lewis Hamilton’s latest F1 prediction with Valtteri Bottas at centre of intense criticism – round-up, List(List(Organization, List(List(https://www.bing.com/th?id=ODF.AH4i8E8I1buqt0fbc5gOAw&pid=news)), PlanetF1.com on MSN.com)), https://www.msn.com/en-us/sports/other/lewis-hamilton-s-latest-f1-prediction-with-valtteri-bottas-at-centre-of-intense-criticism-round-up/ar-AA1p8EDh, null), List(List(List(Nigeria, https://api.bing.microsoft.com/api/v7/entities/f8afbbd6-9c3e-02be-7cb2-eac695e2da02), List(Nigerians, https://api.bing.microsoft.com/api/v7/entities/9fbd769b-30f1-fedc-4ffc-7d451aada1de), List(France, https://api.bing.microsoft.com/api/v7/entities/c7bfe2de-4f82-e23c-ae42-8544b5b5c0ea), List(Airbus A330, https://api.bing.microsoft.com/api/v7/entities/cf401561-d848-d8f3-8d4c-22380168287b)), World, 2024-08-21T12:09:00.0000000Z, Many Nigerians have reacted with outrage after a new plane was bought for President Bola Tinubu at a time when the economy is experiencing its worst crisis in a generation. The purchase comes less than two weeks after thousands took to the streets across ..., List(List(https://www.bing.com/th?id=OVFT.7C_HHcyp6aVl_XCvSSw24i&pid=News, 393, 700)), null, Nigerians outraged by president’s new plane, List(List(Organization, null, BBC)), https://www.bbc.co.uk/news/articles/cy4ydd2x5x2o, null), List(List(List(George Floyd, https://api.bing.microsoft.com/api/v7/entities/c78e0e6e-3b43-9e12-66d6-6466c9cbce54), List(Minneapolis, https://api.bing.microsoft.com/api/v7/entities/def03125-42ba-47cd-8061-ee55f5c63e67), List(Derek Chauvin, https://api.bing.microsoft.com/api/v7/entities/ddde2ddf-199d-9311-b135-336828a27f08), List(Federal Bureau of Prisons, https://api.bing.microsoft.com/api/v7/entities/bdca07d5-27a0-917c-5506-de6deeddf20c), List(Associated Press, https://api.bing.microsoft.com/api/v7/entities/b2843a2b-80fd-2fa0-10d0-97b51563ffcb), List(Federal Correctional Institution, Big Spring, https://api.bing.microsoft.com/api/v7/entities/ab3d4589-8104-8664-1f4e-46c139e8fb09), List(Federal Bureau of Investigation, https://api.bing.microsoft.com/api/v7/entities/e470e552-d479-42f9-dff4-a15995402e33)), null, 2024-08-21T07:42:00.0000000Z, Derek Chauvin was transferred to a federal prison in Texas almost nine months after he was stabbed in a different facility., List(List(https://www.bing.com/th?id=OVFT.7q4qAgScsd6ip4f8SNU7bC&pid=News, 700, 639)), null, Ex-officer convicted in George Floyd’s killing is moved to new prison months after stabbing, List(List(Organization, List(List(https://www.bing.com/th?id=ODF.AlMAEy7MoWNz0OI_xSWQiw&pid=news)), The Associated Press on MSN.com)), https://www.msn.com/en-us/news/crime/ex-officer-convicted-in-george-floyd-s-killing-is-moved-to-new-prison-months-after-stabbing/ar-AA1p8hcT, null), List(null, ScienceAndTechnology, 2024-08-20T15:06:08.0000000Z, International publishers are overtaking local news brands in Google's Top stories, raising questions about search relevance., null, List(List(Google), List(United States), List(Search Engine Optimization)), Google’s Top stories looks broken: Are news publishers to blame?, List(List(Organization, List(List(https://www.bing.com/th?id=ODF.4QeTEYHGoXPpi_CNzqJApQ&pid=news)), Search Engine Land on MSN.com)), https://www.msn.com/en-us/news/technology/google-s-top-stories-looks-broken-are-news-publishers-to-blame/ar-AA1p7F2f, null), List(List(List(Jeremy Clarkson, https://api.bing.microsoft.com/api/v7/entities/ddc9900f-d3d1-a052-0176-298795c71eea), List(Cotswolds, https://api.bing.microsoft.com/api/v7/entities/ad6d3d8f-f997-84f9-b85b-2e8d230e869e), List(Top Gear, https://api.bing.microsoft.com/api/v7/entities/684e1cfe-24e4-56d2-5280-79a9f735d4c0), List(Oxfordshire, https://api.bing.microsoft.com/api/v7/entities/1eda598d-62bc-9a62-5694-ee4472f8dcf5), List(A40 road, https://api.bing.microsoft.com/api/v7/entities/6a526ebc-09bd-492b-2013-34b15eff861e), List(Burford, https://api.bing.microsoft.com/api/v7/entities/656326ab-f57e-e678-ef3b-bc3ecf4fcca2)), null, 2024-08-21T12:24:00.0000000Z, Jeremy Clarkson has revealed his new pub will open its doors to the public for the first time on Friday - and that the boozer has a new name. The former Top Gear presenter, 64, announced The Farmers Dog, in Oxfordshire will be ready just in time for the ..., List(List(https://www.bing.com/th?id=OVFT.3chxsk0zOuDA6CRPMMUjwC&pid=News, 393, 700)), null, Jeremy Clarkson announces his new Cotswolds pub will open this Friday and renames it 'The Farmer's Dog' - as presenter reveals plans for second Diddly Squat Farm Shop, List(List(Organization, null, Daily Mail)), https://www.dailymail.co.uk/news/article-13765077/Jeremy-Clarksons-new-pub-Farmers-Dog-open-Friday.html, null), List(List(List(Italy, https://api.bing.microsoft.com/api/v7/entities/09e8f885-427b-8850-947d-202e0287b9e8), List(Clifford Chance, https://api.bing.microsoft.com/api/v7/entities/97aad71a-30da-1d4d-ca3c-70ec80964c97)), null, 2024-08-20T20:25:00.0000000Z, Along with everyone else, we’re devastated by the news out of Italy concerning the ship. Our thoughts and prayers are with Chris’ family,” Elkan Abramowitz said., List(List(https://www.bing.com/th?id=OVFT.SNfjQJptmiZmQH85-9VM0y&pid=News, 577, 700)), null, New York Lawyers 'Stunned and Devastated' Over Chris Morvillo Disappearance, List(List(Organization, List(List(https://www.bing.com/th?id=ODF.0zEurQ1YsrHCOmHwthImcQ&pid=news)), Law)), https://www.law.com/newyorklawjournal/2024/08/20/new-york-lawyers-stunned-and-devastated-over-chris-morvillo-disappearance/, null), List(List(List(Donald Trump, https://api.bing.microsoft.com/api/v7/entities/1a466af2-ed23-25bd-794d-1ca925e4681b), List(Taylor Swift, https://api.bing.microsoft.com/api/v7/entities/98004a38-a3ea-b902-b6d3-687b30b54353), List(Chicago, https://api.bing.microsoft.com/api/v7/entities/28deeb39-ca49-4bd4-913b-929b1de4b25b), List(Democratic National Convention, https://api.bing.microsoft.com/api/v7/entities/eb5f527b-1e2d-86c2-e55c-1fc837f43499), List(Kamala Harris, https://api.bing.microsoft.com/api/v7/entities/ef5cf66f-32b7-7271-286a-8e8313eda5c5), List(Tech Billionaires: Elon Musk, https://api.bing.microsoft.com/api/v7/entities/c4fad87c-d4f0-ef0d-af23-19b1996e3053), List(Artificial intelligence, https://api.bing.microsoft.com/api/v7/entities/9d99fb44-edac-0e03-1579-19d8d8591a49)), Politics, 2024-08-20T19:50:00.0000000Z, Former President Donald Trump has been active on his social accounts as Democrats gather for their convention in Chicago, but many of his posts don’t have much to do with reality., List(List(https://www.bing.com/th?id=OVFT.8Wi-hOtIEoVH-QOlbnXtNS&pid=News, 367, 700)), null, Trump’s post of fake Taylor Swift endorsement is his latest embrace of AI-generated images, List(List(Organization, List(List(https://www.bing.com/th?id=ODF.AlMAEy7MoWNz0OI_xSWQiw&pid=news)), The Associated Press on MSN.com)), https://www.msn.com/en-us/news/politics/trump-s-post-of-fake-taylor-swift-endorsement-is-his-latest-embrace-of-ai-generated-images/ar-AA1p8ugH, null), List(List(List(Donald Trump, https://api.bing.microsoft.com/api/v7/entities/1a466af2-ed23-25bd-794d-1ca925e4681b), List(Leonardo DiCaprio, https://api.bing.microsoft.com/api/v7/entities/5f2c4ac2-d77a-474e-4580-c76549d4fce5), List(Diana, Princess of Wales, https://api.bing.microsoft.com/api/v7/entities/f4bf63ea-0b6c-58e0-4587-64927290483f), List(The Cheesecake Factory, https://api.bing.microsoft.com/api/v7/entities/513ac470-7772-1f4d-d4e1-2b4a6111ff19), List(AMC, https://api.bing.microsoft.com/api/v7/entities/c8f09f18-1dfb-b3c6-3daf-259b82271e22), List(The Grove, https://api.bing.microsoft.com/api/v7/entities/43e17dc7-c6c0-4009-ab03-44310e26b258)), null, 2024-08-20T16:29:00.0000000Z, Donald Trump said he's only going to speak behind bullet-proof glass at outdoor rallies after that failed assassination attempt. Now, a picture of him speaking behind glass on the 4th of July 2019 is going viral. 10 year-old me: I’m going to marry Leonardo DiCaprio my Princess Diana beanie baby: pic.twitter.com/Dni3Pfg9f8, List(List(https://www.bing.com/th?id=OVFT.5zc_9oceXEQ-NDjhBu09hC&pid=News, 464, 700)), null, This Picture Of Donald Trump Behind Bullet-Proof Glass Is Now A Unintentionally Hilarious New Meme, List(List(Organization, List(List(https://www.bing.com/th?id=ODF.zvLEjo304eZajOqoKLxUtA&pid=news)), Yahoo News Canada)), https://ca.yahoo.com/news/picture-donald-trump-behind-bullet-162934848.html, null), List(List(List(Stimulus, https://api.bing.microsoft.com/api/v7/entities/a20531eb-e559-ec38-f785-ccfe7eded6f7), List(Alaska, https://api.bing.microsoft.com/api/v7/entities/31c4c7a1-54e7-4306-ac9b-f1b02e85bda5)), Business, 2024-08-21T12:24:00.0000000Z, Alaskans will receive $1300 stimulus checks, offering crucial financial support amid global economic difficulties. This payment comes as part of the state's Permanent Fund Dividend (PFD) program, designed to provide ongoing economic benefits to residents ..., List(List(https://www.bing.com/th?id=OVFT.szrqyOBn23c_lD3hELsFhS&pid=News, 466, 700)), null, 1312 Stimulus Payment Eligibility: A new $1312 payment is coming next month, are you eligible to get it?, List(List(Organization, null, MARCA)), https://www.marca.com/en/lifestyle/us-news/personal-finance/2024/08/21/66c5d1e046163f57778b45b7.html, null), List(List(List(Andrew Tate, https://api.bing.microsoft.com/api/v7/entities/41f247b0-02b9-c01d-3fb2-f794db91e9c4), List(Romania, https://api.bing.microsoft.com/api/v7/entities/0cc489d5-ff53-84f1-4fcc-76525efef33a), List(Human trafficking, https://api.bing.microsoft.com/api/v7/entities/8e68768e-ecd5-4bf5-b732-28df9390a5e9), List(Rape, https://api.bing.microsoft.com/api/v7/entities/0cdc95b4-903a-9c9c-ad30-233321b50d1b), List(Bucharest, https://api.bing.microsoft.com/api/v7/entities/42022f97-112e-58a6-70f5-9536b20ee957), List(Ilfov County, https://api.bing.microsoft.com/api/v7/entities/d6b13ffc-3490-2609-746c-5b9daf56e5ee)), World, 2024-08-21T08:01:00.0000000Z, Dozens of police officers and forensic personnel were scouring Tate’s large property on the edge of the capital Bucharest., List(List(https://www.bing.com/th?id=OVFT.mTc07i_DZeeWpdB-0qGQVy&pid=News, 466, 700)), null, Police raid Andrew Tate’s home in Romania as new allegations emerge involving minors, List(List(Organization, List(List(https://www.bing.com/th?id=ODF.AlMAEy7MoWNz0OI_xSWQiw&pid=news)), The Associated Press - Business News on MSN.com)), https://www.msn.com/en-us/news/crime/police-raid-andrew-tates-home-in-romania-as-new-allegations-emerge-involving-minors/ar-AA1pabHH, null), List(List(List(Raheem Sterling, https://api.bing.microsoft.com/api/v7/entities/2c5f2a39-135c-560d-575f-dd7424d4ce82), List(Chelsea F.C., https://api.bing.microsoft.com/api/v7/entities/8346cd56-1a96-adb0-26e1-f3679d88e0ba), List(Enzo Maresca, https://api.bing.microsoft.com/api/v7/entities/57f409e7-f3be-4c3f-89a8-adb2b541771b), List(Manchester City F.C., https://api.bing.microsoft.com/api/v7/entities/8b357e7d-2cd9-6ebf-30d5-6794f62ce637), List(England, https://api.bing.microsoft.com/api/v7/entities/280d39e8-7217-6863-6980-a8c20c211c89), List(UEFA, https://api.bing.microsoft.com/api/v7/entities/bfd4adbc-7bef-3f42-8d9f-ea01eff9724b), List(Tosin Adarabioyo, https://api.bing.microsoft.com/api/v7/entities/4455aa90-9467-adad-ec92-ac8477ce200b)), Sports, 2024-08-21T08:51:00.0000000Z, Raheem Sterling’s Chelsea future has been called into question yet again after being left out of their squad to face Servette. It is is the second game in a row that Sterling has been axed, List(List(https://www.bing.com/th?id=OVFT.125GyMFOaI79S7q5wee39i&pid=News, 240, 360)), null, Raheem Sterling in new Chelsea low ahead of Europa Conference League clash with Servette as winger seeks ‘clarity’ over future, List(List(Organization, List(List(https://www.bing.com/th?id=ODF.1J7u2N62JGb2VrnCRlJIrw&pid=news)), Talksport)), https://talksport.com/football/2016586/chelsea-raheem-sterling-axed-squad-servette/, null), List(List(List(Connecticut, https://api.bing.microsoft.com/api/v7/entities/b3ca6523-435e-4a3b-8f78-1ad900a52cf8), List(New York, https://api.bing.microsoft.com/api/v7/entities/caeb7b9a-f5d7-4686-8fb5-cf7628296b13), List(Long Island, https://api.bing.microsoft.com/api/v7/entities/ef0c0f37-bad2-bd1a-ad90-888ea76346bb), List(National Weather Service, https://api.bing.microsoft.com/api/v7/entities/94765d39-8736-70dc-4819-8ed777a628f0)), null, 2024-08-20T14:53:00.0000000Z, The long and costly recovery effort has begun in Connecticut and New York after historic flooding caused sweeping damage over the weekend., List(List(https://www.bing.com/th?id=OVFT.QYEhaDqKNF6mcFrPntmwkS&pid=News, 393, 700)), null, Long recovery underway after deadly and destructive floods ravage Connecticut, New York, List(List(Organization, List(List(https://www.bing.com/th?id=ODF.m1iod5ODNIyyKu23kGIllQ&pid=news)), USA Today)), https://www.usatoday.com/story/news/nation/2024/08/20/connecticut-ny-flooding-recovery/74868830007/, null), List(List(List(Norwich, https://api.bing.microsoft.com/api/v7/entities/984fdffb-7ef3-de93-5b19-44454e228884)), null, 2024-08-21T05:47:44.0000000Z, Gemma Hyde, from Norwich's Castle Quarter shopping centre, wants to help families who cannot afford new uniforms., List(List(https://www.bing.com/th?id=OVFT.9H0g3ziXxwQAvQEZdJYC4C&pid=News, 393, 700)), List(List(Free school), List(School uniform), List(Pop-up ad)), Free school uniform 'pop-up' to ease cost of new term, List(List(Organization, List(List(https://www.bing.com/th?id=ODF.k3N4DqozNjgK376rAnFmsA&pid=news)), BBC on MSN.com)), https://www.msn.com/en-us/news/world/free-school-uniform-pop-up-to-ease-cost-of-new-term/ar-AA1p9J8f, null), List(List(List(Libya, https://api.bing.microsoft.com/api/v7/entities/b4e5604e-361e-ab37-6516-4cf5580a04aa)), null, 2024-08-21T13:25:00.0000000Z, Home Affairs minister Leon Schreiber says that “the system will always be down” at this department unless it takes a page out of SARS’ book., List(List(https://www.bing.com/th?id=OVFT.aXKlyww6SuBIGM_5M90VTC&pid=News, 393, 700)), null, Home Affairs wants to be the new SARS, List(List(Organization, List(List(https://www.bing.com/th?id=ODF.HeMcjfJp8OYTNknyI2IN7Q&pid=news)), businesstech.co.za)), https://businesstech.co.za/news/government/787740/home-affairs-wants-to-be-the-new-sars/, null), List(List(List(Gamescom, https://api.bing.microsoft.com/api/v7/entities/b17f0fd6-503a-c7ea-7e09-3795cff5e623), List(Borderlands, https://api.bing.microsoft.com/api/v7/entities/de3ec702-729a-972a-78f1-5d68add173f0), List(Gearbox Software, https://api.bing.microsoft.com/api/v7/entities/b3fa876a-8896-453a-ee5f-7b18a932feb9), List(Bethesda Game Studios, https://api.bing.microsoft.com/api/v7/entities/d9bc865e-0d24-4e3d-8537-4efd22be15f2), List(Borderlands 3, https://api.bing.microsoft.com/api/v7/entities/6e7a8481-3216-5168-be94-f09856320b94), List(Borderlands 2, https://api.bing.microsoft.com/api/v7/entities/f0fe13f3-31d5-de9b-4470-7dc86447427d)), ScienceAndTechnology, 2024-08-20T22:58:00.0000000Z, There’s not an exact release date yet, but Borderlands 4 is slated for a 2025 release so we won’t have to wait long. It’s been five years since Borderlands 3 came out, and that game didn’t inspire the kind of hype and widespread praise that Borderlands 2 received at launch., List(List(https://www.bing.com/th?id=OVFT.hAXz8WNGPQO7507zYSZQFS&pid=News, 337, 600)), null, ‘Borderlands 4’ Announced With A Surprising Release Window And A New Trailer, List(List(Organization, List(List(https://www.bing.com/th?id=ODF.U6nYa4Huf-RFEhjg-V4hNg&pid=news)), Forbes)), https://www.forbes.com/sites/erikkain/2024/08/20/borderlands-4-announced-with-a-surprising-release-window-and-a-new-trailer/, List(null, null, ‘Borderlands 4’ Announced With A Surprising Release Window And A New Trailer, List(292, 520), https://www.bing.com/th?id=OVF.XipcomA3hntaDDc%2Bszyhtw&pid=News)), List(List(List(Kaiser Permanente, https://api.bing.microsoft.com/api/v7/entities/fa8bca5f-ac75-3fe3-9d30-1896f04572ba), List(California, https://api.bing.microsoft.com/api/v7/entities/3009d91d-d582-4c34-85ba-772ba09e5be1), List(Albany, New York, https://api.bing.microsoft.com/api/v7/entities/62ca8245-972e-448d-af38-345d4a958798)), null, 2024-08-21T10:00:33.0000000Z, Nearly three years after wheelchair user Beth Smith sued Kaiser for capping coverage well below the costs of many motorized chairs, the Albany resident is slated to get thousands of dollars for a new chair. Smith, 64, was among the plaintiffs in a class ..., List(List(https://www.bing.com/th?id=OVFT.kaf4Lq8Ul61EB9pt0r57Mi&pid=News, 367, 700)), List(List(California), List(Kaiser Family Foundation), List(Wheelchair)), Years after lawsuit, Kaiser will pay for new wheelchair for California woman, List(List(Organization, null, Los Angeles Times on MSN.com)), https://www.msn.com/en-us/news/other/years-after-lawsuit-kaiser-will-pay-for-new-wheelchair-for-california-woman/ar-AA1paJ71, null), List(List(List(Coal, https://api.bing.microsoft.com/api/v7/entities/91cf2898-c1b2-4266-65ac-cb7e03a4bfa0), List(Natural gas, https://api.bing.microsoft.com/api/v7/entities/0f2df4e3-f260-d13a-8235-bf64bd7f79b1), List(Pennsylvania, https://api.bing.microsoft.com/api/v7/entities/6304580e-c803-4266-818a-971619176547), List(United States Environmental Protection Agency, https://api.bing.microsoft.com/api/v7/entities/4e6838b4-41a3-4674-aed3-3b4908acbd6b)), LifeStyle, 2024-08-20T22:36:30.0000000Z, Former President Trump said that if elected, he will reverse the Biden-Harris administration's EPA rule that requires coal and natural gas power plants to cut emissions by 90%., List(List(https://www.bing.com/th?id=OVFT.rjqTLX6uTjc4KmDS728YPC&pid=News, 393, 700)), null, Trump vows to repeal new EPA power plant rule, List(List(Organization, List(List(https://www.bing.com/th?id=ODF.GimbRbdxNxZt1GEL5O0AJg&pid=news)), FOX News on MSN.com)), https://www.msn.com/en-us/news/politics/trump-vows-to-repeal-new-epa-power-plant-rule/ar-AA1p8IoF, null), List(List(List(Mario Lopez, https://api.bing.microsoft.com/api/v7/entities/960f54aa-52b2-b6cf-2242-2066d6b8b322), List(Reel, https://api.bing.microsoft.com/api/v7/entities/cbb2fa82-62c4-c330-680a-1377c8c969e8), List(Instagram, https://api.bing.microsoft.com/api/v7/entities/a2113d26-7976-df57-241f-77b7bbb1b4f7)), Entertainment, 2024-08-20T21:07:52.0000000Z, Mario Lopez's kids are heading back to the classroom. On Tuesday, Aug. 20, the proud dad, 50, posted a Reel on his Instagram as he shared that his three kids — daughter Gia, 13, and sons Dominic, 10, and Santino, 5, whom he shares with wife Courtney — were celebrating their first day of school., List(List(https://www.bing.com/th?id=OVFT.3hDTCHPYPzA8wkEnSkWqji&pid=News, 466, 700)), null, Mario Lopez Shares That All 3 of His Kids Are 'Officially Back to School' in Adorable New Photos, List(List(Organization, List(List(https://www.bing.com/th?id=ODF.kridaNmIIz5AdgcUGG5eBQ&pid=news)), People on MSN.com)), https://www.msn.com/en-us/lifestyle/lifestyle-buzz/mario-lopez-shares-that-all-3-of-his-kids-are-officially-back-to-school-in-adorable-new-photos/ar-AA1p8Eos, null), List(List(List(Robert F. Kennedy, https://api.bing.microsoft.com/api/v7/entities/367cc99b-d308-8104-8e05-1fd1a98862da), List(Chicago, https://api.bing.microsoft.com/api/v7/entities/28deeb39-ca49-4bd4-913b-929b1de4b25b), List(Robert F. Kennedy Jr., https://api.bing.microsoft.com/api/v7/entities/e045d327-0fdc-d12c-b847-d1c25c43331e), List(Kamala Harris, https://api.bing.microsoft.com/api/v7/entities/ef5cf66f-32b7-7271-286a-8e8313eda5c5), List(CNN, https://api.bing.microsoft.com/api/v7/entities/c4c637e5-f9cc-a3ed-3380-7152515e062e), List(Donald Trump, https://api.bing.microsoft.com/api/v7/entities/1a466af2-ed23-25bd-794d-1ca925e4681b)), Politics, 2024-08-20T22:06:00.0000000Z, Robert F. Kennedy Jr.'s running mate Nicole Shanahan said the Kennedy campaign is considering dropping out of the race and endorsing former President Donald Trump., List(List(https://www.bing.com/th?id=OVFT.5M93eu2lyXiSl5xHEZCOqS&pid=News, 393, 700)), null, RFK Jr. news: Kennedy running mate says campaign considering dropping out, endorsing Trump, List(List(Organization, List(List(https://www.bing.com/th?id=ODF.t0BGYosS4GKZSebCajKQGA&pid=news)), CNN on MSN.com)), https://www.msn.com/en-us/news/politics/rfk-jr-running-mate-shanahan-says-they-re-considering-endorsing-trump/ar-AA1p8ncv, List(true, <iframe width=\"476\" height=\"267\" src=\"https://abc13.com/video/embed/?pid=15210325\" scrolling=\"no\" frameborder=\"0\" allowfullscreen></iframe>, RFK Jr. news: Kennedy running mate says campaign considering dropping out, endorsing Trump, List(292, 520), https://www.bing.com/th?id=OVF.vYkNufdLB8IfHSRzC%2FU40Q&pid=News)), List(null, null, 2024-08-20T15:30:00.0000000Z, As corporate ESG takes new forms and tackles new attacks in a contentious election ... Recommended Newsletter: CEO Daily provides key context for the news leaders need to know from across the world of business. Every weekday morning, more than 125,000 ..., null, null, Fortune Impact Initiative 2024 livestream, List(List(Organization, null, Fortune)), https://fortune.com/article/fortune-impact-initiative-2024-livestream/, null), List(null, ScienceAndTechnology, 2024-08-20T20:01:00.0000000Z, Capcom during Gamescom Opening Night Live released a new trailer for Monster Hunter Wilds.View the trailer below:Read details [...], null, null, Monster Hunter Wilds Gets Gamescom 2024 Trailer - News, List(List(Organization, List(List(https://www.bing.com/th?id=ODF.kKXt-MKV3fmSaC3dmthHzw&pid=news)), VG Chartz)), https://www.vgchartz.com/article/462147/monster-hunter-wilds-gets-gamescom-2024-trailer/, null))</td></tr></tbody></table></div>"
      ]
     },
     "metadata": {
      "application/vnd.databricks.v1+output": {
       "addedWidgets": {},
       "aggData": [],
       "aggError": "",
       "aggOverflow": false,
       "aggSchema": [],
       "aggSeriesLimitReached": false,
       "aggType": "",
       "arguments": {},
       "columnCustomDisplayInfos": {},
       "data": [
        [
         [
          [
           [
            [
             "Collingwood Football Club",
             "https://api.bing.microsoft.com/api/v7/entities/2b8ee05b-110f-8fe8-2bec-9dd0fd2b1ed3"
            ],
            [
             "Magpie",
             "https://api.bing.microsoft.com/api/v7/entities/e1d0c98b-9776-3aa3-7dc5-25d6890f1fd6"
            ],
            [
             "Melbourne, Florida",
             "https://api.bing.microsoft.com/api/v7/entities/ea28914f-957c-4e18-9ac2-3540ad2b69d4"
            ],
            [
             "Carlton Football Club",
             "https://api.bing.microsoft.com/api/v7/entities/07f3d7ba-97fb-a77b-4947-5744a53fe85a"
            ],
            [
             "Hawthorn, Victoria",
             "https://api.bing.microsoft.com/api/v7/entities/0d29178c-c5ba-de2a-0399-eb10fe68d2c6"
            ],
            [
             "Justin Leppitsch",
             "https://api.bing.microsoft.com/api/v7/entities/79e384f1-fb18-cd1b-0738-ea19a836c054"
            ],
            [
             "AFL Grand Final",
             "https://api.bing.microsoft.com/api/v7/entities/16483451-1a09-c4a4-9dce-a4ee97bf6864"
            ]
           ],
           "Sports",
           "2024-08-21T05:27:00.0000000Z",
           "Collingwood coach Craig McRae says the Magpies will reflect on whether not immediately replacing Graham Wright was a costly decision in their failed premiership defence.",
           [
            [
             "https://www.bing.com/th?id=OVFT.heV62v0FtSBSxbUXHZ5vbS&pid=News",
             393,
             700
            ]
           ],
           null,
           "AFL 2024: Collingwood Magpies will search to replace football boss Graham Wright, Craig McRae comments, latest news",
           [
            [
             "Organization",
             [
              [
               "https://www.bing.com/th?id=ODF.9yJS4wi2nUtsfM87Lf-3FA&pid=news"
              ]
             ],
             "NewsWire on MSN.com"
            ]
           ],
           "https://www.msn.com/en-au/sport/other/coach-s-difficult-parting-from-incredible-mentor/ar-AA1p9yg9",
           null
          ],
          [
           [
            [
             "Everton F.C.",
             "https://api.bing.microsoft.com/api/v7/entities/08c4e442-93ae-e0fe-a73b-f76f5259a171"
            ],
            [
             "Neal Maupay",
             "https://api.bing.microsoft.com/api/v7/entities/2c2d83d1-f8e5-434b-8ca8-d19a13caf063"
            ],
            [
             "Éric Junior Dina Ebimbe",
             "https://api.bing.microsoft.com/api/v7/entities/75381052-a5ba-1a96-309a-39be49525b63"
            ],
            [
             "Queens Park Rangers F.C.",
             "https://api.bing.microsoft.com/api/v7/entities/c82952e8-3b21-d425-48f5-42cf7a89190b"
            ],
            [
             "Goodison Park",
             "https://api.bing.microsoft.com/api/v7/entities/dde25d4f-6bc8-e22c-bb2c-26173d7d3326"
            ],
            [
             "Jack Harrison",
             "https://api.bing.microsoft.com/api/v7/entities/f0496807-c933-fe07-8017-97500cc1abf3"
            ],
            [
             "Jesper Lindstrøm",
             "https://api.bing.microsoft.com/api/v7/entities/2110b922-1830-29cd-78e8-e85a0297da36"
            ],
            [
             "Merseyside",
             "https://api.bing.microsoft.com/api/v7/entities/8e04c30f-763f-780e-c01f-ccd70d51e4f7"
            ],
            [
             "Amadou Onana",
             "https://api.bing.microsoft.com/api/v7/entities/1ca66a06-53cd-7959-48a4-bfdc53e7576e"
            ],
            [
             "Lewis Dobbin",
             "https://api.bing.microsoft.com/api/v7/entities/800f86ff-82f6-3a07-dc80-66956ca0a201"
            ],
            [
             "Ben Godfrey",
             "https://api.bing.microsoft.com/api/v7/entities/787cc42b-c36e-7edb-80c3-f0f0b00c12d1"
            ]
           ],
           "Sports",
           "2024-08-21T11:14:00.0000000Z",
           "Latest Everton transfer and takeover news, including updates as Asmir Begovic is in talks to return to the Blues",
           [
            [
             "https://www.bing.com/th?id=OVFT.XXPqfesC-Oli8IE5HlY5di&pid=News",
             367,
             700
            ]
           ],
           null,
           "Everton transfer news LIVE - Neal Maupay future, Mason Holgate enquiry Junior Dina Ebimbe talks,",
           [
            [
             "Organization",
             [
              [
               "https://www.bing.com/th?id=ODF.lMNuYaPYFKYNaBUKNyUFHg&pid=news"
              ]
             ],
             "Liverpool Echo"
            ]
           ],
           "https://www.liverpoolecho.co.uk/sport/football/transfer-news/everton-takeover-transfer-news-live-29765334",
           null
          ],
          [
           [
            [
             "Fox News",
             "https://api.bing.microsoft.com/api/v7/entities/273e0477-30ed-3993-f232-f39244306805"
            ],
            [
             "Nicole Parker",
             "https://api.bing.microsoft.com/api/v7/entities/25d1f86e-5ab4-2c3d-f7a3-42ef954824fa"
            ],
            [
             "Chicago",
             "https://api.bing.microsoft.com/api/v7/entities/7c09b50c-bc53-55c3-7fea-0f08e11b091f"
            ]
           ],
           null,
           "2024-08-21T10:35:00.0000000Z",
           "Fox News contributor Nicole Parker joined 'Fox News @ Night' to discuss her reaction to the new video and how crime has ravaged Chicago amid DNC week.",
           [
            [
             "https://www.bing.com/th?id=OVFT.oEZQRduXmf_DcySOZ51dki&pid=News",
             350,
             700
            ]
           ],
           null,
           "Chilling new video shows Trump shooter walking around rally before assassination attempt",
           [
            [
             "Organization",
             null,
             "Fox News"
            ]
           ],
           "https://www.foxnews.com/video/6360751017112",
           null
          ],
          [
           [
            [
             "Arsenal F.C.",
             "https://api.bing.microsoft.com/api/v7/entities/8b3b4135-cb8e-ded8-10ce-8f130d64b863"
            ],
            [
             "Mikel Merino",
             "https://api.bing.microsoft.com/api/v7/entities/e2365c49-c2b6-aff5-437d-72f2ca96a378"
            ],
            [
             "Aaron Ramsdale",
             "https://api.bing.microsoft.com/api/v7/entities/0bf35c7f-e8e0-4291-6273-e21a1b2ff24d"
            ],
            [
             "Eddie Nketiah",
             "https://api.bing.microsoft.com/api/v7/entities/8dfce5e6-cc68-2cc9-a6b1-275133d70dbc"
            ],
            [
             "Ivan Toney",
             "https://api.bing.microsoft.com/api/v7/entities/98358ca1-1bd6-4cee-aff4-5b93c811f416"
            ],
            [
             "Victor Osimhen",
             "https://api.bing.microsoft.com/api/v7/entities/09506725-12aa-3157-6831-985cefbf9e30"
            ],
            [
             "Premier League",
             "https://api.bing.microsoft.com/api/v7/entities/02bde011-1e9d-3aff-8309-7d07d4031798"
            ],
            [
             "Aston Villa F.C.",
             "https://api.bing.microsoft.com/api/v7/entities/d689e389-cacc-0912-28ee-039d79661230"
            ],
            [
             "Mikel Arteta",
             "https://api.bing.microsoft.com/api/v7/entities/46cbb218-c295-c257-be2c-7d8179c02488"
            ],
            [
             "Villa Park",
             "https://api.bing.microsoft.com/api/v7/entities/1e177ead-ba8d-0da5-91f2-f4f4f1d1b5d0"
            ],
            [
             "Real Sociedad",
             "https://api.bing.microsoft.com/api/v7/entities/3fb625f1-1a17-767a-8c2a-84ee6d7c201c"
            ],
            [
             "Newcastle United F.C.",
             "https://api.bing.microsoft.com/api/v7/entities/d36b1961-7548-2202-311b-d6a69037d67d"
            ],
            [
             "Alexander Isak",
             "https://api.bing.microsoft.com/api/v7/entities/f7da1aac-7d71-56d0-fff9-fdfa217be4bf"
            ]
           ],
           "Sports",
           "2024-08-21T05:21:00.0000000Z",
           "The latest Arsenal transfer news and rumours from football.london including updates on Eddie Nketiah, Mikel Merino, Ivan Toney, Aaron Ramsdale and Victor Osimhen",
           [
            [
             "https://www.bing.com/th?id=OVFT.Yh0-vWC2lksh9dRA2nbt-S&pid=News",
             367,
             700
            ]
           ],
           null,
           "Arsenal transfer news LIVE Mikel Merino positive update, Nketiah agreement, Ramsdale update",
           [
            [
             "Organization",
             [
              [
               "https://www.bing.com/th?id=ODF.Xm0enA-z_fuiMX5FvKt4cw&pid=news"
              ]
             ],
             "football"
            ]
           ],
           "https://www.football.london/arsenal-fc/transfer-news/arsenal-transfer-news-live-mikel-29779140",
           null
          ],
          [
           [
            [
             "Greg Gutfeld",
             "https://api.bing.microsoft.com/api/v7/entities/1920980b-8c33-331b-4eae-8fcff3d90d18"
            ],
            [
             "Kamala Harris",
             "https://api.bing.microsoft.com/api/v7/entities/ef5cf66f-32b7-7271-286a-8e8313eda5c5"
            ],
            [
             "Fox News",
             "https://api.bing.microsoft.com/api/v7/entities/273e0477-30ed-3993-f232-f39244306805"
            ],
            [
             "2024 Democratic National Convention",
             "https://api.bing.microsoft.com/api/v7/entities/6dd65316-4aa2-030b-7347-183b38ff121a"
            ]
           ],
           null,
           "2024-08-21T04:26:00.0000000Z",
           "Fox News host Greg Gutfeld gives his take on the second night of the 2024 Democratic National Convention on 'Gutfeld!'",
           [
            [
             "https://www.bing.com/th?id=OVFT.EzJ3ljePNP2mcjDSXpqUIy&pid=News",
             350,
             700
            ]
           ],
           null,
           "Greg Gutfeld: Democrats needed a new narrative, and Kamala Harris is it",
           [
            [
             "Organization",
             null,
             "Fox News"
            ]
           ],
           "https://www.foxnews.com/video/6360732761112",
           null
          ],
          [
           [
            [
             "Boston Bruins",
             "https://api.bing.microsoft.com/api/v7/entities/7372c7cf-eeed-88a9-0522-63e96eaf6448"
            ],
            [
             "Atlantic Division",
             "https://api.bing.microsoft.com/api/v7/entities/d7c8ec8b-e4b9-0223-9599-8360afbc63dd"
            ],
            [
             "Columbus Blue Jackets",
             "https://api.bing.microsoft.com/api/v7/entities/74c60977-6e3a-c88b-ab1a-8f4a3e785885"
            ],
            [
             "Patrik Laine",
             "https://api.bing.microsoft.com/api/v7/entities/894c470a-7378-a9c8-043f-bf221b20140f"
            ],
            [
             "Montreal Canadiens",
             "https://api.bing.microsoft.com/api/v7/entities/e65755db-2635-6bc8-99f9-0e5cff3aa813"
            ]
           ],
           "Sports",
           "2024-08-20T16:39:03.0000000Z",
           "On Monday, the Columbus Blue Jackets traded Patrik Laine and a 2026 second-round pick to the Montreal Canadiens in exchange for defenseman Jordan Harris. With this move, one of the Bruins' biggest rivals, the Canadiens, have notably improved their forward group.",
           [
            [
             "https://www.bing.com/th?id=OVFT.D8jUx5QGIwRX3G91Wo3KdC&pid=News",
             466,
             700
            ]
           ],
           [
            [
             "Boston Bruins"
            ],
            [
             "Analysis"
            ],
            [
             "National Hockey League"
            ]
           ],
           "Bruins Have New Star to Deal With In Atlantic",
           [
            [
             "Organization",
             [
              [
               "https://www.bing.com/th?id=ODF.yNx4KYuMgiOCU3nI9qTmtQ&pid=news"
              ]
             ],
             "The Hockey News on MSN.com"
            ]
           ],
           "https://www.msn.com/en-us/sports/nhl/bruins-have-new-star-to-deal-with-in-atlantic/ar-AA1p88Tr",
           null
          ],
          [
           null,
           null,
           "2024-08-21T14:11:00.0000000Z",
           "The bodies of two of the six people missing after a yacht sank off the Sicily coast have been found. Search efforts have entered a third day, after the captain was reportedly questioned by Italian prosecutors over the sinking.",
           [
            [
             "https://www.bing.com/th?id=OVFT.Z89qPj7prCz9if78PBrPuS&pid=News",
             393,
             700
            ]
           ],
           null,
           "Superyacht sinks latest: Two bodies found in search for survivors",
           [
            [
             "Organization",
             [
              [
               "https://www.bing.com/th?id=ODF.Eg62H9DIbo-JYPI6GpAgGA&pid=news"
              ]
             ],
             "Sky"
            ]
           ],
           "https://news.sky.com/story/superyacht-sinks-latest-two-bodies-found-in-search-for-survivors-13199663",
           null
          ],
          [
           [
            [
             "Wisconsin",
             "https://api.bing.microsoft.com/api/v7/entities/cb4d2853-06f4-4467-8e7c-4e31cbb35cb2"
            ],
            [
             "Madison, Wisconsin",
             "https://api.bing.microsoft.com/api/v7/entities/65426cc9-93eb-4569-8c2e-3b7c1b070278"
            ],
            [
             "NBC News",
             "https://api.bing.microsoft.com/api/v7/entities/90fd2ef2-8123-de59-2b1f-ccd033454a4a"
            ],
            [
             "Israel",
             "https://api.bing.microsoft.com/api/v7/entities/1ffafed3-2b37-b871-c271-aa855d98449a"
            ],
            [
             "Hamas",
             "https://api.bing.microsoft.com/api/v7/entities/fd56a0c1-5b09-6e40-09dc-a8abf5069c30"
            ]
           ],
           "Politics",
           "2024-08-21T01:08:00.0000000Z",
           "Biden may have had an irreparable rift with young voters. Some who were turned off by him are more interested in Harris, though issues including Gaza remain sticking points.",
           [
            [
             "https://www.bing.com/th?id=OVFT.cpHMozEZHpl6nL7HbmAqYC&pid=News",
             367,
             700
            ]
           ],
           null,
           "Young voters take a new look at Harris, but some are waiting instead of committing",
           [
            [
             "Organization",
             [
              [
               "https://www.bing.com/th?id=ODF.ighWNnrr5MMFUs8WKMme2A&pid=news"
              ]
             ],
             "NBC News on MSN.com"
            ]
           ],
           "https://www.msn.com/en-us/news/other/young-voters-take-a-new-look-at-harris-but-some-are-waiting-instead-of-committing/ar-AA1p99hv",
           null
          ],
          [
           [
            [
             "Manchester United F.C.",
             "https://api.bing.microsoft.com/api/v7/entities/064ce28e-ed07-a026-2f79-1b321d7548ea"
            ],
            [
             "Scott McTominay",
             "https://api.bing.microsoft.com/api/v7/entities/0d7f1ad6-7445-be60-fae6-be8f6834b0ec"
            ],
            [
             "Christian Eriksen",
             "https://api.bing.microsoft.com/api/v7/entities/5300fd8a-fc99-435a-b1d8-3490e4228f87"
            ],
            [
             "The Red Devils",
             "https://api.bing.microsoft.com/api/v7/entities/d8dea608-ca10-ab4f-17b8-e56a4017a2c5"
            ],
            [
             "Joshua Zirkzee",
             "https://api.bing.microsoft.com/api/v7/entities/8fe167ac-7cc5-ccae-ca7f-86177823ad58"
            ],
            [
             "Matthijs de Ligt",
             "https://api.bing.microsoft.com/api/v7/entities/f9875452-9ecf-c3e6-7e46-1dbc87f172f1"
            ],
            [
             "Noussair Mazraoui",
             "https://api.bing.microsoft.com/api/v7/entities/ecdea285-86d1-ccdf-2115-a4415a845794"
            ],
            [
             "Paris Saint-Germain F.C.",
             "https://api.bing.microsoft.com/api/v7/entities/67266d4d-2667-f33f-7d3e-ae1225abff86"
            ],
            [
             "Federico Chiesa",
             "https://api.bing.microsoft.com/api/v7/entities/3ee194eb-adf7-709d-7172-2fc8d91f72a5"
            ],
            [
             "Ivan Toney",
             "https://api.bing.microsoft.com/api/v7/entities/98358ca1-1bd6-4cee-aff4-5b93c811f416"
            ],
            [
             "Ben Chilwell",
             "https://api.bing.microsoft.com/api/v7/entities/d7ca1fbb-f3df-3e53-cfa2-323dc6ffc2f4"
            ]
           ],
           "Sports",
           "2024-08-21T14:03:00.0000000Z",
           "Manchester United still have plenty of transfer business to complete in the final week of the window and could yet sign Manuel Ugarte while Scott McTominay, Christian Eriksen and Casemiro could depart",
           [
            [
             "https://www.bing.com/th?id=OVFT.LBYdNNfY8kIhGkyEitiWcC&pid=News",
             367,
             700
            ]
           ],
           null,
           "Man Utd transfer news LIVE: Medical booked, Manuel Ugarte breakthrough, United complete loan deal",
           [
            [
             "Organization",
             [
              [
               "https://www.bing.com/th?id=ODF.CWDfHbZtL9U2bsuN-kn_-w&pid=news"
              ]
             ],
             "The Mirror"
            ]
           ],
           "https://www.mirror.co.uk/sport/football/transfer-news/man-utd-transfer-news-live-33491446",
           null
          ],
          [
           null,
           null,
           "2024-08-21T14:01:00.0000000Z",
           "James Cutfield, 51, who is from New Zealand, was quizzed until late yesterday evening to help reconstruct what happened and provide useful technical details, reports the Italian news agency ANSA. His brother Mark earlier told the New Zealand Herald he was ...",
           [
            [
             "https://www.bing.com/th?id=OVFT.Z89qPj7prCz9if78PBrPuS&pid=News",
             393,
             700
            ]
           ],
           null,
           "Superyacht sinks latest: Two bodies found after superyacht sinking",
           [
            [
             "Organization",
             null,
             "Sky"
            ]
           ],
           "https://news.sky.com/story/superyacht-sinks-latest-two-bodies-found-after-superyacht-sinking-13199663",
           null
          ],
          [
           [
            [
             "Red tape",
             "https://api.bing.microsoft.com/api/v7/entities/8c2f0c5c-25f8-7b89-35d0-896f2e34cb10"
            ],
            [
             "David Seymour",
             "https://api.bing.microsoft.com/api/v7/entities/91f7fd7e-ec2a-7184-cfe2-0ae41a1f4e74"
            ],
            [
             "Green Party",
             "https://api.bing.microsoft.com/api/v7/entities/257da6f4-91db-2e8a-12f6-05f7564f1b6c"
            ],
            [
             "The Washington Post",
             "https://api.bing.microsoft.com/api/v7/entities/7802f29d-d7cc-5e6f-de8a-63a5a1a2f17f"
            ]
           ],
           "Business",
           "2024-08-21T00:44:19.0000000Z",
           "The anti-red tape department is overseen by the ACT leader, who secured its creation during coalition negotiations last year.",
           [
            [
             "https://www.bing.com/th?id=OVFT.8T_ZT9AFU_NRZyqF5ygy9C&pid=News",
             367,
             700
            ]
           ],
           [
            [
             "Public sector"
            ],
            [
             "Ministry"
            ],
            [
             "Radio New Zealand"
            ]
           ],
           "New ministry paying staff average salary of $150k despite public sector job cuts",
           [
            [
             "Organization",
             [
              [
               "https://www.bing.com/th?id=ODF.KbRIMdbKqxc2CRUKwuqxSg&pid=news"
              ]
             ],
             "rnz on MSN.com"
            ]
           ],
           "https://www.msn.com/en-nz/news/other/new-ministry-paying-staff-average-salary-of-150k-despite-public-sector-job-cuts/ar-AA1p8XpE",
           null
          ],
          [
           [
            [
             "WeTransfer",
             "https://api.bing.microsoft.com/api/v7/entities/e72d073e-df1f-40e7-b64c-44edd9d7705b"
            ]
           ],
           "ScienceAndTechnology",
           "2024-08-21T11:33:48.0000000Z",
           "Cloud-based file transfer platform WeTransfer has unveiled a new ‘Save for Later’ feature on its mobile app in a bid to address one of the platform’s biggest user frustrations – expired download links.",
           [
            [
             "https://www.bing.com/th?id=OVFT.fBm1F3cu92FG7PZA1V-Q8S&pid=News",
             393,
             700
            ]
           ],
           [
            [
             "WeTransfer"
            ],
            [
             "TechRadar"
            ],
            [
             "The gospel"
            ]
           ],
           "Good news file fans - WeTransfer links will no longer expire",
           [
            [
             "Organization",
             [
              [
               "https://www.bing.com/th?id=ODF.HUwxplx_rx0g5pzCy5_Wwg&pid=news"
              ]
             ],
             "TechRadar on MSN.com"
            ]
           ],
           "https://www.msn.com/en-us/news/technology/good-news-file-fans-wetransfer-links-will-no-longer-expire/ar-AA1pbk5K",
           null
          ],
          [
           [
            [
             "North Vancouver",
             "https://api.bing.microsoft.com/api/v7/entities/dff5cb1b-3df4-7b9b-6057-8473e9953cb2"
            ],
            [
             "Royal Canadian Mounted Police",
             "https://api.bing.microsoft.com/api/v7/entities/e0c66ab1-c3c1-2e91-675b-983872f887ef"
            ]
           ],
           "Canada",
           "2024-08-20T20:07:00.0000000Z",
           "Police in North Vancouver, B.C., say homicide investigators have been called in after a woman and girl died from falling off an apartment balcony. RCMP initially said officers responded to reports that two \"females\" had fallen from the building on East Esplanade in the city's Shipyards area at 4:30 a.m. Tuesday.",
           [
            [
             "https://www.bing.com/th?id=OVFT.xaYdLrWgR019S1k86hKXIC&pid=News",
             349,
             620
            ]
           ],
           null,
           "Homicide investigators called in after woman and girl die in North Vancouver balcony fall",
           [
            [
             "Organization",
             [
              [
               "https://www.bing.com/th?id=ODF.4NbuPrmIxu0JD126LE1gxQ&pid=news"
              ]
             ],
             "CBC.ca"
            ]
           ],
           "https://www.cbc.ca/news/canada/british-columbia/woman-and-girl-die-in-balcony-fall-1.7300061",
           null
          ],
          [
           [
            [
             "Aston Villa F.C.",
             "https://api.bing.microsoft.com/api/v7/entities/d689e389-cacc-0912-28ee-039d79661230"
            ],
            [
             "Álex Moreno",
             "https://api.bing.microsoft.com/api/v7/entities/ccba0daa-1602-52f1-5cd2-6ad22e9f95b7"
            ],
            [
             "Villa Park",
             "https://api.bing.microsoft.com/api/v7/entities/1e177ead-ba8d-0da5-91f2-f4f4f1d1b5d0"
            ],
            [
             "Amadou Onana",
             "https://api.bing.microsoft.com/api/v7/entities/1ca66a06-53cd-7959-48a4-bfdc53e7576e"
            ],
            [
             "Everton F.C.",
             "https://api.bing.microsoft.com/api/v7/entities/08c4e442-93ae-e0fe-a73b-f76f5259a171"
            ],
            [
             "Douglas Luiz",
             "https://api.bing.microsoft.com/api/v7/entities/e4d0e312-8441-3d8b-6167-12496e2b71bc"
            ],
            [
             "Moussa Diaby",
             "https://api.bing.microsoft.com/api/v7/entities/d25af0c6-d803-93ff-a62d-2bf4b96202c5"
            ],
            [
             "Unai Emery",
             "https://api.bing.microsoft.com/api/v7/entities/bdfda59a-e857-f629-caa7-aa1072c5ce90"
            ],
            [
             "Atlético Madrid",
             "https://api.bing.microsoft.com/api/v7/entities/b1132d17-4fd3-ba7d-39df-de416b1e6090"
            ],
            [
             "Premier League",
             "https://api.bing.microsoft.com/api/v7/entities/02bde011-1e9d-3aff-8309-7d07d4031798"
            ],
            [
             "Chelsea F.C.",
             "https://api.bing.microsoft.com/api/v7/entities/8346cd56-1a96-adb0-26e1-f3679d88e0ba"
            ]
           ],
           "Sports",
           "2024-08-21T06:15:00.0000000Z",
           "Aston Villa have confirmed Lamare Bogarde has signed a new contract with the club. The 20-year-old is highly-rated by Unai Emery, who used him in each of the club's even pre-season friendlies. Bogarde impressed in defence and in a holding midfield role earlier this summer.",
           [
            [
             "https://www.bing.com/th?id=OVFT.AcMIIgk-gkK3Yn74tqkq2y&pid=News",
             367,
             700
            ]
           ],
           null,
           "Aston Villa transfer news live Joe Gomez twist, Alex Moreno medical, Samuel Iling-Junior latest",
           [
            [
             "Organization",
             [
              [
               "https://www.bing.com/th?id=ODF.jPou0vlDKt0Px6h21V_3rw&pid=news"
              ]
             ],
             "Birmingham Mail"
            ]
           ],
           "https://www.birminghammail.co.uk/sport/football/transfer-news/villa-transfers-live-iling-junior-29773450",
           null
          ],
          [
           [
            [
             "Travis Kelce",
             "https://api.bing.microsoft.com/api/v7/entities/4e917ff4-3613-42f8-bf79-9c12138e3ede"
            ],
            [
             "John Wick",
             "https://api.bing.microsoft.com/api/v7/entities/91048ec5-4775-4ea1-bbfb-8c396a2246c1"
            ],
            [
             "Loose Cannons",
             "https://api.bing.microsoft.com/api/v7/entities/2d0a8549-d969-fcc7-2aa5-6e1eca5119b6"
            ],
            [
             "Taylor Swift",
             "https://api.bing.microsoft.com/api/v7/entities/98004a38-a3ea-b902-b6d3-687b30b54353"
            ],
            [
             "Deadline Hollywood",
             "https://api.bing.microsoft.com/api/v7/entities/8487dbc3-435c-5296-821c-8a2a66840e9c"
            ],
            [
             "Lionsgate",
             "https://api.bing.microsoft.com/api/v7/entities/addd91f2-9d74-ed59-8f80-40991e39127c"
            ],
            [
             "Pixels",
             "https://api.bing.microsoft.com/api/v7/entities/17e0a910-504b-87ad-32ec-550f6cb9fd94"
            ],
            [
             "Chad Stahelski",
             "https://api.bing.microsoft.com/api/v7/entities/08c3b9bd-7bee-dc90-fcf7-b4805cf74dc1"
            ],
            [
             "Alex Young",
             "https://api.bing.microsoft.com/api/v7/entities/8ae9c6bf-bb29-1987-1785-81e1678975cc"
            ]
           ],
           "Entertainment",
           "2024-08-21T08:47:35.0000000Z",
           "Travis Kelce is reportedly set to star in new comedy Loose Cannons. The NFL star - who is dating Anti-Hero hitmaker Taylor Swift - is making the jump to Hollywood and may have landed his first big screen acting role.",
           [
            [
             "https://www.bing.com/th?id=OVFT.CRHhARBhHyjiHoCbrrfKTi&pid=News",
             367,
             700
            ]
           ],
           [
            [
             "Travis Kelce"
            ],
            [
             "Manchester Evening News"
            ],
            [
             "Comedy"
            ]
           ],
           "Travis Kelce in talks to front new action comedy from John Wick producers",
           [
            [
             "Organization",
             [
              [
               "https://www.bing.com/th?id=ODF.oxaa8-w2MDoXi5yOUu7A3w&pid=news"
              ]
             ],
             "Manchester Evening News on MSN.com"
            ]
           ],
           "https://www.msn.com/en-gb/news/newsmanchester/travis-kelce-in-talks-to-front-new-action-comedy-from-john-wick-producers/ar-AA1paehQ",
           null
          ],
          [
           [
            [
             "CNN",
             "https://api.bing.microsoft.com/api/v7/entities/c4c637e5-f9cc-a3ed-3380-7152515e062e"
            ],
            [
             "Mediterranean climate",
             "https://api.bing.microsoft.com/api/v7/entities/bf1c93f2-9a1f-517d-2cd6-159b79fff257"
            ],
            [
             "Type 2 diabetes",
             "https://api.bing.microsoft.com/api/v7/entities/83426981-8501-0894-eae9-3f11a06bf89f"
            ],
            [
             "University of Cambridge",
             "https://api.bing.microsoft.com/api/v7/entities/92a4946b-bd44-dad3-15c3-14c37ab8894e"
            ]
           ],
           "LifeStyle",
           "2024-08-20T23:34:12.0000000Z",
           "Many people are trying to cut back on red and processed meat for heart health or environmental reasons. A new global study shows another good reason.",
           [
            [
             "https://www.bing.com/th?id=OVFT.HZ-KKLVQgNIi-t10Nn9gpy&pid=News",
             393,
             700
            ]
           ],
           null,
           "There is a link between the meat you eat and a chronic disease, according to new research",
           [
            [
             "Organization",
             [
              [
               "https://www.bing.com/th?id=ODF.t0BGYosS4GKZSebCajKQGA&pid=news"
              ]
             ],
             "CNN on MSN.com"
            ]
           ],
           "https://www.msn.com/en-us/health/other/global-study-shows-the-link-between-red-and-processed-meats-and-type-2-diabetes/ar-AA1p8FPI",
           [
            null,
            null,
            "Global study shows the link between red and processed meats and type 2 diabetes",
            [
             292,
             520
            ],
            "https://www.bing.com/th?id=OVF.hPOtjHufEraNH1owqr32tQ&pid=News"
           ]
          ],
          [
           [
            [
             "New Mexico State University",
             "https://api.bing.microsoft.com/api/v7/entities/e3d88a51-9b7a-0d6d-98c6-5d5766648030"
            ],
            [
             "Tailgating",
             "https://api.bing.microsoft.com/api/v7/entities/e8af03e2-58ba-632f-44d7-9b33d3ce3c97"
            ],
            [
             "Albuquerque, New Mexico",
             "https://api.bing.microsoft.com/api/v7/entities/7fffaaf6-e694-4095-be90-f6492cadbd58"
            ]
           ],
           "LifeStyle",
           "2024-08-20T22:18:33.0000000Z",
           "Changes are coming to New Mexico State University’s tailgating rules this football season. Parking lots will shut down two hours after the game or at midnight, whichever comes sooner. For the non-student lots,",
           [
            [
             "https://www.bing.com/th?id=OVFT.RQtsGpt1lmQE2r7GoEiRyS&pid=News",
             394,
             700
            ]
           ],
           [
            [
             "New Mexico State University"
            ],
            [
             "Tailgate party"
            ],
            [
             "Leysin American School"
            ]
           ],
           "New Mexico State University updates tailgating rules",
           [
            [
             "Organization",
             [
              [
               "https://www.bing.com/th?id=ODF.ZWWEWocRXnzJRhsSxEV2vQ&pid=news"
              ]
             ],
             "KRQE Albuquerque on MSN.com"
            ]
           ],
           "https://www.msn.com/en-us/news/technology/new-mexico-state-university-updates-tailgating-rules/ar-AA1p8YwW",
           null
          ],
          [
           [
            [
             "ITV News",
             "https://api.bing.microsoft.com/api/v7/entities/cebdf159-e6b1-8366-f641-3dc397442550"
            ],
            [
             "Channel Islands",
             "https://api.bing.microsoft.com/api/v7/entities/c7410b83-1066-f7e4-42ce-3a692f04388a"
            ]
           ],
           null,
           "2024-08-20T17:00:00.0000000Z",
           "Tue 20 Aug 6pm • Watch the latest ITV News programme from the Channel Islands for 24 hours after broadcast on ITVX. Viewing may be restricted in some countries due to licensing.",
           [
            [
             "https://www.bing.com/th?id=OVFT.sjyBOPvhnbo1Fmq9gGq6xC&pid=News",
             393,
             700
            ]
           ],
           null,
           "Catch up on ITV News Channel from Tuesday 20th August",
           [
            [
             "Organization",
             [
              [
               "https://www.bing.com/th?id=ODF.HlKTyCgM99pRvmITMdZC2w&pid=news"
              ]
             ],
             "ITV"
            ]
           ],
           "https://www.itv.com/watch/news/catch-up-on-itv-news-channel-from-tuesday-20th-august/4b1d46n",
           null
          ],
          [
           [
            [
             "Giorgi Mamardashvili",
             "https://api.bing.microsoft.com/api/v7/entities/3fea8e15-30d3-d9d4-f374-612a263a3317"
            ],
            [
             "Liverpool F.C.",
             "https://api.bing.microsoft.com/api/v7/entities/8d437035-df45-5e15-5868-05ded77dd0cf"
            ],
            [
             "Anfield",
             "https://api.bing.microsoft.com/api/v7/entities/19e4bd56-f843-2ecf-1219-f4dfc0317663"
            ],
            [
             "Anthony Gordon",
             "https://api.bing.microsoft.com/api/v7/entities/cc1355ae-3b3d-23ed-73ba-5a7c4c841450"
            ],
            [
             "Atalanta B.C.",
             "https://api.bing.microsoft.com/api/v7/entities/8d74476a-a36b-a243-e892-419928cc4e39"
            ],
            [
             "Ederson",
             "https://api.bing.microsoft.com/api/v7/entities/13af31b2-a3e9-c5e4-19c9-259871b0fb65"
            ],
            [
             "S.S.C. Napoli",
             "https://api.bing.microsoft.com/api/v7/entities/754ddace-80f4-708a-0cba-a226529ff93b"
            ],
            [
             "Khvicha Kvaratskhelia",
             "https://api.bing.microsoft.com/api/v7/entities/ac76d04c-7db4-0d90-0393-7a141d867156"
            ],
            [
             "Arne Slot",
             "https://api.bing.microsoft.com/api/v7/entities/486f7116-76a2-6b5f-b011-99872e3824a1"
            ],
            [
             "UEFA Euro 2024",
             "https://api.bing.microsoft.com/api/v7/entities/f6e2741f-875b-c715-a38b-74198e2edbc6"
            ]
           ],
           "Sports",
           "2024-08-21T13:00:00.0000000Z",
           "Judging by the way FSG continue to do their transfer business that seems very unlikely. Get all the latest Liverpool breaking news, team news, transfer rumours, injury updates plus analysis of what's next for the Reds. You'll also get the latest transfer ...",
           [
            [
             "https://www.bing.com/th?id=OVFT.81S1Mvg2v8PTBPIYYo7BES&pid=News",
             367,
             700
            ]
           ],
           [
            [
             "Transfer"
            ],
            [
             "Spell"
            ],
            [
             "Liverpool Echo"
            ]
           ],
           "Giorgi Mamardashvili transfer spells a bold new era, but what's wrong with the old one?",
           [
            [
             "Organization",
             null,
             "Liverpool Echo on MSN.com"
            ]
           ],
           "https://www.msn.com/en-gb/news/newsliverpool/giorgi-mamardashvili-transfer-spells-a-bold-new-era-but-whats-wrong-with-the-old-one/ar-AA1pbmes",
           null
          ],
          [
           [
            [
             "North Northamptonshire",
             "https://api.bing.microsoft.com/api/v7/entities/51c52fe2-4327-791c-2995-7d2e8a75cdf4"
            ],
            [
             "Department for Education",
             "https://api.bing.microsoft.com/api/v7/entities/2f8a8d0c-8aab-4329-74cb-1abb43f237c8"
            ],
            [
             "Northamptonshire",
             "https://api.bing.microsoft.com/api/v7/entities/6b5ff743-48aa-7f30-4bfe-97eeede8e6fa"
            ],
            [
             "BBC Sounds",
             "https://api.bing.microsoft.com/api/v7/entities/cec9c447-6c68-e3df-c11a-2c4eba4db6b8"
            ],
            [
             "Instagram",
             "https://api.bing.microsoft.com/api/v7/entities/a2113d26-7976-df57-241f-77b7bbb1b4f7"
            ],
            [
             "X",
             "https://api.bing.microsoft.com/api/v7/entities/860dea43-a2c0-7912-8370-4ef51face341"
            ]
           ],
           null,
           "2024-08-21T11:28:00.0000000Z",
           "Two new permanent classrooms at a special school will be open in time for the new school year. Rowan Gate Primary School in Wellingborough, Northamptonshire, has unveiled a permanent building to replace two temporary classrooms. The building, which cost £1.6m, will cater for 140 pupils and will provide them with more space.",
           [
            [
             "https://www.bing.com/th?id=OVFT.voyrARNduj5JVuR7Pr3RVC&pid=News",
             393,
             700
            ]
           ],
           null,
           "Special school's new classrooms ready for September",
           [
            [
             "Organization",
             [
              [
               "https://www.bing.com/th?id=ODF.yhngt24TSWuyw3ur0Pt3WQ&pid=news"
              ]
             ],
             "BBC"
            ]
           ],
           "https://www.bbc.co.uk/news/articles/clylrn0z870o",
           null
          ],
          [
           [
            [
             "Florida",
             "https://api.bing.microsoft.com/api/v7/entities/5fece3f4-e8e8-4159-843e-f725a930ad50"
            ],
            [
             "New Jersey",
             "https://api.bing.microsoft.com/api/v7/entities/05277898-b62b-4878-8632-09d29756a2ff"
            ],
            [
             "Acid attack",
             "https://api.bing.microsoft.com/api/v7/entities/17b8d6ee-4252-c533-c16c-77c0d414e308"
            ],
            [
             "CNN",
             "https://api.bing.microsoft.com/api/v7/entities/c4c637e5-f9cc-a3ed-3380-7152515e062e"
            ],
            [
             "KYW",
             "https://api.bing.microsoft.com/api/v7/entities/51fbd9d8-5815-c4ae-6c48-7f31ea6380b1"
            ]
           ],
           null,
           "2024-08-21T05:26:56.0000000Z",
           "Three Florida residents have been arrested in connection to an apparent acid attack on a New Jersey woman who suffered burns to more than 35% of her body, according to a Gloucester County Prosecutor’s Office press release obtained by CNN affiliate KYW.",
           [
            [
             "https://www.bing.com/th?id=OVFT.CguLSXg0gEDJttpRX2xIFy&pid=News",
             393,
             700
            ]
           ],
           null,
           "Florida trio charged in apparent acid attack that left a New Jersey woman with burns to a third of her body, prosecutors say",
           [
            [
             "Organization",
             [
              [
               "https://www.bing.com/th?id=ODF.t0BGYosS4GKZSebCajKQGA&pid=news"
              ]
             ],
             "CNN on MSN.com"
            ]
           ],
           "https://www.msn.com/en-us/news/crime/florida-trio-charged-in-apparent-acid-attack-that-left-a-new-jersey-woman-with-burns-to-a-third-of-her-body-prosecutors-say/ar-AA1p9NUt",
           null
          ],
          [
           [
            [
             "Democratic National Committee",
             "https://api.bing.microsoft.com/api/v7/entities/8a519bbe-c1a3-a5d0-c9ea-91fdeae7ba80"
            ],
            [
             "Chicago",
             "https://api.bing.microsoft.com/api/v7/entities/28deeb39-ca49-4bd4-913b-929b1de4b25b"
            ],
            [
             "Democratic National Convention",
             "https://api.bing.microsoft.com/api/v7/entities/eb5f527b-1e2d-86c2-e55c-1fc837f43499"
            ],
            [
             "Washington Boulevard",
             "https://api.bing.microsoft.com/api/v7/entities/712670b4-9af8-86ab-9b27-95855b897f05"
            ],
            [
             "Israel",
             "https://api.bing.microsoft.com/api/v7/entities/1ffafed3-2b37-b871-c271-aa855d98449a"
            ],
            [
             "Hamas",
             "https://api.bing.microsoft.com/api/v7/entities/fd56a0c1-5b09-6e40-09dc-a8abf5069c30"
            ],
            [
             "United Center",
             "https://api.bing.microsoft.com/api/v7/entities/70ad5c21-b753-597d-414d-3804d0423499"
            ]
           ],
           "World",
           "2024-08-21T02:51:38.0000000Z",
           "Chicago crews installed an additional line of security fences outside the Democratic National Convention early Tuesday in the area where, a day earlier, demonstrators breached an outer perimeter fence.",
           [
            [
             "https://www.bing.com/th?id=OVFT.hbHbI2c2123-8Znm28xhtC&pid=News",
             393,
             700
            ]
           ],
           null,
           "New fencing goes up outside DNC a day after pro-Palestinian protesters breach outer barrier",
           [
            [
             "Organization",
             [
              [
               "https://www.bing.com/th?id=ODF.t0BGYosS4GKZSebCajKQGA&pid=news"
              ]
             ],
             "CNN on MSN.com"
            ]
           ],
           "https://www.msn.com/en-us/news/us/new-fencing-goes-up-outside-dnc-a-day-after-pro-palestinian-protesters-breach-outer-barrier/ar-AA1p7z1G",
           null
          ],
          [
           [
            [
             "Lewis Hamilton",
             "https://api.bing.microsoft.com/api/v7/entities/afd8d17d-2960-d4d6-3ee3-cbb7ad7d515e"
            ],
            [
             "Formula One",
             "https://api.bing.microsoft.com/api/v7/entities/b7a76276-375a-718b-52d9-49eae9b263a4"
            ],
            [
             "Valtteri Bottas",
             "https://api.bing.microsoft.com/api/v7/entities/842c17fe-ff41-4769-2eea-658e7e58d1cc"
            ],
            [
             "New York Red Bulls",
             "https://api.bing.microsoft.com/api/v7/entities/74ef7974-937a-e25a-9594-1c3182e17252"
            ]
           ],
           "Sports",
           "2024-08-20T22:00:00.0000000Z",
           "Your F1 news round-up is here, with Lewis Hamilton having made a prediction for the rest of the 2024 season that should get our excitement up. As ever, there is a lot to get through, so let’s not waste any more time,",
           [
            [
             "https://www.bing.com/th?id=OVFT.VAsQYTvTlLlbg2V6Bae2CC&pid=News",
             367,
             700
            ]
           ],
           [
            [
             "Lewis Hamilton"
            ],
            [
             "Valtteri Bottas"
            ],
            [
             "Formula One"
            ]
           ],
           "Lewis Hamilton’s latest F1 prediction with Valtteri Bottas at centre of intense criticism – round-up",
           [
            [
             "Organization",
             [
              [
               "https://www.bing.com/th?id=ODF.AH4i8E8I1buqt0fbc5gOAw&pid=news"
              ]
             ],
             "PlanetF1.com on MSN.com"
            ]
           ],
           "https://www.msn.com/en-us/sports/other/lewis-hamilton-s-latest-f1-prediction-with-valtteri-bottas-at-centre-of-intense-criticism-round-up/ar-AA1p8EDh",
           null
          ],
          [
           [
            [
             "Nigeria",
             "https://api.bing.microsoft.com/api/v7/entities/f8afbbd6-9c3e-02be-7cb2-eac695e2da02"
            ],
            [
             "Nigerians",
             "https://api.bing.microsoft.com/api/v7/entities/9fbd769b-30f1-fedc-4ffc-7d451aada1de"
            ],
            [
             "France",
             "https://api.bing.microsoft.com/api/v7/entities/c7bfe2de-4f82-e23c-ae42-8544b5b5c0ea"
            ],
            [
             "Airbus A330",
             "https://api.bing.microsoft.com/api/v7/entities/cf401561-d848-d8f3-8d4c-22380168287b"
            ]
           ],
           "World",
           "2024-08-21T12:09:00.0000000Z",
           "Many Nigerians have reacted with outrage after a new plane was bought for President Bola Tinubu at a time when the economy is experiencing its worst crisis in a generation. The purchase comes less than two weeks after thousands took to the streets across ...",
           [
            [
             "https://www.bing.com/th?id=OVFT.7C_HHcyp6aVl_XCvSSw24i&pid=News",
             393,
             700
            ]
           ],
           null,
           "Nigerians outraged by president’s new plane",
           [
            [
             "Organization",
             null,
             "BBC"
            ]
           ],
           "https://www.bbc.co.uk/news/articles/cy4ydd2x5x2o",
           null
          ],
          [
           [
            [
             "George Floyd",
             "https://api.bing.microsoft.com/api/v7/entities/c78e0e6e-3b43-9e12-66d6-6466c9cbce54"
            ],
            [
             "Minneapolis",
             "https://api.bing.microsoft.com/api/v7/entities/def03125-42ba-47cd-8061-ee55f5c63e67"
            ],
            [
             "Derek Chauvin",
             "https://api.bing.microsoft.com/api/v7/entities/ddde2ddf-199d-9311-b135-336828a27f08"
            ],
            [
             "Federal Bureau of Prisons",
             "https://api.bing.microsoft.com/api/v7/entities/bdca07d5-27a0-917c-5506-de6deeddf20c"
            ],
            [
             "Associated Press",
             "https://api.bing.microsoft.com/api/v7/entities/b2843a2b-80fd-2fa0-10d0-97b51563ffcb"
            ],
            [
             "Federal Correctional Institution, Big Spring",
             "https://api.bing.microsoft.com/api/v7/entities/ab3d4589-8104-8664-1f4e-46c139e8fb09"
            ],
            [
             "Federal Bureau of Investigation",
             "https://api.bing.microsoft.com/api/v7/entities/e470e552-d479-42f9-dff4-a15995402e33"
            ]
           ],
           null,
           "2024-08-21T07:42:00.0000000Z",
           "Derek Chauvin was transferred to a federal prison in Texas almost nine months after he was stabbed in a different facility.",
           [
            [
             "https://www.bing.com/th?id=OVFT.7q4qAgScsd6ip4f8SNU7bC&pid=News",
             700,
             639
            ]
           ],
           null,
           "Ex-officer convicted in George Floyd’s killing is moved to new prison months after stabbing",
           [
            [
             "Organization",
             [
              [
               "https://www.bing.com/th?id=ODF.AlMAEy7MoWNz0OI_xSWQiw&pid=news"
              ]
             ],
             "The Associated Press on MSN.com"
            ]
           ],
           "https://www.msn.com/en-us/news/crime/ex-officer-convicted-in-george-floyd-s-killing-is-moved-to-new-prison-months-after-stabbing/ar-AA1p8hcT",
           null
          ],
          [
           null,
           "ScienceAndTechnology",
           "2024-08-20T15:06:08.0000000Z",
           "International publishers are overtaking local news brands in Google's Top stories, raising questions about search relevance.",
           null,
           [
            [
             "Google"
            ],
            [
             "United States"
            ],
            [
             "Search Engine Optimization"
            ]
           ],
           "Google’s Top stories looks broken: Are news publishers to blame?",
           [
            [
             "Organization",
             [
              [
               "https://www.bing.com/th?id=ODF.4QeTEYHGoXPpi_CNzqJApQ&pid=news"
              ]
             ],
             "Search Engine Land on MSN.com"
            ]
           ],
           "https://www.msn.com/en-us/news/technology/google-s-top-stories-looks-broken-are-news-publishers-to-blame/ar-AA1p7F2f",
           null
          ],
          [
           [
            [
             "Jeremy Clarkson",
             "https://api.bing.microsoft.com/api/v7/entities/ddc9900f-d3d1-a052-0176-298795c71eea"
            ],
            [
             "Cotswolds",
             "https://api.bing.microsoft.com/api/v7/entities/ad6d3d8f-f997-84f9-b85b-2e8d230e869e"
            ],
            [
             "Top Gear",
             "https://api.bing.microsoft.com/api/v7/entities/684e1cfe-24e4-56d2-5280-79a9f735d4c0"
            ],
            [
             "Oxfordshire",
             "https://api.bing.microsoft.com/api/v7/entities/1eda598d-62bc-9a62-5694-ee4472f8dcf5"
            ],
            [
             "A40 road",
             "https://api.bing.microsoft.com/api/v7/entities/6a526ebc-09bd-492b-2013-34b15eff861e"
            ],
            [
             "Burford",
             "https://api.bing.microsoft.com/api/v7/entities/656326ab-f57e-e678-ef3b-bc3ecf4fcca2"
            ]
           ],
           null,
           "2024-08-21T12:24:00.0000000Z",
           "Jeremy Clarkson has revealed his new pub will open its doors to the public for the first time on Friday - and that the boozer has a new name. The former Top Gear presenter, 64, announced The Farmers Dog, in Oxfordshire will be ready just in time for the ...",
           [
            [
             "https://www.bing.com/th?id=OVFT.3chxsk0zOuDA6CRPMMUjwC&pid=News",
             393,
             700
            ]
           ],
           null,
           "Jeremy Clarkson announces his new Cotswolds pub will open this Friday and renames it 'The Farmer's Dog' - as presenter reveals plans for second Diddly Squat Farm Shop",
           [
            [
             "Organization",
             null,
             "Daily Mail"
            ]
           ],
           "https://www.dailymail.co.uk/news/article-13765077/Jeremy-Clarksons-new-pub-Farmers-Dog-open-Friday.html",
           null
          ],
          [
           [
            [
             "Italy",
             "https://api.bing.microsoft.com/api/v7/entities/09e8f885-427b-8850-947d-202e0287b9e8"
            ],
            [
             "Clifford Chance",
             "https://api.bing.microsoft.com/api/v7/entities/97aad71a-30da-1d4d-ca3c-70ec80964c97"
            ]
           ],
           null,
           "2024-08-20T20:25:00.0000000Z",
           "Along with everyone else, we’re devastated by the news out of Italy concerning the ship. Our thoughts and prayers are with Chris’ family,” Elkan Abramowitz said.",
           [
            [
             "https://www.bing.com/th?id=OVFT.SNfjQJptmiZmQH85-9VM0y&pid=News",
             577,
             700
            ]
           ],
           null,
           "New York Lawyers 'Stunned and Devastated' Over Chris Morvillo Disappearance",
           [
            [
             "Organization",
             [
              [
               "https://www.bing.com/th?id=ODF.0zEurQ1YsrHCOmHwthImcQ&pid=news"
              ]
             ],
             "Law"
            ]
           ],
           "https://www.law.com/newyorklawjournal/2024/08/20/new-york-lawyers-stunned-and-devastated-over-chris-morvillo-disappearance/",
           null
          ],
          [
           [
            [
             "Donald Trump",
             "https://api.bing.microsoft.com/api/v7/entities/1a466af2-ed23-25bd-794d-1ca925e4681b"
            ],
            [
             "Taylor Swift",
             "https://api.bing.microsoft.com/api/v7/entities/98004a38-a3ea-b902-b6d3-687b30b54353"
            ],
            [
             "Chicago",
             "https://api.bing.microsoft.com/api/v7/entities/28deeb39-ca49-4bd4-913b-929b1de4b25b"
            ],
            [
             "Democratic National Convention",
             "https://api.bing.microsoft.com/api/v7/entities/eb5f527b-1e2d-86c2-e55c-1fc837f43499"
            ],
            [
             "Kamala Harris",
             "https://api.bing.microsoft.com/api/v7/entities/ef5cf66f-32b7-7271-286a-8e8313eda5c5"
            ],
            [
             "Tech Billionaires: Elon Musk",
             "https://api.bing.microsoft.com/api/v7/entities/c4fad87c-d4f0-ef0d-af23-19b1996e3053"
            ],
            [
             "Artificial intelligence",
             "https://api.bing.microsoft.com/api/v7/entities/9d99fb44-edac-0e03-1579-19d8d8591a49"
            ]
           ],
           "Politics",
           "2024-08-20T19:50:00.0000000Z",
           "Former President Donald Trump has been active on his social accounts as Democrats gather for their convention in Chicago, but many of his posts don’t have much to do with reality.",
           [
            [
             "https://www.bing.com/th?id=OVFT.8Wi-hOtIEoVH-QOlbnXtNS&pid=News",
             367,
             700
            ]
           ],
           null,
           "Trump’s post of fake Taylor Swift endorsement is his latest embrace of AI-generated images",
           [
            [
             "Organization",
             [
              [
               "https://www.bing.com/th?id=ODF.AlMAEy7MoWNz0OI_xSWQiw&pid=news"
              ]
             ],
             "The Associated Press on MSN.com"
            ]
           ],
           "https://www.msn.com/en-us/news/politics/trump-s-post-of-fake-taylor-swift-endorsement-is-his-latest-embrace-of-ai-generated-images/ar-AA1p8ugH",
           null
          ],
          [
           [
            [
             "Donald Trump",
             "https://api.bing.microsoft.com/api/v7/entities/1a466af2-ed23-25bd-794d-1ca925e4681b"
            ],
            [
             "Leonardo DiCaprio",
             "https://api.bing.microsoft.com/api/v7/entities/5f2c4ac2-d77a-474e-4580-c76549d4fce5"
            ],
            [
             "Diana, Princess of Wales",
             "https://api.bing.microsoft.com/api/v7/entities/f4bf63ea-0b6c-58e0-4587-64927290483f"
            ],
            [
             "The Cheesecake Factory",
             "https://api.bing.microsoft.com/api/v7/entities/513ac470-7772-1f4d-d4e1-2b4a6111ff19"
            ],
            [
             "AMC",
             "https://api.bing.microsoft.com/api/v7/entities/c8f09f18-1dfb-b3c6-3daf-259b82271e22"
            ],
            [
             "The Grove",
             "https://api.bing.microsoft.com/api/v7/entities/43e17dc7-c6c0-4009-ab03-44310e26b258"
            ]
           ],
           null,
           "2024-08-20T16:29:00.0000000Z",
           "Donald Trump said he's only going to speak behind bullet-proof glass at outdoor rallies after that failed assassination attempt. Now, a picture of him speaking behind glass on the 4th of July 2019 is going viral. 10 year-old me: I’m going to marry Leonardo DiCaprio my Princess Diana beanie baby: pic.twitter.com/Dni3Pfg9f8",
           [
            [
             "https://www.bing.com/th?id=OVFT.5zc_9oceXEQ-NDjhBu09hC&pid=News",
             464,
             700
            ]
           ],
           null,
           "This Picture Of Donald Trump Behind Bullet-Proof Glass Is Now A Unintentionally Hilarious New Meme",
           [
            [
             "Organization",
             [
              [
               "https://www.bing.com/th?id=ODF.zvLEjo304eZajOqoKLxUtA&pid=news"
              ]
             ],
             "Yahoo News Canada"
            ]
           ],
           "https://ca.yahoo.com/news/picture-donald-trump-behind-bullet-162934848.html",
           null
          ],
          [
           [
            [
             "Stimulus",
             "https://api.bing.microsoft.com/api/v7/entities/a20531eb-e559-ec38-f785-ccfe7eded6f7"
            ],
            [
             "Alaska",
             "https://api.bing.microsoft.com/api/v7/entities/31c4c7a1-54e7-4306-ac9b-f1b02e85bda5"
            ]
           ],
           "Business",
           "2024-08-21T12:24:00.0000000Z",
           "Alaskans will receive $1300 stimulus checks, offering crucial financial support amid global economic difficulties. This payment comes as part of the state's Permanent Fund Dividend (PFD) program, designed to provide ongoing economic benefits to residents ...",
           [
            [
             "https://www.bing.com/th?id=OVFT.szrqyOBn23c_lD3hELsFhS&pid=News",
             466,
             700
            ]
           ],
           null,
           "1312 Stimulus Payment Eligibility: A new $1312 payment is coming next month, are you eligible to get it?",
           [
            [
             "Organization",
             null,
             "MARCA"
            ]
           ],
           "https://www.marca.com/en/lifestyle/us-news/personal-finance/2024/08/21/66c5d1e046163f57778b45b7.html",
           null
          ],
          [
           [
            [
             "Andrew Tate",
             "https://api.bing.microsoft.com/api/v7/entities/41f247b0-02b9-c01d-3fb2-f794db91e9c4"
            ],
            [
             "Romania",
             "https://api.bing.microsoft.com/api/v7/entities/0cc489d5-ff53-84f1-4fcc-76525efef33a"
            ],
            [
             "Human trafficking",
             "https://api.bing.microsoft.com/api/v7/entities/8e68768e-ecd5-4bf5-b732-28df9390a5e9"
            ],
            [
             "Rape",
             "https://api.bing.microsoft.com/api/v7/entities/0cdc95b4-903a-9c9c-ad30-233321b50d1b"
            ],
            [
             "Bucharest",
             "https://api.bing.microsoft.com/api/v7/entities/42022f97-112e-58a6-70f5-9536b20ee957"
            ],
            [
             "Ilfov County",
             "https://api.bing.microsoft.com/api/v7/entities/d6b13ffc-3490-2609-746c-5b9daf56e5ee"
            ]
           ],
           "World",
           "2024-08-21T08:01:00.0000000Z",
           "Dozens of police officers and forensic personnel were scouring Tate’s large property on the edge of the capital Bucharest.",
           [
            [
             "https://www.bing.com/th?id=OVFT.mTc07i_DZeeWpdB-0qGQVy&pid=News",
             466,
             700
            ]
           ],
           null,
           "Police raid Andrew Tate’s home in Romania as new allegations emerge involving minors",
           [
            [
             "Organization",
             [
              [
               "https://www.bing.com/th?id=ODF.AlMAEy7MoWNz0OI_xSWQiw&pid=news"
              ]
             ],
             "The Associated Press - Business News on MSN.com"
            ]
           ],
           "https://www.msn.com/en-us/news/crime/police-raid-andrew-tates-home-in-romania-as-new-allegations-emerge-involving-minors/ar-AA1pabHH",
           null
          ],
          [
           [
            [
             "Raheem Sterling",
             "https://api.bing.microsoft.com/api/v7/entities/2c5f2a39-135c-560d-575f-dd7424d4ce82"
            ],
            [
             "Chelsea F.C.",
             "https://api.bing.microsoft.com/api/v7/entities/8346cd56-1a96-adb0-26e1-f3679d88e0ba"
            ],
            [
             "Enzo Maresca",
             "https://api.bing.microsoft.com/api/v7/entities/57f409e7-f3be-4c3f-89a8-adb2b541771b"
            ],
            [
             "Manchester City F.C.",
             "https://api.bing.microsoft.com/api/v7/entities/8b357e7d-2cd9-6ebf-30d5-6794f62ce637"
            ],
            [
             "England",
             "https://api.bing.microsoft.com/api/v7/entities/280d39e8-7217-6863-6980-a8c20c211c89"
            ],
            [
             "UEFA",
             "https://api.bing.microsoft.com/api/v7/entities/bfd4adbc-7bef-3f42-8d9f-ea01eff9724b"
            ],
            [
             "Tosin Adarabioyo",
             "https://api.bing.microsoft.com/api/v7/entities/4455aa90-9467-adad-ec92-ac8477ce200b"
            ]
           ],
           "Sports",
           "2024-08-21T08:51:00.0000000Z",
           "Raheem Sterling’s Chelsea future has been called into question yet again after being left out of their squad to face Servette. It is is the second game in a row that Sterling has been axed",
           [
            [
             "https://www.bing.com/th?id=OVFT.125GyMFOaI79S7q5wee39i&pid=News",
             240,
             360
            ]
           ],
           null,
           "Raheem Sterling in new Chelsea low ahead of Europa Conference League clash with Servette as winger seeks ‘clarity’ over future",
           [
            [
             "Organization",
             [
              [
               "https://www.bing.com/th?id=ODF.1J7u2N62JGb2VrnCRlJIrw&pid=news"
              ]
             ],
             "Talksport"
            ]
           ],
           "https://talksport.com/football/2016586/chelsea-raheem-sterling-axed-squad-servette/",
           null
          ],
          [
           [
            [
             "Connecticut",
             "https://api.bing.microsoft.com/api/v7/entities/b3ca6523-435e-4a3b-8f78-1ad900a52cf8"
            ],
            [
             "New York",
             "https://api.bing.microsoft.com/api/v7/entities/caeb7b9a-f5d7-4686-8fb5-cf7628296b13"
            ],
            [
             "Long Island",
             "https://api.bing.microsoft.com/api/v7/entities/ef0c0f37-bad2-bd1a-ad90-888ea76346bb"
            ],
            [
             "National Weather Service",
             "https://api.bing.microsoft.com/api/v7/entities/94765d39-8736-70dc-4819-8ed777a628f0"
            ]
           ],
           null,
           "2024-08-20T14:53:00.0000000Z",
           "The long and costly recovery effort has begun in Connecticut and New York after historic flooding caused sweeping damage over the weekend.",
           [
            [
             "https://www.bing.com/th?id=OVFT.QYEhaDqKNF6mcFrPntmwkS&pid=News",
             393,
             700
            ]
           ],
           null,
           "Long recovery underway after deadly and destructive floods ravage Connecticut, New York",
           [
            [
             "Organization",
             [
              [
               "https://www.bing.com/th?id=ODF.m1iod5ODNIyyKu23kGIllQ&pid=news"
              ]
             ],
             "USA Today"
            ]
           ],
           "https://www.usatoday.com/story/news/nation/2024/08/20/connecticut-ny-flooding-recovery/74868830007/",
           null
          ],
          [
           [
            [
             "Norwich",
             "https://api.bing.microsoft.com/api/v7/entities/984fdffb-7ef3-de93-5b19-44454e228884"
            ]
           ],
           null,
           "2024-08-21T05:47:44.0000000Z",
           "Gemma Hyde, from Norwich's Castle Quarter shopping centre, wants to help families who cannot afford new uniforms.",
           [
            [
             "https://www.bing.com/th?id=OVFT.9H0g3ziXxwQAvQEZdJYC4C&pid=News",
             393,
             700
            ]
           ],
           [
            [
             "Free school"
            ],
            [
             "School uniform"
            ],
            [
             "Pop-up ad"
            ]
           ],
           "Free school uniform 'pop-up' to ease cost of new term",
           [
            [
             "Organization",
             [
              [
               "https://www.bing.com/th?id=ODF.k3N4DqozNjgK376rAnFmsA&pid=news"
              ]
             ],
             "BBC on MSN.com"
            ]
           ],
           "https://www.msn.com/en-us/news/world/free-school-uniform-pop-up-to-ease-cost-of-new-term/ar-AA1p9J8f",
           null
          ],
          [
           [
            [
             "Libya",
             "https://api.bing.microsoft.com/api/v7/entities/b4e5604e-361e-ab37-6516-4cf5580a04aa"
            ]
           ],
           null,
           "2024-08-21T13:25:00.0000000Z",
           "Home Affairs minister Leon Schreiber says that “the system will always be down” at this department unless it takes a page out of SARS’ book.",
           [
            [
             "https://www.bing.com/th?id=OVFT.aXKlyww6SuBIGM_5M90VTC&pid=News",
             393,
             700
            ]
           ],
           null,
           "Home Affairs wants to be the new SARS",
           [
            [
             "Organization",
             [
              [
               "https://www.bing.com/th?id=ODF.HeMcjfJp8OYTNknyI2IN7Q&pid=news"
              ]
             ],
             "businesstech.co.za"
            ]
           ],
           "https://businesstech.co.za/news/government/787740/home-affairs-wants-to-be-the-new-sars/",
           null
          ],
          [
           [
            [
             "Gamescom",
             "https://api.bing.microsoft.com/api/v7/entities/b17f0fd6-503a-c7ea-7e09-3795cff5e623"
            ],
            [
             "Borderlands",
             "https://api.bing.microsoft.com/api/v7/entities/de3ec702-729a-972a-78f1-5d68add173f0"
            ],
            [
             "Gearbox Software",
             "https://api.bing.microsoft.com/api/v7/entities/b3fa876a-8896-453a-ee5f-7b18a932feb9"
            ],
            [
             "Bethesda Game Studios",
             "https://api.bing.microsoft.com/api/v7/entities/d9bc865e-0d24-4e3d-8537-4efd22be15f2"
            ],
            [
             "Borderlands 3",
             "https://api.bing.microsoft.com/api/v7/entities/6e7a8481-3216-5168-be94-f09856320b94"
            ],
            [
             "Borderlands 2",
             "https://api.bing.microsoft.com/api/v7/entities/f0fe13f3-31d5-de9b-4470-7dc86447427d"
            ]
           ],
           "ScienceAndTechnology",
           "2024-08-20T22:58:00.0000000Z",
           "There’s not an exact release date yet, but Borderlands 4 is slated for a 2025 release so we won’t have to wait long. It’s been five years since Borderlands 3 came out, and that game didn’t inspire the kind of hype and widespread praise that Borderlands 2 received at launch.",
           [
            [
             "https://www.bing.com/th?id=OVFT.hAXz8WNGPQO7507zYSZQFS&pid=News",
             337,
             600
            ]
           ],
           null,
           "‘Borderlands 4’ Announced With A Surprising Release Window And A New Trailer",
           [
            [
             "Organization",
             [
              [
               "https://www.bing.com/th?id=ODF.U6nYa4Huf-RFEhjg-V4hNg&pid=news"
              ]
             ],
             "Forbes"
            ]
           ],
           "https://www.forbes.com/sites/erikkain/2024/08/20/borderlands-4-announced-with-a-surprising-release-window-and-a-new-trailer/",
           [
            null,
            null,
            "‘Borderlands 4’ Announced With A Surprising Release Window And A New Trailer",
            [
             292,
             520
            ],
            "https://www.bing.com/th?id=OVF.XipcomA3hntaDDc%2Bszyhtw&pid=News"
           ]
          ],
          [
           [
            [
             "Kaiser Permanente",
             "https://api.bing.microsoft.com/api/v7/entities/fa8bca5f-ac75-3fe3-9d30-1896f04572ba"
            ],
            [
             "California",
             "https://api.bing.microsoft.com/api/v7/entities/3009d91d-d582-4c34-85ba-772ba09e5be1"
            ],
            [
             "Albany, New York",
             "https://api.bing.microsoft.com/api/v7/entities/62ca8245-972e-448d-af38-345d4a958798"
            ]
           ],
           null,
           "2024-08-21T10:00:33.0000000Z",
           "Nearly three years after wheelchair user Beth Smith sued Kaiser for capping coverage well below the costs of many motorized chairs, the Albany resident is slated to get thousands of dollars for a new chair. Smith, 64, was among the plaintiffs in a class ...",
           [
            [
             "https://www.bing.com/th?id=OVFT.kaf4Lq8Ul61EB9pt0r57Mi&pid=News",
             367,
             700
            ]
           ],
           [
            [
             "California"
            ],
            [
             "Kaiser Family Foundation"
            ],
            [
             "Wheelchair"
            ]
           ],
           "Years after lawsuit, Kaiser will pay for new wheelchair for California woman",
           [
            [
             "Organization",
             null,
             "Los Angeles Times on MSN.com"
            ]
           ],
           "https://www.msn.com/en-us/news/other/years-after-lawsuit-kaiser-will-pay-for-new-wheelchair-for-california-woman/ar-AA1paJ71",
           null
          ],
          [
           [
            [
             "Coal",
             "https://api.bing.microsoft.com/api/v7/entities/91cf2898-c1b2-4266-65ac-cb7e03a4bfa0"
            ],
            [
             "Natural gas",
             "https://api.bing.microsoft.com/api/v7/entities/0f2df4e3-f260-d13a-8235-bf64bd7f79b1"
            ],
            [
             "Pennsylvania",
             "https://api.bing.microsoft.com/api/v7/entities/6304580e-c803-4266-818a-971619176547"
            ],
            [
             "United States Environmental Protection Agency",
             "https://api.bing.microsoft.com/api/v7/entities/4e6838b4-41a3-4674-aed3-3b4908acbd6b"
            ]
           ],
           "LifeStyle",
           "2024-08-20T22:36:30.0000000Z",
           "Former President Trump said that if elected, he will reverse the Biden-Harris administration's EPA rule that requires coal and natural gas power plants to cut emissions by 90%.",
           [
            [
             "https://www.bing.com/th?id=OVFT.rjqTLX6uTjc4KmDS728YPC&pid=News",
             393,
             700
            ]
           ],
           null,
           "Trump vows to repeal new EPA power plant rule",
           [
            [
             "Organization",
             [
              [
               "https://www.bing.com/th?id=ODF.GimbRbdxNxZt1GEL5O0AJg&pid=news"
              ]
             ],
             "FOX News on MSN.com"
            ]
           ],
           "https://www.msn.com/en-us/news/politics/trump-vows-to-repeal-new-epa-power-plant-rule/ar-AA1p8IoF",
           null
          ],
          [
           [
            [
             "Mario Lopez",
             "https://api.bing.microsoft.com/api/v7/entities/960f54aa-52b2-b6cf-2242-2066d6b8b322"
            ],
            [
             "Reel",
             "https://api.bing.microsoft.com/api/v7/entities/cbb2fa82-62c4-c330-680a-1377c8c969e8"
            ],
            [
             "Instagram",
             "https://api.bing.microsoft.com/api/v7/entities/a2113d26-7976-df57-241f-77b7bbb1b4f7"
            ]
           ],
           "Entertainment",
           "2024-08-20T21:07:52.0000000Z",
           "Mario Lopez's kids are heading back to the classroom. On Tuesday, Aug. 20, the proud dad, 50, posted a Reel on his Instagram as he shared that his three kids — daughter Gia, 13, and sons Dominic, 10, and Santino, 5, whom he shares with wife Courtney — were celebrating their first day of school.",
           [
            [
             "https://www.bing.com/th?id=OVFT.3hDTCHPYPzA8wkEnSkWqji&pid=News",
             466,
             700
            ]
           ],
           null,
           "Mario Lopez Shares That All 3 of His Kids Are 'Officially Back to School' in Adorable New Photos",
           [
            [
             "Organization",
             [
              [
               "https://www.bing.com/th?id=ODF.kridaNmIIz5AdgcUGG5eBQ&pid=news"
              ]
             ],
             "People on MSN.com"
            ]
           ],
           "https://www.msn.com/en-us/lifestyle/lifestyle-buzz/mario-lopez-shares-that-all-3-of-his-kids-are-officially-back-to-school-in-adorable-new-photos/ar-AA1p8Eos",
           null
          ],
          [
           [
            [
             "Robert F. Kennedy",
             "https://api.bing.microsoft.com/api/v7/entities/367cc99b-d308-8104-8e05-1fd1a98862da"
            ],
            [
             "Chicago",
             "https://api.bing.microsoft.com/api/v7/entities/28deeb39-ca49-4bd4-913b-929b1de4b25b"
            ],
            [
             "Robert F. Kennedy Jr.",
             "https://api.bing.microsoft.com/api/v7/entities/e045d327-0fdc-d12c-b847-d1c25c43331e"
            ],
            [
             "Kamala Harris",
             "https://api.bing.microsoft.com/api/v7/entities/ef5cf66f-32b7-7271-286a-8e8313eda5c5"
            ],
            [
             "CNN",
             "https://api.bing.microsoft.com/api/v7/entities/c4c637e5-f9cc-a3ed-3380-7152515e062e"
            ],
            [
             "Donald Trump",
             "https://api.bing.microsoft.com/api/v7/entities/1a466af2-ed23-25bd-794d-1ca925e4681b"
            ]
           ],
           "Politics",
           "2024-08-20T22:06:00.0000000Z",
           "Robert F. Kennedy Jr.'s running mate Nicole Shanahan said the Kennedy campaign is considering dropping out of the race and endorsing former President Donald Trump.",
           [
            [
             "https://www.bing.com/th?id=OVFT.5M93eu2lyXiSl5xHEZCOqS&pid=News",
             393,
             700
            ]
           ],
           null,
           "RFK Jr. news: Kennedy running mate says campaign considering dropping out, endorsing Trump",
           [
            [
             "Organization",
             [
              [
               "https://www.bing.com/th?id=ODF.t0BGYosS4GKZSebCajKQGA&pid=news"
              ]
             ],
             "CNN on MSN.com"
            ]
           ],
           "https://www.msn.com/en-us/news/politics/rfk-jr-running-mate-shanahan-says-they-re-considering-endorsing-trump/ar-AA1p8ncv",
           [
            true,
            "<iframe width=\"476\" height=\"267\" src=\"https://abc13.com/video/embed/?pid=15210325\" scrolling=\"no\" frameborder=\"0\" allowfullscreen></iframe>",
            "RFK Jr. news: Kennedy running mate says campaign considering dropping out, endorsing Trump",
            [
             292,
             520
            ],
            "https://www.bing.com/th?id=OVF.vYkNufdLB8IfHSRzC%2FU40Q&pid=News"
           ]
          ],
          [
           null,
           null,
           "2024-08-20T15:30:00.0000000Z",
           "As corporate ESG takes new forms and tackles new attacks in a contentious election ... Recommended Newsletter: CEO Daily provides key context for the news leaders need to know from across the world of business. Every weekday morning, more than 125,000 ...",
           null,
           null,
           "Fortune Impact Initiative 2024 livestream",
           [
            [
             "Organization",
             null,
             "Fortune"
            ]
           ],
           "https://fortune.com/article/fortune-impact-initiative-2024-livestream/",
           null
          ],
          [
           null,
           "ScienceAndTechnology",
           "2024-08-20T20:01:00.0000000Z",
           "Capcom during Gamescom Opening Night Live released a new trailer for Monster Hunter Wilds.View the trailer below:Read details [...]",
           null,
           null,
           "Monster Hunter Wilds Gets Gamescom 2024 Trailer - News",
           [
            [
             "Organization",
             [
              [
               "https://www.bing.com/th?id=ODF.kKXt-MKV3fmSaC3dmthHzw&pid=news"
              ]
             ],
             "VG Chartz"
            ]
           ],
           "https://www.vgchartz.com/article/462147/monster-hunter-wilds-gets-gamescom-2024-trailer/",
           null
          ]
         ]
        ]
       ],
       "datasetInfos": [],
       "dbfsResultPath": null,
       "isJsonSchema": true,
       "metadata": {},
       "overflow": false,
       "plotOptions": {
        "customPlotOptions": {},
        "displayType": "table",
        "pivotAggregation": null,
        "pivotColumns": null,
        "xColumns": null,
        "yColumns": null
       },
       "removedWidgets": [],
       "schema": [
        {
         "metadata": "{}",
         "name": "value",
         "type": "{\"type\":\"array\",\"elementType\":{\"type\":\"struct\",\"fields\":[{\"name\":\"about\",\"type\":{\"type\":\"array\",\"elementType\":{\"type\":\"struct\",\"fields\":[{\"name\":\"name\",\"type\":\"string\",\"nullable\":true,\"metadata\":{}},{\"name\":\"readLink\",\"type\":\"string\",\"nullable\":true,\"metadata\":{}}]},\"containsNull\":true},\"nullable\":true,\"metadata\":{}},{\"name\":\"category\",\"type\":\"string\",\"nullable\":true,\"metadata\":{}},{\"name\":\"datePublished\",\"type\":\"string\",\"nullable\":true,\"metadata\":{}},{\"name\":\"description\",\"type\":\"string\",\"nullable\":true,\"metadata\":{}},{\"name\":\"image\",\"type\":{\"type\":\"struct\",\"fields\":[{\"name\":\"thumbnail\",\"type\":{\"type\":\"struct\",\"fields\":[{\"name\":\"contentUrl\",\"type\":\"string\",\"nullable\":true,\"metadata\":{}},{\"name\":\"height\",\"type\":\"long\",\"nullable\":true,\"metadata\":{}},{\"name\":\"width\",\"type\":\"long\",\"nullable\":true,\"metadata\":{}}]},\"nullable\":true,\"metadata\":{}}]},\"nullable\":true,\"metadata\":{}},{\"name\":\"mentions\",\"type\":{\"type\":\"array\",\"elementType\":{\"type\":\"struct\",\"fields\":[{\"name\":\"name\",\"type\":\"string\",\"nullable\":true,\"metadata\":{}}]},\"containsNull\":true},\"nullable\":true,\"metadata\":{}},{\"name\":\"name\",\"type\":\"string\",\"nullable\":true,\"metadata\":{}},{\"name\":\"provider\",\"type\":{\"type\":\"array\",\"elementType\":{\"type\":\"struct\",\"fields\":[{\"name\":\"_type\",\"type\":\"string\",\"nullable\":true,\"metadata\":{}},{\"name\":\"image\",\"type\":{\"type\":\"struct\",\"fields\":[{\"name\":\"thumbnail\",\"type\":{\"type\":\"struct\",\"fields\":[{\"name\":\"contentUrl\",\"type\":\"string\",\"nullable\":true,\"metadata\":{}}]},\"nullable\":true,\"metadata\":{}}]},\"nullable\":true,\"metadata\":{}},{\"name\":\"name\",\"type\":\"string\",\"nullable\":true,\"metadata\":{}}]},\"containsNull\":true},\"nullable\":true,\"metadata\":{}},{\"name\":\"url\",\"type\":\"string\",\"nullable\":true,\"metadata\":{}},{\"name\":\"video\",\"type\":{\"type\":\"struct\",\"fields\":[{\"name\":\"allowHttpsEmbed\",\"type\":\"boolean\",\"nullable\":true,\"metadata\":{}},{\"name\":\"embedHtml\",\"type\":\"string\",\"nullable\":true,\"metadata\":{}},{\"name\":\"name\",\"type\":\"string\",\"nullable\":true,\"metadata\":{}},{\"name\":\"thumbnail\",\"type\":{\"type\":\"struct\",\"fields\":[{\"name\":\"height\",\"type\":\"long\",\"nullable\":true,\"metadata\":{}},{\"name\":\"width\",\"type\":\"long\",\"nullable\":true,\"metadata\":{}}]},\"nullable\":true,\"metadata\":{}},{\"name\":\"thumbnailUrl\",\"type\":\"string\",\"nullable\":true,\"metadata\":{}}]},\"nullable\":true,\"metadata\":{}}]},\"containsNull\":true}"
        }
       ],
       "type": "table"
      }
     },
     "output_type": "display_data"
    }
   ],
   "source": [
    "df = df.select('value')\n",
    "display(df)"
   ]
  },
  {
   "cell_type": "code",
   "execution_count": null,
   "metadata": {
    "application/vnd.databricks.v1+cell": {
     "cellMetadata": {
      "byteLimit": 2048000,
      "rowLimit": 10000
     },
     "inputWidgets": {},
     "nuid": "2d5d33a3-bbbf-477b-8b3c-69a0dfc03abe",
     "showTitle": false,
     "title": ""
    }
   },
   "outputs": [],
   "source": [
    "from pyspark.sql.functions import explode\n",
    "df_exploded = df.select(explode(df['value']).alias('json_object'))"
   ]
  },
  {
   "cell_type": "code",
   "execution_count": null,
   "metadata": {
    "application/vnd.databricks.v1+cell": {
     "cellMetadata": {
      "byteLimit": 2048000,
      "rowLimit": 10000
     },
     "collapsed": true,
     "inputWidgets": {},
     "nuid": "fe7038be-fb0e-4fae-8d2b-dd5ecae8293c",
     "showTitle": false,
     "title": ""
    }
   },
   "outputs": [
    {
     "data": {
      "text/html": [
       "<style scoped>\n",
       "  .table-result-container {\n",
       "    max-height: 300px;\n",
       "    overflow: auto;\n",
       "  }\n",
       "  table, th, td {\n",
       "    border: 1px solid black;\n",
       "    border-collapse: collapse;\n",
       "  }\n",
       "  th, td {\n",
       "    padding: 5px;\n",
       "  }\n",
       "  th {\n",
       "    text-align: left;\n",
       "  }\n",
       "</style><div class='table-result-container'><table class='table-result'><thead style='background-color: white'><tr><th>json_object</th></tr></thead><tbody><tr><td>List(List(List(Collingwood Football Club, https://api.bing.microsoft.com/api/v7/entities/2b8ee05b-110f-8fe8-2bec-9dd0fd2b1ed3), List(Magpie, https://api.bing.microsoft.com/api/v7/entities/e1d0c98b-9776-3aa3-7dc5-25d6890f1fd6), List(Melbourne, Florida, https://api.bing.microsoft.com/api/v7/entities/ea28914f-957c-4e18-9ac2-3540ad2b69d4), List(Carlton Football Club, https://api.bing.microsoft.com/api/v7/entities/07f3d7ba-97fb-a77b-4947-5744a53fe85a), List(Hawthorn, Victoria, https://api.bing.microsoft.com/api/v7/entities/0d29178c-c5ba-de2a-0399-eb10fe68d2c6), List(Justin Leppitsch, https://api.bing.microsoft.com/api/v7/entities/79e384f1-fb18-cd1b-0738-ea19a836c054), List(AFL Grand Final, https://api.bing.microsoft.com/api/v7/entities/16483451-1a09-c4a4-9dce-a4ee97bf6864)), Sports, 2024-08-21T05:27:00.0000000Z, Collingwood coach Craig McRae says the Magpies will reflect on whether not immediately replacing Graham Wright was a costly decision in their failed premiership defence., List(List(https://www.bing.com/th?id=OVFT.heV62v0FtSBSxbUXHZ5vbS&pid=News, 393, 700)), null, AFL 2024: Collingwood Magpies will search to replace football boss Graham Wright, Craig McRae comments, latest news, List(List(Organization, List(List(https://www.bing.com/th?id=ODF.9yJS4wi2nUtsfM87Lf-3FA&pid=news)), NewsWire on MSN.com)), https://www.msn.com/en-au/sport/other/coach-s-difficult-parting-from-incredible-mentor/ar-AA1p9yg9, null)</td></tr><tr><td>List(List(List(Everton F.C., https://api.bing.microsoft.com/api/v7/entities/08c4e442-93ae-e0fe-a73b-f76f5259a171), List(Neal Maupay, https://api.bing.microsoft.com/api/v7/entities/2c2d83d1-f8e5-434b-8ca8-d19a13caf063), List(Éric Junior Dina Ebimbe, https://api.bing.microsoft.com/api/v7/entities/75381052-a5ba-1a96-309a-39be49525b63), List(Queens Park Rangers F.C., https://api.bing.microsoft.com/api/v7/entities/c82952e8-3b21-d425-48f5-42cf7a89190b), List(Goodison Park, https://api.bing.microsoft.com/api/v7/entities/dde25d4f-6bc8-e22c-bb2c-26173d7d3326), List(Jack Harrison, https://api.bing.microsoft.com/api/v7/entities/f0496807-c933-fe07-8017-97500cc1abf3), List(Jesper Lindstrøm, https://api.bing.microsoft.com/api/v7/entities/2110b922-1830-29cd-78e8-e85a0297da36), List(Merseyside, https://api.bing.microsoft.com/api/v7/entities/8e04c30f-763f-780e-c01f-ccd70d51e4f7), List(Amadou Onana, https://api.bing.microsoft.com/api/v7/entities/1ca66a06-53cd-7959-48a4-bfdc53e7576e), List(Lewis Dobbin, https://api.bing.microsoft.com/api/v7/entities/800f86ff-82f6-3a07-dc80-66956ca0a201), List(Ben Godfrey, https://api.bing.microsoft.com/api/v7/entities/787cc42b-c36e-7edb-80c3-f0f0b00c12d1)), Sports, 2024-08-21T11:14:00.0000000Z, Latest Everton transfer and takeover news, including updates as Asmir Begovic is in talks to return to the Blues, List(List(https://www.bing.com/th?id=OVFT.XXPqfesC-Oli8IE5HlY5di&pid=News, 367, 700)), null, Everton transfer news LIVE - Neal Maupay future, Mason Holgate enquiry Junior Dina Ebimbe talks,, List(List(Organization, List(List(https://www.bing.com/th?id=ODF.lMNuYaPYFKYNaBUKNyUFHg&pid=news)), Liverpool Echo)), https://www.liverpoolecho.co.uk/sport/football/transfer-news/everton-takeover-transfer-news-live-29765334, null)</td></tr><tr><td>List(List(List(Fox News, https://api.bing.microsoft.com/api/v7/entities/273e0477-30ed-3993-f232-f39244306805), List(Nicole Parker, https://api.bing.microsoft.com/api/v7/entities/25d1f86e-5ab4-2c3d-f7a3-42ef954824fa), List(Chicago, https://api.bing.microsoft.com/api/v7/entities/7c09b50c-bc53-55c3-7fea-0f08e11b091f)), null, 2024-08-21T10:35:00.0000000Z, Fox News contributor Nicole Parker joined 'Fox News @ Night' to discuss her reaction to the new video and how crime has ravaged Chicago amid DNC week., List(List(https://www.bing.com/th?id=OVFT.oEZQRduXmf_DcySOZ51dki&pid=News, 350, 700)), null, Chilling new video shows Trump shooter walking around rally before assassination attempt, List(List(Organization, null, Fox News)), https://www.foxnews.com/video/6360751017112, null)</td></tr><tr><td>List(List(List(Arsenal F.C., https://api.bing.microsoft.com/api/v7/entities/8b3b4135-cb8e-ded8-10ce-8f130d64b863), List(Mikel Merino, https://api.bing.microsoft.com/api/v7/entities/e2365c49-c2b6-aff5-437d-72f2ca96a378), List(Aaron Ramsdale, https://api.bing.microsoft.com/api/v7/entities/0bf35c7f-e8e0-4291-6273-e21a1b2ff24d), List(Eddie Nketiah, https://api.bing.microsoft.com/api/v7/entities/8dfce5e6-cc68-2cc9-a6b1-275133d70dbc), List(Ivan Toney, https://api.bing.microsoft.com/api/v7/entities/98358ca1-1bd6-4cee-aff4-5b93c811f416), List(Victor Osimhen, https://api.bing.microsoft.com/api/v7/entities/09506725-12aa-3157-6831-985cefbf9e30), List(Premier League, https://api.bing.microsoft.com/api/v7/entities/02bde011-1e9d-3aff-8309-7d07d4031798), List(Aston Villa F.C., https://api.bing.microsoft.com/api/v7/entities/d689e389-cacc-0912-28ee-039d79661230), List(Mikel Arteta, https://api.bing.microsoft.com/api/v7/entities/46cbb218-c295-c257-be2c-7d8179c02488), List(Villa Park, https://api.bing.microsoft.com/api/v7/entities/1e177ead-ba8d-0da5-91f2-f4f4f1d1b5d0), List(Real Sociedad, https://api.bing.microsoft.com/api/v7/entities/3fb625f1-1a17-767a-8c2a-84ee6d7c201c), List(Newcastle United F.C., https://api.bing.microsoft.com/api/v7/entities/d36b1961-7548-2202-311b-d6a69037d67d), List(Alexander Isak, https://api.bing.microsoft.com/api/v7/entities/f7da1aac-7d71-56d0-fff9-fdfa217be4bf)), Sports, 2024-08-21T05:21:00.0000000Z, The latest Arsenal transfer news and rumours from football.london including updates on Eddie Nketiah, Mikel Merino, Ivan Toney, Aaron Ramsdale and Victor Osimhen, List(List(https://www.bing.com/th?id=OVFT.Yh0-vWC2lksh9dRA2nbt-S&pid=News, 367, 700)), null, Arsenal transfer news LIVE Mikel Merino positive update, Nketiah agreement, Ramsdale update, List(List(Organization, List(List(https://www.bing.com/th?id=ODF.Xm0enA-z_fuiMX5FvKt4cw&pid=news)), football)), https://www.football.london/arsenal-fc/transfer-news/arsenal-transfer-news-live-mikel-29779140, null)</td></tr><tr><td>List(List(List(Greg Gutfeld, https://api.bing.microsoft.com/api/v7/entities/1920980b-8c33-331b-4eae-8fcff3d90d18), List(Kamala Harris, https://api.bing.microsoft.com/api/v7/entities/ef5cf66f-32b7-7271-286a-8e8313eda5c5), List(Fox News, https://api.bing.microsoft.com/api/v7/entities/273e0477-30ed-3993-f232-f39244306805), List(2024 Democratic National Convention, https://api.bing.microsoft.com/api/v7/entities/6dd65316-4aa2-030b-7347-183b38ff121a)), null, 2024-08-21T04:26:00.0000000Z, Fox News host Greg Gutfeld gives his take on the second night of the 2024 Democratic National Convention on 'Gutfeld!', List(List(https://www.bing.com/th?id=OVFT.EzJ3ljePNP2mcjDSXpqUIy&pid=News, 350, 700)), null, Greg Gutfeld: Democrats needed a new narrative, and Kamala Harris is it, List(List(Organization, null, Fox News)), https://www.foxnews.com/video/6360732761112, null)</td></tr><tr><td>List(List(List(Boston Bruins, https://api.bing.microsoft.com/api/v7/entities/7372c7cf-eeed-88a9-0522-63e96eaf6448), List(Atlantic Division, https://api.bing.microsoft.com/api/v7/entities/d7c8ec8b-e4b9-0223-9599-8360afbc63dd), List(Columbus Blue Jackets, https://api.bing.microsoft.com/api/v7/entities/74c60977-6e3a-c88b-ab1a-8f4a3e785885), List(Patrik Laine, https://api.bing.microsoft.com/api/v7/entities/894c470a-7378-a9c8-043f-bf221b20140f), List(Montreal Canadiens, https://api.bing.microsoft.com/api/v7/entities/e65755db-2635-6bc8-99f9-0e5cff3aa813)), Sports, 2024-08-20T16:39:03.0000000Z, On Monday, the Columbus Blue Jackets traded Patrik Laine and a 2026 second-round pick to the Montreal Canadiens in exchange for defenseman Jordan Harris. With this move, one of the Bruins' biggest rivals, the Canadiens, have notably improved their forward group., List(List(https://www.bing.com/th?id=OVFT.D8jUx5QGIwRX3G91Wo3KdC&pid=News, 466, 700)), List(List(Boston Bruins), List(Analysis), List(National Hockey League)), Bruins Have New Star to Deal With In Atlantic, List(List(Organization, List(List(https://www.bing.com/th?id=ODF.yNx4KYuMgiOCU3nI9qTmtQ&pid=news)), The Hockey News on MSN.com)), https://www.msn.com/en-us/sports/nhl/bruins-have-new-star-to-deal-with-in-atlantic/ar-AA1p88Tr, null)</td></tr><tr><td>List(null, null, 2024-08-21T14:11:00.0000000Z, The bodies of two of the six people missing after a yacht sank off the Sicily coast have been found. Search efforts have entered a third day, after the captain was reportedly questioned by Italian prosecutors over the sinking., List(List(https://www.bing.com/th?id=OVFT.Z89qPj7prCz9if78PBrPuS&pid=News, 393, 700)), null, Superyacht sinks latest: Two bodies found in search for survivors, List(List(Organization, List(List(https://www.bing.com/th?id=ODF.Eg62H9DIbo-JYPI6GpAgGA&pid=news)), Sky)), https://news.sky.com/story/superyacht-sinks-latest-two-bodies-found-in-search-for-survivors-13199663, null)</td></tr><tr><td>List(List(List(Wisconsin, https://api.bing.microsoft.com/api/v7/entities/cb4d2853-06f4-4467-8e7c-4e31cbb35cb2), List(Madison, Wisconsin, https://api.bing.microsoft.com/api/v7/entities/65426cc9-93eb-4569-8c2e-3b7c1b070278), List(NBC News, https://api.bing.microsoft.com/api/v7/entities/90fd2ef2-8123-de59-2b1f-ccd033454a4a), List(Israel, https://api.bing.microsoft.com/api/v7/entities/1ffafed3-2b37-b871-c271-aa855d98449a), List(Hamas, https://api.bing.microsoft.com/api/v7/entities/fd56a0c1-5b09-6e40-09dc-a8abf5069c30)), Politics, 2024-08-21T01:08:00.0000000Z, Biden may have had an irreparable rift with young voters. Some who were turned off by him are more interested in Harris, though issues including Gaza remain sticking points., List(List(https://www.bing.com/th?id=OVFT.cpHMozEZHpl6nL7HbmAqYC&pid=News, 367, 700)), null, Young voters take a new look at Harris, but some are waiting instead of committing, List(List(Organization, List(List(https://www.bing.com/th?id=ODF.ighWNnrr5MMFUs8WKMme2A&pid=news)), NBC News on MSN.com)), https://www.msn.com/en-us/news/other/young-voters-take-a-new-look-at-harris-but-some-are-waiting-instead-of-committing/ar-AA1p99hv, null)</td></tr><tr><td>List(List(List(Manchester United F.C., https://api.bing.microsoft.com/api/v7/entities/064ce28e-ed07-a026-2f79-1b321d7548ea), List(Scott McTominay, https://api.bing.microsoft.com/api/v7/entities/0d7f1ad6-7445-be60-fae6-be8f6834b0ec), List(Christian Eriksen, https://api.bing.microsoft.com/api/v7/entities/5300fd8a-fc99-435a-b1d8-3490e4228f87), List(The Red Devils, https://api.bing.microsoft.com/api/v7/entities/d8dea608-ca10-ab4f-17b8-e56a4017a2c5), List(Joshua Zirkzee, https://api.bing.microsoft.com/api/v7/entities/8fe167ac-7cc5-ccae-ca7f-86177823ad58), List(Matthijs de Ligt, https://api.bing.microsoft.com/api/v7/entities/f9875452-9ecf-c3e6-7e46-1dbc87f172f1), List(Noussair Mazraoui, https://api.bing.microsoft.com/api/v7/entities/ecdea285-86d1-ccdf-2115-a4415a845794), List(Paris Saint-Germain F.C., https://api.bing.microsoft.com/api/v7/entities/67266d4d-2667-f33f-7d3e-ae1225abff86), List(Federico Chiesa, https://api.bing.microsoft.com/api/v7/entities/3ee194eb-adf7-709d-7172-2fc8d91f72a5), List(Ivan Toney, https://api.bing.microsoft.com/api/v7/entities/98358ca1-1bd6-4cee-aff4-5b93c811f416), List(Ben Chilwell, https://api.bing.microsoft.com/api/v7/entities/d7ca1fbb-f3df-3e53-cfa2-323dc6ffc2f4)), Sports, 2024-08-21T14:03:00.0000000Z, Manchester United still have plenty of transfer business to complete in the final week of the window and could yet sign Manuel Ugarte while Scott McTominay, Christian Eriksen and Casemiro could depart, List(List(https://www.bing.com/th?id=OVFT.LBYdNNfY8kIhGkyEitiWcC&pid=News, 367, 700)), null, Man Utd transfer news LIVE: Medical booked, Manuel Ugarte breakthrough, United complete loan deal, List(List(Organization, List(List(https://www.bing.com/th?id=ODF.CWDfHbZtL9U2bsuN-kn_-w&pid=news)), The Mirror)), https://www.mirror.co.uk/sport/football/transfer-news/man-utd-transfer-news-live-33491446, null)</td></tr><tr><td>List(null, null, 2024-08-21T14:01:00.0000000Z, James Cutfield, 51, who is from New Zealand, was quizzed until late yesterday evening to help reconstruct what happened and provide useful technical details, reports the Italian news agency ANSA. His brother Mark earlier told the New Zealand Herald he was ..., List(List(https://www.bing.com/th?id=OVFT.Z89qPj7prCz9if78PBrPuS&pid=News, 393, 700)), null, Superyacht sinks latest: Two bodies found after superyacht sinking, List(List(Organization, null, Sky)), https://news.sky.com/story/superyacht-sinks-latest-two-bodies-found-after-superyacht-sinking-13199663, null)</td></tr><tr><td>List(List(List(Red tape, https://api.bing.microsoft.com/api/v7/entities/8c2f0c5c-25f8-7b89-35d0-896f2e34cb10), List(David Seymour, https://api.bing.microsoft.com/api/v7/entities/91f7fd7e-ec2a-7184-cfe2-0ae41a1f4e74), List(Green Party, https://api.bing.microsoft.com/api/v7/entities/257da6f4-91db-2e8a-12f6-05f7564f1b6c), List(The Washington Post, https://api.bing.microsoft.com/api/v7/entities/7802f29d-d7cc-5e6f-de8a-63a5a1a2f17f)), Business, 2024-08-21T00:44:19.0000000Z, The anti-red tape department is overseen by the ACT leader, who secured its creation during coalition negotiations last year., List(List(https://www.bing.com/th?id=OVFT.8T_ZT9AFU_NRZyqF5ygy9C&pid=News, 367, 700)), List(List(Public sector), List(Ministry), List(Radio New Zealand)), New ministry paying staff average salary of $150k despite public sector job cuts, List(List(Organization, List(List(https://www.bing.com/th?id=ODF.KbRIMdbKqxc2CRUKwuqxSg&pid=news)), rnz on MSN.com)), https://www.msn.com/en-nz/news/other/new-ministry-paying-staff-average-salary-of-150k-despite-public-sector-job-cuts/ar-AA1p8XpE, null)</td></tr><tr><td>List(List(List(WeTransfer, https://api.bing.microsoft.com/api/v7/entities/e72d073e-df1f-40e7-b64c-44edd9d7705b)), ScienceAndTechnology, 2024-08-21T11:33:48.0000000Z, Cloud-based file transfer platform WeTransfer has unveiled a new ‘Save for Later’ feature on its mobile app in a bid to address one of the platform’s biggest user frustrations – expired download links., List(List(https://www.bing.com/th?id=OVFT.fBm1F3cu92FG7PZA1V-Q8S&pid=News, 393, 700)), List(List(WeTransfer), List(TechRadar), List(The gospel)), Good news file fans - WeTransfer links will no longer expire, List(List(Organization, List(List(https://www.bing.com/th?id=ODF.HUwxplx_rx0g5pzCy5_Wwg&pid=news)), TechRadar on MSN.com)), https://www.msn.com/en-us/news/technology/good-news-file-fans-wetransfer-links-will-no-longer-expire/ar-AA1pbk5K, null)</td></tr><tr><td>List(List(List(North Vancouver, https://api.bing.microsoft.com/api/v7/entities/dff5cb1b-3df4-7b9b-6057-8473e9953cb2), List(Royal Canadian Mounted Police, https://api.bing.microsoft.com/api/v7/entities/e0c66ab1-c3c1-2e91-675b-983872f887ef)), Canada, 2024-08-20T20:07:00.0000000Z, Police in North Vancouver, B.C., say homicide investigators have been called in after a woman and girl died from falling off an apartment balcony. RCMP initially said officers responded to reports that two \"females\" had fallen from the building on East Esplanade in the city's Shipyards area at 4:30 a.m. Tuesday., List(List(https://www.bing.com/th?id=OVFT.xaYdLrWgR019S1k86hKXIC&pid=News, 349, 620)), null, Homicide investigators called in after woman and girl die in North Vancouver balcony fall, List(List(Organization, List(List(https://www.bing.com/th?id=ODF.4NbuPrmIxu0JD126LE1gxQ&pid=news)), CBC.ca)), https://www.cbc.ca/news/canada/british-columbia/woman-and-girl-die-in-balcony-fall-1.7300061, null)</td></tr><tr><td>List(List(List(Aston Villa F.C., https://api.bing.microsoft.com/api/v7/entities/d689e389-cacc-0912-28ee-039d79661230), List(Álex Moreno, https://api.bing.microsoft.com/api/v7/entities/ccba0daa-1602-52f1-5cd2-6ad22e9f95b7), List(Villa Park, https://api.bing.microsoft.com/api/v7/entities/1e177ead-ba8d-0da5-91f2-f4f4f1d1b5d0), List(Amadou Onana, https://api.bing.microsoft.com/api/v7/entities/1ca66a06-53cd-7959-48a4-bfdc53e7576e), List(Everton F.C., https://api.bing.microsoft.com/api/v7/entities/08c4e442-93ae-e0fe-a73b-f76f5259a171), List(Douglas Luiz, https://api.bing.microsoft.com/api/v7/entities/e4d0e312-8441-3d8b-6167-12496e2b71bc), List(Moussa Diaby, https://api.bing.microsoft.com/api/v7/entities/d25af0c6-d803-93ff-a62d-2bf4b96202c5), List(Unai Emery, https://api.bing.microsoft.com/api/v7/entities/bdfda59a-e857-f629-caa7-aa1072c5ce90), List(Atlético Madrid, https://api.bing.microsoft.com/api/v7/entities/b1132d17-4fd3-ba7d-39df-de416b1e6090), List(Premier League, https://api.bing.microsoft.com/api/v7/entities/02bde011-1e9d-3aff-8309-7d07d4031798), List(Chelsea F.C., https://api.bing.microsoft.com/api/v7/entities/8346cd56-1a96-adb0-26e1-f3679d88e0ba)), Sports, 2024-08-21T06:15:00.0000000Z, Aston Villa have confirmed Lamare Bogarde has signed a new contract with the club. The 20-year-old is highly-rated by Unai Emery, who used him in each of the club's even pre-season friendlies. Bogarde impressed in defence and in a holding midfield role earlier this summer., List(List(https://www.bing.com/th?id=OVFT.AcMIIgk-gkK3Yn74tqkq2y&pid=News, 367, 700)), null, Aston Villa transfer news live Joe Gomez twist, Alex Moreno medical, Samuel Iling-Junior latest, List(List(Organization, List(List(https://www.bing.com/th?id=ODF.jPou0vlDKt0Px6h21V_3rw&pid=news)), Birmingham Mail)), https://www.birminghammail.co.uk/sport/football/transfer-news/villa-transfers-live-iling-junior-29773450, null)</td></tr><tr><td>List(List(List(Travis Kelce, https://api.bing.microsoft.com/api/v7/entities/4e917ff4-3613-42f8-bf79-9c12138e3ede), List(John Wick, https://api.bing.microsoft.com/api/v7/entities/91048ec5-4775-4ea1-bbfb-8c396a2246c1), List(Loose Cannons, https://api.bing.microsoft.com/api/v7/entities/2d0a8549-d969-fcc7-2aa5-6e1eca5119b6), List(Taylor Swift, https://api.bing.microsoft.com/api/v7/entities/98004a38-a3ea-b902-b6d3-687b30b54353), List(Deadline Hollywood, https://api.bing.microsoft.com/api/v7/entities/8487dbc3-435c-5296-821c-8a2a66840e9c), List(Lionsgate, https://api.bing.microsoft.com/api/v7/entities/addd91f2-9d74-ed59-8f80-40991e39127c), List(Pixels, https://api.bing.microsoft.com/api/v7/entities/17e0a910-504b-87ad-32ec-550f6cb9fd94), List(Chad Stahelski, https://api.bing.microsoft.com/api/v7/entities/08c3b9bd-7bee-dc90-fcf7-b4805cf74dc1), List(Alex Young, https://api.bing.microsoft.com/api/v7/entities/8ae9c6bf-bb29-1987-1785-81e1678975cc)), Entertainment, 2024-08-21T08:47:35.0000000Z, Travis Kelce is reportedly set to star in new comedy Loose Cannons. The NFL star - who is dating Anti-Hero hitmaker Taylor Swift - is making the jump to Hollywood and may have landed his first big screen acting role., List(List(https://www.bing.com/th?id=OVFT.CRHhARBhHyjiHoCbrrfKTi&pid=News, 367, 700)), List(List(Travis Kelce), List(Manchester Evening News), List(Comedy)), Travis Kelce in talks to front new action comedy from John Wick producers, List(List(Organization, List(List(https://www.bing.com/th?id=ODF.oxaa8-w2MDoXi5yOUu7A3w&pid=news)), Manchester Evening News on MSN.com)), https://www.msn.com/en-gb/news/newsmanchester/travis-kelce-in-talks-to-front-new-action-comedy-from-john-wick-producers/ar-AA1paehQ, null)</td></tr><tr><td>List(List(List(CNN, https://api.bing.microsoft.com/api/v7/entities/c4c637e5-f9cc-a3ed-3380-7152515e062e), List(Mediterranean climate, https://api.bing.microsoft.com/api/v7/entities/bf1c93f2-9a1f-517d-2cd6-159b79fff257), List(Type 2 diabetes, https://api.bing.microsoft.com/api/v7/entities/83426981-8501-0894-eae9-3f11a06bf89f), List(University of Cambridge, https://api.bing.microsoft.com/api/v7/entities/92a4946b-bd44-dad3-15c3-14c37ab8894e)), LifeStyle, 2024-08-20T23:34:12.0000000Z, Many people are trying to cut back on red and processed meat for heart health or environmental reasons. A new global study shows another good reason., List(List(https://www.bing.com/th?id=OVFT.HZ-KKLVQgNIi-t10Nn9gpy&pid=News, 393, 700)), null, There is a link between the meat you eat and a chronic disease, according to new research, List(List(Organization, List(List(https://www.bing.com/th?id=ODF.t0BGYosS4GKZSebCajKQGA&pid=news)), CNN on MSN.com)), https://www.msn.com/en-us/health/other/global-study-shows-the-link-between-red-and-processed-meats-and-type-2-diabetes/ar-AA1p8FPI, List(null, null, Global study shows the link between red and processed meats and type 2 diabetes, List(292, 520), https://www.bing.com/th?id=OVF.hPOtjHufEraNH1owqr32tQ&pid=News))</td></tr><tr><td>List(List(List(New Mexico State University, https://api.bing.microsoft.com/api/v7/entities/e3d88a51-9b7a-0d6d-98c6-5d5766648030), List(Tailgating, https://api.bing.microsoft.com/api/v7/entities/e8af03e2-58ba-632f-44d7-9b33d3ce3c97), List(Albuquerque, New Mexico, https://api.bing.microsoft.com/api/v7/entities/7fffaaf6-e694-4095-be90-f6492cadbd58)), LifeStyle, 2024-08-20T22:18:33.0000000Z, Changes are coming to New Mexico State University’s tailgating rules this football season. Parking lots will shut down two hours after the game or at midnight, whichever comes sooner. For the non-student lots,, List(List(https://www.bing.com/th?id=OVFT.RQtsGpt1lmQE2r7GoEiRyS&pid=News, 394, 700)), List(List(New Mexico State University), List(Tailgate party), List(Leysin American School)), New Mexico State University updates tailgating rules, List(List(Organization, List(List(https://www.bing.com/th?id=ODF.ZWWEWocRXnzJRhsSxEV2vQ&pid=news)), KRQE Albuquerque on MSN.com)), https://www.msn.com/en-us/news/technology/new-mexico-state-university-updates-tailgating-rules/ar-AA1p8YwW, null)</td></tr><tr><td>List(List(List(ITV News, https://api.bing.microsoft.com/api/v7/entities/cebdf159-e6b1-8366-f641-3dc397442550), List(Channel Islands, https://api.bing.microsoft.com/api/v7/entities/c7410b83-1066-f7e4-42ce-3a692f04388a)), null, 2024-08-20T17:00:00.0000000Z, Tue 20 Aug 6pm • Watch the latest ITV News programme from the Channel Islands for 24 hours after broadcast on ITVX. Viewing may be restricted in some countries due to licensing., List(List(https://www.bing.com/th?id=OVFT.sjyBOPvhnbo1Fmq9gGq6xC&pid=News, 393, 700)), null, Catch up on ITV News Channel from Tuesday 20th August, List(List(Organization, List(List(https://www.bing.com/th?id=ODF.HlKTyCgM99pRvmITMdZC2w&pid=news)), ITV)), https://www.itv.com/watch/news/catch-up-on-itv-news-channel-from-tuesday-20th-august/4b1d46n, null)</td></tr><tr><td>List(List(List(Giorgi Mamardashvili, https://api.bing.microsoft.com/api/v7/entities/3fea8e15-30d3-d9d4-f374-612a263a3317), List(Liverpool F.C., https://api.bing.microsoft.com/api/v7/entities/8d437035-df45-5e15-5868-05ded77dd0cf), List(Anfield, https://api.bing.microsoft.com/api/v7/entities/19e4bd56-f843-2ecf-1219-f4dfc0317663), List(Anthony Gordon, https://api.bing.microsoft.com/api/v7/entities/cc1355ae-3b3d-23ed-73ba-5a7c4c841450), List(Atalanta B.C., https://api.bing.microsoft.com/api/v7/entities/8d74476a-a36b-a243-e892-419928cc4e39), List(Ederson, https://api.bing.microsoft.com/api/v7/entities/13af31b2-a3e9-c5e4-19c9-259871b0fb65), List(S.S.C. Napoli, https://api.bing.microsoft.com/api/v7/entities/754ddace-80f4-708a-0cba-a226529ff93b), List(Khvicha Kvaratskhelia, https://api.bing.microsoft.com/api/v7/entities/ac76d04c-7db4-0d90-0393-7a141d867156), List(Arne Slot, https://api.bing.microsoft.com/api/v7/entities/486f7116-76a2-6b5f-b011-99872e3824a1), List(UEFA Euro 2024, https://api.bing.microsoft.com/api/v7/entities/f6e2741f-875b-c715-a38b-74198e2edbc6)), Sports, 2024-08-21T13:00:00.0000000Z, Judging by the way FSG continue to do their transfer business that seems very unlikely. Get all the latest Liverpool breaking news, team news, transfer rumours, injury updates plus analysis of what's next for the Reds. You'll also get the latest transfer ..., List(List(https://www.bing.com/th?id=OVFT.81S1Mvg2v8PTBPIYYo7BES&pid=News, 367, 700)), List(List(Transfer), List(Spell), List(Liverpool Echo)), Giorgi Mamardashvili transfer spells a bold new era, but what's wrong with the old one?, List(List(Organization, null, Liverpool Echo on MSN.com)), https://www.msn.com/en-gb/news/newsliverpool/giorgi-mamardashvili-transfer-spells-a-bold-new-era-but-whats-wrong-with-the-old-one/ar-AA1pbmes, null)</td></tr><tr><td>List(List(List(North Northamptonshire, https://api.bing.microsoft.com/api/v7/entities/51c52fe2-4327-791c-2995-7d2e8a75cdf4), List(Department for Education, https://api.bing.microsoft.com/api/v7/entities/2f8a8d0c-8aab-4329-74cb-1abb43f237c8), List(Northamptonshire, https://api.bing.microsoft.com/api/v7/entities/6b5ff743-48aa-7f30-4bfe-97eeede8e6fa), List(BBC Sounds, https://api.bing.microsoft.com/api/v7/entities/cec9c447-6c68-e3df-c11a-2c4eba4db6b8), List(Instagram, https://api.bing.microsoft.com/api/v7/entities/a2113d26-7976-df57-241f-77b7bbb1b4f7), List(X, https://api.bing.microsoft.com/api/v7/entities/860dea43-a2c0-7912-8370-4ef51face341)), null, 2024-08-21T11:28:00.0000000Z, Two new permanent classrooms at a special school will be open in time for the new school year. Rowan Gate Primary School in Wellingborough, Northamptonshire, has unveiled a permanent building to replace two temporary classrooms. The building, which cost £1.6m, will cater for 140 pupils and will provide them with more space., List(List(https://www.bing.com/th?id=OVFT.voyrARNduj5JVuR7Pr3RVC&pid=News, 393, 700)), null, Special school's new classrooms ready for September, List(List(Organization, List(List(https://www.bing.com/th?id=ODF.yhngt24TSWuyw3ur0Pt3WQ&pid=news)), BBC)), https://www.bbc.co.uk/news/articles/clylrn0z870o, null)</td></tr><tr><td>List(List(List(Florida, https://api.bing.microsoft.com/api/v7/entities/5fece3f4-e8e8-4159-843e-f725a930ad50), List(New Jersey, https://api.bing.microsoft.com/api/v7/entities/05277898-b62b-4878-8632-09d29756a2ff), List(Acid attack, https://api.bing.microsoft.com/api/v7/entities/17b8d6ee-4252-c533-c16c-77c0d414e308), List(CNN, https://api.bing.microsoft.com/api/v7/entities/c4c637e5-f9cc-a3ed-3380-7152515e062e), List(KYW, https://api.bing.microsoft.com/api/v7/entities/51fbd9d8-5815-c4ae-6c48-7f31ea6380b1)), null, 2024-08-21T05:26:56.0000000Z, Three Florida residents have been arrested in connection to an apparent acid attack on a New Jersey woman who suffered burns to more than 35% of her body, according to a Gloucester County Prosecutor’s Office press release obtained by CNN affiliate KYW., List(List(https://www.bing.com/th?id=OVFT.CguLSXg0gEDJttpRX2xIFy&pid=News, 393, 700)), null, Florida trio charged in apparent acid attack that left a New Jersey woman with burns to a third of her body, prosecutors say, List(List(Organization, List(List(https://www.bing.com/th?id=ODF.t0BGYosS4GKZSebCajKQGA&pid=news)), CNN on MSN.com)), https://www.msn.com/en-us/news/crime/florida-trio-charged-in-apparent-acid-attack-that-left-a-new-jersey-woman-with-burns-to-a-third-of-her-body-prosecutors-say/ar-AA1p9NUt, null)</td></tr><tr><td>List(List(List(Democratic National Committee, https://api.bing.microsoft.com/api/v7/entities/8a519bbe-c1a3-a5d0-c9ea-91fdeae7ba80), List(Chicago, https://api.bing.microsoft.com/api/v7/entities/28deeb39-ca49-4bd4-913b-929b1de4b25b), List(Democratic National Convention, https://api.bing.microsoft.com/api/v7/entities/eb5f527b-1e2d-86c2-e55c-1fc837f43499), List(Washington Boulevard, https://api.bing.microsoft.com/api/v7/entities/712670b4-9af8-86ab-9b27-95855b897f05), List(Israel, https://api.bing.microsoft.com/api/v7/entities/1ffafed3-2b37-b871-c271-aa855d98449a), List(Hamas, https://api.bing.microsoft.com/api/v7/entities/fd56a0c1-5b09-6e40-09dc-a8abf5069c30), List(United Center, https://api.bing.microsoft.com/api/v7/entities/70ad5c21-b753-597d-414d-3804d0423499)), World, 2024-08-21T02:51:38.0000000Z, Chicago crews installed an additional line of security fences outside the Democratic National Convention early Tuesday in the area where, a day earlier, demonstrators breached an outer perimeter fence., List(List(https://www.bing.com/th?id=OVFT.hbHbI2c2123-8Znm28xhtC&pid=News, 393, 700)), null, New fencing goes up outside DNC a day after pro-Palestinian protesters breach outer barrier, List(List(Organization, List(List(https://www.bing.com/th?id=ODF.t0BGYosS4GKZSebCajKQGA&pid=news)), CNN on MSN.com)), https://www.msn.com/en-us/news/us/new-fencing-goes-up-outside-dnc-a-day-after-pro-palestinian-protesters-breach-outer-barrier/ar-AA1p7z1G, null)</td></tr><tr><td>List(List(List(Lewis Hamilton, https://api.bing.microsoft.com/api/v7/entities/afd8d17d-2960-d4d6-3ee3-cbb7ad7d515e), List(Formula One, https://api.bing.microsoft.com/api/v7/entities/b7a76276-375a-718b-52d9-49eae9b263a4), List(Valtteri Bottas, https://api.bing.microsoft.com/api/v7/entities/842c17fe-ff41-4769-2eea-658e7e58d1cc), List(New York Red Bulls, https://api.bing.microsoft.com/api/v7/entities/74ef7974-937a-e25a-9594-1c3182e17252)), Sports, 2024-08-20T22:00:00.0000000Z, Your F1 news round-up is here, with Lewis Hamilton having made a prediction for the rest of the 2024 season that should get our excitement up. As ever, there is a lot to get through, so let’s not waste any more time,, List(List(https://www.bing.com/th?id=OVFT.VAsQYTvTlLlbg2V6Bae2CC&pid=News, 367, 700)), List(List(Lewis Hamilton), List(Valtteri Bottas), List(Formula One)), Lewis Hamilton’s latest F1 prediction with Valtteri Bottas at centre of intense criticism – round-up, List(List(Organization, List(List(https://www.bing.com/th?id=ODF.AH4i8E8I1buqt0fbc5gOAw&pid=news)), PlanetF1.com on MSN.com)), https://www.msn.com/en-us/sports/other/lewis-hamilton-s-latest-f1-prediction-with-valtteri-bottas-at-centre-of-intense-criticism-round-up/ar-AA1p8EDh, null)</td></tr><tr><td>List(List(List(Nigeria, https://api.bing.microsoft.com/api/v7/entities/f8afbbd6-9c3e-02be-7cb2-eac695e2da02), List(Nigerians, https://api.bing.microsoft.com/api/v7/entities/9fbd769b-30f1-fedc-4ffc-7d451aada1de), List(France, https://api.bing.microsoft.com/api/v7/entities/c7bfe2de-4f82-e23c-ae42-8544b5b5c0ea), List(Airbus A330, https://api.bing.microsoft.com/api/v7/entities/cf401561-d848-d8f3-8d4c-22380168287b)), World, 2024-08-21T12:09:00.0000000Z, Many Nigerians have reacted with outrage after a new plane was bought for President Bola Tinubu at a time when the economy is experiencing its worst crisis in a generation. The purchase comes less than two weeks after thousands took to the streets across ..., List(List(https://www.bing.com/th?id=OVFT.7C_HHcyp6aVl_XCvSSw24i&pid=News, 393, 700)), null, Nigerians outraged by president’s new plane, List(List(Organization, null, BBC)), https://www.bbc.co.uk/news/articles/cy4ydd2x5x2o, null)</td></tr><tr><td>List(List(List(George Floyd, https://api.bing.microsoft.com/api/v7/entities/c78e0e6e-3b43-9e12-66d6-6466c9cbce54), List(Minneapolis, https://api.bing.microsoft.com/api/v7/entities/def03125-42ba-47cd-8061-ee55f5c63e67), List(Derek Chauvin, https://api.bing.microsoft.com/api/v7/entities/ddde2ddf-199d-9311-b135-336828a27f08), List(Federal Bureau of Prisons, https://api.bing.microsoft.com/api/v7/entities/bdca07d5-27a0-917c-5506-de6deeddf20c), List(Associated Press, https://api.bing.microsoft.com/api/v7/entities/b2843a2b-80fd-2fa0-10d0-97b51563ffcb), List(Federal Correctional Institution, Big Spring, https://api.bing.microsoft.com/api/v7/entities/ab3d4589-8104-8664-1f4e-46c139e8fb09), List(Federal Bureau of Investigation, https://api.bing.microsoft.com/api/v7/entities/e470e552-d479-42f9-dff4-a15995402e33)), null, 2024-08-21T07:42:00.0000000Z, Derek Chauvin was transferred to a federal prison in Texas almost nine months after he was stabbed in a different facility., List(List(https://www.bing.com/th?id=OVFT.7q4qAgScsd6ip4f8SNU7bC&pid=News, 700, 639)), null, Ex-officer convicted in George Floyd’s killing is moved to new prison months after stabbing, List(List(Organization, List(List(https://www.bing.com/th?id=ODF.AlMAEy7MoWNz0OI_xSWQiw&pid=news)), The Associated Press on MSN.com)), https://www.msn.com/en-us/news/crime/ex-officer-convicted-in-george-floyd-s-killing-is-moved-to-new-prison-months-after-stabbing/ar-AA1p8hcT, null)</td></tr><tr><td>List(null, ScienceAndTechnology, 2024-08-20T15:06:08.0000000Z, International publishers are overtaking local news brands in Google's Top stories, raising questions about search relevance., null, List(List(Google), List(United States), List(Search Engine Optimization)), Google’s Top stories looks broken: Are news publishers to blame?, List(List(Organization, List(List(https://www.bing.com/th?id=ODF.4QeTEYHGoXPpi_CNzqJApQ&pid=news)), Search Engine Land on MSN.com)), https://www.msn.com/en-us/news/technology/google-s-top-stories-looks-broken-are-news-publishers-to-blame/ar-AA1p7F2f, null)</td></tr><tr><td>List(List(List(Jeremy Clarkson, https://api.bing.microsoft.com/api/v7/entities/ddc9900f-d3d1-a052-0176-298795c71eea), List(Cotswolds, https://api.bing.microsoft.com/api/v7/entities/ad6d3d8f-f997-84f9-b85b-2e8d230e869e), List(Top Gear, https://api.bing.microsoft.com/api/v7/entities/684e1cfe-24e4-56d2-5280-79a9f735d4c0), List(Oxfordshire, https://api.bing.microsoft.com/api/v7/entities/1eda598d-62bc-9a62-5694-ee4472f8dcf5), List(A40 road, https://api.bing.microsoft.com/api/v7/entities/6a526ebc-09bd-492b-2013-34b15eff861e), List(Burford, https://api.bing.microsoft.com/api/v7/entities/656326ab-f57e-e678-ef3b-bc3ecf4fcca2)), null, 2024-08-21T12:24:00.0000000Z, Jeremy Clarkson has revealed his new pub will open its doors to the public for the first time on Friday - and that the boozer has a new name. The former Top Gear presenter, 64, announced The Farmers Dog, in Oxfordshire will be ready just in time for the ..., List(List(https://www.bing.com/th?id=OVFT.3chxsk0zOuDA6CRPMMUjwC&pid=News, 393, 700)), null, Jeremy Clarkson announces his new Cotswolds pub will open this Friday and renames it 'The Farmer's Dog' - as presenter reveals plans for second Diddly Squat Farm Shop, List(List(Organization, null, Daily Mail)), https://www.dailymail.co.uk/news/article-13765077/Jeremy-Clarksons-new-pub-Farmers-Dog-open-Friday.html, null)</td></tr><tr><td>List(List(List(Italy, https://api.bing.microsoft.com/api/v7/entities/09e8f885-427b-8850-947d-202e0287b9e8), List(Clifford Chance, https://api.bing.microsoft.com/api/v7/entities/97aad71a-30da-1d4d-ca3c-70ec80964c97)), null, 2024-08-20T20:25:00.0000000Z, Along with everyone else, we’re devastated by the news out of Italy concerning the ship. Our thoughts and prayers are with Chris’ family,” Elkan Abramowitz said., List(List(https://www.bing.com/th?id=OVFT.SNfjQJptmiZmQH85-9VM0y&pid=News, 577, 700)), null, New York Lawyers 'Stunned and Devastated' Over Chris Morvillo Disappearance, List(List(Organization, List(List(https://www.bing.com/th?id=ODF.0zEurQ1YsrHCOmHwthImcQ&pid=news)), Law)), https://www.law.com/newyorklawjournal/2024/08/20/new-york-lawyers-stunned-and-devastated-over-chris-morvillo-disappearance/, null)</td></tr><tr><td>List(List(List(Donald Trump, https://api.bing.microsoft.com/api/v7/entities/1a466af2-ed23-25bd-794d-1ca925e4681b), List(Taylor Swift, https://api.bing.microsoft.com/api/v7/entities/98004a38-a3ea-b902-b6d3-687b30b54353), List(Chicago, https://api.bing.microsoft.com/api/v7/entities/28deeb39-ca49-4bd4-913b-929b1de4b25b), List(Democratic National Convention, https://api.bing.microsoft.com/api/v7/entities/eb5f527b-1e2d-86c2-e55c-1fc837f43499), List(Kamala Harris, https://api.bing.microsoft.com/api/v7/entities/ef5cf66f-32b7-7271-286a-8e8313eda5c5), List(Tech Billionaires: Elon Musk, https://api.bing.microsoft.com/api/v7/entities/c4fad87c-d4f0-ef0d-af23-19b1996e3053), List(Artificial intelligence, https://api.bing.microsoft.com/api/v7/entities/9d99fb44-edac-0e03-1579-19d8d8591a49)), Politics, 2024-08-20T19:50:00.0000000Z, Former President Donald Trump has been active on his social accounts as Democrats gather for their convention in Chicago, but many of his posts don’t have much to do with reality., List(List(https://www.bing.com/th?id=OVFT.8Wi-hOtIEoVH-QOlbnXtNS&pid=News, 367, 700)), null, Trump’s post of fake Taylor Swift endorsement is his latest embrace of AI-generated images, List(List(Organization, List(List(https://www.bing.com/th?id=ODF.AlMAEy7MoWNz0OI_xSWQiw&pid=news)), The Associated Press on MSN.com)), https://www.msn.com/en-us/news/politics/trump-s-post-of-fake-taylor-swift-endorsement-is-his-latest-embrace-of-ai-generated-images/ar-AA1p8ugH, null)</td></tr><tr><td>List(List(List(Donald Trump, https://api.bing.microsoft.com/api/v7/entities/1a466af2-ed23-25bd-794d-1ca925e4681b), List(Leonardo DiCaprio, https://api.bing.microsoft.com/api/v7/entities/5f2c4ac2-d77a-474e-4580-c76549d4fce5), List(Diana, Princess of Wales, https://api.bing.microsoft.com/api/v7/entities/f4bf63ea-0b6c-58e0-4587-64927290483f), List(The Cheesecake Factory, https://api.bing.microsoft.com/api/v7/entities/513ac470-7772-1f4d-d4e1-2b4a6111ff19), List(AMC, https://api.bing.microsoft.com/api/v7/entities/c8f09f18-1dfb-b3c6-3daf-259b82271e22), List(The Grove, https://api.bing.microsoft.com/api/v7/entities/43e17dc7-c6c0-4009-ab03-44310e26b258)), null, 2024-08-20T16:29:00.0000000Z, Donald Trump said he's only going to speak behind bullet-proof glass at outdoor rallies after that failed assassination attempt. Now, a picture of him speaking behind glass on the 4th of July 2019 is going viral. 10 year-old me: I’m going to marry Leonardo DiCaprio my Princess Diana beanie baby: pic.twitter.com/Dni3Pfg9f8, List(List(https://www.bing.com/th?id=OVFT.5zc_9oceXEQ-NDjhBu09hC&pid=News, 464, 700)), null, This Picture Of Donald Trump Behind Bullet-Proof Glass Is Now A Unintentionally Hilarious New Meme, List(List(Organization, List(List(https://www.bing.com/th?id=ODF.zvLEjo304eZajOqoKLxUtA&pid=news)), Yahoo News Canada)), https://ca.yahoo.com/news/picture-donald-trump-behind-bullet-162934848.html, null)</td></tr><tr><td>List(List(List(Stimulus, https://api.bing.microsoft.com/api/v7/entities/a20531eb-e559-ec38-f785-ccfe7eded6f7), List(Alaska, https://api.bing.microsoft.com/api/v7/entities/31c4c7a1-54e7-4306-ac9b-f1b02e85bda5)), Business, 2024-08-21T12:24:00.0000000Z, Alaskans will receive $1300 stimulus checks, offering crucial financial support amid global economic difficulties. This payment comes as part of the state's Permanent Fund Dividend (PFD) program, designed to provide ongoing economic benefits to residents ..., List(List(https://www.bing.com/th?id=OVFT.szrqyOBn23c_lD3hELsFhS&pid=News, 466, 700)), null, 1312 Stimulus Payment Eligibility: A new $1312 payment is coming next month, are you eligible to get it?, List(List(Organization, null, MARCA)), https://www.marca.com/en/lifestyle/us-news/personal-finance/2024/08/21/66c5d1e046163f57778b45b7.html, null)</td></tr><tr><td>List(List(List(Andrew Tate, https://api.bing.microsoft.com/api/v7/entities/41f247b0-02b9-c01d-3fb2-f794db91e9c4), List(Romania, https://api.bing.microsoft.com/api/v7/entities/0cc489d5-ff53-84f1-4fcc-76525efef33a), List(Human trafficking, https://api.bing.microsoft.com/api/v7/entities/8e68768e-ecd5-4bf5-b732-28df9390a5e9), List(Rape, https://api.bing.microsoft.com/api/v7/entities/0cdc95b4-903a-9c9c-ad30-233321b50d1b), List(Bucharest, https://api.bing.microsoft.com/api/v7/entities/42022f97-112e-58a6-70f5-9536b20ee957), List(Ilfov County, https://api.bing.microsoft.com/api/v7/entities/d6b13ffc-3490-2609-746c-5b9daf56e5ee)), World, 2024-08-21T08:01:00.0000000Z, Dozens of police officers and forensic personnel were scouring Tate’s large property on the edge of the capital Bucharest., List(List(https://www.bing.com/th?id=OVFT.mTc07i_DZeeWpdB-0qGQVy&pid=News, 466, 700)), null, Police raid Andrew Tate’s home in Romania as new allegations emerge involving minors, List(List(Organization, List(List(https://www.bing.com/th?id=ODF.AlMAEy7MoWNz0OI_xSWQiw&pid=news)), The Associated Press - Business News on MSN.com)), https://www.msn.com/en-us/news/crime/police-raid-andrew-tates-home-in-romania-as-new-allegations-emerge-involving-minors/ar-AA1pabHH, null)</td></tr><tr><td>List(List(List(Raheem Sterling, https://api.bing.microsoft.com/api/v7/entities/2c5f2a39-135c-560d-575f-dd7424d4ce82), List(Chelsea F.C., https://api.bing.microsoft.com/api/v7/entities/8346cd56-1a96-adb0-26e1-f3679d88e0ba), List(Enzo Maresca, https://api.bing.microsoft.com/api/v7/entities/57f409e7-f3be-4c3f-89a8-adb2b541771b), List(Manchester City F.C., https://api.bing.microsoft.com/api/v7/entities/8b357e7d-2cd9-6ebf-30d5-6794f62ce637), List(England, https://api.bing.microsoft.com/api/v7/entities/280d39e8-7217-6863-6980-a8c20c211c89), List(UEFA, https://api.bing.microsoft.com/api/v7/entities/bfd4adbc-7bef-3f42-8d9f-ea01eff9724b), List(Tosin Adarabioyo, https://api.bing.microsoft.com/api/v7/entities/4455aa90-9467-adad-ec92-ac8477ce200b)), Sports, 2024-08-21T08:51:00.0000000Z, Raheem Sterling’s Chelsea future has been called into question yet again after being left out of their squad to face Servette. It is is the second game in a row that Sterling has been axed, List(List(https://www.bing.com/th?id=OVFT.125GyMFOaI79S7q5wee39i&pid=News, 240, 360)), null, Raheem Sterling in new Chelsea low ahead of Europa Conference League clash with Servette as winger seeks ‘clarity’ over future, List(List(Organization, List(List(https://www.bing.com/th?id=ODF.1J7u2N62JGb2VrnCRlJIrw&pid=news)), Talksport)), https://talksport.com/football/2016586/chelsea-raheem-sterling-axed-squad-servette/, null)</td></tr><tr><td>List(List(List(Connecticut, https://api.bing.microsoft.com/api/v7/entities/b3ca6523-435e-4a3b-8f78-1ad900a52cf8), List(New York, https://api.bing.microsoft.com/api/v7/entities/caeb7b9a-f5d7-4686-8fb5-cf7628296b13), List(Long Island, https://api.bing.microsoft.com/api/v7/entities/ef0c0f37-bad2-bd1a-ad90-888ea76346bb), List(National Weather Service, https://api.bing.microsoft.com/api/v7/entities/94765d39-8736-70dc-4819-8ed777a628f0)), null, 2024-08-20T14:53:00.0000000Z, The long and costly recovery effort has begun in Connecticut and New York after historic flooding caused sweeping damage over the weekend., List(List(https://www.bing.com/th?id=OVFT.QYEhaDqKNF6mcFrPntmwkS&pid=News, 393, 700)), null, Long recovery underway after deadly and destructive floods ravage Connecticut, New York, List(List(Organization, List(List(https://www.bing.com/th?id=ODF.m1iod5ODNIyyKu23kGIllQ&pid=news)), USA Today)), https://www.usatoday.com/story/news/nation/2024/08/20/connecticut-ny-flooding-recovery/74868830007/, null)</td></tr><tr><td>List(List(List(Norwich, https://api.bing.microsoft.com/api/v7/entities/984fdffb-7ef3-de93-5b19-44454e228884)), null, 2024-08-21T05:47:44.0000000Z, Gemma Hyde, from Norwich's Castle Quarter shopping centre, wants to help families who cannot afford new uniforms., List(List(https://www.bing.com/th?id=OVFT.9H0g3ziXxwQAvQEZdJYC4C&pid=News, 393, 700)), List(List(Free school), List(School uniform), List(Pop-up ad)), Free school uniform 'pop-up' to ease cost of new term, List(List(Organization, List(List(https://www.bing.com/th?id=ODF.k3N4DqozNjgK376rAnFmsA&pid=news)), BBC on MSN.com)), https://www.msn.com/en-us/news/world/free-school-uniform-pop-up-to-ease-cost-of-new-term/ar-AA1p9J8f, null)</td></tr><tr><td>List(List(List(Libya, https://api.bing.microsoft.com/api/v7/entities/b4e5604e-361e-ab37-6516-4cf5580a04aa)), null, 2024-08-21T13:25:00.0000000Z, Home Affairs minister Leon Schreiber says that “the system will always be down” at this department unless it takes a page out of SARS’ book., List(List(https://www.bing.com/th?id=OVFT.aXKlyww6SuBIGM_5M90VTC&pid=News, 393, 700)), null, Home Affairs wants to be the new SARS, List(List(Organization, List(List(https://www.bing.com/th?id=ODF.HeMcjfJp8OYTNknyI2IN7Q&pid=news)), businesstech.co.za)), https://businesstech.co.za/news/government/787740/home-affairs-wants-to-be-the-new-sars/, null)</td></tr><tr><td>List(List(List(Gamescom, https://api.bing.microsoft.com/api/v7/entities/b17f0fd6-503a-c7ea-7e09-3795cff5e623), List(Borderlands, https://api.bing.microsoft.com/api/v7/entities/de3ec702-729a-972a-78f1-5d68add173f0), List(Gearbox Software, https://api.bing.microsoft.com/api/v7/entities/b3fa876a-8896-453a-ee5f-7b18a932feb9), List(Bethesda Game Studios, https://api.bing.microsoft.com/api/v7/entities/d9bc865e-0d24-4e3d-8537-4efd22be15f2), List(Borderlands 3, https://api.bing.microsoft.com/api/v7/entities/6e7a8481-3216-5168-be94-f09856320b94), List(Borderlands 2, https://api.bing.microsoft.com/api/v7/entities/f0fe13f3-31d5-de9b-4470-7dc86447427d)), ScienceAndTechnology, 2024-08-20T22:58:00.0000000Z, There’s not an exact release date yet, but Borderlands 4 is slated for a 2025 release so we won’t have to wait long. It’s been five years since Borderlands 3 came out, and that game didn’t inspire the kind of hype and widespread praise that Borderlands 2 received at launch., List(List(https://www.bing.com/th?id=OVFT.hAXz8WNGPQO7507zYSZQFS&pid=News, 337, 600)), null, ‘Borderlands 4’ Announced With A Surprising Release Window And A New Trailer, List(List(Organization, List(List(https://www.bing.com/th?id=ODF.U6nYa4Huf-RFEhjg-V4hNg&pid=news)), Forbes)), https://www.forbes.com/sites/erikkain/2024/08/20/borderlands-4-announced-with-a-surprising-release-window-and-a-new-trailer/, List(null, null, ‘Borderlands 4’ Announced With A Surprising Release Window And A New Trailer, List(292, 520), https://www.bing.com/th?id=OVF.XipcomA3hntaDDc%2Bszyhtw&pid=News))</td></tr><tr><td>List(List(List(Kaiser Permanente, https://api.bing.microsoft.com/api/v7/entities/fa8bca5f-ac75-3fe3-9d30-1896f04572ba), List(California, https://api.bing.microsoft.com/api/v7/entities/3009d91d-d582-4c34-85ba-772ba09e5be1), List(Albany, New York, https://api.bing.microsoft.com/api/v7/entities/62ca8245-972e-448d-af38-345d4a958798)), null, 2024-08-21T10:00:33.0000000Z, Nearly three years after wheelchair user Beth Smith sued Kaiser for capping coverage well below the costs of many motorized chairs, the Albany resident is slated to get thousands of dollars for a new chair. Smith, 64, was among the plaintiffs in a class ..., List(List(https://www.bing.com/th?id=OVFT.kaf4Lq8Ul61EB9pt0r57Mi&pid=News, 367, 700)), List(List(California), List(Kaiser Family Foundation), List(Wheelchair)), Years after lawsuit, Kaiser will pay for new wheelchair for California woman, List(List(Organization, null, Los Angeles Times on MSN.com)), https://www.msn.com/en-us/news/other/years-after-lawsuit-kaiser-will-pay-for-new-wheelchair-for-california-woman/ar-AA1paJ71, null)</td></tr><tr><td>List(List(List(Coal, https://api.bing.microsoft.com/api/v7/entities/91cf2898-c1b2-4266-65ac-cb7e03a4bfa0), List(Natural gas, https://api.bing.microsoft.com/api/v7/entities/0f2df4e3-f260-d13a-8235-bf64bd7f79b1), List(Pennsylvania, https://api.bing.microsoft.com/api/v7/entities/6304580e-c803-4266-818a-971619176547), List(United States Environmental Protection Agency, https://api.bing.microsoft.com/api/v7/entities/4e6838b4-41a3-4674-aed3-3b4908acbd6b)), LifeStyle, 2024-08-20T22:36:30.0000000Z, Former President Trump said that if elected, he will reverse the Biden-Harris administration's EPA rule that requires coal and natural gas power plants to cut emissions by 90%., List(List(https://www.bing.com/th?id=OVFT.rjqTLX6uTjc4KmDS728YPC&pid=News, 393, 700)), null, Trump vows to repeal new EPA power plant rule, List(List(Organization, List(List(https://www.bing.com/th?id=ODF.GimbRbdxNxZt1GEL5O0AJg&pid=news)), FOX News on MSN.com)), https://www.msn.com/en-us/news/politics/trump-vows-to-repeal-new-epa-power-plant-rule/ar-AA1p8IoF, null)</td></tr><tr><td>List(List(List(Mario Lopez, https://api.bing.microsoft.com/api/v7/entities/960f54aa-52b2-b6cf-2242-2066d6b8b322), List(Reel, https://api.bing.microsoft.com/api/v7/entities/cbb2fa82-62c4-c330-680a-1377c8c969e8), List(Instagram, https://api.bing.microsoft.com/api/v7/entities/a2113d26-7976-df57-241f-77b7bbb1b4f7)), Entertainment, 2024-08-20T21:07:52.0000000Z, Mario Lopez's kids are heading back to the classroom. On Tuesday, Aug. 20, the proud dad, 50, posted a Reel on his Instagram as he shared that his three kids — daughter Gia, 13, and sons Dominic, 10, and Santino, 5, whom he shares with wife Courtney — were celebrating their first day of school., List(List(https://www.bing.com/th?id=OVFT.3hDTCHPYPzA8wkEnSkWqji&pid=News, 466, 700)), null, Mario Lopez Shares That All 3 of His Kids Are 'Officially Back to School' in Adorable New Photos, List(List(Organization, List(List(https://www.bing.com/th?id=ODF.kridaNmIIz5AdgcUGG5eBQ&pid=news)), People on MSN.com)), https://www.msn.com/en-us/lifestyle/lifestyle-buzz/mario-lopez-shares-that-all-3-of-his-kids-are-officially-back-to-school-in-adorable-new-photos/ar-AA1p8Eos, null)</td></tr><tr><td>List(List(List(Robert F. Kennedy, https://api.bing.microsoft.com/api/v7/entities/367cc99b-d308-8104-8e05-1fd1a98862da), List(Chicago, https://api.bing.microsoft.com/api/v7/entities/28deeb39-ca49-4bd4-913b-929b1de4b25b), List(Robert F. Kennedy Jr., https://api.bing.microsoft.com/api/v7/entities/e045d327-0fdc-d12c-b847-d1c25c43331e), List(Kamala Harris, https://api.bing.microsoft.com/api/v7/entities/ef5cf66f-32b7-7271-286a-8e8313eda5c5), List(CNN, https://api.bing.microsoft.com/api/v7/entities/c4c637e5-f9cc-a3ed-3380-7152515e062e), List(Donald Trump, https://api.bing.microsoft.com/api/v7/entities/1a466af2-ed23-25bd-794d-1ca925e4681b)), Politics, 2024-08-20T22:06:00.0000000Z, Robert F. Kennedy Jr.'s running mate Nicole Shanahan said the Kennedy campaign is considering dropping out of the race and endorsing former President Donald Trump., List(List(https://www.bing.com/th?id=OVFT.5M93eu2lyXiSl5xHEZCOqS&pid=News, 393, 700)), null, RFK Jr. news: Kennedy running mate says campaign considering dropping out, endorsing Trump, List(List(Organization, List(List(https://www.bing.com/th?id=ODF.t0BGYosS4GKZSebCajKQGA&pid=news)), CNN on MSN.com)), https://www.msn.com/en-us/news/politics/rfk-jr-running-mate-shanahan-says-they-re-considering-endorsing-trump/ar-AA1p8ncv, List(true, <iframe width=\"476\" height=\"267\" src=\"https://abc13.com/video/embed/?pid=15210325\" scrolling=\"no\" frameborder=\"0\" allowfullscreen></iframe>, RFK Jr. news: Kennedy running mate says campaign considering dropping out, endorsing Trump, List(292, 520), https://www.bing.com/th?id=OVF.vYkNufdLB8IfHSRzC%2FU40Q&pid=News))</td></tr><tr><td>List(null, null, 2024-08-20T15:30:00.0000000Z, As corporate ESG takes new forms and tackles new attacks in a contentious election ... Recommended Newsletter: CEO Daily provides key context for the news leaders need to know from across the world of business. Every weekday morning, more than 125,000 ..., null, null, Fortune Impact Initiative 2024 livestream, List(List(Organization, null, Fortune)), https://fortune.com/article/fortune-impact-initiative-2024-livestream/, null)</td></tr><tr><td>List(null, ScienceAndTechnology, 2024-08-20T20:01:00.0000000Z, Capcom during Gamescom Opening Night Live released a new trailer for Monster Hunter Wilds.View the trailer below:Read details [...], null, null, Monster Hunter Wilds Gets Gamescom 2024 Trailer - News, List(List(Organization, List(List(https://www.bing.com/th?id=ODF.kKXt-MKV3fmSaC3dmthHzw&pid=news)), VG Chartz)), https://www.vgchartz.com/article/462147/monster-hunter-wilds-gets-gamescom-2024-trailer/, null)</td></tr></tbody></table></div>"
      ]
     },
     "metadata": {
      "application/vnd.databricks.v1+output": {
       "addedWidgets": {},
       "aggData": [],
       "aggError": "",
       "aggOverflow": false,
       "aggSchema": [],
       "aggSeriesLimitReached": false,
       "aggType": "",
       "arguments": {},
       "columnCustomDisplayInfos": {},
       "data": [
        [
         [
          [
           [
            "Collingwood Football Club",
            "https://api.bing.microsoft.com/api/v7/entities/2b8ee05b-110f-8fe8-2bec-9dd0fd2b1ed3"
           ],
           [
            "Magpie",
            "https://api.bing.microsoft.com/api/v7/entities/e1d0c98b-9776-3aa3-7dc5-25d6890f1fd6"
           ],
           [
            "Melbourne, Florida",
            "https://api.bing.microsoft.com/api/v7/entities/ea28914f-957c-4e18-9ac2-3540ad2b69d4"
           ],
           [
            "Carlton Football Club",
            "https://api.bing.microsoft.com/api/v7/entities/07f3d7ba-97fb-a77b-4947-5744a53fe85a"
           ],
           [
            "Hawthorn, Victoria",
            "https://api.bing.microsoft.com/api/v7/entities/0d29178c-c5ba-de2a-0399-eb10fe68d2c6"
           ],
           [
            "Justin Leppitsch",
            "https://api.bing.microsoft.com/api/v7/entities/79e384f1-fb18-cd1b-0738-ea19a836c054"
           ],
           [
            "AFL Grand Final",
            "https://api.bing.microsoft.com/api/v7/entities/16483451-1a09-c4a4-9dce-a4ee97bf6864"
           ]
          ],
          "Sports",
          "2024-08-21T05:27:00.0000000Z",
          "Collingwood coach Craig McRae says the Magpies will reflect on whether not immediately replacing Graham Wright was a costly decision in their failed premiership defence.",
          [
           [
            "https://www.bing.com/th?id=OVFT.heV62v0FtSBSxbUXHZ5vbS&pid=News",
            393,
            700
           ]
          ],
          null,
          "AFL 2024: Collingwood Magpies will search to replace football boss Graham Wright, Craig McRae comments, latest news",
          [
           [
            "Organization",
            [
             [
              "https://www.bing.com/th?id=ODF.9yJS4wi2nUtsfM87Lf-3FA&pid=news"
             ]
            ],
            "NewsWire on MSN.com"
           ]
          ],
          "https://www.msn.com/en-au/sport/other/coach-s-difficult-parting-from-incredible-mentor/ar-AA1p9yg9",
          null
         ]
        ],
        [
         [
          [
           [
            "Everton F.C.",
            "https://api.bing.microsoft.com/api/v7/entities/08c4e442-93ae-e0fe-a73b-f76f5259a171"
           ],
           [
            "Neal Maupay",
            "https://api.bing.microsoft.com/api/v7/entities/2c2d83d1-f8e5-434b-8ca8-d19a13caf063"
           ],
           [
            "Éric Junior Dina Ebimbe",
            "https://api.bing.microsoft.com/api/v7/entities/75381052-a5ba-1a96-309a-39be49525b63"
           ],
           [
            "Queens Park Rangers F.C.",
            "https://api.bing.microsoft.com/api/v7/entities/c82952e8-3b21-d425-48f5-42cf7a89190b"
           ],
           [
            "Goodison Park",
            "https://api.bing.microsoft.com/api/v7/entities/dde25d4f-6bc8-e22c-bb2c-26173d7d3326"
           ],
           [
            "Jack Harrison",
            "https://api.bing.microsoft.com/api/v7/entities/f0496807-c933-fe07-8017-97500cc1abf3"
           ],
           [
            "Jesper Lindstrøm",
            "https://api.bing.microsoft.com/api/v7/entities/2110b922-1830-29cd-78e8-e85a0297da36"
           ],
           [
            "Merseyside",
            "https://api.bing.microsoft.com/api/v7/entities/8e04c30f-763f-780e-c01f-ccd70d51e4f7"
           ],
           [
            "Amadou Onana",
            "https://api.bing.microsoft.com/api/v7/entities/1ca66a06-53cd-7959-48a4-bfdc53e7576e"
           ],
           [
            "Lewis Dobbin",
            "https://api.bing.microsoft.com/api/v7/entities/800f86ff-82f6-3a07-dc80-66956ca0a201"
           ],
           [
            "Ben Godfrey",
            "https://api.bing.microsoft.com/api/v7/entities/787cc42b-c36e-7edb-80c3-f0f0b00c12d1"
           ]
          ],
          "Sports",
          "2024-08-21T11:14:00.0000000Z",
          "Latest Everton transfer and takeover news, including updates as Asmir Begovic is in talks to return to the Blues",
          [
           [
            "https://www.bing.com/th?id=OVFT.XXPqfesC-Oli8IE5HlY5di&pid=News",
            367,
            700
           ]
          ],
          null,
          "Everton transfer news LIVE - Neal Maupay future, Mason Holgate enquiry Junior Dina Ebimbe talks,",
          [
           [
            "Organization",
            [
             [
              "https://www.bing.com/th?id=ODF.lMNuYaPYFKYNaBUKNyUFHg&pid=news"
             ]
            ],
            "Liverpool Echo"
           ]
          ],
          "https://www.liverpoolecho.co.uk/sport/football/transfer-news/everton-takeover-transfer-news-live-29765334",
          null
         ]
        ],
        [
         [
          [
           [
            "Fox News",
            "https://api.bing.microsoft.com/api/v7/entities/273e0477-30ed-3993-f232-f39244306805"
           ],
           [
            "Nicole Parker",
            "https://api.bing.microsoft.com/api/v7/entities/25d1f86e-5ab4-2c3d-f7a3-42ef954824fa"
           ],
           [
            "Chicago",
            "https://api.bing.microsoft.com/api/v7/entities/7c09b50c-bc53-55c3-7fea-0f08e11b091f"
           ]
          ],
          null,
          "2024-08-21T10:35:00.0000000Z",
          "Fox News contributor Nicole Parker joined 'Fox News @ Night' to discuss her reaction to the new video and how crime has ravaged Chicago amid DNC week.",
          [
           [
            "https://www.bing.com/th?id=OVFT.oEZQRduXmf_DcySOZ51dki&pid=News",
            350,
            700
           ]
          ],
          null,
          "Chilling new video shows Trump shooter walking around rally before assassination attempt",
          [
           [
            "Organization",
            null,
            "Fox News"
           ]
          ],
          "https://www.foxnews.com/video/6360751017112",
          null
         ]
        ],
        [
         [
          [
           [
            "Arsenal F.C.",
            "https://api.bing.microsoft.com/api/v7/entities/8b3b4135-cb8e-ded8-10ce-8f130d64b863"
           ],
           [
            "Mikel Merino",
            "https://api.bing.microsoft.com/api/v7/entities/e2365c49-c2b6-aff5-437d-72f2ca96a378"
           ],
           [
            "Aaron Ramsdale",
            "https://api.bing.microsoft.com/api/v7/entities/0bf35c7f-e8e0-4291-6273-e21a1b2ff24d"
           ],
           [
            "Eddie Nketiah",
            "https://api.bing.microsoft.com/api/v7/entities/8dfce5e6-cc68-2cc9-a6b1-275133d70dbc"
           ],
           [
            "Ivan Toney",
            "https://api.bing.microsoft.com/api/v7/entities/98358ca1-1bd6-4cee-aff4-5b93c811f416"
           ],
           [
            "Victor Osimhen",
            "https://api.bing.microsoft.com/api/v7/entities/09506725-12aa-3157-6831-985cefbf9e30"
           ],
           [
            "Premier League",
            "https://api.bing.microsoft.com/api/v7/entities/02bde011-1e9d-3aff-8309-7d07d4031798"
           ],
           [
            "Aston Villa F.C.",
            "https://api.bing.microsoft.com/api/v7/entities/d689e389-cacc-0912-28ee-039d79661230"
           ],
           [
            "Mikel Arteta",
            "https://api.bing.microsoft.com/api/v7/entities/46cbb218-c295-c257-be2c-7d8179c02488"
           ],
           [
            "Villa Park",
            "https://api.bing.microsoft.com/api/v7/entities/1e177ead-ba8d-0da5-91f2-f4f4f1d1b5d0"
           ],
           [
            "Real Sociedad",
            "https://api.bing.microsoft.com/api/v7/entities/3fb625f1-1a17-767a-8c2a-84ee6d7c201c"
           ],
           [
            "Newcastle United F.C.",
            "https://api.bing.microsoft.com/api/v7/entities/d36b1961-7548-2202-311b-d6a69037d67d"
           ],
           [
            "Alexander Isak",
            "https://api.bing.microsoft.com/api/v7/entities/f7da1aac-7d71-56d0-fff9-fdfa217be4bf"
           ]
          ],
          "Sports",
          "2024-08-21T05:21:00.0000000Z",
          "The latest Arsenal transfer news and rumours from football.london including updates on Eddie Nketiah, Mikel Merino, Ivan Toney, Aaron Ramsdale and Victor Osimhen",
          [
           [
            "https://www.bing.com/th?id=OVFT.Yh0-vWC2lksh9dRA2nbt-S&pid=News",
            367,
            700
           ]
          ],
          null,
          "Arsenal transfer news LIVE Mikel Merino positive update, Nketiah agreement, Ramsdale update",
          [
           [
            "Organization",
            [
             [
              "https://www.bing.com/th?id=ODF.Xm0enA-z_fuiMX5FvKt4cw&pid=news"
             ]
            ],
            "football"
           ]
          ],
          "https://www.football.london/arsenal-fc/transfer-news/arsenal-transfer-news-live-mikel-29779140",
          null
         ]
        ],
        [
         [
          [
           [
            "Greg Gutfeld",
            "https://api.bing.microsoft.com/api/v7/entities/1920980b-8c33-331b-4eae-8fcff3d90d18"
           ],
           [
            "Kamala Harris",
            "https://api.bing.microsoft.com/api/v7/entities/ef5cf66f-32b7-7271-286a-8e8313eda5c5"
           ],
           [
            "Fox News",
            "https://api.bing.microsoft.com/api/v7/entities/273e0477-30ed-3993-f232-f39244306805"
           ],
           [
            "2024 Democratic National Convention",
            "https://api.bing.microsoft.com/api/v7/entities/6dd65316-4aa2-030b-7347-183b38ff121a"
           ]
          ],
          null,
          "2024-08-21T04:26:00.0000000Z",
          "Fox News host Greg Gutfeld gives his take on the second night of the 2024 Democratic National Convention on 'Gutfeld!'",
          [
           [
            "https://www.bing.com/th?id=OVFT.EzJ3ljePNP2mcjDSXpqUIy&pid=News",
            350,
            700
           ]
          ],
          null,
          "Greg Gutfeld: Democrats needed a new narrative, and Kamala Harris is it",
          [
           [
            "Organization",
            null,
            "Fox News"
           ]
          ],
          "https://www.foxnews.com/video/6360732761112",
          null
         ]
        ],
        [
         [
          [
           [
            "Boston Bruins",
            "https://api.bing.microsoft.com/api/v7/entities/7372c7cf-eeed-88a9-0522-63e96eaf6448"
           ],
           [
            "Atlantic Division",
            "https://api.bing.microsoft.com/api/v7/entities/d7c8ec8b-e4b9-0223-9599-8360afbc63dd"
           ],
           [
            "Columbus Blue Jackets",
            "https://api.bing.microsoft.com/api/v7/entities/74c60977-6e3a-c88b-ab1a-8f4a3e785885"
           ],
           [
            "Patrik Laine",
            "https://api.bing.microsoft.com/api/v7/entities/894c470a-7378-a9c8-043f-bf221b20140f"
           ],
           [
            "Montreal Canadiens",
            "https://api.bing.microsoft.com/api/v7/entities/e65755db-2635-6bc8-99f9-0e5cff3aa813"
           ]
          ],
          "Sports",
          "2024-08-20T16:39:03.0000000Z",
          "On Monday, the Columbus Blue Jackets traded Patrik Laine and a 2026 second-round pick to the Montreal Canadiens in exchange for defenseman Jordan Harris. With this move, one of the Bruins' biggest rivals, the Canadiens, have notably improved their forward group.",
          [
           [
            "https://www.bing.com/th?id=OVFT.D8jUx5QGIwRX3G91Wo3KdC&pid=News",
            466,
            700
           ]
          ],
          [
           [
            "Boston Bruins"
           ],
           [
            "Analysis"
           ],
           [
            "National Hockey League"
           ]
          ],
          "Bruins Have New Star to Deal With In Atlantic",
          [
           [
            "Organization",
            [
             [
              "https://www.bing.com/th?id=ODF.yNx4KYuMgiOCU3nI9qTmtQ&pid=news"
             ]
            ],
            "The Hockey News on MSN.com"
           ]
          ],
          "https://www.msn.com/en-us/sports/nhl/bruins-have-new-star-to-deal-with-in-atlantic/ar-AA1p88Tr",
          null
         ]
        ],
        [
         [
          null,
          null,
          "2024-08-21T14:11:00.0000000Z",
          "The bodies of two of the six people missing after a yacht sank off the Sicily coast have been found. Search efforts have entered a third day, after the captain was reportedly questioned by Italian prosecutors over the sinking.",
          [
           [
            "https://www.bing.com/th?id=OVFT.Z89qPj7prCz9if78PBrPuS&pid=News",
            393,
            700
           ]
          ],
          null,
          "Superyacht sinks latest: Two bodies found in search for survivors",
          [
           [
            "Organization",
            [
             [
              "https://www.bing.com/th?id=ODF.Eg62H9DIbo-JYPI6GpAgGA&pid=news"
             ]
            ],
            "Sky"
           ]
          ],
          "https://news.sky.com/story/superyacht-sinks-latest-two-bodies-found-in-search-for-survivors-13199663",
          null
         ]
        ],
        [
         [
          [
           [
            "Wisconsin",
            "https://api.bing.microsoft.com/api/v7/entities/cb4d2853-06f4-4467-8e7c-4e31cbb35cb2"
           ],
           [
            "Madison, Wisconsin",
            "https://api.bing.microsoft.com/api/v7/entities/65426cc9-93eb-4569-8c2e-3b7c1b070278"
           ],
           [
            "NBC News",
            "https://api.bing.microsoft.com/api/v7/entities/90fd2ef2-8123-de59-2b1f-ccd033454a4a"
           ],
           [
            "Israel",
            "https://api.bing.microsoft.com/api/v7/entities/1ffafed3-2b37-b871-c271-aa855d98449a"
           ],
           [
            "Hamas",
            "https://api.bing.microsoft.com/api/v7/entities/fd56a0c1-5b09-6e40-09dc-a8abf5069c30"
           ]
          ],
          "Politics",
          "2024-08-21T01:08:00.0000000Z",
          "Biden may have had an irreparable rift with young voters. Some who were turned off by him are more interested in Harris, though issues including Gaza remain sticking points.",
          [
           [
            "https://www.bing.com/th?id=OVFT.cpHMozEZHpl6nL7HbmAqYC&pid=News",
            367,
            700
           ]
          ],
          null,
          "Young voters take a new look at Harris, but some are waiting instead of committing",
          [
           [
            "Organization",
            [
             [
              "https://www.bing.com/th?id=ODF.ighWNnrr5MMFUs8WKMme2A&pid=news"
             ]
            ],
            "NBC News on MSN.com"
           ]
          ],
          "https://www.msn.com/en-us/news/other/young-voters-take-a-new-look-at-harris-but-some-are-waiting-instead-of-committing/ar-AA1p99hv",
          null
         ]
        ],
        [
         [
          [
           [
            "Manchester United F.C.",
            "https://api.bing.microsoft.com/api/v7/entities/064ce28e-ed07-a026-2f79-1b321d7548ea"
           ],
           [
            "Scott McTominay",
            "https://api.bing.microsoft.com/api/v7/entities/0d7f1ad6-7445-be60-fae6-be8f6834b0ec"
           ],
           [
            "Christian Eriksen",
            "https://api.bing.microsoft.com/api/v7/entities/5300fd8a-fc99-435a-b1d8-3490e4228f87"
           ],
           [
            "The Red Devils",
            "https://api.bing.microsoft.com/api/v7/entities/d8dea608-ca10-ab4f-17b8-e56a4017a2c5"
           ],
           [
            "Joshua Zirkzee",
            "https://api.bing.microsoft.com/api/v7/entities/8fe167ac-7cc5-ccae-ca7f-86177823ad58"
           ],
           [
            "Matthijs de Ligt",
            "https://api.bing.microsoft.com/api/v7/entities/f9875452-9ecf-c3e6-7e46-1dbc87f172f1"
           ],
           [
            "Noussair Mazraoui",
            "https://api.bing.microsoft.com/api/v7/entities/ecdea285-86d1-ccdf-2115-a4415a845794"
           ],
           [
            "Paris Saint-Germain F.C.",
            "https://api.bing.microsoft.com/api/v7/entities/67266d4d-2667-f33f-7d3e-ae1225abff86"
           ],
           [
            "Federico Chiesa",
            "https://api.bing.microsoft.com/api/v7/entities/3ee194eb-adf7-709d-7172-2fc8d91f72a5"
           ],
           [
            "Ivan Toney",
            "https://api.bing.microsoft.com/api/v7/entities/98358ca1-1bd6-4cee-aff4-5b93c811f416"
           ],
           [
            "Ben Chilwell",
            "https://api.bing.microsoft.com/api/v7/entities/d7ca1fbb-f3df-3e53-cfa2-323dc6ffc2f4"
           ]
          ],
          "Sports",
          "2024-08-21T14:03:00.0000000Z",
          "Manchester United still have plenty of transfer business to complete in the final week of the window and could yet sign Manuel Ugarte while Scott McTominay, Christian Eriksen and Casemiro could depart",
          [
           [
            "https://www.bing.com/th?id=OVFT.LBYdNNfY8kIhGkyEitiWcC&pid=News",
            367,
            700
           ]
          ],
          null,
          "Man Utd transfer news LIVE: Medical booked, Manuel Ugarte breakthrough, United complete loan deal",
          [
           [
            "Organization",
            [
             [
              "https://www.bing.com/th?id=ODF.CWDfHbZtL9U2bsuN-kn_-w&pid=news"
             ]
            ],
            "The Mirror"
           ]
          ],
          "https://www.mirror.co.uk/sport/football/transfer-news/man-utd-transfer-news-live-33491446",
          null
         ]
        ],
        [
         [
          null,
          null,
          "2024-08-21T14:01:00.0000000Z",
          "James Cutfield, 51, who is from New Zealand, was quizzed until late yesterday evening to help reconstruct what happened and provide useful technical details, reports the Italian news agency ANSA. His brother Mark earlier told the New Zealand Herald he was ...",
          [
           [
            "https://www.bing.com/th?id=OVFT.Z89qPj7prCz9if78PBrPuS&pid=News",
            393,
            700
           ]
          ],
          null,
          "Superyacht sinks latest: Two bodies found after superyacht sinking",
          [
           [
            "Organization",
            null,
            "Sky"
           ]
          ],
          "https://news.sky.com/story/superyacht-sinks-latest-two-bodies-found-after-superyacht-sinking-13199663",
          null
         ]
        ],
        [
         [
          [
           [
            "Red tape",
            "https://api.bing.microsoft.com/api/v7/entities/8c2f0c5c-25f8-7b89-35d0-896f2e34cb10"
           ],
           [
            "David Seymour",
            "https://api.bing.microsoft.com/api/v7/entities/91f7fd7e-ec2a-7184-cfe2-0ae41a1f4e74"
           ],
           [
            "Green Party",
            "https://api.bing.microsoft.com/api/v7/entities/257da6f4-91db-2e8a-12f6-05f7564f1b6c"
           ],
           [
            "The Washington Post",
            "https://api.bing.microsoft.com/api/v7/entities/7802f29d-d7cc-5e6f-de8a-63a5a1a2f17f"
           ]
          ],
          "Business",
          "2024-08-21T00:44:19.0000000Z",
          "The anti-red tape department is overseen by the ACT leader, who secured its creation during coalition negotiations last year.",
          [
           [
            "https://www.bing.com/th?id=OVFT.8T_ZT9AFU_NRZyqF5ygy9C&pid=News",
            367,
            700
           ]
          ],
          [
           [
            "Public sector"
           ],
           [
            "Ministry"
           ],
           [
            "Radio New Zealand"
           ]
          ],
          "New ministry paying staff average salary of $150k despite public sector job cuts",
          [
           [
            "Organization",
            [
             [
              "https://www.bing.com/th?id=ODF.KbRIMdbKqxc2CRUKwuqxSg&pid=news"
             ]
            ],
            "rnz on MSN.com"
           ]
          ],
          "https://www.msn.com/en-nz/news/other/new-ministry-paying-staff-average-salary-of-150k-despite-public-sector-job-cuts/ar-AA1p8XpE",
          null
         ]
        ],
        [
         [
          [
           [
            "WeTransfer",
            "https://api.bing.microsoft.com/api/v7/entities/e72d073e-df1f-40e7-b64c-44edd9d7705b"
           ]
          ],
          "ScienceAndTechnology",
          "2024-08-21T11:33:48.0000000Z",
          "Cloud-based file transfer platform WeTransfer has unveiled a new ‘Save for Later’ feature on its mobile app in a bid to address one of the platform’s biggest user frustrations – expired download links.",
          [
           [
            "https://www.bing.com/th?id=OVFT.fBm1F3cu92FG7PZA1V-Q8S&pid=News",
            393,
            700
           ]
          ],
          [
           [
            "WeTransfer"
           ],
           [
            "TechRadar"
           ],
           [
            "The gospel"
           ]
          ],
          "Good news file fans - WeTransfer links will no longer expire",
          [
           [
            "Organization",
            [
             [
              "https://www.bing.com/th?id=ODF.HUwxplx_rx0g5pzCy5_Wwg&pid=news"
             ]
            ],
            "TechRadar on MSN.com"
           ]
          ],
          "https://www.msn.com/en-us/news/technology/good-news-file-fans-wetransfer-links-will-no-longer-expire/ar-AA1pbk5K",
          null
         ]
        ],
        [
         [
          [
           [
            "North Vancouver",
            "https://api.bing.microsoft.com/api/v7/entities/dff5cb1b-3df4-7b9b-6057-8473e9953cb2"
           ],
           [
            "Royal Canadian Mounted Police",
            "https://api.bing.microsoft.com/api/v7/entities/e0c66ab1-c3c1-2e91-675b-983872f887ef"
           ]
          ],
          "Canada",
          "2024-08-20T20:07:00.0000000Z",
          "Police in North Vancouver, B.C., say homicide investigators have been called in after a woman and girl died from falling off an apartment balcony. RCMP initially said officers responded to reports that two \"females\" had fallen from the building on East Esplanade in the city's Shipyards area at 4:30 a.m. Tuesday.",
          [
           [
            "https://www.bing.com/th?id=OVFT.xaYdLrWgR019S1k86hKXIC&pid=News",
            349,
            620
           ]
          ],
          null,
          "Homicide investigators called in after woman and girl die in North Vancouver balcony fall",
          [
           [
            "Organization",
            [
             [
              "https://www.bing.com/th?id=ODF.4NbuPrmIxu0JD126LE1gxQ&pid=news"
             ]
            ],
            "CBC.ca"
           ]
          ],
          "https://www.cbc.ca/news/canada/british-columbia/woman-and-girl-die-in-balcony-fall-1.7300061",
          null
         ]
        ],
        [
         [
          [
           [
            "Aston Villa F.C.",
            "https://api.bing.microsoft.com/api/v7/entities/d689e389-cacc-0912-28ee-039d79661230"
           ],
           [
            "Álex Moreno",
            "https://api.bing.microsoft.com/api/v7/entities/ccba0daa-1602-52f1-5cd2-6ad22e9f95b7"
           ],
           [
            "Villa Park",
            "https://api.bing.microsoft.com/api/v7/entities/1e177ead-ba8d-0da5-91f2-f4f4f1d1b5d0"
           ],
           [
            "Amadou Onana",
            "https://api.bing.microsoft.com/api/v7/entities/1ca66a06-53cd-7959-48a4-bfdc53e7576e"
           ],
           [
            "Everton F.C.",
            "https://api.bing.microsoft.com/api/v7/entities/08c4e442-93ae-e0fe-a73b-f76f5259a171"
           ],
           [
            "Douglas Luiz",
            "https://api.bing.microsoft.com/api/v7/entities/e4d0e312-8441-3d8b-6167-12496e2b71bc"
           ],
           [
            "Moussa Diaby",
            "https://api.bing.microsoft.com/api/v7/entities/d25af0c6-d803-93ff-a62d-2bf4b96202c5"
           ],
           [
            "Unai Emery",
            "https://api.bing.microsoft.com/api/v7/entities/bdfda59a-e857-f629-caa7-aa1072c5ce90"
           ],
           [
            "Atlético Madrid",
            "https://api.bing.microsoft.com/api/v7/entities/b1132d17-4fd3-ba7d-39df-de416b1e6090"
           ],
           [
            "Premier League",
            "https://api.bing.microsoft.com/api/v7/entities/02bde011-1e9d-3aff-8309-7d07d4031798"
           ],
           [
            "Chelsea F.C.",
            "https://api.bing.microsoft.com/api/v7/entities/8346cd56-1a96-adb0-26e1-f3679d88e0ba"
           ]
          ],
          "Sports",
          "2024-08-21T06:15:00.0000000Z",
          "Aston Villa have confirmed Lamare Bogarde has signed a new contract with the club. The 20-year-old is highly-rated by Unai Emery, who used him in each of the club's even pre-season friendlies. Bogarde impressed in defence and in a holding midfield role earlier this summer.",
          [
           [
            "https://www.bing.com/th?id=OVFT.AcMIIgk-gkK3Yn74tqkq2y&pid=News",
            367,
            700
           ]
          ],
          null,
          "Aston Villa transfer news live Joe Gomez twist, Alex Moreno medical, Samuel Iling-Junior latest",
          [
           [
            "Organization",
            [
             [
              "https://www.bing.com/th?id=ODF.jPou0vlDKt0Px6h21V_3rw&pid=news"
             ]
            ],
            "Birmingham Mail"
           ]
          ],
          "https://www.birminghammail.co.uk/sport/football/transfer-news/villa-transfers-live-iling-junior-29773450",
          null
         ]
        ],
        [
         [
          [
           [
            "Travis Kelce",
            "https://api.bing.microsoft.com/api/v7/entities/4e917ff4-3613-42f8-bf79-9c12138e3ede"
           ],
           [
            "John Wick",
            "https://api.bing.microsoft.com/api/v7/entities/91048ec5-4775-4ea1-bbfb-8c396a2246c1"
           ],
           [
            "Loose Cannons",
            "https://api.bing.microsoft.com/api/v7/entities/2d0a8549-d969-fcc7-2aa5-6e1eca5119b6"
           ],
           [
            "Taylor Swift",
            "https://api.bing.microsoft.com/api/v7/entities/98004a38-a3ea-b902-b6d3-687b30b54353"
           ],
           [
            "Deadline Hollywood",
            "https://api.bing.microsoft.com/api/v7/entities/8487dbc3-435c-5296-821c-8a2a66840e9c"
           ],
           [
            "Lionsgate",
            "https://api.bing.microsoft.com/api/v7/entities/addd91f2-9d74-ed59-8f80-40991e39127c"
           ],
           [
            "Pixels",
            "https://api.bing.microsoft.com/api/v7/entities/17e0a910-504b-87ad-32ec-550f6cb9fd94"
           ],
           [
            "Chad Stahelski",
            "https://api.bing.microsoft.com/api/v7/entities/08c3b9bd-7bee-dc90-fcf7-b4805cf74dc1"
           ],
           [
            "Alex Young",
            "https://api.bing.microsoft.com/api/v7/entities/8ae9c6bf-bb29-1987-1785-81e1678975cc"
           ]
          ],
          "Entertainment",
          "2024-08-21T08:47:35.0000000Z",
          "Travis Kelce is reportedly set to star in new comedy Loose Cannons. The NFL star - who is dating Anti-Hero hitmaker Taylor Swift - is making the jump to Hollywood and may have landed his first big screen acting role.",
          [
           [
            "https://www.bing.com/th?id=OVFT.CRHhARBhHyjiHoCbrrfKTi&pid=News",
            367,
            700
           ]
          ],
          [
           [
            "Travis Kelce"
           ],
           [
            "Manchester Evening News"
           ],
           [
            "Comedy"
           ]
          ],
          "Travis Kelce in talks to front new action comedy from John Wick producers",
          [
           [
            "Organization",
            [
             [
              "https://www.bing.com/th?id=ODF.oxaa8-w2MDoXi5yOUu7A3w&pid=news"
             ]
            ],
            "Manchester Evening News on MSN.com"
           ]
          ],
          "https://www.msn.com/en-gb/news/newsmanchester/travis-kelce-in-talks-to-front-new-action-comedy-from-john-wick-producers/ar-AA1paehQ",
          null
         ]
        ],
        [
         [
          [
           [
            "CNN",
            "https://api.bing.microsoft.com/api/v7/entities/c4c637e5-f9cc-a3ed-3380-7152515e062e"
           ],
           [
            "Mediterranean climate",
            "https://api.bing.microsoft.com/api/v7/entities/bf1c93f2-9a1f-517d-2cd6-159b79fff257"
           ],
           [
            "Type 2 diabetes",
            "https://api.bing.microsoft.com/api/v7/entities/83426981-8501-0894-eae9-3f11a06bf89f"
           ],
           [
            "University of Cambridge",
            "https://api.bing.microsoft.com/api/v7/entities/92a4946b-bd44-dad3-15c3-14c37ab8894e"
           ]
          ],
          "LifeStyle",
          "2024-08-20T23:34:12.0000000Z",
          "Many people are trying to cut back on red and processed meat for heart health or environmental reasons. A new global study shows another good reason.",
          [
           [
            "https://www.bing.com/th?id=OVFT.HZ-KKLVQgNIi-t10Nn9gpy&pid=News",
            393,
            700
           ]
          ],
          null,
          "There is a link between the meat you eat and a chronic disease, according to new research",
          [
           [
            "Organization",
            [
             [
              "https://www.bing.com/th?id=ODF.t0BGYosS4GKZSebCajKQGA&pid=news"
             ]
            ],
            "CNN on MSN.com"
           ]
          ],
          "https://www.msn.com/en-us/health/other/global-study-shows-the-link-between-red-and-processed-meats-and-type-2-diabetes/ar-AA1p8FPI",
          [
           null,
           null,
           "Global study shows the link between red and processed meats and type 2 diabetes",
           [
            292,
            520
           ],
           "https://www.bing.com/th?id=OVF.hPOtjHufEraNH1owqr32tQ&pid=News"
          ]
         ]
        ],
        [
         [
          [
           [
            "New Mexico State University",
            "https://api.bing.microsoft.com/api/v7/entities/e3d88a51-9b7a-0d6d-98c6-5d5766648030"
           ],
           [
            "Tailgating",
            "https://api.bing.microsoft.com/api/v7/entities/e8af03e2-58ba-632f-44d7-9b33d3ce3c97"
           ],
           [
            "Albuquerque, New Mexico",
            "https://api.bing.microsoft.com/api/v7/entities/7fffaaf6-e694-4095-be90-f6492cadbd58"
           ]
          ],
          "LifeStyle",
          "2024-08-20T22:18:33.0000000Z",
          "Changes are coming to New Mexico State University’s tailgating rules this football season. Parking lots will shut down two hours after the game or at midnight, whichever comes sooner. For the non-student lots,",
          [
           [
            "https://www.bing.com/th?id=OVFT.RQtsGpt1lmQE2r7GoEiRyS&pid=News",
            394,
            700
           ]
          ],
          [
           [
            "New Mexico State University"
           ],
           [
            "Tailgate party"
           ],
           [
            "Leysin American School"
           ]
          ],
          "New Mexico State University updates tailgating rules",
          [
           [
            "Organization",
            [
             [
              "https://www.bing.com/th?id=ODF.ZWWEWocRXnzJRhsSxEV2vQ&pid=news"
             ]
            ],
            "KRQE Albuquerque on MSN.com"
           ]
          ],
          "https://www.msn.com/en-us/news/technology/new-mexico-state-university-updates-tailgating-rules/ar-AA1p8YwW",
          null
         ]
        ],
        [
         [
          [
           [
            "ITV News",
            "https://api.bing.microsoft.com/api/v7/entities/cebdf159-e6b1-8366-f641-3dc397442550"
           ],
           [
            "Channel Islands",
            "https://api.bing.microsoft.com/api/v7/entities/c7410b83-1066-f7e4-42ce-3a692f04388a"
           ]
          ],
          null,
          "2024-08-20T17:00:00.0000000Z",
          "Tue 20 Aug 6pm • Watch the latest ITV News programme from the Channel Islands for 24 hours after broadcast on ITVX. Viewing may be restricted in some countries due to licensing.",
          [
           [
            "https://www.bing.com/th?id=OVFT.sjyBOPvhnbo1Fmq9gGq6xC&pid=News",
            393,
            700
           ]
          ],
          null,
          "Catch up on ITV News Channel from Tuesday 20th August",
          [
           [
            "Organization",
            [
             [
              "https://www.bing.com/th?id=ODF.HlKTyCgM99pRvmITMdZC2w&pid=news"
             ]
            ],
            "ITV"
           ]
          ],
          "https://www.itv.com/watch/news/catch-up-on-itv-news-channel-from-tuesday-20th-august/4b1d46n",
          null
         ]
        ],
        [
         [
          [
           [
            "Giorgi Mamardashvili",
            "https://api.bing.microsoft.com/api/v7/entities/3fea8e15-30d3-d9d4-f374-612a263a3317"
           ],
           [
            "Liverpool F.C.",
            "https://api.bing.microsoft.com/api/v7/entities/8d437035-df45-5e15-5868-05ded77dd0cf"
           ],
           [
            "Anfield",
            "https://api.bing.microsoft.com/api/v7/entities/19e4bd56-f843-2ecf-1219-f4dfc0317663"
           ],
           [
            "Anthony Gordon",
            "https://api.bing.microsoft.com/api/v7/entities/cc1355ae-3b3d-23ed-73ba-5a7c4c841450"
           ],
           [
            "Atalanta B.C.",
            "https://api.bing.microsoft.com/api/v7/entities/8d74476a-a36b-a243-e892-419928cc4e39"
           ],
           [
            "Ederson",
            "https://api.bing.microsoft.com/api/v7/entities/13af31b2-a3e9-c5e4-19c9-259871b0fb65"
           ],
           [
            "S.S.C. Napoli",
            "https://api.bing.microsoft.com/api/v7/entities/754ddace-80f4-708a-0cba-a226529ff93b"
           ],
           [
            "Khvicha Kvaratskhelia",
            "https://api.bing.microsoft.com/api/v7/entities/ac76d04c-7db4-0d90-0393-7a141d867156"
           ],
           [
            "Arne Slot",
            "https://api.bing.microsoft.com/api/v7/entities/486f7116-76a2-6b5f-b011-99872e3824a1"
           ],
           [
            "UEFA Euro 2024",
            "https://api.bing.microsoft.com/api/v7/entities/f6e2741f-875b-c715-a38b-74198e2edbc6"
           ]
          ],
          "Sports",
          "2024-08-21T13:00:00.0000000Z",
          "Judging by the way FSG continue to do their transfer business that seems very unlikely. Get all the latest Liverpool breaking news, team news, transfer rumours, injury updates plus analysis of what's next for the Reds. You'll also get the latest transfer ...",
          [
           [
            "https://www.bing.com/th?id=OVFT.81S1Mvg2v8PTBPIYYo7BES&pid=News",
            367,
            700
           ]
          ],
          [
           [
            "Transfer"
           ],
           [
            "Spell"
           ],
           [
            "Liverpool Echo"
           ]
          ],
          "Giorgi Mamardashvili transfer spells a bold new era, but what's wrong with the old one?",
          [
           [
            "Organization",
            null,
            "Liverpool Echo on MSN.com"
           ]
          ],
          "https://www.msn.com/en-gb/news/newsliverpool/giorgi-mamardashvili-transfer-spells-a-bold-new-era-but-whats-wrong-with-the-old-one/ar-AA1pbmes",
          null
         ]
        ],
        [
         [
          [
           [
            "North Northamptonshire",
            "https://api.bing.microsoft.com/api/v7/entities/51c52fe2-4327-791c-2995-7d2e8a75cdf4"
           ],
           [
            "Department for Education",
            "https://api.bing.microsoft.com/api/v7/entities/2f8a8d0c-8aab-4329-74cb-1abb43f237c8"
           ],
           [
            "Northamptonshire",
            "https://api.bing.microsoft.com/api/v7/entities/6b5ff743-48aa-7f30-4bfe-97eeede8e6fa"
           ],
           [
            "BBC Sounds",
            "https://api.bing.microsoft.com/api/v7/entities/cec9c447-6c68-e3df-c11a-2c4eba4db6b8"
           ],
           [
            "Instagram",
            "https://api.bing.microsoft.com/api/v7/entities/a2113d26-7976-df57-241f-77b7bbb1b4f7"
           ],
           [
            "X",
            "https://api.bing.microsoft.com/api/v7/entities/860dea43-a2c0-7912-8370-4ef51face341"
           ]
          ],
          null,
          "2024-08-21T11:28:00.0000000Z",
          "Two new permanent classrooms at a special school will be open in time for the new school year. Rowan Gate Primary School in Wellingborough, Northamptonshire, has unveiled a permanent building to replace two temporary classrooms. The building, which cost £1.6m, will cater for 140 pupils and will provide them with more space.",
          [
           [
            "https://www.bing.com/th?id=OVFT.voyrARNduj5JVuR7Pr3RVC&pid=News",
            393,
            700
           ]
          ],
          null,
          "Special school's new classrooms ready for September",
          [
           [
            "Organization",
            [
             [
              "https://www.bing.com/th?id=ODF.yhngt24TSWuyw3ur0Pt3WQ&pid=news"
             ]
            ],
            "BBC"
           ]
          ],
          "https://www.bbc.co.uk/news/articles/clylrn0z870o",
          null
         ]
        ],
        [
         [
          [
           [
            "Florida",
            "https://api.bing.microsoft.com/api/v7/entities/5fece3f4-e8e8-4159-843e-f725a930ad50"
           ],
           [
            "New Jersey",
            "https://api.bing.microsoft.com/api/v7/entities/05277898-b62b-4878-8632-09d29756a2ff"
           ],
           [
            "Acid attack",
            "https://api.bing.microsoft.com/api/v7/entities/17b8d6ee-4252-c533-c16c-77c0d414e308"
           ],
           [
            "CNN",
            "https://api.bing.microsoft.com/api/v7/entities/c4c637e5-f9cc-a3ed-3380-7152515e062e"
           ],
           [
            "KYW",
            "https://api.bing.microsoft.com/api/v7/entities/51fbd9d8-5815-c4ae-6c48-7f31ea6380b1"
           ]
          ],
          null,
          "2024-08-21T05:26:56.0000000Z",
          "Three Florida residents have been arrested in connection to an apparent acid attack on a New Jersey woman who suffered burns to more than 35% of her body, according to a Gloucester County Prosecutor’s Office press release obtained by CNN affiliate KYW.",
          [
           [
            "https://www.bing.com/th?id=OVFT.CguLSXg0gEDJttpRX2xIFy&pid=News",
            393,
            700
           ]
          ],
          null,
          "Florida trio charged in apparent acid attack that left a New Jersey woman with burns to a third of her body, prosecutors say",
          [
           [
            "Organization",
            [
             [
              "https://www.bing.com/th?id=ODF.t0BGYosS4GKZSebCajKQGA&pid=news"
             ]
            ],
            "CNN on MSN.com"
           ]
          ],
          "https://www.msn.com/en-us/news/crime/florida-trio-charged-in-apparent-acid-attack-that-left-a-new-jersey-woman-with-burns-to-a-third-of-her-body-prosecutors-say/ar-AA1p9NUt",
          null
         ]
        ],
        [
         [
          [
           [
            "Democratic National Committee",
            "https://api.bing.microsoft.com/api/v7/entities/8a519bbe-c1a3-a5d0-c9ea-91fdeae7ba80"
           ],
           [
            "Chicago",
            "https://api.bing.microsoft.com/api/v7/entities/28deeb39-ca49-4bd4-913b-929b1de4b25b"
           ],
           [
            "Democratic National Convention",
            "https://api.bing.microsoft.com/api/v7/entities/eb5f527b-1e2d-86c2-e55c-1fc837f43499"
           ],
           [
            "Washington Boulevard",
            "https://api.bing.microsoft.com/api/v7/entities/712670b4-9af8-86ab-9b27-95855b897f05"
           ],
           [
            "Israel",
            "https://api.bing.microsoft.com/api/v7/entities/1ffafed3-2b37-b871-c271-aa855d98449a"
           ],
           [
            "Hamas",
            "https://api.bing.microsoft.com/api/v7/entities/fd56a0c1-5b09-6e40-09dc-a8abf5069c30"
           ],
           [
            "United Center",
            "https://api.bing.microsoft.com/api/v7/entities/70ad5c21-b753-597d-414d-3804d0423499"
           ]
          ],
          "World",
          "2024-08-21T02:51:38.0000000Z",
          "Chicago crews installed an additional line of security fences outside the Democratic National Convention early Tuesday in the area where, a day earlier, demonstrators breached an outer perimeter fence.",
          [
           [
            "https://www.bing.com/th?id=OVFT.hbHbI2c2123-8Znm28xhtC&pid=News",
            393,
            700
           ]
          ],
          null,
          "New fencing goes up outside DNC a day after pro-Palestinian protesters breach outer barrier",
          [
           [
            "Organization",
            [
             [
              "https://www.bing.com/th?id=ODF.t0BGYosS4GKZSebCajKQGA&pid=news"
             ]
            ],
            "CNN on MSN.com"
           ]
          ],
          "https://www.msn.com/en-us/news/us/new-fencing-goes-up-outside-dnc-a-day-after-pro-palestinian-protesters-breach-outer-barrier/ar-AA1p7z1G",
          null
         ]
        ],
        [
         [
          [
           [
            "Lewis Hamilton",
            "https://api.bing.microsoft.com/api/v7/entities/afd8d17d-2960-d4d6-3ee3-cbb7ad7d515e"
           ],
           [
            "Formula One",
            "https://api.bing.microsoft.com/api/v7/entities/b7a76276-375a-718b-52d9-49eae9b263a4"
           ],
           [
            "Valtteri Bottas",
            "https://api.bing.microsoft.com/api/v7/entities/842c17fe-ff41-4769-2eea-658e7e58d1cc"
           ],
           [
            "New York Red Bulls",
            "https://api.bing.microsoft.com/api/v7/entities/74ef7974-937a-e25a-9594-1c3182e17252"
           ]
          ],
          "Sports",
          "2024-08-20T22:00:00.0000000Z",
          "Your F1 news round-up is here, with Lewis Hamilton having made a prediction for the rest of the 2024 season that should get our excitement up. As ever, there is a lot to get through, so let’s not waste any more time,",
          [
           [
            "https://www.bing.com/th?id=OVFT.VAsQYTvTlLlbg2V6Bae2CC&pid=News",
            367,
            700
           ]
          ],
          [
           [
            "Lewis Hamilton"
           ],
           [
            "Valtteri Bottas"
           ],
           [
            "Formula One"
           ]
          ],
          "Lewis Hamilton’s latest F1 prediction with Valtteri Bottas at centre of intense criticism – round-up",
          [
           [
            "Organization",
            [
             [
              "https://www.bing.com/th?id=ODF.AH4i8E8I1buqt0fbc5gOAw&pid=news"
             ]
            ],
            "PlanetF1.com on MSN.com"
           ]
          ],
          "https://www.msn.com/en-us/sports/other/lewis-hamilton-s-latest-f1-prediction-with-valtteri-bottas-at-centre-of-intense-criticism-round-up/ar-AA1p8EDh",
          null
         ]
        ],
        [
         [
          [
           [
            "Nigeria",
            "https://api.bing.microsoft.com/api/v7/entities/f8afbbd6-9c3e-02be-7cb2-eac695e2da02"
           ],
           [
            "Nigerians",
            "https://api.bing.microsoft.com/api/v7/entities/9fbd769b-30f1-fedc-4ffc-7d451aada1de"
           ],
           [
            "France",
            "https://api.bing.microsoft.com/api/v7/entities/c7bfe2de-4f82-e23c-ae42-8544b5b5c0ea"
           ],
           [
            "Airbus A330",
            "https://api.bing.microsoft.com/api/v7/entities/cf401561-d848-d8f3-8d4c-22380168287b"
           ]
          ],
          "World",
          "2024-08-21T12:09:00.0000000Z",
          "Many Nigerians have reacted with outrage after a new plane was bought for President Bola Tinubu at a time when the economy is experiencing its worst crisis in a generation. The purchase comes less than two weeks after thousands took to the streets across ...",
          [
           [
            "https://www.bing.com/th?id=OVFT.7C_HHcyp6aVl_XCvSSw24i&pid=News",
            393,
            700
           ]
          ],
          null,
          "Nigerians outraged by president’s new plane",
          [
           [
            "Organization",
            null,
            "BBC"
           ]
          ],
          "https://www.bbc.co.uk/news/articles/cy4ydd2x5x2o",
          null
         ]
        ],
        [
         [
          [
           [
            "George Floyd",
            "https://api.bing.microsoft.com/api/v7/entities/c78e0e6e-3b43-9e12-66d6-6466c9cbce54"
           ],
           [
            "Minneapolis",
            "https://api.bing.microsoft.com/api/v7/entities/def03125-42ba-47cd-8061-ee55f5c63e67"
           ],
           [
            "Derek Chauvin",
            "https://api.bing.microsoft.com/api/v7/entities/ddde2ddf-199d-9311-b135-336828a27f08"
           ],
           [
            "Federal Bureau of Prisons",
            "https://api.bing.microsoft.com/api/v7/entities/bdca07d5-27a0-917c-5506-de6deeddf20c"
           ],
           [
            "Associated Press",
            "https://api.bing.microsoft.com/api/v7/entities/b2843a2b-80fd-2fa0-10d0-97b51563ffcb"
           ],
           [
            "Federal Correctional Institution, Big Spring",
            "https://api.bing.microsoft.com/api/v7/entities/ab3d4589-8104-8664-1f4e-46c139e8fb09"
           ],
           [
            "Federal Bureau of Investigation",
            "https://api.bing.microsoft.com/api/v7/entities/e470e552-d479-42f9-dff4-a15995402e33"
           ]
          ],
          null,
          "2024-08-21T07:42:00.0000000Z",
          "Derek Chauvin was transferred to a federal prison in Texas almost nine months after he was stabbed in a different facility.",
          [
           [
            "https://www.bing.com/th?id=OVFT.7q4qAgScsd6ip4f8SNU7bC&pid=News",
            700,
            639
           ]
          ],
          null,
          "Ex-officer convicted in George Floyd’s killing is moved to new prison months after stabbing",
          [
           [
            "Organization",
            [
             [
              "https://www.bing.com/th?id=ODF.AlMAEy7MoWNz0OI_xSWQiw&pid=news"
             ]
            ],
            "The Associated Press on MSN.com"
           ]
          ],
          "https://www.msn.com/en-us/news/crime/ex-officer-convicted-in-george-floyd-s-killing-is-moved-to-new-prison-months-after-stabbing/ar-AA1p8hcT",
          null
         ]
        ],
        [
         [
          null,
          "ScienceAndTechnology",
          "2024-08-20T15:06:08.0000000Z",
          "International publishers are overtaking local news brands in Google's Top stories, raising questions about search relevance.",
          null,
          [
           [
            "Google"
           ],
           [
            "United States"
           ],
           [
            "Search Engine Optimization"
           ]
          ],
          "Google’s Top stories looks broken: Are news publishers to blame?",
          [
           [
            "Organization",
            [
             [
              "https://www.bing.com/th?id=ODF.4QeTEYHGoXPpi_CNzqJApQ&pid=news"
             ]
            ],
            "Search Engine Land on MSN.com"
           ]
          ],
          "https://www.msn.com/en-us/news/technology/google-s-top-stories-looks-broken-are-news-publishers-to-blame/ar-AA1p7F2f",
          null
         ]
        ],
        [
         [
          [
           [
            "Jeremy Clarkson",
            "https://api.bing.microsoft.com/api/v7/entities/ddc9900f-d3d1-a052-0176-298795c71eea"
           ],
           [
            "Cotswolds",
            "https://api.bing.microsoft.com/api/v7/entities/ad6d3d8f-f997-84f9-b85b-2e8d230e869e"
           ],
           [
            "Top Gear",
            "https://api.bing.microsoft.com/api/v7/entities/684e1cfe-24e4-56d2-5280-79a9f735d4c0"
           ],
           [
            "Oxfordshire",
            "https://api.bing.microsoft.com/api/v7/entities/1eda598d-62bc-9a62-5694-ee4472f8dcf5"
           ],
           [
            "A40 road",
            "https://api.bing.microsoft.com/api/v7/entities/6a526ebc-09bd-492b-2013-34b15eff861e"
           ],
           [
            "Burford",
            "https://api.bing.microsoft.com/api/v7/entities/656326ab-f57e-e678-ef3b-bc3ecf4fcca2"
           ]
          ],
          null,
          "2024-08-21T12:24:00.0000000Z",
          "Jeremy Clarkson has revealed his new pub will open its doors to the public for the first time on Friday - and that the boozer has a new name. The former Top Gear presenter, 64, announced The Farmers Dog, in Oxfordshire will be ready just in time for the ...",
          [
           [
            "https://www.bing.com/th?id=OVFT.3chxsk0zOuDA6CRPMMUjwC&pid=News",
            393,
            700
           ]
          ],
          null,
          "Jeremy Clarkson announces his new Cotswolds pub will open this Friday and renames it 'The Farmer's Dog' - as presenter reveals plans for second Diddly Squat Farm Shop",
          [
           [
            "Organization",
            null,
            "Daily Mail"
           ]
          ],
          "https://www.dailymail.co.uk/news/article-13765077/Jeremy-Clarksons-new-pub-Farmers-Dog-open-Friday.html",
          null
         ]
        ],
        [
         [
          [
           [
            "Italy",
            "https://api.bing.microsoft.com/api/v7/entities/09e8f885-427b-8850-947d-202e0287b9e8"
           ],
           [
            "Clifford Chance",
            "https://api.bing.microsoft.com/api/v7/entities/97aad71a-30da-1d4d-ca3c-70ec80964c97"
           ]
          ],
          null,
          "2024-08-20T20:25:00.0000000Z",
          "Along with everyone else, we’re devastated by the news out of Italy concerning the ship. Our thoughts and prayers are with Chris’ family,” Elkan Abramowitz said.",
          [
           [
            "https://www.bing.com/th?id=OVFT.SNfjQJptmiZmQH85-9VM0y&pid=News",
            577,
            700
           ]
          ],
          null,
          "New York Lawyers 'Stunned and Devastated' Over Chris Morvillo Disappearance",
          [
           [
            "Organization",
            [
             [
              "https://www.bing.com/th?id=ODF.0zEurQ1YsrHCOmHwthImcQ&pid=news"
             ]
            ],
            "Law"
           ]
          ],
          "https://www.law.com/newyorklawjournal/2024/08/20/new-york-lawyers-stunned-and-devastated-over-chris-morvillo-disappearance/",
          null
         ]
        ],
        [
         [
          [
           [
            "Donald Trump",
            "https://api.bing.microsoft.com/api/v7/entities/1a466af2-ed23-25bd-794d-1ca925e4681b"
           ],
           [
            "Taylor Swift",
            "https://api.bing.microsoft.com/api/v7/entities/98004a38-a3ea-b902-b6d3-687b30b54353"
           ],
           [
            "Chicago",
            "https://api.bing.microsoft.com/api/v7/entities/28deeb39-ca49-4bd4-913b-929b1de4b25b"
           ],
           [
            "Democratic National Convention",
            "https://api.bing.microsoft.com/api/v7/entities/eb5f527b-1e2d-86c2-e55c-1fc837f43499"
           ],
           [
            "Kamala Harris",
            "https://api.bing.microsoft.com/api/v7/entities/ef5cf66f-32b7-7271-286a-8e8313eda5c5"
           ],
           [
            "Tech Billionaires: Elon Musk",
            "https://api.bing.microsoft.com/api/v7/entities/c4fad87c-d4f0-ef0d-af23-19b1996e3053"
           ],
           [
            "Artificial intelligence",
            "https://api.bing.microsoft.com/api/v7/entities/9d99fb44-edac-0e03-1579-19d8d8591a49"
           ]
          ],
          "Politics",
          "2024-08-20T19:50:00.0000000Z",
          "Former President Donald Trump has been active on his social accounts as Democrats gather for their convention in Chicago, but many of his posts don’t have much to do with reality.",
          [
           [
            "https://www.bing.com/th?id=OVFT.8Wi-hOtIEoVH-QOlbnXtNS&pid=News",
            367,
            700
           ]
          ],
          null,
          "Trump’s post of fake Taylor Swift endorsement is his latest embrace of AI-generated images",
          [
           [
            "Organization",
            [
             [
              "https://www.bing.com/th?id=ODF.AlMAEy7MoWNz0OI_xSWQiw&pid=news"
             ]
            ],
            "The Associated Press on MSN.com"
           ]
          ],
          "https://www.msn.com/en-us/news/politics/trump-s-post-of-fake-taylor-swift-endorsement-is-his-latest-embrace-of-ai-generated-images/ar-AA1p8ugH",
          null
         ]
        ],
        [
         [
          [
           [
            "Donald Trump",
            "https://api.bing.microsoft.com/api/v7/entities/1a466af2-ed23-25bd-794d-1ca925e4681b"
           ],
           [
            "Leonardo DiCaprio",
            "https://api.bing.microsoft.com/api/v7/entities/5f2c4ac2-d77a-474e-4580-c76549d4fce5"
           ],
           [
            "Diana, Princess of Wales",
            "https://api.bing.microsoft.com/api/v7/entities/f4bf63ea-0b6c-58e0-4587-64927290483f"
           ],
           [
            "The Cheesecake Factory",
            "https://api.bing.microsoft.com/api/v7/entities/513ac470-7772-1f4d-d4e1-2b4a6111ff19"
           ],
           [
            "AMC",
            "https://api.bing.microsoft.com/api/v7/entities/c8f09f18-1dfb-b3c6-3daf-259b82271e22"
           ],
           [
            "The Grove",
            "https://api.bing.microsoft.com/api/v7/entities/43e17dc7-c6c0-4009-ab03-44310e26b258"
           ]
          ],
          null,
          "2024-08-20T16:29:00.0000000Z",
          "Donald Trump said he's only going to speak behind bullet-proof glass at outdoor rallies after that failed assassination attempt. Now, a picture of him speaking behind glass on the 4th of July 2019 is going viral. 10 year-old me: I’m going to marry Leonardo DiCaprio my Princess Diana beanie baby: pic.twitter.com/Dni3Pfg9f8",
          [
           [
            "https://www.bing.com/th?id=OVFT.5zc_9oceXEQ-NDjhBu09hC&pid=News",
            464,
            700
           ]
          ],
          null,
          "This Picture Of Donald Trump Behind Bullet-Proof Glass Is Now A Unintentionally Hilarious New Meme",
          [
           [
            "Organization",
            [
             [
              "https://www.bing.com/th?id=ODF.zvLEjo304eZajOqoKLxUtA&pid=news"
             ]
            ],
            "Yahoo News Canada"
           ]
          ],
          "https://ca.yahoo.com/news/picture-donald-trump-behind-bullet-162934848.html",
          null
         ]
        ],
        [
         [
          [
           [
            "Stimulus",
            "https://api.bing.microsoft.com/api/v7/entities/a20531eb-e559-ec38-f785-ccfe7eded6f7"
           ],
           [
            "Alaska",
            "https://api.bing.microsoft.com/api/v7/entities/31c4c7a1-54e7-4306-ac9b-f1b02e85bda5"
           ]
          ],
          "Business",
          "2024-08-21T12:24:00.0000000Z",
          "Alaskans will receive $1300 stimulus checks, offering crucial financial support amid global economic difficulties. This payment comes as part of the state's Permanent Fund Dividend (PFD) program, designed to provide ongoing economic benefits to residents ...",
          [
           [
            "https://www.bing.com/th?id=OVFT.szrqyOBn23c_lD3hELsFhS&pid=News",
            466,
            700
           ]
          ],
          null,
          "1312 Stimulus Payment Eligibility: A new $1312 payment is coming next month, are you eligible to get it?",
          [
           [
            "Organization",
            null,
            "MARCA"
           ]
          ],
          "https://www.marca.com/en/lifestyle/us-news/personal-finance/2024/08/21/66c5d1e046163f57778b45b7.html",
          null
         ]
        ],
        [
         [
          [
           [
            "Andrew Tate",
            "https://api.bing.microsoft.com/api/v7/entities/41f247b0-02b9-c01d-3fb2-f794db91e9c4"
           ],
           [
            "Romania",
            "https://api.bing.microsoft.com/api/v7/entities/0cc489d5-ff53-84f1-4fcc-76525efef33a"
           ],
           [
            "Human trafficking",
            "https://api.bing.microsoft.com/api/v7/entities/8e68768e-ecd5-4bf5-b732-28df9390a5e9"
           ],
           [
            "Rape",
            "https://api.bing.microsoft.com/api/v7/entities/0cdc95b4-903a-9c9c-ad30-233321b50d1b"
           ],
           [
            "Bucharest",
            "https://api.bing.microsoft.com/api/v7/entities/42022f97-112e-58a6-70f5-9536b20ee957"
           ],
           [
            "Ilfov County",
            "https://api.bing.microsoft.com/api/v7/entities/d6b13ffc-3490-2609-746c-5b9daf56e5ee"
           ]
          ],
          "World",
          "2024-08-21T08:01:00.0000000Z",
          "Dozens of police officers and forensic personnel were scouring Tate’s large property on the edge of the capital Bucharest.",
          [
           [
            "https://www.bing.com/th?id=OVFT.mTc07i_DZeeWpdB-0qGQVy&pid=News",
            466,
            700
           ]
          ],
          null,
          "Police raid Andrew Tate’s home in Romania as new allegations emerge involving minors",
          [
           [
            "Organization",
            [
             [
              "https://www.bing.com/th?id=ODF.AlMAEy7MoWNz0OI_xSWQiw&pid=news"
             ]
            ],
            "The Associated Press - Business News on MSN.com"
           ]
          ],
          "https://www.msn.com/en-us/news/crime/police-raid-andrew-tates-home-in-romania-as-new-allegations-emerge-involving-minors/ar-AA1pabHH",
          null
         ]
        ],
        [
         [
          [
           [
            "Raheem Sterling",
            "https://api.bing.microsoft.com/api/v7/entities/2c5f2a39-135c-560d-575f-dd7424d4ce82"
           ],
           [
            "Chelsea F.C.",
            "https://api.bing.microsoft.com/api/v7/entities/8346cd56-1a96-adb0-26e1-f3679d88e0ba"
           ],
           [
            "Enzo Maresca",
            "https://api.bing.microsoft.com/api/v7/entities/57f409e7-f3be-4c3f-89a8-adb2b541771b"
           ],
           [
            "Manchester City F.C.",
            "https://api.bing.microsoft.com/api/v7/entities/8b357e7d-2cd9-6ebf-30d5-6794f62ce637"
           ],
           [
            "England",
            "https://api.bing.microsoft.com/api/v7/entities/280d39e8-7217-6863-6980-a8c20c211c89"
           ],
           [
            "UEFA",
            "https://api.bing.microsoft.com/api/v7/entities/bfd4adbc-7bef-3f42-8d9f-ea01eff9724b"
           ],
           [
            "Tosin Adarabioyo",
            "https://api.bing.microsoft.com/api/v7/entities/4455aa90-9467-adad-ec92-ac8477ce200b"
           ]
          ],
          "Sports",
          "2024-08-21T08:51:00.0000000Z",
          "Raheem Sterling’s Chelsea future has been called into question yet again after being left out of their squad to face Servette. It is is the second game in a row that Sterling has been axed",
          [
           [
            "https://www.bing.com/th?id=OVFT.125GyMFOaI79S7q5wee39i&pid=News",
            240,
            360
           ]
          ],
          null,
          "Raheem Sterling in new Chelsea low ahead of Europa Conference League clash with Servette as winger seeks ‘clarity’ over future",
          [
           [
            "Organization",
            [
             [
              "https://www.bing.com/th?id=ODF.1J7u2N62JGb2VrnCRlJIrw&pid=news"
             ]
            ],
            "Talksport"
           ]
          ],
          "https://talksport.com/football/2016586/chelsea-raheem-sterling-axed-squad-servette/",
          null
         ]
        ],
        [
         [
          [
           [
            "Connecticut",
            "https://api.bing.microsoft.com/api/v7/entities/b3ca6523-435e-4a3b-8f78-1ad900a52cf8"
           ],
           [
            "New York",
            "https://api.bing.microsoft.com/api/v7/entities/caeb7b9a-f5d7-4686-8fb5-cf7628296b13"
           ],
           [
            "Long Island",
            "https://api.bing.microsoft.com/api/v7/entities/ef0c0f37-bad2-bd1a-ad90-888ea76346bb"
           ],
           [
            "National Weather Service",
            "https://api.bing.microsoft.com/api/v7/entities/94765d39-8736-70dc-4819-8ed777a628f0"
           ]
          ],
          null,
          "2024-08-20T14:53:00.0000000Z",
          "The long and costly recovery effort has begun in Connecticut and New York after historic flooding caused sweeping damage over the weekend.",
          [
           [
            "https://www.bing.com/th?id=OVFT.QYEhaDqKNF6mcFrPntmwkS&pid=News",
            393,
            700
           ]
          ],
          null,
          "Long recovery underway after deadly and destructive floods ravage Connecticut, New York",
          [
           [
            "Organization",
            [
             [
              "https://www.bing.com/th?id=ODF.m1iod5ODNIyyKu23kGIllQ&pid=news"
             ]
            ],
            "USA Today"
           ]
          ],
          "https://www.usatoday.com/story/news/nation/2024/08/20/connecticut-ny-flooding-recovery/74868830007/",
          null
         ]
        ],
        [
         [
          [
           [
            "Norwich",
            "https://api.bing.microsoft.com/api/v7/entities/984fdffb-7ef3-de93-5b19-44454e228884"
           ]
          ],
          null,
          "2024-08-21T05:47:44.0000000Z",
          "Gemma Hyde, from Norwich's Castle Quarter shopping centre, wants to help families who cannot afford new uniforms.",
          [
           [
            "https://www.bing.com/th?id=OVFT.9H0g3ziXxwQAvQEZdJYC4C&pid=News",
            393,
            700
           ]
          ],
          [
           [
            "Free school"
           ],
           [
            "School uniform"
           ],
           [
            "Pop-up ad"
           ]
          ],
          "Free school uniform 'pop-up' to ease cost of new term",
          [
           [
            "Organization",
            [
             [
              "https://www.bing.com/th?id=ODF.k3N4DqozNjgK376rAnFmsA&pid=news"
             ]
            ],
            "BBC on MSN.com"
           ]
          ],
          "https://www.msn.com/en-us/news/world/free-school-uniform-pop-up-to-ease-cost-of-new-term/ar-AA1p9J8f",
          null
         ]
        ],
        [
         [
          [
           [
            "Libya",
            "https://api.bing.microsoft.com/api/v7/entities/b4e5604e-361e-ab37-6516-4cf5580a04aa"
           ]
          ],
          null,
          "2024-08-21T13:25:00.0000000Z",
          "Home Affairs minister Leon Schreiber says that “the system will always be down” at this department unless it takes a page out of SARS’ book.",
          [
           [
            "https://www.bing.com/th?id=OVFT.aXKlyww6SuBIGM_5M90VTC&pid=News",
            393,
            700
           ]
          ],
          null,
          "Home Affairs wants to be the new SARS",
          [
           [
            "Organization",
            [
             [
              "https://www.bing.com/th?id=ODF.HeMcjfJp8OYTNknyI2IN7Q&pid=news"
             ]
            ],
            "businesstech.co.za"
           ]
          ],
          "https://businesstech.co.za/news/government/787740/home-affairs-wants-to-be-the-new-sars/",
          null
         ]
        ],
        [
         [
          [
           [
            "Gamescom",
            "https://api.bing.microsoft.com/api/v7/entities/b17f0fd6-503a-c7ea-7e09-3795cff5e623"
           ],
           [
            "Borderlands",
            "https://api.bing.microsoft.com/api/v7/entities/de3ec702-729a-972a-78f1-5d68add173f0"
           ],
           [
            "Gearbox Software",
            "https://api.bing.microsoft.com/api/v7/entities/b3fa876a-8896-453a-ee5f-7b18a932feb9"
           ],
           [
            "Bethesda Game Studios",
            "https://api.bing.microsoft.com/api/v7/entities/d9bc865e-0d24-4e3d-8537-4efd22be15f2"
           ],
           [
            "Borderlands 3",
            "https://api.bing.microsoft.com/api/v7/entities/6e7a8481-3216-5168-be94-f09856320b94"
           ],
           [
            "Borderlands 2",
            "https://api.bing.microsoft.com/api/v7/entities/f0fe13f3-31d5-de9b-4470-7dc86447427d"
           ]
          ],
          "ScienceAndTechnology",
          "2024-08-20T22:58:00.0000000Z",
          "There’s not an exact release date yet, but Borderlands 4 is slated for a 2025 release so we won’t have to wait long. It’s been five years since Borderlands 3 came out, and that game didn’t inspire the kind of hype and widespread praise that Borderlands 2 received at launch.",
          [
           [
            "https://www.bing.com/th?id=OVFT.hAXz8WNGPQO7507zYSZQFS&pid=News",
            337,
            600
           ]
          ],
          null,
          "‘Borderlands 4’ Announced With A Surprising Release Window And A New Trailer",
          [
           [
            "Organization",
            [
             [
              "https://www.bing.com/th?id=ODF.U6nYa4Huf-RFEhjg-V4hNg&pid=news"
             ]
            ],
            "Forbes"
           ]
          ],
          "https://www.forbes.com/sites/erikkain/2024/08/20/borderlands-4-announced-with-a-surprising-release-window-and-a-new-trailer/",
          [
           null,
           null,
           "‘Borderlands 4’ Announced With A Surprising Release Window And A New Trailer",
           [
            292,
            520
           ],
           "https://www.bing.com/th?id=OVF.XipcomA3hntaDDc%2Bszyhtw&pid=News"
          ]
         ]
        ],
        [
         [
          [
           [
            "Kaiser Permanente",
            "https://api.bing.microsoft.com/api/v7/entities/fa8bca5f-ac75-3fe3-9d30-1896f04572ba"
           ],
           [
            "California",
            "https://api.bing.microsoft.com/api/v7/entities/3009d91d-d582-4c34-85ba-772ba09e5be1"
           ],
           [
            "Albany, New York",
            "https://api.bing.microsoft.com/api/v7/entities/62ca8245-972e-448d-af38-345d4a958798"
           ]
          ],
          null,
          "2024-08-21T10:00:33.0000000Z",
          "Nearly three years after wheelchair user Beth Smith sued Kaiser for capping coverage well below the costs of many motorized chairs, the Albany resident is slated to get thousands of dollars for a new chair. Smith, 64, was among the plaintiffs in a class ...",
          [
           [
            "https://www.bing.com/th?id=OVFT.kaf4Lq8Ul61EB9pt0r57Mi&pid=News",
            367,
            700
           ]
          ],
          [
           [
            "California"
           ],
           [
            "Kaiser Family Foundation"
           ],
           [
            "Wheelchair"
           ]
          ],
          "Years after lawsuit, Kaiser will pay for new wheelchair for California woman",
          [
           [
            "Organization",
            null,
            "Los Angeles Times on MSN.com"
           ]
          ],
          "https://www.msn.com/en-us/news/other/years-after-lawsuit-kaiser-will-pay-for-new-wheelchair-for-california-woman/ar-AA1paJ71",
          null
         ]
        ],
        [
         [
          [
           [
            "Coal",
            "https://api.bing.microsoft.com/api/v7/entities/91cf2898-c1b2-4266-65ac-cb7e03a4bfa0"
           ],
           [
            "Natural gas",
            "https://api.bing.microsoft.com/api/v7/entities/0f2df4e3-f260-d13a-8235-bf64bd7f79b1"
           ],
           [
            "Pennsylvania",
            "https://api.bing.microsoft.com/api/v7/entities/6304580e-c803-4266-818a-971619176547"
           ],
           [
            "United States Environmental Protection Agency",
            "https://api.bing.microsoft.com/api/v7/entities/4e6838b4-41a3-4674-aed3-3b4908acbd6b"
           ]
          ],
          "LifeStyle",
          "2024-08-20T22:36:30.0000000Z",
          "Former President Trump said that if elected, he will reverse the Biden-Harris administration's EPA rule that requires coal and natural gas power plants to cut emissions by 90%.",
          [
           [
            "https://www.bing.com/th?id=OVFT.rjqTLX6uTjc4KmDS728YPC&pid=News",
            393,
            700
           ]
          ],
          null,
          "Trump vows to repeal new EPA power plant rule",
          [
           [
            "Organization",
            [
             [
              "https://www.bing.com/th?id=ODF.GimbRbdxNxZt1GEL5O0AJg&pid=news"
             ]
            ],
            "FOX News on MSN.com"
           ]
          ],
          "https://www.msn.com/en-us/news/politics/trump-vows-to-repeal-new-epa-power-plant-rule/ar-AA1p8IoF",
          null
         ]
        ],
        [
         [
          [
           [
            "Mario Lopez",
            "https://api.bing.microsoft.com/api/v7/entities/960f54aa-52b2-b6cf-2242-2066d6b8b322"
           ],
           [
            "Reel",
            "https://api.bing.microsoft.com/api/v7/entities/cbb2fa82-62c4-c330-680a-1377c8c969e8"
           ],
           [
            "Instagram",
            "https://api.bing.microsoft.com/api/v7/entities/a2113d26-7976-df57-241f-77b7bbb1b4f7"
           ]
          ],
          "Entertainment",
          "2024-08-20T21:07:52.0000000Z",
          "Mario Lopez's kids are heading back to the classroom. On Tuesday, Aug. 20, the proud dad, 50, posted a Reel on his Instagram as he shared that his three kids — daughter Gia, 13, and sons Dominic, 10, and Santino, 5, whom he shares with wife Courtney — were celebrating their first day of school.",
          [
           [
            "https://www.bing.com/th?id=OVFT.3hDTCHPYPzA8wkEnSkWqji&pid=News",
            466,
            700
           ]
          ],
          null,
          "Mario Lopez Shares That All 3 of His Kids Are 'Officially Back to School' in Adorable New Photos",
          [
           [
            "Organization",
            [
             [
              "https://www.bing.com/th?id=ODF.kridaNmIIz5AdgcUGG5eBQ&pid=news"
             ]
            ],
            "People on MSN.com"
           ]
          ],
          "https://www.msn.com/en-us/lifestyle/lifestyle-buzz/mario-lopez-shares-that-all-3-of-his-kids-are-officially-back-to-school-in-adorable-new-photos/ar-AA1p8Eos",
          null
         ]
        ],
        [
         [
          [
           [
            "Robert F. Kennedy",
            "https://api.bing.microsoft.com/api/v7/entities/367cc99b-d308-8104-8e05-1fd1a98862da"
           ],
           [
            "Chicago",
            "https://api.bing.microsoft.com/api/v7/entities/28deeb39-ca49-4bd4-913b-929b1de4b25b"
           ],
           [
            "Robert F. Kennedy Jr.",
            "https://api.bing.microsoft.com/api/v7/entities/e045d327-0fdc-d12c-b847-d1c25c43331e"
           ],
           [
            "Kamala Harris",
            "https://api.bing.microsoft.com/api/v7/entities/ef5cf66f-32b7-7271-286a-8e8313eda5c5"
           ],
           [
            "CNN",
            "https://api.bing.microsoft.com/api/v7/entities/c4c637e5-f9cc-a3ed-3380-7152515e062e"
           ],
           [
            "Donald Trump",
            "https://api.bing.microsoft.com/api/v7/entities/1a466af2-ed23-25bd-794d-1ca925e4681b"
           ]
          ],
          "Politics",
          "2024-08-20T22:06:00.0000000Z",
          "Robert F. Kennedy Jr.'s running mate Nicole Shanahan said the Kennedy campaign is considering dropping out of the race and endorsing former President Donald Trump.",
          [
           [
            "https://www.bing.com/th?id=OVFT.5M93eu2lyXiSl5xHEZCOqS&pid=News",
            393,
            700
           ]
          ],
          null,
          "RFK Jr. news: Kennedy running mate says campaign considering dropping out, endorsing Trump",
          [
           [
            "Organization",
            [
             [
              "https://www.bing.com/th?id=ODF.t0BGYosS4GKZSebCajKQGA&pid=news"
             ]
            ],
            "CNN on MSN.com"
           ]
          ],
          "https://www.msn.com/en-us/news/politics/rfk-jr-running-mate-shanahan-says-they-re-considering-endorsing-trump/ar-AA1p8ncv",
          [
           true,
           "<iframe width=\"476\" height=\"267\" src=\"https://abc13.com/video/embed/?pid=15210325\" scrolling=\"no\" frameborder=\"0\" allowfullscreen></iframe>",
           "RFK Jr. news: Kennedy running mate says campaign considering dropping out, endorsing Trump",
           [
            292,
            520
           ],
           "https://www.bing.com/th?id=OVF.vYkNufdLB8IfHSRzC%2FU40Q&pid=News"
          ]
         ]
        ],
        [
         [
          null,
          null,
          "2024-08-20T15:30:00.0000000Z",
          "As corporate ESG takes new forms and tackles new attacks in a contentious election ... Recommended Newsletter: CEO Daily provides key context for the news leaders need to know from across the world of business. Every weekday morning, more than 125,000 ...",
          null,
          null,
          "Fortune Impact Initiative 2024 livestream",
          [
           [
            "Organization",
            null,
            "Fortune"
           ]
          ],
          "https://fortune.com/article/fortune-impact-initiative-2024-livestream/",
          null
         ]
        ],
        [
         [
          null,
          "ScienceAndTechnology",
          "2024-08-20T20:01:00.0000000Z",
          "Capcom during Gamescom Opening Night Live released a new trailer for Monster Hunter Wilds.View the trailer below:Read details [...]",
          null,
          null,
          "Monster Hunter Wilds Gets Gamescom 2024 Trailer - News",
          [
           [
            "Organization",
            [
             [
              "https://www.bing.com/th?id=ODF.kKXt-MKV3fmSaC3dmthHzw&pid=news"
             ]
            ],
            "VG Chartz"
           ]
          ],
          "https://www.vgchartz.com/article/462147/monster-hunter-wilds-gets-gamescom-2024-trailer/",
          null
         ]
        ]
       ],
       "datasetInfos": [],
       "dbfsResultPath": null,
       "isJsonSchema": true,
       "metadata": {},
       "overflow": false,
       "plotOptions": {
        "customPlotOptions": {},
        "displayType": "table",
        "pivotAggregation": null,
        "pivotColumns": null,
        "xColumns": null,
        "yColumns": null
       },
       "removedWidgets": [],
       "schema": [
        {
         "metadata": "{}",
         "name": "json_object",
         "type": "{\"type\":\"struct\",\"fields\":[{\"name\":\"about\",\"type\":{\"type\":\"array\",\"elementType\":{\"type\":\"struct\",\"fields\":[{\"name\":\"name\",\"type\":\"string\",\"nullable\":true,\"metadata\":{}},{\"name\":\"readLink\",\"type\":\"string\",\"nullable\":true,\"metadata\":{}}]},\"containsNull\":true},\"nullable\":true,\"metadata\":{}},{\"name\":\"category\",\"type\":\"string\",\"nullable\":true,\"metadata\":{}},{\"name\":\"datePublished\",\"type\":\"string\",\"nullable\":true,\"metadata\":{}},{\"name\":\"description\",\"type\":\"string\",\"nullable\":true,\"metadata\":{}},{\"name\":\"image\",\"type\":{\"type\":\"struct\",\"fields\":[{\"name\":\"thumbnail\",\"type\":{\"type\":\"struct\",\"fields\":[{\"name\":\"contentUrl\",\"type\":\"string\",\"nullable\":true,\"metadata\":{}},{\"name\":\"height\",\"type\":\"long\",\"nullable\":true,\"metadata\":{}},{\"name\":\"width\",\"type\":\"long\",\"nullable\":true,\"metadata\":{}}]},\"nullable\":true,\"metadata\":{}}]},\"nullable\":true,\"metadata\":{}},{\"name\":\"mentions\",\"type\":{\"type\":\"array\",\"elementType\":{\"type\":\"struct\",\"fields\":[{\"name\":\"name\",\"type\":\"string\",\"nullable\":true,\"metadata\":{}}]},\"containsNull\":true},\"nullable\":true,\"metadata\":{}},{\"name\":\"name\",\"type\":\"string\",\"nullable\":true,\"metadata\":{}},{\"name\":\"provider\",\"type\":{\"type\":\"array\",\"elementType\":{\"type\":\"struct\",\"fields\":[{\"name\":\"_type\",\"type\":\"string\",\"nullable\":true,\"metadata\":{}},{\"name\":\"image\",\"type\":{\"type\":\"struct\",\"fields\":[{\"name\":\"thumbnail\",\"type\":{\"type\":\"struct\",\"fields\":[{\"name\":\"contentUrl\",\"type\":\"string\",\"nullable\":true,\"metadata\":{}}]},\"nullable\":true,\"metadata\":{}}]},\"nullable\":true,\"metadata\":{}},{\"name\":\"name\",\"type\":\"string\",\"nullable\":true,\"metadata\":{}}]},\"containsNull\":true},\"nullable\":true,\"metadata\":{}},{\"name\":\"url\",\"type\":\"string\",\"nullable\":true,\"metadata\":{}},{\"name\":\"video\",\"type\":{\"type\":\"struct\",\"fields\":[{\"name\":\"allowHttpsEmbed\",\"type\":\"boolean\",\"nullable\":true,\"metadata\":{}},{\"name\":\"embedHtml\",\"type\":\"string\",\"nullable\":true,\"metadata\":{}},{\"name\":\"name\",\"type\":\"string\",\"nullable\":true,\"metadata\":{}},{\"name\":\"thumbnail\",\"type\":{\"type\":\"struct\",\"fields\":[{\"name\":\"height\",\"type\":\"long\",\"nullable\":true,\"metadata\":{}},{\"name\":\"width\",\"type\":\"long\",\"nullable\":true,\"metadata\":{}}]},\"nullable\":true,\"metadata\":{}},{\"name\":\"thumbnailUrl\",\"type\":\"string\",\"nullable\":true,\"metadata\":{}}]},\"nullable\":true,\"metadata\":{}}]}"
        }
       ],
       "type": "table"
      }
     },
     "output_type": "display_data"
    }
   ],
   "source": [
    "display(df_exploded)"
   ]
  },
  {
   "cell_type": "code",
   "execution_count": null,
   "metadata": {
    "application/vnd.databricks.v1+cell": {
     "cellMetadata": {
      "byteLimit": 2048000,
      "rowLimit": 10000
     },
     "inputWidgets": {},
     "nuid": "6f75118e-6f0a-4428-9b63-ece99988175f",
     "showTitle": false,
     "title": ""
    }
   },
   "outputs": [
    {
     "name": "stdout",
     "output_type": "stream",
     "text": [
      "['{\"json_object\":{\"about\":[{\"name\":\"Collingwood Football Club\",\"readLink\":\"https://api.bing.microsoft.com/api/v7/entities/2b8ee05b-110f-8fe8-2bec-9dd0fd2b1ed3\"},{\"name\":\"Magpie\",\"readLink\":\"https://api.bing.microsoft.com/api/v7/entities/e1d0c98b-9776-3aa3-7dc5-25d6890f1fd6\"},{\"name\":\"Melbourne, Florida\",\"readLink\":\"https://api.bing.microsoft.com/api/v7/entities/ea28914f-957c-4e18-9ac2-3540ad2b69d4\"},{\"name\":\"Carlton Football Club\",\"readLink\":\"https://api.bing.microsoft.com/api/v7/entities/07f3d7ba-97fb-a77b-4947-5744a53fe85a\"},{\"name\":\"Hawthorn, Victoria\",\"readLink\":\"https://api.bing.microsoft.com/api/v7/entities/0d29178c-c5ba-de2a-0399-eb10fe68d2c6\"},{\"name\":\"Justin Leppitsch\",\"readLink\":\"https://api.bing.microsoft.com/api/v7/entities/79e384f1-fb18-cd1b-0738-ea19a836c054\"},{\"name\":\"AFL Grand Final\",\"readLink\":\"https://api.bing.microsoft.com/api/v7/entities/16483451-1a09-c4a4-9dce-a4ee97bf6864\"}],\"category\":\"Sports\",\"datePublished\":\"2024-08-21T05:27:00.0000000Z\",\"description\":\"Collingwood coach Craig McRae says the Magpies will reflect on whether not immediately replacing Graham Wright was a costly decision in their failed premiership defence.\",\"image\":{\"thumbnail\":{\"contentUrl\":\"https://www.bing.com/th?id=OVFT.heV62v0FtSBSxbUXHZ5vbS&pid=News\",\"height\":393,\"width\":700}},\"name\":\"AFL 2024: Collingwood Magpies will search to replace football boss Graham Wright, Craig McRae comments, latest news\",\"provider\":[{\"_type\":\"Organization\",\"image\":{\"thumbnail\":{\"contentUrl\":\"https://www.bing.com/th?id=ODF.9yJS4wi2nUtsfM87Lf-3FA&pid=news\"}},\"name\":\"NewsWire on MSN.com\"}],\"url\":\"https://www.msn.com/en-au/sport/other/coach-s-difficult-parting-from-incredible-mentor/ar-AA1p9yg9\"}}', '{\"json_object\":{\"about\":[{\"name\":\"Everton F.C.\",\"readLink\":\"https://api.bing.microsoft.com/api/v7/entities/08c4e442-93ae-e0fe-a73b-f76f5259a171\"},{\"name\":\"Neal Maupay\",\"readLink\":\"https://api.bing.microsoft.com/api/v7/entities/2c2d83d1-f8e5-434b-8ca8-d19a13caf063\"},{\"name\":\"Éric Junior Dina Ebimbe\",\"readLink\":\"https://api.bing.microsoft.com/api/v7/entities/75381052-a5ba-1a96-309a-39be49525b63\"},{\"name\":\"Queens Park Rangers F.C.\",\"readLink\":\"https://api.bing.microsoft.com/api/v7/entities/c82952e8-3b21-d425-48f5-42cf7a89190b\"},{\"name\":\"Goodison Park\",\"readLink\":\"https://api.bing.microsoft.com/api/v7/entities/dde25d4f-6bc8-e22c-bb2c-26173d7d3326\"},{\"name\":\"Jack Harrison\",\"readLink\":\"https://api.bing.microsoft.com/api/v7/entities/f0496807-c933-fe07-8017-97500cc1abf3\"},{\"name\":\"Jesper Lindstrøm\",\"readLink\":\"https://api.bing.microsoft.com/api/v7/entities/2110b922-1830-29cd-78e8-e85a0297da36\"},{\"name\":\"Merseyside\",\"readLink\":\"https://api.bing.microsoft.com/api/v7/entities/8e04c30f-763f-780e-c01f-ccd70d51e4f7\"},{\"name\":\"Amadou Onana\",\"readLink\":\"https://api.bing.microsoft.com/api/v7/entities/1ca66a06-53cd-7959-48a4-bfdc53e7576e\"},{\"name\":\"Lewis Dobbin\",\"readLink\":\"https://api.bing.microsoft.com/api/v7/entities/800f86ff-82f6-3a07-dc80-66956ca0a201\"},{\"name\":\"Ben Godfrey\",\"readLink\":\"https://api.bing.microsoft.com/api/v7/entities/787cc42b-c36e-7edb-80c3-f0f0b00c12d1\"}],\"category\":\"Sports\",\"datePublished\":\"2024-08-21T11:14:00.0000000Z\",\"description\":\"Latest Everton transfer and takeover news, including updates as Asmir Begovic is in talks to return to the Blues\",\"image\":{\"thumbnail\":{\"contentUrl\":\"https://www.bing.com/th?id=OVFT.XXPqfesC-Oli8IE5HlY5di&pid=News\",\"height\":367,\"width\":700}},\"name\":\"Everton transfer news LIVE - Neal Maupay future, Mason Holgate enquiry Junior Dina Ebimbe talks,\",\"provider\":[{\"_type\":\"Organization\",\"image\":{\"thumbnail\":{\"contentUrl\":\"https://www.bing.com/th?id=ODF.lMNuYaPYFKYNaBUKNyUFHg&pid=news\"}},\"name\":\"Liverpool Echo\"}],\"url\":\"https://www.liverpoolecho.co.uk/sport/football/transfer-news/everton-takeover-transfer-news-live-29765334\"}}', '{\"json_object\":{\"about\":[{\"name\":\"Fox News\",\"readLink\":\"https://api.bing.microsoft.com/api/v7/entities/273e0477-30ed-3993-f232-f39244306805\"},{\"name\":\"Nicole Parker\",\"readLink\":\"https://api.bing.microsoft.com/api/v7/entities/25d1f86e-5ab4-2c3d-f7a3-42ef954824fa\"},{\"name\":\"Chicago\",\"readLink\":\"https://api.bing.microsoft.com/api/v7/entities/7c09b50c-bc53-55c3-7fea-0f08e11b091f\"}],\"datePublished\":\"2024-08-21T10:35:00.0000000Z\",\"description\":\"Fox News contributor Nicole Parker joined \\'Fox News @ Night\\' to discuss her reaction to the new video and how crime has ravaged Chicago amid DNC week.\",\"image\":{\"thumbnail\":{\"contentUrl\":\"https://www.bing.com/th?id=OVFT.oEZQRduXmf_DcySOZ51dki&pid=News\",\"height\":350,\"width\":700}},\"name\":\"Chilling new video shows Trump shooter walking around rally before assassination attempt\",\"provider\":[{\"_type\":\"Organization\",\"name\":\"Fox News\"}],\"url\":\"https://www.foxnews.com/video/6360751017112\"}}', '{\"json_object\":{\"about\":[{\"name\":\"Arsenal F.C.\",\"readLink\":\"https://api.bing.microsoft.com/api/v7/entities/8b3b4135-cb8e-ded8-10ce-8f130d64b863\"},{\"name\":\"Mikel Merino\",\"readLink\":\"https://api.bing.microsoft.com/api/v7/entities/e2365c49-c2b6-aff5-437d-72f2ca96a378\"},{\"name\":\"Aaron Ramsdale\",\"readLink\":\"https://api.bing.microsoft.com/api/v7/entities/0bf35c7f-e8e0-4291-6273-e21a1b2ff24d\"},{\"name\":\"Eddie Nketiah\",\"readLink\":\"https://api.bing.microsoft.com/api/v7/entities/8dfce5e6-cc68-2cc9-a6b1-275133d70dbc\"},{\"name\":\"Ivan Toney\",\"readLink\":\"https://api.bing.microsoft.com/api/v7/entities/98358ca1-1bd6-4cee-aff4-5b93c811f416\"},{\"name\":\"Victor Osimhen\",\"readLink\":\"https://api.bing.microsoft.com/api/v7/entities/09506725-12aa-3157-6831-985cefbf9e30\"},{\"name\":\"Premier League\",\"readLink\":\"https://api.bing.microsoft.com/api/v7/entities/02bde011-1e9d-3aff-8309-7d07d4031798\"},{\"name\":\"Aston Villa F.C.\",\"readLink\":\"https://api.bing.microsoft.com/api/v7/entities/d689e389-cacc-0912-28ee-039d79661230\"},{\"name\":\"Mikel Arteta\",\"readLink\":\"https://api.bing.microsoft.com/api/v7/entities/46cbb218-c295-c257-be2c-7d8179c02488\"},{\"name\":\"Villa Park\",\"readLink\":\"https://api.bing.microsoft.com/api/v7/entities/1e177ead-ba8d-0da5-91f2-f4f4f1d1b5d0\"},{\"name\":\"Real Sociedad\",\"readLink\":\"https://api.bing.microsoft.com/api/v7/entities/3fb625f1-1a17-767a-8c2a-84ee6d7c201c\"},{\"name\":\"Newcastle United F.C.\",\"readLink\":\"https://api.bing.microsoft.com/api/v7/entities/d36b1961-7548-2202-311b-d6a69037d67d\"},{\"name\":\"Alexander Isak\",\"readLink\":\"https://api.bing.microsoft.com/api/v7/entities/f7da1aac-7d71-56d0-fff9-fdfa217be4bf\"}],\"category\":\"Sports\",\"datePublished\":\"2024-08-21T05:21:00.0000000Z\",\"description\":\"The latest Arsenal transfer news and rumours from football.london including updates on Eddie Nketiah, Mikel Merino, Ivan Toney, Aaron Ramsdale and Victor Osimhen\",\"image\":{\"thumbnail\":{\"contentUrl\":\"https://www.bing.com/th?id=OVFT.Yh0-vWC2lksh9dRA2nbt-S&pid=News\",\"height\":367,\"width\":700}},\"name\":\"Arsenal transfer news LIVE Mikel Merino positive update, Nketiah agreement, Ramsdale update\",\"provider\":[{\"_type\":\"Organization\",\"image\":{\"thumbnail\":{\"contentUrl\":\"https://www.bing.com/th?id=ODF.Xm0enA-z_fuiMX5FvKt4cw&pid=news\"}},\"name\":\"football\"}],\"url\":\"https://www.football.london/arsenal-fc/transfer-news/arsenal-transfer-news-live-mikel-29779140\"}}', '{\"json_object\":{\"about\":[{\"name\":\"Greg Gutfeld\",\"readLink\":\"https://api.bing.microsoft.com/api/v7/entities/1920980b-8c33-331b-4eae-8fcff3d90d18\"},{\"name\":\"Kamala Harris\",\"readLink\":\"https://api.bing.microsoft.com/api/v7/entities/ef5cf66f-32b7-7271-286a-8e8313eda5c5\"},{\"name\":\"Fox News\",\"readLink\":\"https://api.bing.microsoft.com/api/v7/entities/273e0477-30ed-3993-f232-f39244306805\"},{\"name\":\"2024 Democratic National Convention\",\"readLink\":\"https://api.bing.microsoft.com/api/v7/entities/6dd65316-4aa2-030b-7347-183b38ff121a\"}],\"datePublished\":\"2024-08-21T04:26:00.0000000Z\",\"description\":\"Fox News host Greg Gutfeld gives his take on the second night of the 2024 Democratic National Convention on \\'Gutfeld!\\'\",\"image\":{\"thumbnail\":{\"contentUrl\":\"https://www.bing.com/th?id=OVFT.EzJ3ljePNP2mcjDSXpqUIy&pid=News\",\"height\":350,\"width\":700}},\"name\":\"Greg Gutfeld: Democrats needed a new narrative, and Kamala Harris is it\",\"provider\":[{\"_type\":\"Organization\",\"name\":\"Fox News\"}],\"url\":\"https://www.foxnews.com/video/6360732761112\"}}', '{\"json_object\":{\"about\":[{\"name\":\"Boston Bruins\",\"readLink\":\"https://api.bing.microsoft.com/api/v7/entities/7372c7cf-eeed-88a9-0522-63e96eaf6448\"},{\"name\":\"Atlantic Division\",\"readLink\":\"https://api.bing.microsoft.com/api/v7/entities/d7c8ec8b-e4b9-0223-9599-8360afbc63dd\"},{\"name\":\"Columbus Blue Jackets\",\"readLink\":\"https://api.bing.microsoft.com/api/v7/entities/74c60977-6e3a-c88b-ab1a-8f4a3e785885\"},{\"name\":\"Patrik Laine\",\"readLink\":\"https://api.bing.microsoft.com/api/v7/entities/894c470a-7378-a9c8-043f-bf221b20140f\"},{\"name\":\"Montreal Canadiens\",\"readLink\":\"https://api.bing.microsoft.com/api/v7/entities/e65755db-2635-6bc8-99f9-0e5cff3aa813\"}],\"category\":\"Sports\",\"datePublished\":\"2024-08-20T16:39:03.0000000Z\",\"description\":\"On Monday, the Columbus Blue Jackets traded Patrik Laine and a 2026 second-round pick to the Montreal Canadiens in exchange for defenseman Jordan Harris. With this move, one of the Bruins\\' biggest rivals, the Canadiens, have notably improved their forward group.\",\"image\":{\"thumbnail\":{\"contentUrl\":\"https://www.bing.com/th?id=OVFT.D8jUx5QGIwRX3G91Wo3KdC&pid=News\",\"height\":466,\"width\":700}},\"mentions\":[{\"name\":\"Boston Bruins\"},{\"name\":\"Analysis\"},{\"name\":\"National Hockey League\"}],\"name\":\"Bruins Have New Star to Deal With In Atlantic\",\"provider\":[{\"_type\":\"Organization\",\"image\":{\"thumbnail\":{\"contentUrl\":\"https://www.bing.com/th?id=ODF.yNx4KYuMgiOCU3nI9qTmtQ&pid=news\"}},\"name\":\"The Hockey News on MSN.com\"}],\"url\":\"https://www.msn.com/en-us/sports/nhl/bruins-have-new-star-to-deal-with-in-atlantic/ar-AA1p88Tr\"}}', '{\"json_object\":{\"datePublished\":\"2024-08-21T14:11:00.0000000Z\",\"description\":\"The bodies of two of the six people missing after a yacht sank off the Sicily coast have been found. Search efforts have entered a third day, after the captain was reportedly questioned by Italian prosecutors over the sinking.\",\"image\":{\"thumbnail\":{\"contentUrl\":\"https://www.bing.com/th?id=OVFT.Z89qPj7prCz9if78PBrPuS&pid=News\",\"height\":393,\"width\":700}},\"name\":\"Superyacht sinks latest: Two bodies found in search for survivors\",\"provider\":[{\"_type\":\"Organization\",\"image\":{\"thumbnail\":{\"contentUrl\":\"https://www.bing.com/th?id=ODF.Eg62H9DIbo-JYPI6GpAgGA&pid=news\"}},\"name\":\"Sky\"}],\"url\":\"https://news.sky.com/story/superyacht-sinks-latest-two-bodies-found-in-search-for-survivors-13199663\"}}', '{\"json_object\":{\"about\":[{\"name\":\"Wisconsin\",\"readLink\":\"https://api.bing.microsoft.com/api/v7/entities/cb4d2853-06f4-4467-8e7c-4e31cbb35cb2\"},{\"name\":\"Madison, Wisconsin\",\"readLink\":\"https://api.bing.microsoft.com/api/v7/entities/65426cc9-93eb-4569-8c2e-3b7c1b070278\"},{\"name\":\"NBC News\",\"readLink\":\"https://api.bing.microsoft.com/api/v7/entities/90fd2ef2-8123-de59-2b1f-ccd033454a4a\"},{\"name\":\"Israel\",\"readLink\":\"https://api.bing.microsoft.com/api/v7/entities/1ffafed3-2b37-b871-c271-aa855d98449a\"},{\"name\":\"Hamas\",\"readLink\":\"https://api.bing.microsoft.com/api/v7/entities/fd56a0c1-5b09-6e40-09dc-a8abf5069c30\"}],\"category\":\"Politics\",\"datePublished\":\"2024-08-21T01:08:00.0000000Z\",\"description\":\"Biden may have had an irreparable rift with young voters. Some who were turned off by him are more interested in Harris, though issues including Gaza remain sticking points.\",\"image\":{\"thumbnail\":{\"contentUrl\":\"https://www.bing.com/th?id=OVFT.cpHMozEZHpl6nL7HbmAqYC&pid=News\",\"height\":367,\"width\":700}},\"name\":\"Young voters take a new look at Harris, but some are waiting instead of committing\",\"provider\":[{\"_type\":\"Organization\",\"image\":{\"thumbnail\":{\"contentUrl\":\"https://www.bing.com/th?id=ODF.ighWNnrr5MMFUs8WKMme2A&pid=news\"}},\"name\":\"NBC News on MSN.com\"}],\"url\":\"https://www.msn.com/en-us/news/other/young-voters-take-a-new-look-at-harris-but-some-are-waiting-instead-of-committing/ar-AA1p99hv\"}}', '{\"json_object\":{\"about\":[{\"name\":\"Manchester United F.C.\",\"readLink\":\"https://api.bing.microsoft.com/api/v7/entities/064ce28e-ed07-a026-2f79-1b321d7548ea\"},{\"name\":\"Scott McTominay\",\"readLink\":\"https://api.bing.microsoft.com/api/v7/entities/0d7f1ad6-7445-be60-fae6-be8f6834b0ec\"},{\"name\":\"Christian Eriksen\",\"readLink\":\"https://api.bing.microsoft.com/api/v7/entities/5300fd8a-fc99-435a-b1d8-3490e4228f87\"},{\"name\":\"The Red Devils\",\"readLink\":\"https://api.bing.microsoft.com/api/v7/entities/d8dea608-ca10-ab4f-17b8-e56a4017a2c5\"},{\"name\":\"Joshua Zirkzee\",\"readLink\":\"https://api.bing.microsoft.com/api/v7/entities/8fe167ac-7cc5-ccae-ca7f-86177823ad58\"},{\"name\":\"Matthijs de Ligt\",\"readLink\":\"https://api.bing.microsoft.com/api/v7/entities/f9875452-9ecf-c3e6-7e46-1dbc87f172f1\"},{\"name\":\"Noussair Mazraoui\",\"readLink\":\"https://api.bing.microsoft.com/api/v7/entities/ecdea285-86d1-ccdf-2115-a4415a845794\"},{\"name\":\"Paris Saint-Germain F.C.\",\"readLink\":\"https://api.bing.microsoft.com/api/v7/entities/67266d4d-2667-f33f-7d3e-ae1225abff86\"},{\"name\":\"Federico Chiesa\",\"readLink\":\"https://api.bing.microsoft.com/api/v7/entities/3ee194eb-adf7-709d-7172-2fc8d91f72a5\"},{\"name\":\"Ivan Toney\",\"readLink\":\"https://api.bing.microsoft.com/api/v7/entities/98358ca1-1bd6-4cee-aff4-5b93c811f416\"},{\"name\":\"Ben Chilwell\",\"readLink\":\"https://api.bing.microsoft.com/api/v7/entities/d7ca1fbb-f3df-3e53-cfa2-323dc6ffc2f4\"}],\"category\":\"Sports\",\"datePublished\":\"2024-08-21T14:03:00.0000000Z\",\"description\":\"Manchester United still have plenty of transfer business to complete in the final week of the window and could yet sign Manuel Ugarte while Scott McTominay, Christian Eriksen and Casemiro could depart\",\"image\":{\"thumbnail\":{\"contentUrl\":\"https://www.bing.com/th?id=OVFT.LBYdNNfY8kIhGkyEitiWcC&pid=News\",\"height\":367,\"width\":700}},\"name\":\"Man Utd transfer news LIVE: Medical booked, Manuel Ugarte breakthrough, United complete loan deal\",\"provider\":[{\"_type\":\"Organization\",\"image\":{\"thumbnail\":{\"contentUrl\":\"https://www.bing.com/th?id=ODF.CWDfHbZtL9U2bsuN-kn_-w&pid=news\"}},\"name\":\"The Mirror\"}],\"url\":\"https://www.mirror.co.uk/sport/football/transfer-news/man-utd-transfer-news-live-33491446\"}}', '{\"json_object\":{\"datePublished\":\"2024-08-21T14:01:00.0000000Z\",\"description\":\"James Cutfield, 51, who is from New Zealand, was quizzed until late yesterday evening to help reconstruct what happened and provide useful technical details, reports the Italian news agency ANSA. His brother Mark earlier told the New Zealand Herald he was ...\",\"image\":{\"thumbnail\":{\"contentUrl\":\"https://www.bing.com/th?id=OVFT.Z89qPj7prCz9if78PBrPuS&pid=News\",\"height\":393,\"width\":700}},\"name\":\"Superyacht sinks latest: Two bodies found after superyacht sinking\",\"provider\":[{\"_type\":\"Organization\",\"name\":\"Sky\"}],\"url\":\"https://news.sky.com/story/superyacht-sinks-latest-two-bodies-found-after-superyacht-sinking-13199663\"}}', '{\"json_object\":{\"about\":[{\"name\":\"Red tape\",\"readLink\":\"https://api.bing.microsoft.com/api/v7/entities/8c2f0c5c-25f8-7b89-35d0-896f2e34cb10\"},{\"name\":\"David Seymour\",\"readLink\":\"https://api.bing.microsoft.com/api/v7/entities/91f7fd7e-ec2a-7184-cfe2-0ae41a1f4e74\"},{\"name\":\"Green Party\",\"readLink\":\"https://api.bing.microsoft.com/api/v7/entities/257da6f4-91db-2e8a-12f6-05f7564f1b6c\"},{\"name\":\"The Washington Post\",\"readLink\":\"https://api.bing.microsoft.com/api/v7/entities/7802f29d-d7cc-5e6f-de8a-63a5a1a2f17f\"}],\"category\":\"Business\",\"datePublished\":\"2024-08-21T00:44:19.0000000Z\",\"description\":\"The anti-red tape department is overseen by the ACT leader, who secured its creation during coalition negotiations last year.\",\"image\":{\"thumbnail\":{\"contentUrl\":\"https://www.bing.com/th?id=OVFT.8T_ZT9AFU_NRZyqF5ygy9C&pid=News\",\"height\":367,\"width\":700}},\"mentions\":[{\"name\":\"Public sector\"},{\"name\":\"Ministry\"},{\"name\":\"Radio New Zealand\"}],\"name\":\"New ministry paying staff average salary of $150k despite public sector job cuts\",\"provider\":[{\"_type\":\"Organization\",\"image\":{\"thumbnail\":{\"contentUrl\":\"https://www.bing.com/th?id=ODF.KbRIMdbKqxc2CRUKwuqxSg&pid=news\"}},\"name\":\"rnz on MSN.com\"}],\"url\":\"https://www.msn.com/en-nz/news/other/new-ministry-paying-staff-average-salary-of-150k-despite-public-sector-job-cuts/ar-AA1p8XpE\"}}', '{\"json_object\":{\"about\":[{\"name\":\"WeTransfer\",\"readLink\":\"https://api.bing.microsoft.com/api/v7/entities/e72d073e-df1f-40e7-b64c-44edd9d7705b\"}],\"category\":\"ScienceAndTechnology\",\"datePublished\":\"2024-08-21T11:33:48.0000000Z\",\"description\":\"Cloud-based file transfer platform WeTransfer has unveiled a new ‘Save for Later’ feature on its mobile app in a bid to address one of the platform’s biggest user frustrations – expired download links.\",\"image\":{\"thumbnail\":{\"contentUrl\":\"https://www.bing.com/th?id=OVFT.fBm1F3cu92FG7PZA1V-Q8S&pid=News\",\"height\":393,\"width\":700}},\"mentions\":[{\"name\":\"WeTransfer\"},{\"name\":\"TechRadar\"},{\"name\":\"The gospel\"}],\"name\":\"Good news file fans - WeTransfer links will no longer expire\",\"provider\":[{\"_type\":\"Organization\",\"image\":{\"thumbnail\":{\"contentUrl\":\"https://www.bing.com/th?id=ODF.HUwxplx_rx0g5pzCy5_Wwg&pid=news\"}},\"name\":\"TechRadar on MSN.com\"}],\"url\":\"https://www.msn.com/en-us/news/technology/good-news-file-fans-wetransfer-links-will-no-longer-expire/ar-AA1pbk5K\"}}', '{\"json_object\":{\"about\":[{\"name\":\"North Vancouver\",\"readLink\":\"https://api.bing.microsoft.com/api/v7/entities/dff5cb1b-3df4-7b9b-6057-8473e9953cb2\"},{\"name\":\"Royal Canadian Mounted Police\",\"readLink\":\"https://api.bing.microsoft.com/api/v7/entities/e0c66ab1-c3c1-2e91-675b-983872f887ef\"}],\"category\":\"Canada\",\"datePublished\":\"2024-08-20T20:07:00.0000000Z\",\"description\":\"Police in North Vancouver, B.C., say homicide investigators have been called in after a woman and girl died from falling off an apartment balcony. RCMP initially said officers responded to reports that two \\\\\"females\\\\\" had fallen from the building on East Esplanade in the city\\'s Shipyards area at 4:30 a.m. Tuesday.\",\"image\":{\"thumbnail\":{\"contentUrl\":\"https://www.bing.com/th?id=OVFT.xaYdLrWgR019S1k86hKXIC&pid=News\",\"height\":349,\"width\":620}},\"name\":\"Homicide investigators called in after woman and girl die in North Vancouver balcony fall\",\"provider\":[{\"_type\":\"Organization\",\"image\":{\"thumbnail\":{\"contentUrl\":\"https://www.bing.com/th?id=ODF.4NbuPrmIxu0JD126LE1gxQ&pid=news\"}},\"name\":\"CBC.ca\"}],\"url\":\"https://www.cbc.ca/news/canada/british-columbia/woman-and-girl-die-in-balcony-fall-1.7300061\"}}', '{\"json_object\":{\"about\":[{\"name\":\"Aston Villa F.C.\",\"readLink\":\"https://api.bing.microsoft.com/api/v7/entities/d689e389-cacc-0912-28ee-039d79661230\"},{\"name\":\"Álex Moreno\",\"readLink\":\"https://api.bing.microsoft.com/api/v7/entities/ccba0daa-1602-52f1-5cd2-6ad22e9f95b7\"},{\"name\":\"Villa Park\",\"readLink\":\"https://api.bing.microsoft.com/api/v7/entities/1e177ead-ba8d-0da5-91f2-f4f4f1d1b5d0\"},{\"name\":\"Amadou Onana\",\"readLink\":\"https://api.bing.microsoft.com/api/v7/entities/1ca66a06-53cd-7959-48a4-bfdc53e7576e\"},{\"name\":\"Everton F.C.\",\"readLink\":\"https://api.bing.microsoft.com/api/v7/entities/08c4e442-93ae-e0fe-a73b-f76f5259a171\"},{\"name\":\"Douglas Luiz\",\"readLink\":\"https://api.bing.microsoft.com/api/v7/entities/e4d0e312-8441-3d8b-6167-12496e2b71bc\"},{\"name\":\"Moussa Diaby\",\"readLink\":\"https://api.bing.microsoft.com/api/v7/entities/d25af0c6-d803-93ff-a62d-2bf4b96202c5\"},{\"name\":\"Unai Emery\",\"readLink\":\"https://api.bing.microsoft.com/api/v7/entities/bdfda59a-e857-f629-caa7-aa1072c5ce90\"},{\"name\":\"Atlético Madrid\",\"readLink\":\"https://api.bing.microsoft.com/api/v7/entities/b1132d17-4fd3-ba7d-39df-de416b1e6090\"},{\"name\":\"Premier League\",\"readLink\":\"https://api.bing.microsoft.com/api/v7/entities/02bde011-1e9d-3aff-8309-7d07d4031798\"},{\"name\":\"Chelsea F.C.\",\"readLink\":\"https://api.bing.microsoft.com/api/v7/entities/8346cd56-1a96-adb0-26e1-f3679d88e0ba\"}],\"category\":\"Sports\",\"datePublished\":\"2024-08-21T06:15:00.0000000Z\",\"description\":\"Aston Villa have confirmed Lamare Bogarde has signed a new contract with the club. The 20-year-old is highly-rated by Unai Emery, who used him in each of the club\\'s even pre-season friendlies. Bogarde impressed in defence and in a holding midfield role earlier this summer.\",\"image\":{\"thumbnail\":{\"contentUrl\":\"https://www.bing.com/th?id=OVFT.AcMIIgk-gkK3Yn74tqkq2y&pid=News\",\"height\":367,\"width\":700}},\"name\":\"Aston Villa transfer news live Joe Gomez twist, Alex Moreno medical, Samuel Iling-Junior latest\",\"provider\":[{\"_type\":\"Organization\",\"image\":{\"thumbnail\":{\"contentUrl\":\"https://www.bing.com/th?id=ODF.jPou0vlDKt0Px6h21V_3rw&pid=news\"}},\"name\":\"Birmingham Mail\"}],\"url\":\"https://www.birminghammail.co.uk/sport/football/transfer-news/villa-transfers-live-iling-junior-29773450\"}}', '{\"json_object\":{\"about\":[{\"name\":\"Travis Kelce\",\"readLink\":\"https://api.bing.microsoft.com/api/v7/entities/4e917ff4-3613-42f8-bf79-9c12138e3ede\"},{\"name\":\"John Wick\",\"readLink\":\"https://api.bing.microsoft.com/api/v7/entities/91048ec5-4775-4ea1-bbfb-8c396a2246c1\"},{\"name\":\"Loose Cannons\",\"readLink\":\"https://api.bing.microsoft.com/api/v7/entities/2d0a8549-d969-fcc7-2aa5-6e1eca5119b6\"},{\"name\":\"Taylor Swift\",\"readLink\":\"https://api.bing.microsoft.com/api/v7/entities/98004a38-a3ea-b902-b6d3-687b30b54353\"},{\"name\":\"Deadline Hollywood\",\"readLink\":\"https://api.bing.microsoft.com/api/v7/entities/8487dbc3-435c-5296-821c-8a2a66840e9c\"},{\"name\":\"Lionsgate\",\"readLink\":\"https://api.bing.microsoft.com/api/v7/entities/addd91f2-9d74-ed59-8f80-40991e39127c\"},{\"name\":\"Pixels\",\"readLink\":\"https://api.bing.microsoft.com/api/v7/entities/17e0a910-504b-87ad-32ec-550f6cb9fd94\"},{\"name\":\"Chad Stahelski\",\"readLink\":\"https://api.bing.microsoft.com/api/v7/entities/08c3b9bd-7bee-dc90-fcf7-b4805cf74dc1\"},{\"name\":\"Alex Young\",\"readLink\":\"https://api.bing.microsoft.com/api/v7/entities/8ae9c6bf-bb29-1987-1785-81e1678975cc\"}],\"category\":\"Entertainment\",\"datePublished\":\"2024-08-21T08:47:35.0000000Z\",\"description\":\"Travis Kelce is reportedly set to star in new comedy Loose Cannons. The NFL star - who is dating Anti-Hero hitmaker Taylor Swift - is making the jump to Hollywood and may have landed his first big screen acting role.\",\"image\":{\"thumbnail\":{\"contentUrl\":\"https://www.bing.com/th?id=OVFT.CRHhARBhHyjiHoCbrrfKTi&pid=News\",\"height\":367,\"width\":700}},\"mentions\":[{\"name\":\"Travis Kelce\"},{\"name\":\"Manchester Evening News\"},{\"name\":\"Comedy\"}],\"name\":\"Travis Kelce in talks to front new action comedy from John Wick producers\",\"provider\":[{\"_type\":\"Organization\",\"image\":{\"thumbnail\":{\"contentUrl\":\"https://www.bing.com/th?id=ODF.oxaa8-w2MDoXi5yOUu7A3w&pid=news\"}},\"name\":\"Manchester Evening News on MSN.com\"}],\"url\":\"https://www.msn.com/en-gb/news/newsmanchester/travis-kelce-in-talks-to-front-new-action-comedy-from-john-wick-producers/ar-AA1paehQ\"}}', '{\"json_object\":{\"about\":[{\"name\":\"CNN\",\"readLink\":\"https://api.bing.microsoft.com/api/v7/entities/c4c637e5-f9cc-a3ed-3380-7152515e062e\"},{\"name\":\"Mediterranean climate\",\"readLink\":\"https://api.bing.microsoft.com/api/v7/entities/bf1c93f2-9a1f-517d-2cd6-159b79fff257\"},{\"name\":\"Type 2 diabetes\",\"readLink\":\"https://api.bing.microsoft.com/api/v7/entities/83426981-8501-0894-eae9-3f11a06bf89f\"},{\"name\":\"University of Cambridge\",\"readLink\":\"https://api.bing.microsoft.com/api/v7/entities/92a4946b-bd44-dad3-15c3-14c37ab8894e\"}],\"category\":\"LifeStyle\",\"datePublished\":\"2024-08-20T23:34:12.0000000Z\",\"description\":\"Many people are trying to cut back on red and processed meat for heart health or environmental reasons. A new global study shows another good reason.\",\"image\":{\"thumbnail\":{\"contentUrl\":\"https://www.bing.com/th?id=OVFT.HZ-KKLVQgNIi-t10Nn9gpy&pid=News\",\"height\":393,\"width\":700}},\"name\":\"There is a link between the meat you eat and a chronic disease, according to new research\",\"provider\":[{\"_type\":\"Organization\",\"image\":{\"thumbnail\":{\"contentUrl\":\"https://www.bing.com/th?id=ODF.t0BGYosS4GKZSebCajKQGA&pid=news\"}},\"name\":\"CNN on MSN.com\"}],\"url\":\"https://www.msn.com/en-us/health/other/global-study-shows-the-link-between-red-and-processed-meats-and-type-2-diabetes/ar-AA1p8FPI\",\"video\":{\"name\":\"Global study shows the link between red and processed meats and type 2 diabetes\",\"thumbnail\":{\"height\":292,\"width\":520},\"thumbnailUrl\":\"https://www.bing.com/th?id=OVF.hPOtjHufEraNH1owqr32tQ&pid=News\"}}}', '{\"json_object\":{\"about\":[{\"name\":\"New Mexico State University\",\"readLink\":\"https://api.bing.microsoft.com/api/v7/entities/e3d88a51-9b7a-0d6d-98c6-5d5766648030\"},{\"name\":\"Tailgating\",\"readLink\":\"https://api.bing.microsoft.com/api/v7/entities/e8af03e2-58ba-632f-44d7-9b33d3ce3c97\"},{\"name\":\"Albuquerque, New Mexico\",\"readLink\":\"https://api.bing.microsoft.com/api/v7/entities/7fffaaf6-e694-4095-be90-f6492cadbd58\"}],\"category\":\"LifeStyle\",\"datePublished\":\"2024-08-20T22:18:33.0000000Z\",\"description\":\"Changes are coming to New Mexico State University’s tailgating rules this football season. Parking lots will shut down two hours after the game or at midnight, whichever comes sooner. For the non-student lots,\",\"image\":{\"thumbnail\":{\"contentUrl\":\"https://www.bing.com/th?id=OVFT.RQtsGpt1lmQE2r7GoEiRyS&pid=News\",\"height\":394,\"width\":700}},\"mentions\":[{\"name\":\"New Mexico State University\"},{\"name\":\"Tailgate party\"},{\"na\n",
      "\n",
      "*** WARNING: max output size exceeded, skipping output. ***\n",
      "\n",
      "adLink\":\"https://api.bing.microsoft.com/api/v7/entities/c7bfe2de-4f82-e23c-ae42-8544b5b5c0ea\"},{\"name\":\"Airbus A330\",\"readLink\":\"https://api.bing.microsoft.com/api/v7/entities/cf401561-d848-d8f3-8d4c-22380168287b\"}],\"category\":\"World\",\"datePublished\":\"2024-08-21T12:09:00.0000000Z\",\"description\":\"Many Nigerians have reacted with outrage after a new plane was bought for President Bola Tinubu at a time when the economy is experiencing its worst crisis in a generation. The purchase comes less than two weeks after thousands took to the streets across ...\",\"image\":{\"thumbnail\":{\"contentUrl\":\"https://www.bing.com/th?id=OVFT.7C_HHcyp6aVl_XCvSSw24i&pid=News\",\"height\":393,\"width\":700}},\"name\":\"Nigerians outraged by president’s new plane\",\"provider\":[{\"_type\":\"Organization\",\"name\":\"BBC\"}],\"url\":\"https://www.bbc.co.uk/news/articles/cy4ydd2x5x2o\"}}', '{\"json_object\":{\"about\":[{\"name\":\"George Floyd\",\"readLink\":\"https://api.bing.microsoft.com/api/v7/entities/c78e0e6e-3b43-9e12-66d6-6466c9cbce54\"},{\"name\":\"Minneapolis\",\"readLink\":\"https://api.bing.microsoft.com/api/v7/entities/def03125-42ba-47cd-8061-ee55f5c63e67\"},{\"name\":\"Derek Chauvin\",\"readLink\":\"https://api.bing.microsoft.com/api/v7/entities/ddde2ddf-199d-9311-b135-336828a27f08\"},{\"name\":\"Federal Bureau of Prisons\",\"readLink\":\"https://api.bing.microsoft.com/api/v7/entities/bdca07d5-27a0-917c-5506-de6deeddf20c\"},{\"name\":\"Associated Press\",\"readLink\":\"https://api.bing.microsoft.com/api/v7/entities/b2843a2b-80fd-2fa0-10d0-97b51563ffcb\"},{\"name\":\"Federal Correctional Institution, Big Spring\",\"readLink\":\"https://api.bing.microsoft.com/api/v7/entities/ab3d4589-8104-8664-1f4e-46c139e8fb09\"},{\"name\":\"Federal Bureau of Investigation\",\"readLink\":\"https://api.bing.microsoft.com/api/v7/entities/e470e552-d479-42f9-dff4-a15995402e33\"}],\"datePublished\":\"2024-08-21T07:42:00.0000000Z\",\"description\":\"Derek Chauvin was transferred to a federal prison in Texas almost nine months after he was stabbed in a different facility.\",\"image\":{\"thumbnail\":{\"contentUrl\":\"https://www.bing.com/th?id=OVFT.7q4qAgScsd6ip4f8SNU7bC&pid=News\",\"height\":700,\"width\":639}},\"name\":\"Ex-officer convicted in George Floyd’s killing is moved to new prison months after stabbing\",\"provider\":[{\"_type\":\"Organization\",\"image\":{\"thumbnail\":{\"contentUrl\":\"https://www.bing.com/th?id=ODF.AlMAEy7MoWNz0OI_xSWQiw&pid=news\"}},\"name\":\"The Associated Press on MSN.com\"}],\"url\":\"https://www.msn.com/en-us/news/crime/ex-officer-convicted-in-george-floyd-s-killing-is-moved-to-new-prison-months-after-stabbing/ar-AA1p8hcT\"}}', '{\"json_object\":{\"category\":\"ScienceAndTechnology\",\"datePublished\":\"2024-08-20T15:06:08.0000000Z\",\"description\":\"International publishers are overtaking local news brands in Google\\'s Top stories, raising questions about search relevance.\",\"mentions\":[{\"name\":\"Google\"},{\"name\":\"United States\"},{\"name\":\"Search Engine Optimization\"}],\"name\":\"Google’s Top stories looks broken: Are news publishers to blame?\",\"provider\":[{\"_type\":\"Organization\",\"image\":{\"thumbnail\":{\"contentUrl\":\"https://www.bing.com/th?id=ODF.4QeTEYHGoXPpi_CNzqJApQ&pid=news\"}},\"name\":\"Search Engine Land on MSN.com\"}],\"url\":\"https://www.msn.com/en-us/news/technology/google-s-top-stories-looks-broken-are-news-publishers-to-blame/ar-AA1p7F2f\"}}', '{\"json_object\":{\"about\":[{\"name\":\"Jeremy Clarkson\",\"readLink\":\"https://api.bing.microsoft.com/api/v7/entities/ddc9900f-d3d1-a052-0176-298795c71eea\"},{\"name\":\"Cotswolds\",\"readLink\":\"https://api.bing.microsoft.com/api/v7/entities/ad6d3d8f-f997-84f9-b85b-2e8d230e869e\"},{\"name\":\"Top Gear\",\"readLink\":\"https://api.bing.microsoft.com/api/v7/entities/684e1cfe-24e4-56d2-5280-79a9f735d4c0\"},{\"name\":\"Oxfordshire\",\"readLink\":\"https://api.bing.microsoft.com/api/v7/entities/1eda598d-62bc-9a62-5694-ee4472f8dcf5\"},{\"name\":\"A40 road\",\"readLink\":\"https://api.bing.microsoft.com/api/v7/entities/6a526ebc-09bd-492b-2013-34b15eff861e\"},{\"name\":\"Burford\",\"readLink\":\"https://api.bing.microsoft.com/api/v7/entities/656326ab-f57e-e678-ef3b-bc3ecf4fcca2\"}],\"datePublished\":\"2024-08-21T12:24:00.0000000Z\",\"description\":\"Jeremy Clarkson has revealed his new pub will open its doors to the public for the first time on Friday - and that the boozer has a new name. The former Top Gear presenter, 64, announced The Farmers Dog, in Oxfordshire will be ready just in time for the ...\",\"image\":{\"thumbnail\":{\"contentUrl\":\"https://www.bing.com/th?id=OVFT.3chxsk0zOuDA6CRPMMUjwC&pid=News\",\"height\":393,\"width\":700}},\"name\":\"Jeremy Clarkson announces his new Cotswolds pub will open this Friday and renames it \\'The Farmer\\'s Dog\\' - as presenter reveals plans for second Diddly Squat Farm Shop\",\"provider\":[{\"_type\":\"Organization\",\"name\":\"Daily Mail\"}],\"url\":\"https://www.dailymail.co.uk/news/article-13765077/Jeremy-Clarksons-new-pub-Farmers-Dog-open-Friday.html\"}}', '{\"json_object\":{\"about\":[{\"name\":\"Italy\",\"readLink\":\"https://api.bing.microsoft.com/api/v7/entities/09e8f885-427b-8850-947d-202e0287b9e8\"},{\"name\":\"Clifford Chance\",\"readLink\":\"https://api.bing.microsoft.com/api/v7/entities/97aad71a-30da-1d4d-ca3c-70ec80964c97\"}],\"datePublished\":\"2024-08-20T20:25:00.0000000Z\",\"description\":\"Along with everyone else, we’re devastated by the news out of Italy concerning the ship. Our thoughts and prayers are with Chris’ family,” Elkan Abramowitz said.\",\"image\":{\"thumbnail\":{\"contentUrl\":\"https://www.bing.com/th?id=OVFT.SNfjQJptmiZmQH85-9VM0y&pid=News\",\"height\":577,\"width\":700}},\"name\":\"New York Lawyers \\'Stunned and Devastated\\' Over Chris Morvillo Disappearance\",\"provider\":[{\"_type\":\"Organization\",\"image\":{\"thumbnail\":{\"contentUrl\":\"https://www.bing.com/th?id=ODF.0zEurQ1YsrHCOmHwthImcQ&pid=news\"}},\"name\":\"Law\"}],\"url\":\"https://www.law.com/newyorklawjournal/2024/08/20/new-york-lawyers-stunned-and-devastated-over-chris-morvillo-disappearance/\"}}', '{\"json_object\":{\"about\":[{\"name\":\"Donald Trump\",\"readLink\":\"https://api.bing.microsoft.com/api/v7/entities/1a466af2-ed23-25bd-794d-1ca925e4681b\"},{\"name\":\"Taylor Swift\",\"readLink\":\"https://api.bing.microsoft.com/api/v7/entities/98004a38-a3ea-b902-b6d3-687b30b54353\"},{\"name\":\"Chicago\",\"readLink\":\"https://api.bing.microsoft.com/api/v7/entities/28deeb39-ca49-4bd4-913b-929b1de4b25b\"},{\"name\":\"Democratic National Convention\",\"readLink\":\"https://api.bing.microsoft.com/api/v7/entities/eb5f527b-1e2d-86c2-e55c-1fc837f43499\"},{\"name\":\"Kamala Harris\",\"readLink\":\"https://api.bing.microsoft.com/api/v7/entities/ef5cf66f-32b7-7271-286a-8e8313eda5c5\"},{\"name\":\"Tech Billionaires: Elon Musk\",\"readLink\":\"https://api.bing.microsoft.com/api/v7/entities/c4fad87c-d4f0-ef0d-af23-19b1996e3053\"},{\"name\":\"Artificial intelligence\",\"readLink\":\"https://api.bing.microsoft.com/api/v7/entities/9d99fb44-edac-0e03-1579-19d8d8591a49\"}],\"category\":\"Politics\",\"datePublished\":\"2024-08-20T19:50:00.0000000Z\",\"description\":\"Former President Donald Trump has been active on his social accounts as Democrats gather for their convention in Chicago, but many of his posts don’t have much to do with reality.\",\"image\":{\"thumbnail\":{\"contentUrl\":\"https://www.bing.com/th?id=OVFT.8Wi-hOtIEoVH-QOlbnXtNS&pid=News\",\"height\":367,\"width\":700}},\"name\":\"Trump’s post of fake Taylor Swift endorsement is his latest embrace of AI-generated images\",\"provider\":[{\"_type\":\"Organization\",\"image\":{\"thumbnail\":{\"contentUrl\":\"https://www.bing.com/th?id=ODF.AlMAEy7MoWNz0OI_xSWQiw&pid=news\"}},\"name\":\"The Associated Press on MSN.com\"}],\"url\":\"https://www.msn.com/en-us/news/politics/trump-s-post-of-fake-taylor-swift-endorsement-is-his-latest-embrace-of-ai-generated-images/ar-AA1p8ugH\"}}', '{\"json_object\":{\"about\":[{\"name\":\"Donald Trump\",\"readLink\":\"https://api.bing.microsoft.com/api/v7/entities/1a466af2-ed23-25bd-794d-1ca925e4681b\"},{\"name\":\"Leonardo DiCaprio\",\"readLink\":\"https://api.bing.microsoft.com/api/v7/entities/5f2c4ac2-d77a-474e-4580-c76549d4fce5\"},{\"name\":\"Diana, Princess of Wales\",\"readLink\":\"https://api.bing.microsoft.com/api/v7/entities/f4bf63ea-0b6c-58e0-4587-64927290483f\"},{\"name\":\"The Cheesecake Factory\",\"readLink\":\"https://api.bing.microsoft.com/api/v7/entities/513ac470-7772-1f4d-d4e1-2b4a6111ff19\"},{\"name\":\"AMC\",\"readLink\":\"https://api.bing.microsoft.com/api/v7/entities/c8f09f18-1dfb-b3c6-3daf-259b82271e22\"},{\"name\":\"The Grove\",\"readLink\":\"https://api.bing.microsoft.com/api/v7/entities/43e17dc7-c6c0-4009-ab03-44310e26b258\"}],\"datePublished\":\"2024-08-20T16:29:00.0000000Z\",\"description\":\"Donald Trump said he\\'s only going to speak behind bullet-proof glass at outdoor rallies after that failed assassination attempt. Now, a picture of him speaking behind glass on the 4th of July 2019 is going viral. 10 year-old me: I’m going to marry Leonardo DiCaprio my Princess Diana beanie baby: pic.twitter.com/Dni3Pfg9f8\",\"image\":{\"thumbnail\":{\"contentUrl\":\"https://www.bing.com/th?id=OVFT.5zc_9oceXEQ-NDjhBu09hC&pid=News\",\"height\":464,\"width\":700}},\"name\":\"This Picture Of Donald Trump Behind Bullet-Proof Glass Is Now A Unintentionally Hilarious New Meme\",\"provider\":[{\"_type\":\"Organization\",\"image\":{\"thumbnail\":{\"contentUrl\":\"https://www.bing.com/th?id=ODF.zvLEjo304eZajOqoKLxUtA&pid=news\"}},\"name\":\"Yahoo News Canada\"}],\"url\":\"https://ca.yahoo.com/news/picture-donald-trump-behind-bullet-162934848.html\"}}', '{\"json_object\":{\"about\":[{\"name\":\"Stimulus\",\"readLink\":\"https://api.bing.microsoft.com/api/v7/entities/a20531eb-e559-ec38-f785-ccfe7eded6f7\"},{\"name\":\"Alaska\",\"readLink\":\"https://api.bing.microsoft.com/api/v7/entities/31c4c7a1-54e7-4306-ac9b-f1b02e85bda5\"}],\"category\":\"Business\",\"datePublished\":\"2024-08-21T12:24:00.0000000Z\",\"description\":\"Alaskans will receive $1300 stimulus checks, offering crucial financial support amid global economic difficulties. This payment comes as part of the state\\'s Permanent Fund Dividend (PFD) program, designed to provide ongoing economic benefits to residents ...\",\"image\":{\"thumbnail\":{\"contentUrl\":\"https://www.bing.com/th?id=OVFT.szrqyOBn23c_lD3hELsFhS&pid=News\",\"height\":466,\"width\":700}},\"name\":\"1312 Stimulus Payment Eligibility: A new $1312 payment is coming next month, are you eligible to get it?\",\"provider\":[{\"_type\":\"Organization\",\"name\":\"MARCA\"}],\"url\":\"https://www.marca.com/en/lifestyle/us-news/personal-finance/2024/08/21/66c5d1e046163f57778b45b7.html\"}}', '{\"json_object\":{\"about\":[{\"name\":\"Andrew Tate\",\"readLink\":\"https://api.bing.microsoft.com/api/v7/entities/41f247b0-02b9-c01d-3fb2-f794db91e9c4\"},{\"name\":\"Romania\",\"readLink\":\"https://api.bing.microsoft.com/api/v7/entities/0cc489d5-ff53-84f1-4fcc-76525efef33a\"},{\"name\":\"Human trafficking\",\"readLink\":\"https://api.bing.microsoft.com/api/v7/entities/8e68768e-ecd5-4bf5-b732-28df9390a5e9\"},{\"name\":\"Rape\",\"readLink\":\"https://api.bing.microsoft.com/api/v7/entities/0cdc95b4-903a-9c9c-ad30-233321b50d1b\"},{\"name\":\"Bucharest\",\"readLink\":\"https://api.bing.microsoft.com/api/v7/entities/42022f97-112e-58a6-70f5-9536b20ee957\"},{\"name\":\"Ilfov County\",\"readLink\":\"https://api.bing.microsoft.com/api/v7/entities/d6b13ffc-3490-2609-746c-5b9daf56e5ee\"}],\"category\":\"World\",\"datePublished\":\"2024-08-21T08:01:00.0000000Z\",\"description\":\"Dozens of police officers and forensic personnel were scouring Tate’s large property on the edge of the capital Bucharest.\",\"image\":{\"thumbnail\":{\"contentUrl\":\"https://www.bing.com/th?id=OVFT.mTc07i_DZeeWpdB-0qGQVy&pid=News\",\"height\":466,\"width\":700}},\"name\":\"Police raid Andrew Tate’s home in Romania as new allegations emerge involving minors\",\"provider\":[{\"_type\":\"Organization\",\"image\":{\"thumbnail\":{\"contentUrl\":\"https://www.bing.com/th?id=ODF.AlMAEy7MoWNz0OI_xSWQiw&pid=news\"}},\"name\":\"The Associated Press - Business News on MSN.com\"}],\"url\":\"https://www.msn.com/en-us/news/crime/police-raid-andrew-tates-home-in-romania-as-new-allegations-emerge-involving-minors/ar-AA1pabHH\"}}', '{\"json_object\":{\"about\":[{\"name\":\"Raheem Sterling\",\"readLink\":\"https://api.bing.microsoft.com/api/v7/entities/2c5f2a39-135c-560d-575f-dd7424d4ce82\"},{\"name\":\"Chelsea F.C.\",\"readLink\":\"https://api.bing.microsoft.com/api/v7/entities/8346cd56-1a96-adb0-26e1-f3679d88e0ba\"},{\"name\":\"Enzo Maresca\",\"readLink\":\"https://api.bing.microsoft.com/api/v7/entities/57f409e7-f3be-4c3f-89a8-adb2b541771b\"},{\"name\":\"Manchester City F.C.\",\"readLink\":\"https://api.bing.microsoft.com/api/v7/entities/8b357e7d-2cd9-6ebf-30d5-6794f62ce637\"},{\"name\":\"England\",\"readLink\":\"https://api.bing.microsoft.com/api/v7/entities/280d39e8-7217-6863-6980-a8c20c211c89\"},{\"name\":\"UEFA\",\"readLink\":\"https://api.bing.microsoft.com/api/v7/entities/bfd4adbc-7bef-3f42-8d9f-ea01eff9724b\"},{\"name\":\"Tosin Adarabioyo\",\"readLink\":\"https://api.bing.microsoft.com/api/v7/entities/4455aa90-9467-adad-ec92-ac8477ce200b\"}],\"category\":\"Sports\",\"datePublished\":\"2024-08-21T08:51:00.0000000Z\",\"description\":\"Raheem Sterling’s Chelsea future has been called into question yet again after being left out of their squad to face Servette. It is is the second game in a row that Sterling has been axed\",\"image\":{\"thumbnail\":{\"contentUrl\":\"https://www.bing.com/th?id=OVFT.125GyMFOaI79S7q5wee39i&pid=News\",\"height\":240,\"width\":360}},\"name\":\"Raheem Sterling in new Chelsea low ahead of Europa Conference League clash with Servette as winger seeks ‘clarity’ over future\",\"provider\":[{\"_type\":\"Organization\",\"image\":{\"thumbnail\":{\"contentUrl\":\"https://www.bing.com/th?id=ODF.1J7u2N62JGb2VrnCRlJIrw&pid=news\"}},\"name\":\"Talksport\"}],\"url\":\"https://talksport.com/football/2016586/chelsea-raheem-sterling-axed-squad-servette/\"}}', '{\"json_object\":{\"about\":[{\"name\":\"Connecticut\",\"readLink\":\"https://api.bing.microsoft.com/api/v7/entities/b3ca6523-435e-4a3b-8f78-1ad900a52cf8\"},{\"name\":\"New York\",\"readLink\":\"https://api.bing.microsoft.com/api/v7/entities/caeb7b9a-f5d7-4686-8fb5-cf7628296b13\"},{\"name\":\"Long Island\",\"readLink\":\"https://api.bing.microsoft.com/api/v7/entities/ef0c0f37-bad2-bd1a-ad90-888ea76346bb\"},{\"name\":\"National Weather Service\",\"readLink\":\"https://api.bing.microsoft.com/api/v7/entities/94765d39-8736-70dc-4819-8ed777a628f0\"}],\"datePublished\":\"2024-08-20T14:53:00.0000000Z\",\"description\":\"The long and costly recovery effort has begun in Connecticut and New York after historic flooding caused sweeping damage over the weekend.\",\"image\":{\"thumbnail\":{\"contentUrl\":\"https://www.bing.com/th?id=OVFT.QYEhaDqKNF6mcFrPntmwkS&pid=News\",\"height\":393,\"width\":700}},\"name\":\"Long recovery underway after deadly and destructive floods ravage Connecticut, New York\",\"provider\":[{\"_type\":\"Organization\",\"image\":{\"thumbnail\":{\"contentUrl\":\"https://www.bing.com/th?id=ODF.m1iod5ODNIyyKu23kGIllQ&pid=news\"}},\"name\":\"USA Today\"}],\"url\":\"https://www.usatoday.com/story/news/nation/2024/08/20/connecticut-ny-flooding-recovery/74868830007/\"}}', '{\"json_object\":{\"about\":[{\"name\":\"Norwich\",\"readLink\":\"https://api.bing.microsoft.com/api/v7/entities/984fdffb-7ef3-de93-5b19-44454e228884\"}],\"datePublished\":\"2024-08-21T05:47:44.0000000Z\",\"description\":\"Gemma Hyde, from Norwich\\'s Castle Quarter shopping centre, wants to help families who cannot afford new uniforms.\",\"image\":{\"thumbnail\":{\"contentUrl\":\"https://www.bing.com/th?id=OVFT.9H0g3ziXxwQAvQEZdJYC4C&pid=News\",\"height\":393,\"width\":700}},\"mentions\":[{\"name\":\"Free school\"},{\"name\":\"School uniform\"},{\"name\":\"Pop-up ad\"}],\"name\":\"Free school uniform \\'pop-up\\' to ease cost of new term\",\"provider\":[{\"_type\":\"Organization\",\"image\":{\"thumbnail\":{\"contentUrl\":\"https://www.bing.com/th?id=ODF.k3N4DqozNjgK376rAnFmsA&pid=news\"}},\"name\":\"BBC on MSN.com\"}],\"url\":\"https://www.msn.com/en-us/news/world/free-school-uniform-pop-up-to-ease-cost-of-new-term/ar-AA1p9J8f\"}}', '{\"json_object\":{\"about\":[{\"name\":\"Libya\",\"readLink\":\"https://api.bing.microsoft.com/api/v7/entities/b4e5604e-361e-ab37-6516-4cf5580a04aa\"}],\"datePublished\":\"2024-08-21T13:25:00.0000000Z\",\"description\":\"Home Affairs minister Leon Schreiber says that “the system will always be down” at this department unless it takes a page out of SARS’ book.\",\"image\":{\"thumbnail\":{\"contentUrl\":\"https://www.bing.com/th?id=OVFT.aXKlyww6SuBIGM_5M90VTC&pid=News\",\"height\":393,\"width\":700}},\"name\":\"Home Affairs wants to be the new SARS\",\"provider\":[{\"_type\":\"Organization\",\"image\":{\"thumbnail\":{\"contentUrl\":\"https://www.bing.com/th?id=ODF.HeMcjfJp8OYTNknyI2IN7Q&pid=news\"}},\"name\":\"businesstech.co.za\"}],\"url\":\"https://businesstech.co.za/news/government/787740/home-affairs-wants-to-be-the-new-sars/\"}}', '{\"json_object\":{\"about\":[{\"name\":\"Gamescom\",\"readLink\":\"https://api.bing.microsoft.com/api/v7/entities/b17f0fd6-503a-c7ea-7e09-3795cff5e623\"},{\"name\":\"Borderlands\",\"readLink\":\"https://api.bing.microsoft.com/api/v7/entities/de3ec702-729a-972a-78f1-5d68add173f0\"},{\"name\":\"Gearbox Software\",\"readLink\":\"https://api.bing.microsoft.com/api/v7/entities/b3fa876a-8896-453a-ee5f-7b18a932feb9\"},{\"name\":\"Bethesda Game Studios\",\"readLink\":\"https://api.bing.microsoft.com/api/v7/entities/d9bc865e-0d24-4e3d-8537-4efd22be15f2\"},{\"name\":\"Borderlands 3\",\"readLink\":\"https://api.bing.microsoft.com/api/v7/entities/6e7a8481-3216-5168-be94-f09856320b94\"},{\"name\":\"Borderlands 2\",\"readLink\":\"https://api.bing.microsoft.com/api/v7/entities/f0fe13f3-31d5-de9b-4470-7dc86447427d\"}],\"category\":\"ScienceAndTechnology\",\"datePublished\":\"2024-08-20T22:58:00.0000000Z\",\"description\":\"There’s not an exact release date yet, but Borderlands 4 is slated for a 2025 release so we won’t have to wait long. It’s been five years since Borderlands 3 came out, and that game didn’t inspire the kind of hype and widespread praise that Borderlands 2 received at launch.\",\"image\":{\"thumbnail\":{\"contentUrl\":\"https://www.bing.com/th?id=OVFT.hAXz8WNGPQO7507zYSZQFS&pid=News\",\"height\":337,\"width\":600}},\"name\":\"‘Borderlands 4’ Announced With A Surprising Release Window And A New Trailer\",\"provider\":[{\"_type\":\"Organization\",\"image\":{\"thumbnail\":{\"contentUrl\":\"https://www.bing.com/th?id=ODF.U6nYa4Huf-RFEhjg-V4hNg&pid=news\"}},\"name\":\"Forbes\"}],\"url\":\"https://www.forbes.com/sites/erikkain/2024/08/20/borderlands-4-announced-with-a-surprising-release-window-and-a-new-trailer/\",\"video\":{\"name\":\"‘Borderlands 4’ Announced With A Surprising Release Window And A New Trailer\",\"thumbnail\":{\"height\":292,\"width\":520},\"thumbnailUrl\":\"https://www.bing.com/th?id=OVF.XipcomA3hntaDDc%2Bszyhtw&pid=News\"}}}', '{\"json_object\":{\"about\":[{\"name\":\"Kaiser Permanente\",\"readLink\":\"https://api.bing.microsoft.com/api/v7/entities/fa8bca5f-ac75-3fe3-9d30-1896f04572ba\"},{\"name\":\"California\",\"readLink\":\"https://api.bing.microsoft.com/api/v7/entities/3009d91d-d582-4c34-85ba-772ba09e5be1\"},{\"name\":\"Albany, New York\",\"readLink\":\"https://api.bing.microsoft.com/api/v7/entities/62ca8245-972e-448d-af38-345d4a958798\"}],\"datePublished\":\"2024-08-21T10:00:33.0000000Z\",\"description\":\"Nearly three years after wheelchair user Beth Smith sued Kaiser for capping coverage well below the costs of many motorized chairs, the Albany resident is slated to get thousands of dollars for a new chair. Smith, 64, was among the plaintiffs in a class ...\",\"image\":{\"thumbnail\":{\"contentUrl\":\"https://www.bing.com/th?id=OVFT.kaf4Lq8Ul61EB9pt0r57Mi&pid=News\",\"height\":367,\"width\":700}},\"mentions\":[{\"name\":\"California\"},{\"name\":\"Kaiser Family Foundation\"},{\"name\":\"Wheelchair\"}],\"name\":\"Years after lawsuit, Kaiser will pay for new wheelchair for California woman\",\"provider\":[{\"_type\":\"Organization\",\"name\":\"Los Angeles Times on MSN.com\"}],\"url\":\"https://www.msn.com/en-us/news/other/years-after-lawsuit-kaiser-will-pay-for-new-wheelchair-for-california-woman/ar-AA1paJ71\"}}', '{\"json_object\":{\"about\":[{\"name\":\"Coal\",\"readLink\":\"https://api.bing.microsoft.com/api/v7/entities/91cf2898-c1b2-4266-65ac-cb7e03a4bfa0\"},{\"name\":\"Natural gas\",\"readLink\":\"https://api.bing.microsoft.com/api/v7/entities/0f2df4e3-f260-d13a-8235-bf64bd7f79b1\"},{\"name\":\"Pennsylvania\",\"readLink\":\"https://api.bing.microsoft.com/api/v7/entities/6304580e-c803-4266-818a-971619176547\"},{\"name\":\"United States Environmental Protection Agency\",\"readLink\":\"https://api.bing.microsoft.com/api/v7/entities/4e6838b4-41a3-4674-aed3-3b4908acbd6b\"}],\"category\":\"LifeStyle\",\"datePublished\":\"2024-08-20T22:36:30.0000000Z\",\"description\":\"Former President Trump said that if elected, he will reverse the Biden-Harris administration\\'s EPA rule that requires coal and natural gas power plants to cut emissions by 90%.\",\"image\":{\"thumbnail\":{\"contentUrl\":\"https://www.bing.com/th?id=OVFT.rjqTLX6uTjc4KmDS728YPC&pid=News\",\"height\":393,\"width\":700}},\"name\":\"Trump vows to repeal new EPA power plant rule\",\"provider\":[{\"_type\":\"Organization\",\"image\":{\"thumbnail\":{\"contentUrl\":\"https://www.bing.com/th?id=ODF.GimbRbdxNxZt1GEL5O0AJg&pid=news\"}},\"name\":\"FOX News on MSN.com\"}],\"url\":\"https://www.msn.com/en-us/news/politics/trump-vows-to-repeal-new-epa-power-plant-rule/ar-AA1p8IoF\"}}', '{\"json_object\":{\"about\":[{\"name\":\"Mario Lopez\",\"readLink\":\"https://api.bing.microsoft.com/api/v7/entities/960f54aa-52b2-b6cf-2242-2066d6b8b322\"},{\"name\":\"Reel\",\"readLink\":\"https://api.bing.microsoft.com/api/v7/entities/cbb2fa82-62c4-c330-680a-1377c8c969e8\"},{\"name\":\"Instagram\",\"readLink\":\"https://api.bing.microsoft.com/api/v7/entities/a2113d26-7976-df57-241f-77b7bbb1b4f7\"}],\"category\":\"Entertainment\",\"datePublished\":\"2024-08-20T21:07:52.0000000Z\",\"description\":\"Mario Lopez\\'s kids are heading back to the classroom. On Tuesday, Aug. 20, the proud dad, 50, posted a Reel on his Instagram as he shared that his three kids — daughter Gia, 13, and sons Dominic, 10, and Santino, 5, whom he shares with wife Courtney — were celebrating their first day of school.\",\"image\":{\"thumbnail\":{\"contentUrl\":\"https://www.bing.com/th?id=OVFT.3hDTCHPYPzA8wkEnSkWqji&pid=News\",\"height\":466,\"width\":700}},\"name\":\"Mario Lopez Shares That All 3 of His Kids Are \\'Officially Back to School\\' in Adorable New Photos\",\"provider\":[{\"_type\":\"Organization\",\"image\":{\"thumbnail\":{\"contentUrl\":\"https://www.bing.com/th?id=ODF.kridaNmIIz5AdgcUGG5eBQ&pid=news\"}},\"name\":\"People on MSN.com\"}],\"url\":\"https://www.msn.com/en-us/lifestyle/lifestyle-buzz/mario-lopez-shares-that-all-3-of-his-kids-are-officially-back-to-school-in-adorable-new-photos/ar-AA1p8Eos\"}}', '{\"json_object\":{\"about\":[{\"name\":\"Robert F. Kennedy\",\"readLink\":\"https://api.bing.microsoft.com/api/v7/entities/367cc99b-d308-8104-8e05-1fd1a98862da\"},{\"name\":\"Chicago\",\"readLink\":\"https://api.bing.microsoft.com/api/v7/entities/28deeb39-ca49-4bd4-913b-929b1de4b25b\"},{\"name\":\"Robert F. Kennedy Jr.\",\"readLink\":\"https://api.bing.microsoft.com/api/v7/entities/e045d327-0fdc-d12c-b847-d1c25c43331e\"},{\"name\":\"Kamala Harris\",\"readLink\":\"https://api.bing.microsoft.com/api/v7/entities/ef5cf66f-32b7-7271-286a-8e8313eda5c5\"},{\"name\":\"CNN\",\"readLink\":\"https://api.bing.microsoft.com/api/v7/entities/c4c637e5-f9cc-a3ed-3380-7152515e062e\"},{\"name\":\"Donald Trump\",\"readLink\":\"https://api.bing.microsoft.com/api/v7/entities/1a466af2-ed23-25bd-794d-1ca925e4681b\"}],\"category\":\"Politics\",\"datePublished\":\"2024-08-20T22:06:00.0000000Z\",\"description\":\"Robert F. Kennedy Jr.\\'s running mate Nicole Shanahan said the Kennedy campaign is considering dropping out of the race and endorsing former President Donald Trump.\",\"image\":{\"thumbnail\":{\"contentUrl\":\"https://www.bing.com/th?id=OVFT.5M93eu2lyXiSl5xHEZCOqS&pid=News\",\"height\":393,\"width\":700}},\"name\":\"RFK Jr. news: Kennedy running mate says campaign considering dropping out, endorsing Trump\",\"provider\":[{\"_type\":\"Organization\",\"image\":{\"thumbnail\":{\"contentUrl\":\"https://www.bing.com/th?id=ODF.t0BGYosS4GKZSebCajKQGA&pid=news\"}},\"name\":\"CNN on MSN.com\"}],\"url\":\"https://www.msn.com/en-us/news/politics/rfk-jr-running-mate-shanahan-says-they-re-considering-endorsing-trump/ar-AA1p8ncv\",\"video\":{\"allowHttpsEmbed\":true,\"embedHtml\":\"<iframe width=\\\\\"476\\\\\" height=\\\\\"267\\\\\" src=\\\\\"https://abc13.com/video/embed/?pid=15210325\\\\\" scrolling=\\\\\"no\\\\\" frameborder=\\\\\"0\\\\\" allowfullscreen></iframe>\",\"name\":\"RFK Jr. news: Kennedy running mate says campaign considering dropping out, endorsing Trump\",\"thumbnail\":{\"height\":292,\"width\":520},\"thumbnailUrl\":\"https://www.bing.com/th?id=OVF.vYkNufdLB8IfHSRzC%2FU40Q&pid=News\"}}}', '{\"json_object\":{\"datePublished\":\"2024-08-20T15:30:00.0000000Z\",\"description\":\"As corporate ESG takes new forms and tackles new attacks in a contentious election ... Recommended Newsletter: CEO Daily provides key context for the news leaders need to know from across the world of business. Every weekday morning, more than 125,000 ...\",\"name\":\"Fortune Impact Initiative 2024 livestream\",\"provider\":[{\"_type\":\"Organization\",\"name\":\"Fortune\"}],\"url\":\"https://fortune.com/article/fortune-impact-initiative-2024-livestream/\"}}', '{\"json_object\":{\"category\":\"ScienceAndTechnology\",\"datePublished\":\"2024-08-20T20:01:00.0000000Z\",\"description\":\"Capcom during Gamescom Opening Night Live released a new trailer for Monster Hunter Wilds.View the trailer below:Read details [...]\",\"name\":\"Monster Hunter Wilds Gets Gamescom 2024 Trailer - News\",\"provider\":[{\"_type\":\"Organization\",\"image\":{\"thumbnail\":{\"contentUrl\":\"https://www.bing.com/th?id=ODF.kKXt-MKV3fmSaC3dmthHzw&pid=news\"}},\"name\":\"VG Chartz\"}],\"url\":\"https://www.vgchartz.com/article/462147/monster-hunter-wilds-gets-gamescom-2024-trailer/\"}}']\n"
     ]
    }
   ],
   "source": [
    "#Create a list\n",
    "json_list = df_exploded.toJSON().collect()\n",
    "\n",
    "print(json_list)"
   ]
  },
  {
   "cell_type": "code",
   "execution_count": null,
   "metadata": {
    "application/vnd.databricks.v1+cell": {
     "cellMetadata": {
      "byteLimit": 2048000,
      "rowLimit": 10000
     },
     "inputWidgets": {},
     "nuid": "1784c4ea-1a25-4e01-a082-c1bb214661b2",
     "showTitle": false,
     "title": ""
    }
   },
   "outputs": [
    {
     "name": "stdout",
     "output_type": "stream",
     "text": [
      "{\"json_object\":{\"category\":\"ScienceAndTechnology\",\"datePublished\":\"2024-08-20T20:01:00.0000000Z\",\"description\":\"Capcom during Gamescom Opening Night Live released a new trailer for Monster Hunter Wilds.View the trailer below:Read details [...]\",\"name\":\"Monster Hunter Wilds Gets Gamescom 2024 Trailer - News\",\"provider\":[{\"_type\":\"Organization\",\"image\":{\"thumbnail\":{\"contentUrl\":\"https://www.bing.com/th?id=ODF.kKXt-MKV3fmSaC3dmthHzw&pid=news\"}},\"name\":\"VG Chartz\"}],\"url\":\"https://www.vgchartz.com/article/462147/monster-hunter-wilds-gets-gamescom-2024-trailer/\"}}\n"
     ]
    }
   ],
   "source": []
  },
  {
   "cell_type": "code",
   "execution_count": null,
   "metadata": {
    "application/vnd.databricks.v1+cell": {
     "cellMetadata": {
      "byteLimit": 2048000,
      "rowLimit": 10000
     },
     "inputWidgets": {},
     "nuid": "135a19b7-8583-4e59-9df9-0893ef574df1",
     "showTitle": false,
     "title": ""
    }
   },
   "outputs": [
    {
     "name": "stdout",
     "output_type": "stream",
     "text": [
      "{'json_object': {'category': 'ScienceAndTechnology', 'datePublished': '2024-08-20T20:01:00.0000000Z', 'description': 'Capcom during Gamescom Opening Night Live released a new trailer for Monster Hunter Wilds.View the trailer below:Read details [...]', 'name': 'Monster Hunter Wilds Gets Gamescom 2024 Trailer - News', 'provider': [{'_type': 'Organization', 'image': {'thumbnail': {'contentUrl': 'https://www.bing.com/th?id=ODF.kKXt-MKV3fmSaC3dmthHzw&pid=news'}}, 'name': 'VG Chartz'}], 'url': 'https://www.vgchartz.com/article/462147/monster-hunter-wilds-gets-gamescom-2024-trailer/'}}\n"
     ]
    }
   ],
   "source": [
    "# parse a json string to a python dictionary\n",
    "import json\n",
    "news_json= json.loads(json_list[-1])\n",
    "print(news_json)"
   ]
  },
  {
   "cell_type": "code",
   "execution_count": null,
   "metadata": {
    "application/vnd.databricks.v1+cell": {
     "cellMetadata": {
      "byteLimit": 2048000,
      "rowLimit": 10000
     },
     "inputWidgets": {},
     "nuid": "8b970228-6d53-427a-8015-a2bdca526031",
     "showTitle": false,
     "title": ""
    }
   },
   "outputs": [
    {
     "name": "stdout",
     "output_type": "stream",
     "text": [
      "Capcom during Gamescom Opening Night Live released a new trailer for Monster Hunter Wilds.View the trailer below:Read details [...]\n"
     ]
    }
   ],
   "source": [
    "print(news_json['json_object']['description'])"
   ]
  },
  {
   "cell_type": "code",
   "execution_count": null,
   "metadata": {
    "application/vnd.databricks.v1+cell": {
     "cellMetadata": {},
     "inputWidgets": {},
     "nuid": "6739eed4-4215-42a0-856e-3777c8e63a99",
     "showTitle": false,
     "title": ""
    }
   },
   "outputs": [],
   "source": []
  },
  {
   "cell_type": "code",
   "execution_count": null,
   "metadata": {
    "application/vnd.databricks.v1+cell": {
     "cellMetadata": {
      "byteLimit": 2048000,
      "rowLimit": 10000
     },
     "inputWidgets": {},
     "nuid": "e3344aee-4da0-403c-afd7-12f52ca6fa44",
     "showTitle": false,
     "title": ""
    }
   },
   "outputs": [
    {
     "name": "stdout",
     "output_type": "stream",
     "text": [
      "Monster Hunter Wilds Gets Gamescom 2024 Trailer - News\n",
      "Capcom during Gamescom Opening Night Live released a new trailer for Monster Hunter Wilds.View the trailer below:Read details [...]\n",
      "ScienceAndTechnology\n",
      "https://www.vgchartz.com/article/462147/monster-hunter-wilds-gets-gamescom-2024-trailer/\n",
      "https://www.bing.com/th?id=ODF.kKXt-MKV3fmSaC3dmthHzw&pid=news\n",
      "VG Chartz\n",
      "2024-08-20T20:01:00.0000000Z\n"
     ]
    }
   ],
   "source": [
    "print(news_json['json_object']['name'])\n",
    "print(news_json['json_object']['description'])\n",
    "print(news_json['json_object']['category'])\n",
    "print(news_json['json_object']['url'])\n",
    "print(news_json['json_object']['provider'][0]['image']['thumbnail']['contentUrl'])\n",
    "print(news_json['json_object']['provider'][0]['name'])\n",
    "print(news_json['json_object']['datePublished'])\n",
    "\n",
    "      "
   ]
  },
  {
   "cell_type": "code",
   "execution_count": null,
   "metadata": {
    "application/vnd.databricks.v1+cell": {
     "cellMetadata": {
      "byteLimit": 2048000,
      "rowLimit": 10000
     },
     "inputWidgets": {},
     "nuid": "a7573d8a-ebae-44b2-9ea9-85e9ec1a313d",
     "showTitle": false,
     "title": ""
    }
   },
   "outputs": [],
   "source": [
    "description=[]\n",
    "title=[]\n",
    "category=[]\n",
    "image=[]\n",
    "url=[]\n",
    "provider=[]\n",
    "datePublished=[]\n",
    "\n",
    "for json_str in json_list:\n",
    "    try:\n",
    "        article = json.loads(json_str)\n",
    "        \n",
    "        if article['json_object'].get('category') and article['json_object']['provider'][0].get('image', {}).get('thumbnail', {}).get('contentUrl'):\n",
    "\n",
    "         title.append(article['json_object']['name'])\n",
    "         description.append(article['json_object']['description'])\n",
    "         category.append(article['json_object']['category'])\n",
    "         image.append(article['json_object']['provider'][0]['image']['thumbnail']['contentUrl'])\n",
    "         url.append(article['json_object']['url'])\n",
    "         provider.append(article['json_object']['provider'][0]['name'])\n",
    "         datePublished.append(article['json_object']['datePublished'])\n",
    "\n",
    "    except Exception as e:\n",
    "        print(f\"Error parsing {json_str}: {e}\")"
   ]
  },
  {
   "cell_type": "code",
   "execution_count": null,
   "metadata": {
    "application/vnd.databricks.v1+cell": {
     "cellMetadata": {
      "byteLimit": 2048000,
      "rowLimit": 10000
     },
     "inputWidgets": {},
     "nuid": "dbd60024-f655-461b-9b1a-2b1dec352ffd",
     "showTitle": false,
     "title": ""
    }
   },
   "outputs": [
    {
     "data": {
      "text/html": [
       "<style scoped>\n",
       "  .table-result-container {\n",
       "    max-height: 300px;\n",
       "    overflow: auto;\n",
       "  }\n",
       "  table, th, td {\n",
       "    border: 1px solid black;\n",
       "    border-collapse: collapse;\n",
       "  }\n",
       "  th, td {\n",
       "    padding: 5px;\n",
       "  }\n",
       "  th {\n",
       "    text-align: left;\n",
       "  }\n",
       "</style><div class='table-result-container'><table class='table-result'><thead style='background-color: white'><tr><th>title</th></tr></thead><tbody><tr><td>AFL 2024: Collingwood Magpies will search to replace football boss Graham Wright, Craig McRae comments, latest news</td></tr><tr><td>Everton transfer news LIVE - Neal Maupay future, Mason Holgate enquiry Junior Dina Ebimbe talks,</td></tr><tr><td>Arsenal transfer news LIVE Mikel Merino positive update, Nketiah agreement, Ramsdale update</td></tr><tr><td>Bruins Have New Star to Deal With In Atlantic</td></tr><tr><td>Young voters take a new look at Harris, but some are waiting instead of committing</td></tr><tr><td>Man Utd transfer news LIVE: Medical booked, Manuel Ugarte breakthrough, United complete loan deal</td></tr><tr><td>New ministry paying staff average salary of $150k despite public sector job cuts</td></tr><tr><td>Good news file fans - WeTransfer links will no longer expire</td></tr><tr><td>Homicide investigators called in after woman and girl die in North Vancouver balcony fall</td></tr><tr><td>Aston Villa transfer news live Joe Gomez twist, Alex Moreno medical, Samuel Iling-Junior latest</td></tr><tr><td>Travis Kelce in talks to front new action comedy from John Wick producers</td></tr><tr><td>There is a link between the meat you eat and a chronic disease, according to new research</td></tr><tr><td>New Mexico State University updates tailgating rules</td></tr><tr><td>New fencing goes up outside DNC a day after pro-Palestinian protesters breach outer barrier</td></tr><tr><td>Lewis Hamilton’s latest F1 prediction with Valtteri Bottas at centre of intense criticism – round-up</td></tr><tr><td>Google’s Top stories looks broken: Are news publishers to blame?</td></tr><tr><td>Trump’s post of fake Taylor Swift endorsement is his latest embrace of AI-generated images</td></tr><tr><td>Police raid Andrew Tate’s home in Romania as new allegations emerge involving minors</td></tr><tr><td>Raheem Sterling in new Chelsea low ahead of Europa Conference League clash with Servette as winger seeks ‘clarity’ over future</td></tr><tr><td>‘Borderlands 4’ Announced With A Surprising Release Window And A New Trailer</td></tr><tr><td>Trump vows to repeal new EPA power plant rule</td></tr><tr><td>Mario Lopez Shares That All 3 of His Kids Are 'Officially Back to School' in Adorable New Photos</td></tr><tr><td>RFK Jr. news: Kennedy running mate says campaign considering dropping out, endorsing Trump</td></tr><tr><td>Monster Hunter Wilds Gets Gamescom 2024 Trailer - News</td></tr></tbody></table></div>"
      ]
     },
     "metadata": {
      "application/vnd.databricks.v1+output": {
       "addedWidgets": {},
       "aggData": [],
       "aggError": "",
       "aggOverflow": false,
       "aggSchema": [],
       "aggSeriesLimitReached": false,
       "aggType": "",
       "arguments": {},
       "columnCustomDisplayInfos": {},
       "data": [
        [
         "AFL 2024: Collingwood Magpies will search to replace football boss Graham Wright, Craig McRae comments, latest news"
        ],
        [
         "Everton transfer news LIVE - Neal Maupay future, Mason Holgate enquiry Junior Dina Ebimbe talks,"
        ],
        [
         "Arsenal transfer news LIVE Mikel Merino positive update, Nketiah agreement, Ramsdale update"
        ],
        [
         "Bruins Have New Star to Deal With In Atlantic"
        ],
        [
         "Young voters take a new look at Harris, but some are waiting instead of committing"
        ],
        [
         "Man Utd transfer news LIVE: Medical booked, Manuel Ugarte breakthrough, United complete loan deal"
        ],
        [
         "New ministry paying staff average salary of $150k despite public sector job cuts"
        ],
        [
         "Good news file fans - WeTransfer links will no longer expire"
        ],
        [
         "Homicide investigators called in after woman and girl die in North Vancouver balcony fall"
        ],
        [
         "Aston Villa transfer news live Joe Gomez twist, Alex Moreno medical, Samuel Iling-Junior latest"
        ],
        [
         "Travis Kelce in talks to front new action comedy from John Wick producers"
        ],
        [
         "There is a link between the meat you eat and a chronic disease, according to new research"
        ],
        [
         "New Mexico State University updates tailgating rules"
        ],
        [
         "New fencing goes up outside DNC a day after pro-Palestinian protesters breach outer barrier"
        ],
        [
         "Lewis Hamilton’s latest F1 prediction with Valtteri Bottas at centre of intense criticism – round-up"
        ],
        [
         "Google’s Top stories looks broken: Are news publishers to blame?"
        ],
        [
         "Trump’s post of fake Taylor Swift endorsement is his latest embrace of AI-generated images"
        ],
        [
         "Police raid Andrew Tate’s home in Romania as new allegations emerge involving minors"
        ],
        [
         "Raheem Sterling in new Chelsea low ahead of Europa Conference League clash with Servette as winger seeks ‘clarity’ over future"
        ],
        [
         "‘Borderlands 4’ Announced With A Surprising Release Window And A New Trailer"
        ],
        [
         "Trump vows to repeal new EPA power plant rule"
        ],
        [
         "Mario Lopez Shares That All 3 of His Kids Are 'Officially Back to School' in Adorable New Photos"
        ],
        [
         "RFK Jr. news: Kennedy running mate says campaign considering dropping out, endorsing Trump"
        ],
        [
         "Monster Hunter Wilds Gets Gamescom 2024 Trailer - News"
        ]
       ],
       "datasetInfos": [],
       "dbfsResultPath": null,
       "isJsonSchema": true,
       "metadata": {},
       "overflow": false,
       "plotOptions": {
        "customPlotOptions": {},
        "displayType": "table",
        "pivotAggregation": null,
        "pivotColumns": null,
        "xColumns": null,
        "yColumns": null
       },
       "removedWidgets": [],
       "schema": [
        {
         "metadata": "{}",
         "name": "title",
         "type": "\"string\""
        }
       ],
       "type": "table"
      }
     },
     "output_type": "display_data"
    }
   ],
   "source": []
  },
  {
   "cell_type": "code",
   "execution_count": null,
   "metadata": {
    "application/vnd.databricks.v1+cell": {
     "cellMetadata": {
      "byteLimit": 2048000,
      "rowLimit": 10000
     },
     "inputWidgets": {},
     "nuid": "fe395fd4-43c7-4830-8676-0c4e5b51af24",
     "showTitle": false,
     "title": ""
    }
   },
   "outputs": [
    {
     "data": {
      "text/html": [
       "<style scoped>\n",
       "  .table-result-container {\n",
       "    max-height: 300px;\n",
       "    overflow: auto;\n",
       "  }\n",
       "  table, th, td {\n",
       "    border: 1px solid black;\n",
       "    border-collapse: collapse;\n",
       "  }\n",
       "  th, td {\n",
       "    padding: 5px;\n",
       "  }\n",
       "  th {\n",
       "    text-align: left;\n",
       "  }\n",
       "</style><div class='table-result-container'><table class='table-result'><thead style='background-color: white'><tr><th>title</th><th>description</th><th>category</th><th>image</th><th>url</th><th>provider</th><th>datePublished</th></tr></thead><tbody><tr><td>AFL 2024: Collingwood Magpies will search to replace football boss Graham Wright, Craig McRae comments, latest news</td><td>Collingwood coach Craig McRae says the Magpies will reflect on whether not immediately replacing Graham Wright was a costly decision in their failed premiership defence.</td><td>Sports</td><td>https://www.bing.com/th?id=ODF.9yJS4wi2nUtsfM87Lf-3FA&pid=news</td><td>https://www.msn.com/en-au/sport/other/coach-s-difficult-parting-from-incredible-mentor/ar-AA1p9yg9</td><td>NewsWire on MSN.com</td><td>2024-08-21T05:27:00.0000000Z</td></tr><tr><td>Everton transfer news LIVE - Neal Maupay future, Mason Holgate enquiry Junior Dina Ebimbe talks,</td><td>Latest Everton transfer and takeover news, including updates as Asmir Begovic is in talks to return to the Blues</td><td>Sports</td><td>https://www.bing.com/th?id=ODF.lMNuYaPYFKYNaBUKNyUFHg&pid=news</td><td>https://www.liverpoolecho.co.uk/sport/football/transfer-news/everton-takeover-transfer-news-live-29765334</td><td>Liverpool Echo</td><td>2024-08-21T11:14:00.0000000Z</td></tr><tr><td>Arsenal transfer news LIVE Mikel Merino positive update, Nketiah agreement, Ramsdale update</td><td>The latest Arsenal transfer news and rumours from football.london including updates on Eddie Nketiah, Mikel Merino, Ivan Toney, Aaron Ramsdale and Victor Osimhen</td><td>Sports</td><td>https://www.bing.com/th?id=ODF.Xm0enA-z_fuiMX5FvKt4cw&pid=news</td><td>https://www.football.london/arsenal-fc/transfer-news/arsenal-transfer-news-live-mikel-29779140</td><td>football</td><td>2024-08-21T05:21:00.0000000Z</td></tr><tr><td>Bruins Have New Star to Deal With In Atlantic</td><td>On Monday, the Columbus Blue Jackets traded Patrik Laine and a 2026 second-round pick to the Montreal Canadiens in exchange for defenseman Jordan Harris. With this move, one of the Bruins' biggest rivals, the Canadiens, have notably improved their forward group.</td><td>Sports</td><td>https://www.bing.com/th?id=ODF.yNx4KYuMgiOCU3nI9qTmtQ&pid=news</td><td>https://www.msn.com/en-us/sports/nhl/bruins-have-new-star-to-deal-with-in-atlantic/ar-AA1p88Tr</td><td>The Hockey News on MSN.com</td><td>2024-08-20T16:39:03.0000000Z</td></tr><tr><td>Young voters take a new look at Harris, but some are waiting instead of committing</td><td>Biden may have had an irreparable rift with young voters. Some who were turned off by him are more interested in Harris, though issues including Gaza remain sticking points.</td><td>Politics</td><td>https://www.bing.com/th?id=ODF.ighWNnrr5MMFUs8WKMme2A&pid=news</td><td>https://www.msn.com/en-us/news/other/young-voters-take-a-new-look-at-harris-but-some-are-waiting-instead-of-committing/ar-AA1p99hv</td><td>NBC News on MSN.com</td><td>2024-08-21T01:08:00.0000000Z</td></tr><tr><td>Man Utd transfer news LIVE: Medical booked, Manuel Ugarte breakthrough, United complete loan deal</td><td>Manchester United still have plenty of transfer business to complete in the final week of the window and could yet sign Manuel Ugarte while Scott McTominay, Christian Eriksen and Casemiro could depart</td><td>Sports</td><td>https://www.bing.com/th?id=ODF.CWDfHbZtL9U2bsuN-kn_-w&pid=news</td><td>https://www.mirror.co.uk/sport/football/transfer-news/man-utd-transfer-news-live-33491446</td><td>The Mirror</td><td>2024-08-21T14:03:00.0000000Z</td></tr><tr><td>New ministry paying staff average salary of $150k despite public sector job cuts</td><td>The anti-red tape department is overseen by the ACT leader, who secured its creation during coalition negotiations last year.</td><td>Business</td><td>https://www.bing.com/th?id=ODF.KbRIMdbKqxc2CRUKwuqxSg&pid=news</td><td>https://www.msn.com/en-nz/news/other/new-ministry-paying-staff-average-salary-of-150k-despite-public-sector-job-cuts/ar-AA1p8XpE</td><td>rnz on MSN.com</td><td>2024-08-21T00:44:19.0000000Z</td></tr><tr><td>Good news file fans - WeTransfer links will no longer expire</td><td>Cloud-based file transfer platform WeTransfer has unveiled a new ‘Save for Later’ feature on its mobile app in a bid to address one of the platform’s biggest user frustrations – expired download links.</td><td>ScienceAndTechnology</td><td>https://www.bing.com/th?id=ODF.HUwxplx_rx0g5pzCy5_Wwg&pid=news</td><td>https://www.msn.com/en-us/news/technology/good-news-file-fans-wetransfer-links-will-no-longer-expire/ar-AA1pbk5K</td><td>TechRadar on MSN.com</td><td>2024-08-21T11:33:48.0000000Z</td></tr><tr><td>Homicide investigators called in after woman and girl die in North Vancouver balcony fall</td><td>Police in North Vancouver, B.C., say homicide investigators have been called in after a woman and girl died from falling off an apartment balcony. RCMP initially said officers responded to reports that two \"females\" had fallen from the building on East Esplanade in the city's Shipyards area at 4:30 a.m. Tuesday.</td><td>Canada</td><td>https://www.bing.com/th?id=ODF.4NbuPrmIxu0JD126LE1gxQ&pid=news</td><td>https://www.cbc.ca/news/canada/british-columbia/woman-and-girl-die-in-balcony-fall-1.7300061</td><td>CBC.ca</td><td>2024-08-20T20:07:00.0000000Z</td></tr><tr><td>Aston Villa transfer news live Joe Gomez twist, Alex Moreno medical, Samuel Iling-Junior latest</td><td>Aston Villa have confirmed Lamare Bogarde has signed a new contract with the club. The 20-year-old is highly-rated by Unai Emery, who used him in each of the club's even pre-season friendlies. Bogarde impressed in defence and in a holding midfield role earlier this summer.</td><td>Sports</td><td>https://www.bing.com/th?id=ODF.jPou0vlDKt0Px6h21V_3rw&pid=news</td><td>https://www.birminghammail.co.uk/sport/football/transfer-news/villa-transfers-live-iling-junior-29773450</td><td>Birmingham Mail</td><td>2024-08-21T06:15:00.0000000Z</td></tr><tr><td>Travis Kelce in talks to front new action comedy from John Wick producers</td><td>Travis Kelce is reportedly set to star in new comedy Loose Cannons. The NFL star - who is dating Anti-Hero hitmaker Taylor Swift - is making the jump to Hollywood and may have landed his first big screen acting role.</td><td>Entertainment</td><td>https://www.bing.com/th?id=ODF.oxaa8-w2MDoXi5yOUu7A3w&pid=news</td><td>https://www.msn.com/en-gb/news/newsmanchester/travis-kelce-in-talks-to-front-new-action-comedy-from-john-wick-producers/ar-AA1paehQ</td><td>Manchester Evening News on MSN.com</td><td>2024-08-21T08:47:35.0000000Z</td></tr><tr><td>There is a link between the meat you eat and a chronic disease, according to new research</td><td>Many people are trying to cut back on red and processed meat for heart health or environmental reasons. A new global study shows another good reason.</td><td>LifeStyle</td><td>https://www.bing.com/th?id=ODF.t0BGYosS4GKZSebCajKQGA&pid=news</td><td>https://www.msn.com/en-us/health/other/global-study-shows-the-link-between-red-and-processed-meats-and-type-2-diabetes/ar-AA1p8FPI</td><td>CNN on MSN.com</td><td>2024-08-20T23:34:12.0000000Z</td></tr><tr><td>New Mexico State University updates tailgating rules</td><td>Changes are coming to New Mexico State University’s tailgating rules this football season. Parking lots will shut down two hours after the game or at midnight, whichever comes sooner. For the non-student lots,</td><td>LifeStyle</td><td>https://www.bing.com/th?id=ODF.ZWWEWocRXnzJRhsSxEV2vQ&pid=news</td><td>https://www.msn.com/en-us/news/technology/new-mexico-state-university-updates-tailgating-rules/ar-AA1p8YwW</td><td>KRQE Albuquerque on MSN.com</td><td>2024-08-20T22:18:33.0000000Z</td></tr><tr><td>New fencing goes up outside DNC a day after pro-Palestinian protesters breach outer barrier</td><td>Chicago crews installed an additional line of security fences outside the Democratic National Convention early Tuesday in the area where, a day earlier, demonstrators breached an outer perimeter fence.</td><td>World</td><td>https://www.bing.com/th?id=ODF.t0BGYosS4GKZSebCajKQGA&pid=news</td><td>https://www.msn.com/en-us/news/us/new-fencing-goes-up-outside-dnc-a-day-after-pro-palestinian-protesters-breach-outer-barrier/ar-AA1p7z1G</td><td>CNN on MSN.com</td><td>2024-08-21T02:51:38.0000000Z</td></tr><tr><td>Lewis Hamilton’s latest F1 prediction with Valtteri Bottas at centre of intense criticism – round-up</td><td>Your F1 news round-up is here, with Lewis Hamilton having made a prediction for the rest of the 2024 season that should get our excitement up. As ever, there is a lot to get through, so let’s not waste any more time,</td><td>Sports</td><td>https://www.bing.com/th?id=ODF.AH4i8E8I1buqt0fbc5gOAw&pid=news</td><td>https://www.msn.com/en-us/sports/other/lewis-hamilton-s-latest-f1-prediction-with-valtteri-bottas-at-centre-of-intense-criticism-round-up/ar-AA1p8EDh</td><td>PlanetF1.com on MSN.com</td><td>2024-08-20T22:00:00.0000000Z</td></tr><tr><td>Google’s Top stories looks broken: Are news publishers to blame?</td><td>International publishers are overtaking local news brands in Google's Top stories, raising questions about search relevance.</td><td>ScienceAndTechnology</td><td>https://www.bing.com/th?id=ODF.4QeTEYHGoXPpi_CNzqJApQ&pid=news</td><td>https://www.msn.com/en-us/news/technology/google-s-top-stories-looks-broken-are-news-publishers-to-blame/ar-AA1p7F2f</td><td>Search Engine Land on MSN.com</td><td>2024-08-20T15:06:08.0000000Z</td></tr><tr><td>Trump’s post of fake Taylor Swift endorsement is his latest embrace of AI-generated images</td><td>Former President Donald Trump has been active on his social accounts as Democrats gather for their convention in Chicago, but many of his posts don’t have much to do with reality.</td><td>Politics</td><td>https://www.bing.com/th?id=ODF.AlMAEy7MoWNz0OI_xSWQiw&pid=news</td><td>https://www.msn.com/en-us/news/politics/trump-s-post-of-fake-taylor-swift-endorsement-is-his-latest-embrace-of-ai-generated-images/ar-AA1p8ugH</td><td>The Associated Press on MSN.com</td><td>2024-08-20T19:50:00.0000000Z</td></tr><tr><td>Police raid Andrew Tate’s home in Romania as new allegations emerge involving minors</td><td>Dozens of police officers and forensic personnel were scouring Tate’s large property on the edge of the capital Bucharest.</td><td>World</td><td>https://www.bing.com/th?id=ODF.AlMAEy7MoWNz0OI_xSWQiw&pid=news</td><td>https://www.msn.com/en-us/news/crime/police-raid-andrew-tates-home-in-romania-as-new-allegations-emerge-involving-minors/ar-AA1pabHH</td><td>The Associated Press - Business News on MSN.com</td><td>2024-08-21T08:01:00.0000000Z</td></tr><tr><td>Raheem Sterling in new Chelsea low ahead of Europa Conference League clash with Servette as winger seeks ‘clarity’ over future</td><td>Raheem Sterling’s Chelsea future has been called into question yet again after being left out of their squad to face Servette. It is is the second game in a row that Sterling has been axed</td><td>Sports</td><td>https://www.bing.com/th?id=ODF.1J7u2N62JGb2VrnCRlJIrw&pid=news</td><td>https://talksport.com/football/2016586/chelsea-raheem-sterling-axed-squad-servette/</td><td>Talksport</td><td>2024-08-21T08:51:00.0000000Z</td></tr><tr><td>‘Borderlands 4’ Announced With A Surprising Release Window And A New Trailer</td><td>There’s not an exact release date yet, but Borderlands 4 is slated for a 2025 release so we won’t have to wait long. It’s been five years since Borderlands 3 came out, and that game didn’t inspire the kind of hype and widespread praise that Borderlands 2 received at launch.</td><td>ScienceAndTechnology</td><td>https://www.bing.com/th?id=ODF.U6nYa4Huf-RFEhjg-V4hNg&pid=news</td><td>https://www.forbes.com/sites/erikkain/2024/08/20/borderlands-4-announced-with-a-surprising-release-window-and-a-new-trailer/</td><td>Forbes</td><td>2024-08-20T22:58:00.0000000Z</td></tr><tr><td>Trump vows to repeal new EPA power plant rule</td><td>Former President Trump said that if elected, he will reverse the Biden-Harris administration's EPA rule that requires coal and natural gas power plants to cut emissions by 90%.</td><td>LifeStyle</td><td>https://www.bing.com/th?id=ODF.GimbRbdxNxZt1GEL5O0AJg&pid=news</td><td>https://www.msn.com/en-us/news/politics/trump-vows-to-repeal-new-epa-power-plant-rule/ar-AA1p8IoF</td><td>FOX News on MSN.com</td><td>2024-08-20T22:36:30.0000000Z</td></tr><tr><td>Mario Lopez Shares That All 3 of His Kids Are 'Officially Back to School' in Adorable New Photos</td><td>Mario Lopez's kids are heading back to the classroom. On Tuesday, Aug. 20, the proud dad, 50, posted a Reel on his Instagram as he shared that his three kids — daughter Gia, 13, and sons Dominic, 10, and Santino, 5, whom he shares with wife Courtney — were celebrating their first day of school.</td><td>Entertainment</td><td>https://www.bing.com/th?id=ODF.kridaNmIIz5AdgcUGG5eBQ&pid=news</td><td>https://www.msn.com/en-us/lifestyle/lifestyle-buzz/mario-lopez-shares-that-all-3-of-his-kids-are-officially-back-to-school-in-adorable-new-photos/ar-AA1p8Eos</td><td>People on MSN.com</td><td>2024-08-20T21:07:52.0000000Z</td></tr><tr><td>RFK Jr. news: Kennedy running mate says campaign considering dropping out, endorsing Trump</td><td>Robert F. Kennedy Jr.'s running mate Nicole Shanahan said the Kennedy campaign is considering dropping out of the race and endorsing former President Donald Trump.</td><td>Politics</td><td>https://www.bing.com/th?id=ODF.t0BGYosS4GKZSebCajKQGA&pid=news</td><td>https://www.msn.com/en-us/news/politics/rfk-jr-running-mate-shanahan-says-they-re-considering-endorsing-trump/ar-AA1p8ncv</td><td>CNN on MSN.com</td><td>2024-08-20T22:06:00.0000000Z</td></tr><tr><td>Monster Hunter Wilds Gets Gamescom 2024 Trailer - News</td><td>Capcom during Gamescom Opening Night Live released a new trailer for Monster Hunter Wilds.View the trailer below:Read details [...]</td><td>ScienceAndTechnology</td><td>https://www.bing.com/th?id=ODF.kKXt-MKV3fmSaC3dmthHzw&pid=news</td><td>https://www.vgchartz.com/article/462147/monster-hunter-wilds-gets-gamescom-2024-trailer/</td><td>VG Chartz</td><td>2024-08-20T20:01:00.0000000Z</td></tr></tbody></table></div>"
      ]
     },
     "metadata": {
      "application/vnd.databricks.v1+output": {
       "addedWidgets": {},
       "aggData": [],
       "aggError": "",
       "aggOverflow": false,
       "aggSchema": [],
       "aggSeriesLimitReached": false,
       "aggType": "",
       "arguments": {},
       "columnCustomDisplayInfos": {},
       "data": [
        [
         "AFL 2024: Collingwood Magpies will search to replace football boss Graham Wright, Craig McRae comments, latest news",
         "Collingwood coach Craig McRae says the Magpies will reflect on whether not immediately replacing Graham Wright was a costly decision in their failed premiership defence.",
         "Sports",
         "https://www.bing.com/th?id=ODF.9yJS4wi2nUtsfM87Lf-3FA&pid=news",
         "https://www.msn.com/en-au/sport/other/coach-s-difficult-parting-from-incredible-mentor/ar-AA1p9yg9",
         "NewsWire on MSN.com",
         "2024-08-21T05:27:00.0000000Z"
        ],
        [
         "Everton transfer news LIVE - Neal Maupay future, Mason Holgate enquiry Junior Dina Ebimbe talks,",
         "Latest Everton transfer and takeover news, including updates as Asmir Begovic is in talks to return to the Blues",
         "Sports",
         "https://www.bing.com/th?id=ODF.lMNuYaPYFKYNaBUKNyUFHg&pid=news",
         "https://www.liverpoolecho.co.uk/sport/football/transfer-news/everton-takeover-transfer-news-live-29765334",
         "Liverpool Echo",
         "2024-08-21T11:14:00.0000000Z"
        ],
        [
         "Arsenal transfer news LIVE Mikel Merino positive update, Nketiah agreement, Ramsdale update",
         "The latest Arsenal transfer news and rumours from football.london including updates on Eddie Nketiah, Mikel Merino, Ivan Toney, Aaron Ramsdale and Victor Osimhen",
         "Sports",
         "https://www.bing.com/th?id=ODF.Xm0enA-z_fuiMX5FvKt4cw&pid=news",
         "https://www.football.london/arsenal-fc/transfer-news/arsenal-transfer-news-live-mikel-29779140",
         "football",
         "2024-08-21T05:21:00.0000000Z"
        ],
        [
         "Bruins Have New Star to Deal With In Atlantic",
         "On Monday, the Columbus Blue Jackets traded Patrik Laine and a 2026 second-round pick to the Montreal Canadiens in exchange for defenseman Jordan Harris. With this move, one of the Bruins' biggest rivals, the Canadiens, have notably improved their forward group.",
         "Sports",
         "https://www.bing.com/th?id=ODF.yNx4KYuMgiOCU3nI9qTmtQ&pid=news",
         "https://www.msn.com/en-us/sports/nhl/bruins-have-new-star-to-deal-with-in-atlantic/ar-AA1p88Tr",
         "The Hockey News on MSN.com",
         "2024-08-20T16:39:03.0000000Z"
        ],
        [
         "Young voters take a new look at Harris, but some are waiting instead of committing",
         "Biden may have had an irreparable rift with young voters. Some who were turned off by him are more interested in Harris, though issues including Gaza remain sticking points.",
         "Politics",
         "https://www.bing.com/th?id=ODF.ighWNnrr5MMFUs8WKMme2A&pid=news",
         "https://www.msn.com/en-us/news/other/young-voters-take-a-new-look-at-harris-but-some-are-waiting-instead-of-committing/ar-AA1p99hv",
         "NBC News on MSN.com",
         "2024-08-21T01:08:00.0000000Z"
        ],
        [
         "Man Utd transfer news LIVE: Medical booked, Manuel Ugarte breakthrough, United complete loan deal",
         "Manchester United still have plenty of transfer business to complete in the final week of the window and could yet sign Manuel Ugarte while Scott McTominay, Christian Eriksen and Casemiro could depart",
         "Sports",
         "https://www.bing.com/th?id=ODF.CWDfHbZtL9U2bsuN-kn_-w&pid=news",
         "https://www.mirror.co.uk/sport/football/transfer-news/man-utd-transfer-news-live-33491446",
         "The Mirror",
         "2024-08-21T14:03:00.0000000Z"
        ],
        [
         "New ministry paying staff average salary of $150k despite public sector job cuts",
         "The anti-red tape department is overseen by the ACT leader, who secured its creation during coalition negotiations last year.",
         "Business",
         "https://www.bing.com/th?id=ODF.KbRIMdbKqxc2CRUKwuqxSg&pid=news",
         "https://www.msn.com/en-nz/news/other/new-ministry-paying-staff-average-salary-of-150k-despite-public-sector-job-cuts/ar-AA1p8XpE",
         "rnz on MSN.com",
         "2024-08-21T00:44:19.0000000Z"
        ],
        [
         "Good news file fans - WeTransfer links will no longer expire",
         "Cloud-based file transfer platform WeTransfer has unveiled a new ‘Save for Later’ feature on its mobile app in a bid to address one of the platform’s biggest user frustrations – expired download links.",
         "ScienceAndTechnology",
         "https://www.bing.com/th?id=ODF.HUwxplx_rx0g5pzCy5_Wwg&pid=news",
         "https://www.msn.com/en-us/news/technology/good-news-file-fans-wetransfer-links-will-no-longer-expire/ar-AA1pbk5K",
         "TechRadar on MSN.com",
         "2024-08-21T11:33:48.0000000Z"
        ],
        [
         "Homicide investigators called in after woman and girl die in North Vancouver balcony fall",
         "Police in North Vancouver, B.C., say homicide investigators have been called in after a woman and girl died from falling off an apartment balcony. RCMP initially said officers responded to reports that two \"females\" had fallen from the building on East Esplanade in the city's Shipyards area at 4:30 a.m. Tuesday.",
         "Canada",
         "https://www.bing.com/th?id=ODF.4NbuPrmIxu0JD126LE1gxQ&pid=news",
         "https://www.cbc.ca/news/canada/british-columbia/woman-and-girl-die-in-balcony-fall-1.7300061",
         "CBC.ca",
         "2024-08-20T20:07:00.0000000Z"
        ],
        [
         "Aston Villa transfer news live Joe Gomez twist, Alex Moreno medical, Samuel Iling-Junior latest",
         "Aston Villa have confirmed Lamare Bogarde has signed a new contract with the club. The 20-year-old is highly-rated by Unai Emery, who used him in each of the club's even pre-season friendlies. Bogarde impressed in defence and in a holding midfield role earlier this summer.",
         "Sports",
         "https://www.bing.com/th?id=ODF.jPou0vlDKt0Px6h21V_3rw&pid=news",
         "https://www.birminghammail.co.uk/sport/football/transfer-news/villa-transfers-live-iling-junior-29773450",
         "Birmingham Mail",
         "2024-08-21T06:15:00.0000000Z"
        ],
        [
         "Travis Kelce in talks to front new action comedy from John Wick producers",
         "Travis Kelce is reportedly set to star in new comedy Loose Cannons. The NFL star - who is dating Anti-Hero hitmaker Taylor Swift - is making the jump to Hollywood and may have landed his first big screen acting role.",
         "Entertainment",
         "https://www.bing.com/th?id=ODF.oxaa8-w2MDoXi5yOUu7A3w&pid=news",
         "https://www.msn.com/en-gb/news/newsmanchester/travis-kelce-in-talks-to-front-new-action-comedy-from-john-wick-producers/ar-AA1paehQ",
         "Manchester Evening News on MSN.com",
         "2024-08-21T08:47:35.0000000Z"
        ],
        [
         "There is a link between the meat you eat and a chronic disease, according to new research",
         "Many people are trying to cut back on red and processed meat for heart health or environmental reasons. A new global study shows another good reason.",
         "LifeStyle",
         "https://www.bing.com/th?id=ODF.t0BGYosS4GKZSebCajKQGA&pid=news",
         "https://www.msn.com/en-us/health/other/global-study-shows-the-link-between-red-and-processed-meats-and-type-2-diabetes/ar-AA1p8FPI",
         "CNN on MSN.com",
         "2024-08-20T23:34:12.0000000Z"
        ],
        [
         "New Mexico State University updates tailgating rules",
         "Changes are coming to New Mexico State University’s tailgating rules this football season. Parking lots will shut down two hours after the game or at midnight, whichever comes sooner. For the non-student lots,",
         "LifeStyle",
         "https://www.bing.com/th?id=ODF.ZWWEWocRXnzJRhsSxEV2vQ&pid=news",
         "https://www.msn.com/en-us/news/technology/new-mexico-state-university-updates-tailgating-rules/ar-AA1p8YwW",
         "KRQE Albuquerque on MSN.com",
         "2024-08-20T22:18:33.0000000Z"
        ],
        [
         "New fencing goes up outside DNC a day after pro-Palestinian protesters breach outer barrier",
         "Chicago crews installed an additional line of security fences outside the Democratic National Convention early Tuesday in the area where, a day earlier, demonstrators breached an outer perimeter fence.",
         "World",
         "https://www.bing.com/th?id=ODF.t0BGYosS4GKZSebCajKQGA&pid=news",
         "https://www.msn.com/en-us/news/us/new-fencing-goes-up-outside-dnc-a-day-after-pro-palestinian-protesters-breach-outer-barrier/ar-AA1p7z1G",
         "CNN on MSN.com",
         "2024-08-21T02:51:38.0000000Z"
        ],
        [
         "Lewis Hamilton’s latest F1 prediction with Valtteri Bottas at centre of intense criticism – round-up",
         "Your F1 news round-up is here, with Lewis Hamilton having made a prediction for the rest of the 2024 season that should get our excitement up. As ever, there is a lot to get through, so let’s not waste any more time,",
         "Sports",
         "https://www.bing.com/th?id=ODF.AH4i8E8I1buqt0fbc5gOAw&pid=news",
         "https://www.msn.com/en-us/sports/other/lewis-hamilton-s-latest-f1-prediction-with-valtteri-bottas-at-centre-of-intense-criticism-round-up/ar-AA1p8EDh",
         "PlanetF1.com on MSN.com",
         "2024-08-20T22:00:00.0000000Z"
        ],
        [
         "Google’s Top stories looks broken: Are news publishers to blame?",
         "International publishers are overtaking local news brands in Google's Top stories, raising questions about search relevance.",
         "ScienceAndTechnology",
         "https://www.bing.com/th?id=ODF.4QeTEYHGoXPpi_CNzqJApQ&pid=news",
         "https://www.msn.com/en-us/news/technology/google-s-top-stories-looks-broken-are-news-publishers-to-blame/ar-AA1p7F2f",
         "Search Engine Land on MSN.com",
         "2024-08-20T15:06:08.0000000Z"
        ],
        [
         "Trump’s post of fake Taylor Swift endorsement is his latest embrace of AI-generated images",
         "Former President Donald Trump has been active on his social accounts as Democrats gather for their convention in Chicago, but many of his posts don’t have much to do with reality.",
         "Politics",
         "https://www.bing.com/th?id=ODF.AlMAEy7MoWNz0OI_xSWQiw&pid=news",
         "https://www.msn.com/en-us/news/politics/trump-s-post-of-fake-taylor-swift-endorsement-is-his-latest-embrace-of-ai-generated-images/ar-AA1p8ugH",
         "The Associated Press on MSN.com",
         "2024-08-20T19:50:00.0000000Z"
        ],
        [
         "Police raid Andrew Tate’s home in Romania as new allegations emerge involving minors",
         "Dozens of police officers and forensic personnel were scouring Tate’s large property on the edge of the capital Bucharest.",
         "World",
         "https://www.bing.com/th?id=ODF.AlMAEy7MoWNz0OI_xSWQiw&pid=news",
         "https://www.msn.com/en-us/news/crime/police-raid-andrew-tates-home-in-romania-as-new-allegations-emerge-involving-minors/ar-AA1pabHH",
         "The Associated Press - Business News on MSN.com",
         "2024-08-21T08:01:00.0000000Z"
        ],
        [
         "Raheem Sterling in new Chelsea low ahead of Europa Conference League clash with Servette as winger seeks ‘clarity’ over future",
         "Raheem Sterling’s Chelsea future has been called into question yet again after being left out of their squad to face Servette. It is is the second game in a row that Sterling has been axed",
         "Sports",
         "https://www.bing.com/th?id=ODF.1J7u2N62JGb2VrnCRlJIrw&pid=news",
         "https://talksport.com/football/2016586/chelsea-raheem-sterling-axed-squad-servette/",
         "Talksport",
         "2024-08-21T08:51:00.0000000Z"
        ],
        [
         "‘Borderlands 4’ Announced With A Surprising Release Window And A New Trailer",
         "There’s not an exact release date yet, but Borderlands 4 is slated for a 2025 release so we won’t have to wait long. It’s been five years since Borderlands 3 came out, and that game didn’t inspire the kind of hype and widespread praise that Borderlands 2 received at launch.",
         "ScienceAndTechnology",
         "https://www.bing.com/th?id=ODF.U6nYa4Huf-RFEhjg-V4hNg&pid=news",
         "https://www.forbes.com/sites/erikkain/2024/08/20/borderlands-4-announced-with-a-surprising-release-window-and-a-new-trailer/",
         "Forbes",
         "2024-08-20T22:58:00.0000000Z"
        ],
        [
         "Trump vows to repeal new EPA power plant rule",
         "Former President Trump said that if elected, he will reverse the Biden-Harris administration's EPA rule that requires coal and natural gas power plants to cut emissions by 90%.",
         "LifeStyle",
         "https://www.bing.com/th?id=ODF.GimbRbdxNxZt1GEL5O0AJg&pid=news",
         "https://www.msn.com/en-us/news/politics/trump-vows-to-repeal-new-epa-power-plant-rule/ar-AA1p8IoF",
         "FOX News on MSN.com",
         "2024-08-20T22:36:30.0000000Z"
        ],
        [
         "Mario Lopez Shares That All 3 of His Kids Are 'Officially Back to School' in Adorable New Photos",
         "Mario Lopez's kids are heading back to the classroom. On Tuesday, Aug. 20, the proud dad, 50, posted a Reel on his Instagram as he shared that his three kids — daughter Gia, 13, and sons Dominic, 10, and Santino, 5, whom he shares with wife Courtney — were celebrating their first day of school.",
         "Entertainment",
         "https://www.bing.com/th?id=ODF.kridaNmIIz5AdgcUGG5eBQ&pid=news",
         "https://www.msn.com/en-us/lifestyle/lifestyle-buzz/mario-lopez-shares-that-all-3-of-his-kids-are-officially-back-to-school-in-adorable-new-photos/ar-AA1p8Eos",
         "People on MSN.com",
         "2024-08-20T21:07:52.0000000Z"
        ],
        [
         "RFK Jr. news: Kennedy running mate says campaign considering dropping out, endorsing Trump",
         "Robert F. Kennedy Jr.'s running mate Nicole Shanahan said the Kennedy campaign is considering dropping out of the race and endorsing former President Donald Trump.",
         "Politics",
         "https://www.bing.com/th?id=ODF.t0BGYosS4GKZSebCajKQGA&pid=news",
         "https://www.msn.com/en-us/news/politics/rfk-jr-running-mate-shanahan-says-they-re-considering-endorsing-trump/ar-AA1p8ncv",
         "CNN on MSN.com",
         "2024-08-20T22:06:00.0000000Z"
        ],
        [
         "Monster Hunter Wilds Gets Gamescom 2024 Trailer - News",
         "Capcom during Gamescom Opening Night Live released a new trailer for Monster Hunter Wilds.View the trailer below:Read details [...]",
         "ScienceAndTechnology",
         "https://www.bing.com/th?id=ODF.kKXt-MKV3fmSaC3dmthHzw&pid=news",
         "https://www.vgchartz.com/article/462147/monster-hunter-wilds-gets-gamescom-2024-trailer/",
         "VG Chartz",
         "2024-08-20T20:01:00.0000000Z"
        ]
       ],
       "datasetInfos": [],
       "dbfsResultPath": null,
       "isJsonSchema": true,
       "metadata": {},
       "overflow": false,
       "plotOptions": {
        "customPlotOptions": {},
        "displayType": "table",
        "pivotAggregation": null,
        "pivotColumns": null,
        "xColumns": null,
        "yColumns": null
       },
       "removedWidgets": [],
       "schema": [
        {
         "metadata": "{}",
         "name": "title",
         "type": "\"string\""
        },
        {
         "metadata": "{}",
         "name": "description",
         "type": "\"string\""
        },
        {
         "metadata": "{}",
         "name": "category",
         "type": "\"string\""
        },
        {
         "metadata": "{}",
         "name": "image",
         "type": "\"string\""
        },
        {
         "metadata": "{}",
         "name": "url",
         "type": "\"string\""
        },
        {
         "metadata": "{}",
         "name": "provider",
         "type": "\"string\""
        },
        {
         "metadata": "{}",
         "name": "datePublished",
         "type": "\"string\""
        }
       ],
       "type": "table"
      }
     },
     "output_type": "display_data"
    }
   ],
   "source": [
    "from pyspark.sql.types import StructField, StructField, StringType\n",
    "\n",
    "#Combine the lists\n",
    "data = list(zip(title, description, category, image, url, provider, datePublished))\n",
    "\n",
    "#Define the schema\n",
    "schema = StructType(\n",
    "    [\n",
    "        StructField(\"title\", StringType(), True),\n",
    "        StructField(\"description\", StringType(), True),\n",
    "        StructField(\"category\", StringType(), True),\n",
    "        StructField(\"image\", StringType(), True),\n",
    "        StructField(\"url\", StringType(), True),\n",
    "        StructField(\"provider\", StringType(), True),\n",
    "        StructField(\"datePublished\", StringType(), True)\n",
    "    ]\n",
    ")\n",
    "#Create Dataframe\n",
    "df_cleaned = spark.createDataFrame(data, schema)\n",
    "display(df_cleaned)"
   ]
  },
  {
   "cell_type": "code",
   "execution_count": null,
   "metadata": {
    "application/vnd.databricks.v1+cell": {
     "cellMetadata": {
      "byteLimit": 2048000,
      "rowLimit": 10000
     },
     "inputWidgets": {},
     "nuid": "3942f164-1005-429d-85c3-6517ae9e7868",
     "showTitle": false,
     "title": ""
    }
   },
   "outputs": [
    {
     "data": {
      "text/html": [
       "<style scoped>\n",
       "  .table-result-container {\n",
       "    max-height: 300px;\n",
       "    overflow: auto;\n",
       "  }\n",
       "  table, th, td {\n",
       "    border: 1px solid black;\n",
       "    border-collapse: collapse;\n",
       "  }\n",
       "  th, td {\n",
       "    padding: 5px;\n",
       "  }\n",
       "  th {\n",
       "    text-align: left;\n",
       "  }\n",
       "</style><div class='table-result-container'><table class='table-result'><thead style='background-color: white'><tr><th>title</th><th>description</th><th>category</th><th>image</th><th>url</th><th>provider</th><th>datePublished</th></tr></thead><tbody><tr><td>AFL 2024: Collingwood Magpies will search to replace football boss Graham Wright, Craig McRae comments, latest news</td><td>Collingwood coach Craig McRae says the Magpies will reflect on whether not immediately replacing Graham Wright was a costly decision in their failed premiership defence.</td><td>Sports</td><td>https://www.bing.com/th?id=ODF.9yJS4wi2nUtsfM87Lf-3FA&pid=news</td><td>https://www.msn.com/en-au/sport/other/coach-s-difficult-parting-from-incredible-mentor/ar-AA1p9yg9</td><td>NewsWire on MSN.com</td><td>21-08-2024</td></tr><tr><td>Everton transfer news LIVE - Neal Maupay future, Mason Holgate enquiry Junior Dina Ebimbe talks,</td><td>Latest Everton transfer and takeover news, including updates as Asmir Begovic is in talks to return to the Blues</td><td>Sports</td><td>https://www.bing.com/th?id=ODF.lMNuYaPYFKYNaBUKNyUFHg&pid=news</td><td>https://www.liverpoolecho.co.uk/sport/football/transfer-news/everton-takeover-transfer-news-live-29765334</td><td>Liverpool Echo</td><td>21-08-2024</td></tr><tr><td>Arsenal transfer news LIVE Mikel Merino positive update, Nketiah agreement, Ramsdale update</td><td>The latest Arsenal transfer news and rumours from football.london including updates on Eddie Nketiah, Mikel Merino, Ivan Toney, Aaron Ramsdale and Victor Osimhen</td><td>Sports</td><td>https://www.bing.com/th?id=ODF.Xm0enA-z_fuiMX5FvKt4cw&pid=news</td><td>https://www.football.london/arsenal-fc/transfer-news/arsenal-transfer-news-live-mikel-29779140</td><td>football</td><td>21-08-2024</td></tr><tr><td>Bruins Have New Star to Deal With In Atlantic</td><td>On Monday, the Columbus Blue Jackets traded Patrik Laine and a 2026 second-round pick to the Montreal Canadiens in exchange for defenseman Jordan Harris. With this move, one of the Bruins' biggest rivals, the Canadiens, have notably improved their forward group.</td><td>Sports</td><td>https://www.bing.com/th?id=ODF.yNx4KYuMgiOCU3nI9qTmtQ&pid=news</td><td>https://www.msn.com/en-us/sports/nhl/bruins-have-new-star-to-deal-with-in-atlantic/ar-AA1p88Tr</td><td>The Hockey News on MSN.com</td><td>20-08-2024</td></tr><tr><td>Young voters take a new look at Harris, but some are waiting instead of committing</td><td>Biden may have had an irreparable rift with young voters. Some who were turned off by him are more interested in Harris, though issues including Gaza remain sticking points.</td><td>Politics</td><td>https://www.bing.com/th?id=ODF.ighWNnrr5MMFUs8WKMme2A&pid=news</td><td>https://www.msn.com/en-us/news/other/young-voters-take-a-new-look-at-harris-but-some-are-waiting-instead-of-committing/ar-AA1p99hv</td><td>NBC News on MSN.com</td><td>21-08-2024</td></tr><tr><td>Man Utd transfer news LIVE: Medical booked, Manuel Ugarte breakthrough, United complete loan deal</td><td>Manchester United still have plenty of transfer business to complete in the final week of the window and could yet sign Manuel Ugarte while Scott McTominay, Christian Eriksen and Casemiro could depart</td><td>Sports</td><td>https://www.bing.com/th?id=ODF.CWDfHbZtL9U2bsuN-kn_-w&pid=news</td><td>https://www.mirror.co.uk/sport/football/transfer-news/man-utd-transfer-news-live-33491446</td><td>The Mirror</td><td>21-08-2024</td></tr><tr><td>New ministry paying staff average salary of $150k despite public sector job cuts</td><td>The anti-red tape department is overseen by the ACT leader, who secured its creation during coalition negotiations last year.</td><td>Business</td><td>https://www.bing.com/th?id=ODF.KbRIMdbKqxc2CRUKwuqxSg&pid=news</td><td>https://www.msn.com/en-nz/news/other/new-ministry-paying-staff-average-salary-of-150k-despite-public-sector-job-cuts/ar-AA1p8XpE</td><td>rnz on MSN.com</td><td>21-08-2024</td></tr><tr><td>Good news file fans - WeTransfer links will no longer expire</td><td>Cloud-based file transfer platform WeTransfer has unveiled a new ‘Save for Later’ feature on its mobile app in a bid to address one of the platform’s biggest user frustrations – expired download links.</td><td>ScienceAndTechnology</td><td>https://www.bing.com/th?id=ODF.HUwxplx_rx0g5pzCy5_Wwg&pid=news</td><td>https://www.msn.com/en-us/news/technology/good-news-file-fans-wetransfer-links-will-no-longer-expire/ar-AA1pbk5K</td><td>TechRadar on MSN.com</td><td>21-08-2024</td></tr><tr><td>Homicide investigators called in after woman and girl die in North Vancouver balcony fall</td><td>Police in North Vancouver, B.C., say homicide investigators have been called in after a woman and girl died from falling off an apartment balcony. RCMP initially said officers responded to reports that two \"females\" had fallen from the building on East Esplanade in the city's Shipyards area at 4:30 a.m. Tuesday.</td><td>Canada</td><td>https://www.bing.com/th?id=ODF.4NbuPrmIxu0JD126LE1gxQ&pid=news</td><td>https://www.cbc.ca/news/canada/british-columbia/woman-and-girl-die-in-balcony-fall-1.7300061</td><td>CBC.ca</td><td>20-08-2024</td></tr><tr><td>Aston Villa transfer news live Joe Gomez twist, Alex Moreno medical, Samuel Iling-Junior latest</td><td>Aston Villa have confirmed Lamare Bogarde has signed a new contract with the club. The 20-year-old is highly-rated by Unai Emery, who used him in each of the club's even pre-season friendlies. Bogarde impressed in defence and in a holding midfield role earlier this summer.</td><td>Sports</td><td>https://www.bing.com/th?id=ODF.jPou0vlDKt0Px6h21V_3rw&pid=news</td><td>https://www.birminghammail.co.uk/sport/football/transfer-news/villa-transfers-live-iling-junior-29773450</td><td>Birmingham Mail</td><td>21-08-2024</td></tr><tr><td>Travis Kelce in talks to front new action comedy from John Wick producers</td><td>Travis Kelce is reportedly set to star in new comedy Loose Cannons. The NFL star - who is dating Anti-Hero hitmaker Taylor Swift - is making the jump to Hollywood and may have landed his first big screen acting role.</td><td>Entertainment</td><td>https://www.bing.com/th?id=ODF.oxaa8-w2MDoXi5yOUu7A3w&pid=news</td><td>https://www.msn.com/en-gb/news/newsmanchester/travis-kelce-in-talks-to-front-new-action-comedy-from-john-wick-producers/ar-AA1paehQ</td><td>Manchester Evening News on MSN.com</td><td>21-08-2024</td></tr><tr><td>There is a link between the meat you eat and a chronic disease, according to new research</td><td>Many people are trying to cut back on red and processed meat for heart health or environmental reasons. A new global study shows another good reason.</td><td>LifeStyle</td><td>https://www.bing.com/th?id=ODF.t0BGYosS4GKZSebCajKQGA&pid=news</td><td>https://www.msn.com/en-us/health/other/global-study-shows-the-link-between-red-and-processed-meats-and-type-2-diabetes/ar-AA1p8FPI</td><td>CNN on MSN.com</td><td>20-08-2024</td></tr><tr><td>New Mexico State University updates tailgating rules</td><td>Changes are coming to New Mexico State University’s tailgating rules this football season. Parking lots will shut down two hours after the game or at midnight, whichever comes sooner. For the non-student lots,</td><td>LifeStyle</td><td>https://www.bing.com/th?id=ODF.ZWWEWocRXnzJRhsSxEV2vQ&pid=news</td><td>https://www.msn.com/en-us/news/technology/new-mexico-state-university-updates-tailgating-rules/ar-AA1p8YwW</td><td>KRQE Albuquerque on MSN.com</td><td>20-08-2024</td></tr><tr><td>New fencing goes up outside DNC a day after pro-Palestinian protesters breach outer barrier</td><td>Chicago crews installed an additional line of security fences outside the Democratic National Convention early Tuesday in the area where, a day earlier, demonstrators breached an outer perimeter fence.</td><td>World</td><td>https://www.bing.com/th?id=ODF.t0BGYosS4GKZSebCajKQGA&pid=news</td><td>https://www.msn.com/en-us/news/us/new-fencing-goes-up-outside-dnc-a-day-after-pro-palestinian-protesters-breach-outer-barrier/ar-AA1p7z1G</td><td>CNN on MSN.com</td><td>21-08-2024</td></tr><tr><td>Lewis Hamilton’s latest F1 prediction with Valtteri Bottas at centre of intense criticism – round-up</td><td>Your F1 news round-up is here, with Lewis Hamilton having made a prediction for the rest of the 2024 season that should get our excitement up. As ever, there is a lot to get through, so let’s not waste any more time,</td><td>Sports</td><td>https://www.bing.com/th?id=ODF.AH4i8E8I1buqt0fbc5gOAw&pid=news</td><td>https://www.msn.com/en-us/sports/other/lewis-hamilton-s-latest-f1-prediction-with-valtteri-bottas-at-centre-of-intense-criticism-round-up/ar-AA1p8EDh</td><td>PlanetF1.com on MSN.com</td><td>20-08-2024</td></tr><tr><td>Google’s Top stories looks broken: Are news publishers to blame?</td><td>International publishers are overtaking local news brands in Google's Top stories, raising questions about search relevance.</td><td>ScienceAndTechnology</td><td>https://www.bing.com/th?id=ODF.4QeTEYHGoXPpi_CNzqJApQ&pid=news</td><td>https://www.msn.com/en-us/news/technology/google-s-top-stories-looks-broken-are-news-publishers-to-blame/ar-AA1p7F2f</td><td>Search Engine Land on MSN.com</td><td>20-08-2024</td></tr><tr><td>Trump’s post of fake Taylor Swift endorsement is his latest embrace of AI-generated images</td><td>Former President Donald Trump has been active on his social accounts as Democrats gather for their convention in Chicago, but many of his posts don’t have much to do with reality.</td><td>Politics</td><td>https://www.bing.com/th?id=ODF.AlMAEy7MoWNz0OI_xSWQiw&pid=news</td><td>https://www.msn.com/en-us/news/politics/trump-s-post-of-fake-taylor-swift-endorsement-is-his-latest-embrace-of-ai-generated-images/ar-AA1p8ugH</td><td>The Associated Press on MSN.com</td><td>20-08-2024</td></tr><tr><td>Police raid Andrew Tate’s home in Romania as new allegations emerge involving minors</td><td>Dozens of police officers and forensic personnel were scouring Tate’s large property on the edge of the capital Bucharest.</td><td>World</td><td>https://www.bing.com/th?id=ODF.AlMAEy7MoWNz0OI_xSWQiw&pid=news</td><td>https://www.msn.com/en-us/news/crime/police-raid-andrew-tates-home-in-romania-as-new-allegations-emerge-involving-minors/ar-AA1pabHH</td><td>The Associated Press - Business News on MSN.com</td><td>21-08-2024</td></tr><tr><td>Raheem Sterling in new Chelsea low ahead of Europa Conference League clash with Servette as winger seeks ‘clarity’ over future</td><td>Raheem Sterling’s Chelsea future has been called into question yet again after being left out of their squad to face Servette. It is is the second game in a row that Sterling has been axed</td><td>Sports</td><td>https://www.bing.com/th?id=ODF.1J7u2N62JGb2VrnCRlJIrw&pid=news</td><td>https://talksport.com/football/2016586/chelsea-raheem-sterling-axed-squad-servette/</td><td>Talksport</td><td>21-08-2024</td></tr><tr><td>‘Borderlands 4’ Announced With A Surprising Release Window And A New Trailer</td><td>There’s not an exact release date yet, but Borderlands 4 is slated for a 2025 release so we won’t have to wait long. It’s been five years since Borderlands 3 came out, and that game didn’t inspire the kind of hype and widespread praise that Borderlands 2 received at launch.</td><td>ScienceAndTechnology</td><td>https://www.bing.com/th?id=ODF.U6nYa4Huf-RFEhjg-V4hNg&pid=news</td><td>https://www.forbes.com/sites/erikkain/2024/08/20/borderlands-4-announced-with-a-surprising-release-window-and-a-new-trailer/</td><td>Forbes</td><td>20-08-2024</td></tr><tr><td>Trump vows to repeal new EPA power plant rule</td><td>Former President Trump said that if elected, he will reverse the Biden-Harris administration's EPA rule that requires coal and natural gas power plants to cut emissions by 90%.</td><td>LifeStyle</td><td>https://www.bing.com/th?id=ODF.GimbRbdxNxZt1GEL5O0AJg&pid=news</td><td>https://www.msn.com/en-us/news/politics/trump-vows-to-repeal-new-epa-power-plant-rule/ar-AA1p8IoF</td><td>FOX News on MSN.com</td><td>20-08-2024</td></tr><tr><td>Mario Lopez Shares That All 3 of His Kids Are 'Officially Back to School' in Adorable New Photos</td><td>Mario Lopez's kids are heading back to the classroom. On Tuesday, Aug. 20, the proud dad, 50, posted a Reel on his Instagram as he shared that his three kids — daughter Gia, 13, and sons Dominic, 10, and Santino, 5, whom he shares with wife Courtney — were celebrating their first day of school.</td><td>Entertainment</td><td>https://www.bing.com/th?id=ODF.kridaNmIIz5AdgcUGG5eBQ&pid=news</td><td>https://www.msn.com/en-us/lifestyle/lifestyle-buzz/mario-lopez-shares-that-all-3-of-his-kids-are-officially-back-to-school-in-adorable-new-photos/ar-AA1p8Eos</td><td>People on MSN.com</td><td>20-08-2024</td></tr><tr><td>RFK Jr. news: Kennedy running mate says campaign considering dropping out, endorsing Trump</td><td>Robert F. Kennedy Jr.'s running mate Nicole Shanahan said the Kennedy campaign is considering dropping out of the race and endorsing former President Donald Trump.</td><td>Politics</td><td>https://www.bing.com/th?id=ODF.t0BGYosS4GKZSebCajKQGA&pid=news</td><td>https://www.msn.com/en-us/news/politics/rfk-jr-running-mate-shanahan-says-they-re-considering-endorsing-trump/ar-AA1p8ncv</td><td>CNN on MSN.com</td><td>20-08-2024</td></tr><tr><td>Monster Hunter Wilds Gets Gamescom 2024 Trailer - News</td><td>Capcom during Gamescom Opening Night Live released a new trailer for Monster Hunter Wilds.View the trailer below:Read details [...]</td><td>ScienceAndTechnology</td><td>https://www.bing.com/th?id=ODF.kKXt-MKV3fmSaC3dmthHzw&pid=news</td><td>https://www.vgchartz.com/article/462147/monster-hunter-wilds-gets-gamescom-2024-trailer/</td><td>VG Chartz</td><td>20-08-2024</td></tr></tbody></table></div>"
      ]
     },
     "metadata": {
      "application/vnd.databricks.v1+output": {
       "addedWidgets": {},
       "aggData": [],
       "aggError": "",
       "aggOverflow": false,
       "aggSchema": [],
       "aggSeriesLimitReached": false,
       "aggType": "",
       "arguments": {},
       "columnCustomDisplayInfos": {},
       "data": [
        [
         "AFL 2024: Collingwood Magpies will search to replace football boss Graham Wright, Craig McRae comments, latest news",
         "Collingwood coach Craig McRae says the Magpies will reflect on whether not immediately replacing Graham Wright was a costly decision in their failed premiership defence.",
         "Sports",
         "https://www.bing.com/th?id=ODF.9yJS4wi2nUtsfM87Lf-3FA&pid=news",
         "https://www.msn.com/en-au/sport/other/coach-s-difficult-parting-from-incredible-mentor/ar-AA1p9yg9",
         "NewsWire on MSN.com",
         "21-08-2024"
        ],
        [
         "Everton transfer news LIVE - Neal Maupay future, Mason Holgate enquiry Junior Dina Ebimbe talks,",
         "Latest Everton transfer and takeover news, including updates as Asmir Begovic is in talks to return to the Blues",
         "Sports",
         "https://www.bing.com/th?id=ODF.lMNuYaPYFKYNaBUKNyUFHg&pid=news",
         "https://www.liverpoolecho.co.uk/sport/football/transfer-news/everton-takeover-transfer-news-live-29765334",
         "Liverpool Echo",
         "21-08-2024"
        ],
        [
         "Arsenal transfer news LIVE Mikel Merino positive update, Nketiah agreement, Ramsdale update",
         "The latest Arsenal transfer news and rumours from football.london including updates on Eddie Nketiah, Mikel Merino, Ivan Toney, Aaron Ramsdale and Victor Osimhen",
         "Sports",
         "https://www.bing.com/th?id=ODF.Xm0enA-z_fuiMX5FvKt4cw&pid=news",
         "https://www.football.london/arsenal-fc/transfer-news/arsenal-transfer-news-live-mikel-29779140",
         "football",
         "21-08-2024"
        ],
        [
         "Bruins Have New Star to Deal With In Atlantic",
         "On Monday, the Columbus Blue Jackets traded Patrik Laine and a 2026 second-round pick to the Montreal Canadiens in exchange for defenseman Jordan Harris. With this move, one of the Bruins' biggest rivals, the Canadiens, have notably improved their forward group.",
         "Sports",
         "https://www.bing.com/th?id=ODF.yNx4KYuMgiOCU3nI9qTmtQ&pid=news",
         "https://www.msn.com/en-us/sports/nhl/bruins-have-new-star-to-deal-with-in-atlantic/ar-AA1p88Tr",
         "The Hockey News on MSN.com",
         "20-08-2024"
        ],
        [
         "Young voters take a new look at Harris, but some are waiting instead of committing",
         "Biden may have had an irreparable rift with young voters. Some who were turned off by him are more interested in Harris, though issues including Gaza remain sticking points.",
         "Politics",
         "https://www.bing.com/th?id=ODF.ighWNnrr5MMFUs8WKMme2A&pid=news",
         "https://www.msn.com/en-us/news/other/young-voters-take-a-new-look-at-harris-but-some-are-waiting-instead-of-committing/ar-AA1p99hv",
         "NBC News on MSN.com",
         "21-08-2024"
        ],
        [
         "Man Utd transfer news LIVE: Medical booked, Manuel Ugarte breakthrough, United complete loan deal",
         "Manchester United still have plenty of transfer business to complete in the final week of the window and could yet sign Manuel Ugarte while Scott McTominay, Christian Eriksen and Casemiro could depart",
         "Sports",
         "https://www.bing.com/th?id=ODF.CWDfHbZtL9U2bsuN-kn_-w&pid=news",
         "https://www.mirror.co.uk/sport/football/transfer-news/man-utd-transfer-news-live-33491446",
         "The Mirror",
         "21-08-2024"
        ],
        [
         "New ministry paying staff average salary of $150k despite public sector job cuts",
         "The anti-red tape department is overseen by the ACT leader, who secured its creation during coalition negotiations last year.",
         "Business",
         "https://www.bing.com/th?id=ODF.KbRIMdbKqxc2CRUKwuqxSg&pid=news",
         "https://www.msn.com/en-nz/news/other/new-ministry-paying-staff-average-salary-of-150k-despite-public-sector-job-cuts/ar-AA1p8XpE",
         "rnz on MSN.com",
         "21-08-2024"
        ],
        [
         "Good news file fans - WeTransfer links will no longer expire",
         "Cloud-based file transfer platform WeTransfer has unveiled a new ‘Save for Later’ feature on its mobile app in a bid to address one of the platform’s biggest user frustrations – expired download links.",
         "ScienceAndTechnology",
         "https://www.bing.com/th?id=ODF.HUwxplx_rx0g5pzCy5_Wwg&pid=news",
         "https://www.msn.com/en-us/news/technology/good-news-file-fans-wetransfer-links-will-no-longer-expire/ar-AA1pbk5K",
         "TechRadar on MSN.com",
         "21-08-2024"
        ],
        [
         "Homicide investigators called in after woman and girl die in North Vancouver balcony fall",
         "Police in North Vancouver, B.C., say homicide investigators have been called in after a woman and girl died from falling off an apartment balcony. RCMP initially said officers responded to reports that two \"females\" had fallen from the building on East Esplanade in the city's Shipyards area at 4:30 a.m. Tuesday.",
         "Canada",
         "https://www.bing.com/th?id=ODF.4NbuPrmIxu0JD126LE1gxQ&pid=news",
         "https://www.cbc.ca/news/canada/british-columbia/woman-and-girl-die-in-balcony-fall-1.7300061",
         "CBC.ca",
         "20-08-2024"
        ],
        [
         "Aston Villa transfer news live Joe Gomez twist, Alex Moreno medical, Samuel Iling-Junior latest",
         "Aston Villa have confirmed Lamare Bogarde has signed a new contract with the club. The 20-year-old is highly-rated by Unai Emery, who used him in each of the club's even pre-season friendlies. Bogarde impressed in defence and in a holding midfield role earlier this summer.",
         "Sports",
         "https://www.bing.com/th?id=ODF.jPou0vlDKt0Px6h21V_3rw&pid=news",
         "https://www.birminghammail.co.uk/sport/football/transfer-news/villa-transfers-live-iling-junior-29773450",
         "Birmingham Mail",
         "21-08-2024"
        ],
        [
         "Travis Kelce in talks to front new action comedy from John Wick producers",
         "Travis Kelce is reportedly set to star in new comedy Loose Cannons. The NFL star - who is dating Anti-Hero hitmaker Taylor Swift - is making the jump to Hollywood and may have landed his first big screen acting role.",
         "Entertainment",
         "https://www.bing.com/th?id=ODF.oxaa8-w2MDoXi5yOUu7A3w&pid=news",
         "https://www.msn.com/en-gb/news/newsmanchester/travis-kelce-in-talks-to-front-new-action-comedy-from-john-wick-producers/ar-AA1paehQ",
         "Manchester Evening News on MSN.com",
         "21-08-2024"
        ],
        [
         "There is a link between the meat you eat and a chronic disease, according to new research",
         "Many people are trying to cut back on red and processed meat for heart health or environmental reasons. A new global study shows another good reason.",
         "LifeStyle",
         "https://www.bing.com/th?id=ODF.t0BGYosS4GKZSebCajKQGA&pid=news",
         "https://www.msn.com/en-us/health/other/global-study-shows-the-link-between-red-and-processed-meats-and-type-2-diabetes/ar-AA1p8FPI",
         "CNN on MSN.com",
         "20-08-2024"
        ],
        [
         "New Mexico State University updates tailgating rules",
         "Changes are coming to New Mexico State University’s tailgating rules this football season. Parking lots will shut down two hours after the game or at midnight, whichever comes sooner. For the non-student lots,",
         "LifeStyle",
         "https://www.bing.com/th?id=ODF.ZWWEWocRXnzJRhsSxEV2vQ&pid=news",
         "https://www.msn.com/en-us/news/technology/new-mexico-state-university-updates-tailgating-rules/ar-AA1p8YwW",
         "KRQE Albuquerque on MSN.com",
         "20-08-2024"
        ],
        [
         "New fencing goes up outside DNC a day after pro-Palestinian protesters breach outer barrier",
         "Chicago crews installed an additional line of security fences outside the Democratic National Convention early Tuesday in the area where, a day earlier, demonstrators breached an outer perimeter fence.",
         "World",
         "https://www.bing.com/th?id=ODF.t0BGYosS4GKZSebCajKQGA&pid=news",
         "https://www.msn.com/en-us/news/us/new-fencing-goes-up-outside-dnc-a-day-after-pro-palestinian-protesters-breach-outer-barrier/ar-AA1p7z1G",
         "CNN on MSN.com",
         "21-08-2024"
        ],
        [
         "Lewis Hamilton’s latest F1 prediction with Valtteri Bottas at centre of intense criticism – round-up",
         "Your F1 news round-up is here, with Lewis Hamilton having made a prediction for the rest of the 2024 season that should get our excitement up. As ever, there is a lot to get through, so let’s not waste any more time,",
         "Sports",
         "https://www.bing.com/th?id=ODF.AH4i8E8I1buqt0fbc5gOAw&pid=news",
         "https://www.msn.com/en-us/sports/other/lewis-hamilton-s-latest-f1-prediction-with-valtteri-bottas-at-centre-of-intense-criticism-round-up/ar-AA1p8EDh",
         "PlanetF1.com on MSN.com",
         "20-08-2024"
        ],
        [
         "Google’s Top stories looks broken: Are news publishers to blame?",
         "International publishers are overtaking local news brands in Google's Top stories, raising questions about search relevance.",
         "ScienceAndTechnology",
         "https://www.bing.com/th?id=ODF.4QeTEYHGoXPpi_CNzqJApQ&pid=news",
         "https://www.msn.com/en-us/news/technology/google-s-top-stories-looks-broken-are-news-publishers-to-blame/ar-AA1p7F2f",
         "Search Engine Land on MSN.com",
         "20-08-2024"
        ],
        [
         "Trump’s post of fake Taylor Swift endorsement is his latest embrace of AI-generated images",
         "Former President Donald Trump has been active on his social accounts as Democrats gather for their convention in Chicago, but many of his posts don’t have much to do with reality.",
         "Politics",
         "https://www.bing.com/th?id=ODF.AlMAEy7MoWNz0OI_xSWQiw&pid=news",
         "https://www.msn.com/en-us/news/politics/trump-s-post-of-fake-taylor-swift-endorsement-is-his-latest-embrace-of-ai-generated-images/ar-AA1p8ugH",
         "The Associated Press on MSN.com",
         "20-08-2024"
        ],
        [
         "Police raid Andrew Tate’s home in Romania as new allegations emerge involving minors",
         "Dozens of police officers and forensic personnel were scouring Tate’s large property on the edge of the capital Bucharest.",
         "World",
         "https://www.bing.com/th?id=ODF.AlMAEy7MoWNz0OI_xSWQiw&pid=news",
         "https://www.msn.com/en-us/news/crime/police-raid-andrew-tates-home-in-romania-as-new-allegations-emerge-involving-minors/ar-AA1pabHH",
         "The Associated Press - Business News on MSN.com",
         "21-08-2024"
        ],
        [
         "Raheem Sterling in new Chelsea low ahead of Europa Conference League clash with Servette as winger seeks ‘clarity’ over future",
         "Raheem Sterling’s Chelsea future has been called into question yet again after being left out of their squad to face Servette. It is is the second game in a row that Sterling has been axed",
         "Sports",
         "https://www.bing.com/th?id=ODF.1J7u2N62JGb2VrnCRlJIrw&pid=news",
         "https://talksport.com/football/2016586/chelsea-raheem-sterling-axed-squad-servette/",
         "Talksport",
         "21-08-2024"
        ],
        [
         "‘Borderlands 4’ Announced With A Surprising Release Window And A New Trailer",
         "There’s not an exact release date yet, but Borderlands 4 is slated for a 2025 release so we won’t have to wait long. It’s been five years since Borderlands 3 came out, and that game didn’t inspire the kind of hype and widespread praise that Borderlands 2 received at launch.",
         "ScienceAndTechnology",
         "https://www.bing.com/th?id=ODF.U6nYa4Huf-RFEhjg-V4hNg&pid=news",
         "https://www.forbes.com/sites/erikkain/2024/08/20/borderlands-4-announced-with-a-surprising-release-window-and-a-new-trailer/",
         "Forbes",
         "20-08-2024"
        ],
        [
         "Trump vows to repeal new EPA power plant rule",
         "Former President Trump said that if elected, he will reverse the Biden-Harris administration's EPA rule that requires coal and natural gas power plants to cut emissions by 90%.",
         "LifeStyle",
         "https://www.bing.com/th?id=ODF.GimbRbdxNxZt1GEL5O0AJg&pid=news",
         "https://www.msn.com/en-us/news/politics/trump-vows-to-repeal-new-epa-power-plant-rule/ar-AA1p8IoF",
         "FOX News on MSN.com",
         "20-08-2024"
        ],
        [
         "Mario Lopez Shares That All 3 of His Kids Are 'Officially Back to School' in Adorable New Photos",
         "Mario Lopez's kids are heading back to the classroom. On Tuesday, Aug. 20, the proud dad, 50, posted a Reel on his Instagram as he shared that his three kids — daughter Gia, 13, and sons Dominic, 10, and Santino, 5, whom he shares with wife Courtney — were celebrating their first day of school.",
         "Entertainment",
         "https://www.bing.com/th?id=ODF.kridaNmIIz5AdgcUGG5eBQ&pid=news",
         "https://www.msn.com/en-us/lifestyle/lifestyle-buzz/mario-lopez-shares-that-all-3-of-his-kids-are-officially-back-to-school-in-adorable-new-photos/ar-AA1p8Eos",
         "People on MSN.com",
         "20-08-2024"
        ],
        [
         "RFK Jr. news: Kennedy running mate says campaign considering dropping out, endorsing Trump",
         "Robert F. Kennedy Jr.'s running mate Nicole Shanahan said the Kennedy campaign is considering dropping out of the race and endorsing former President Donald Trump.",
         "Politics",
         "https://www.bing.com/th?id=ODF.t0BGYosS4GKZSebCajKQGA&pid=news",
         "https://www.msn.com/en-us/news/politics/rfk-jr-running-mate-shanahan-says-they-re-considering-endorsing-trump/ar-AA1p8ncv",
         "CNN on MSN.com",
         "20-08-2024"
        ],
        [
         "Monster Hunter Wilds Gets Gamescom 2024 Trailer - News",
         "Capcom during Gamescom Opening Night Live released a new trailer for Monster Hunter Wilds.View the trailer below:Read details [...]",
         "ScienceAndTechnology",
         "https://www.bing.com/th?id=ODF.kKXt-MKV3fmSaC3dmthHzw&pid=news",
         "https://www.vgchartz.com/article/462147/monster-hunter-wilds-gets-gamescom-2024-trailer/",
         "VG Chartz",
         "20-08-2024"
        ]
       ],
       "datasetInfos": [],
       "dbfsResultPath": null,
       "isJsonSchema": true,
       "metadata": {},
       "overflow": false,
       "plotOptions": {
        "customPlotOptions": {},
        "displayType": "table",
        "pivotAggregation": null,
        "pivotColumns": null,
        "xColumns": null,
        "yColumns": null
       },
       "removedWidgets": [],
       "schema": [
        {
         "metadata": "{}",
         "name": "title",
         "type": "\"string\""
        },
        {
         "metadata": "{}",
         "name": "description",
         "type": "\"string\""
        },
        {
         "metadata": "{}",
         "name": "category",
         "type": "\"string\""
        },
        {
         "metadata": "{}",
         "name": "image",
         "type": "\"string\""
        },
        {
         "metadata": "{}",
         "name": "url",
         "type": "\"string\""
        },
        {
         "metadata": "{}",
         "name": "provider",
         "type": "\"string\""
        },
        {
         "metadata": "{}",
         "name": "datePublished",
         "type": "\"string\""
        }
       ],
       "type": "table"
      }
     },
     "output_type": "display_data"
    }
   ],
   "source": [
    "from pyspark.sql.functions import to_date,date_format\n",
    "df_cleaned_final = df_cleaned.withColumn(\"datePublished\", date_format(to_date(\"datePublished\"), \"dd-MM-yyyy\"))\n",
    "\n",
    "display(df_cleaned_final)"
   ]
  },
  {
   "cell_type": "code",
   "execution_count": null,
   "metadata": {
    "application/vnd.databricks.v1+cell": {
     "cellMetadata": {
      "byteLimit": 2048000,
      "rowLimit": 10000
     },
     "inputWidgets": {},
     "nuid": "4cde4601-579d-4a45-9f59-3453373ed82b",
     "showTitle": false,
     "title": ""
    }
   },
   "outputs": [],
   "source": [
    "df_cleaned_final.write.format(\"delta\").mode(\"overwrite\").save(\"/mnt/sabingdataanalyticsyus/data/transform_data\")"
   ]
  }
 ],
 "metadata": {
  "application/vnd.databricks.v1+notebook": {
   "dashboards": [],
   "environmentMetadata": null,
   "language": "python",
   "notebookMetadata": {
    "pythonIndentUnit": 4
   },
   "notebookName": "transform",
   "widgets": {}
  },
  "language_info": {
   "name": "python"
  }
 },
 "nbformat": 4,
 "nbformat_minor": 0
}
